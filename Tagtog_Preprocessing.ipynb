{
  "nbformat": 4,
  "nbformat_minor": 0,
  "metadata": {
    "colab": {
      "provenance": [],
      "authorship_tag": "ABX9TyOdwrmdNe84tgSFFyQLSUTl",
      "include_colab_link": true
    },
    "kernelspec": {
      "name": "python3",
      "display_name": "Python 3"
    },
    "language_info": {
      "name": "python"
    }
  },
  "cells": [
    {
      "cell_type": "markdown",
      "metadata": {
        "id": "view-in-github",
        "colab_type": "text"
      },
      "source": [
        "<a href=\"https://colab.research.google.com/github/slayerzeroa/Railway_Accident_BERT/blob/main/Tagtog_Preprocessing.ipynb\" target=\"_parent\"><img src=\"https://colab.research.google.com/assets/colab-badge.svg\" alt=\"Open In Colab\"/></a>"
      ]
    },
    {
      "cell_type": "code",
      "execution_count": 32,
      "metadata": {
        "id": "jmpus_i-7MJl",
        "colab": {
          "base_uri": "https://localhost:8080/"
        },
        "outputId": "f4c0a77b-79c0-4537-9ccf-0e3447000b95"
      },
      "outputs": [
        {
          "output_type": "stream",
          "name": "stdout",
          "text": [
            "Looking in indexes: https://pypi.org/simple, https://us-python.pkg.dev/colab-wheels/public/simple/\n",
            "Requirement already satisfied: gspread in /usr/local/lib/python3.8/dist-packages (3.4.2)\n",
            "Requirement already satisfied: google-auth in /usr/local/lib/python3.8/dist-packages (from gspread) (2.14.1)\n",
            "Requirement already satisfied: requests>=2.2.1 in /usr/local/lib/python3.8/dist-packages (from gspread) (2.23.0)\n",
            "Requirement already satisfied: certifi>=2017.4.17 in /usr/local/lib/python3.8/dist-packages (from requests>=2.2.1->gspread) (2022.9.24)\n",
            "Requirement already satisfied: idna<3,>=2.5 in /usr/local/lib/python3.8/dist-packages (from requests>=2.2.1->gspread) (2.10)\n",
            "Requirement already satisfied: urllib3!=1.25.0,!=1.25.1,<1.26,>=1.21.1 in /usr/local/lib/python3.8/dist-packages (from requests>=2.2.1->gspread) (1.24.3)\n",
            "Requirement already satisfied: chardet<4,>=3.0.2 in /usr/local/lib/python3.8/dist-packages (from requests>=2.2.1->gspread) (3.0.4)\n",
            "Requirement already satisfied: cachetools<6.0,>=2.0.0 in /usr/local/lib/python3.8/dist-packages (from google-auth->gspread) (5.2.0)\n",
            "Requirement already satisfied: rsa<5,>=3.1.4 in /usr/local/lib/python3.8/dist-packages (from google-auth->gspread) (4.9)\n",
            "Requirement already satisfied: six>=1.9.0 in /usr/local/lib/python3.8/dist-packages (from google-auth->gspread) (1.15.0)\n",
            "Requirement already satisfied: pyasn1-modules>=0.2.1 in /usr/local/lib/python3.8/dist-packages (from google-auth->gspread) (0.2.8)\n",
            "Requirement already satisfied: pyasn1<0.5.0,>=0.4.6 in /usr/local/lib/python3.8/dist-packages (from pyasn1-modules>=0.2.1->google-auth->gspread) (0.4.8)\n",
            "Looking in indexes: https://pypi.org/simple, https://us-python.pkg.dev/colab-wheels/public/simple/\n",
            "Requirement already satisfied: oauth2client in /usr/local/lib/python3.8/dist-packages (4.1.3)\n",
            "Requirement already satisfied: six>=1.6.1 in /usr/local/lib/python3.8/dist-packages (from oauth2client) (1.15.0)\n",
            "Requirement already satisfied: httplib2>=0.9.1 in /usr/local/lib/python3.8/dist-packages (from oauth2client) (0.17.4)\n",
            "Requirement already satisfied: pyasn1>=0.1.7 in /usr/local/lib/python3.8/dist-packages (from oauth2client) (0.4.8)\n",
            "Requirement already satisfied: pyasn1-modules>=0.0.5 in /usr/local/lib/python3.8/dist-packages (from oauth2client) (0.2.8)\n",
            "Requirement already satisfied: rsa>=3.1.4 in /usr/local/lib/python3.8/dist-packages (from oauth2client) (4.9)\n"
          ]
        }
      ],
      "source": [
        "!pip install gspread\n",
        "!pip install oauth2client"
      ]
    },
    {
      "cell_type": "code",
      "source": [
        "# 라이브러리\n",
        "import torch\n",
        "from torch import nn, optim, tensor\n",
        "from torch.utils.data import DataLoader, Dataset,TensorDataset, random_split\n",
        "import torch.nn.functional as F\n",
        "\n",
        "import numpy as np\n",
        "import pandas as pd\n",
        "import math\n",
        "import matplotlib.pyplot as plt\n",
        "\n",
        "from sklearn.model_selection import train_test_split, KFold\n",
        "from sklearn.metrics import accuracy_score, mean_squared_error\n",
        "\n",
        "# from transformers import BertTokenizer\n",
        "\n",
        "import json\n",
        "import glob\n",
        "import re\n",
        "import os\n",
        "import ast\n",
        "import html\n",
        "import requests\n",
        "\n",
        "import pandas as pd\n",
        "\n",
        "from google.colab import files"
      ],
      "metadata": {
        "id": "CxnKD9Du8a6A"
      },
      "execution_count": 33,
      "outputs": []
    },
    {
      "cell_type": "markdown",
      "source": [
        "# Tagtog Log-In"
      ],
      "metadata": {
        "id": "oQQl_3O77_GV"
      }
    },
    {
      "cell_type": "code",
      "source": [
        "#로그인 위치\n",
        "url = \"https://tagtog.com/-login\"\n",
        "\n",
        "#다운로드 위치\n",
        "file_url = 'https://www.tagtog.com/slayerzeroa/Railway_BERT/-downloads/dataset-as-anndoc' \n",
        "o_file = 'Railway_Annotation.zip'  \n",
        "if os.path.exists(o_file):\n",
        "    os.remove(o_file)\n",
        "\n",
        "#로그인 정보\n",
        "login_info = {\n",
        "    'loginid' : 'slayerzeroa@gmail.com',\n",
        "    'password' : 'gyysxw5rU3NzrYX',\n",
        "}\n",
        "\n",
        "#로그인\n",
        "with requests.Session() as s:\n",
        "    login_req = s.post(url, data=login_info)\n",
        "    r = s.get(file_url)\n",
        "\n",
        "    with open(o_file,\"wb\") as output:\n",
        "        output.write(r.content)"
      ],
      "metadata": {
        "id": "MjgJQ4xYvb_t"
      },
      "execution_count": 34,
      "outputs": []
    },
    {
      "cell_type": "code",
      "source": [
        "#압축파일 풀기\n",
        "import zipfile\n",
        "import shutil\n",
        "folder_path = \"./tagtog_relation_extraction/\"\n",
        "\n",
        "zip_ = zipfile.ZipFile(\"Railway_Annotation.zip\")\n",
        "if os.path.exists(folder_path):\n",
        "    shutil.rmtree(folder_path)\n",
        "zip_.extractall(folder_path)"
      ],
      "metadata": {
        "id": "dcy6zlWXzPwx"
      },
      "execution_count": 35,
      "outputs": []
    },
    {
      "cell_type": "code",
      "source": [
        "import json\n",
        "import glob\n",
        "import re\n",
        "import os\n",
        "#폴더 경로\n",
        "folder_name = \"./tagtog_relation_extraction/Railway_BERT/\"\n",
        "\n",
        "#context list   # context == plain.html\n",
        "context_name_list = os.listdir(folder_name + \"plain.html/pool\")\n",
        "print(context_name_list)\n",
        "\n",
        "#relation 폴더 경로   # relation == ann.json\n",
        "relation_folder_paths = glob.glob(folder_name + \"ann.json/master/pool\")\n",
        "\n",
        "#context 폴더 경로\n",
        "# contexts_folders_paths = glob.glob(folder_name + \"plain.html/pool/*\")\n",
        "contexts_folders_paths = [folder_name + \"plain.html/pool/\" + c for c in context_name_list]\n",
        "\n",
        "#anntation_lenged 정보\n",
        "annotations_legend = folder_name + \"annotations-legend.json\"\n",
        "with open(annotations_legend,\"r\") as f:\n",
        "    annotations_legend = json.load(f)\n"
      ],
      "metadata": {
        "colab": {
          "base_uri": "https://localhost:8080/"
        },
        "id": "xjB4FYZNzWjd",
        "outputId": "68790630-e5d1-443f-91b0-f6c7692fda74"
      },
      "execution_count": 36,
      "outputs": [
        {
          "output_type": "stream",
          "name": "stdout",
          "text": [
            "['a3DnzcVSvJKG25OeznRpiW5zLgi8-sample.pdf.plain.html', 'arqduk0rnomRe20HKEeXlVPK8qx8-20191022.pdf.plain.html', 'awUyBdL4lPpVlBOPjSzMhAuRk81a-20181208.pdf.plain.html', 'aVuARZFRfgJMD0E67Coa.7G8Z9Pe-20200226.pdf.plain.html', 'aPSRwvP5rtizz2O093I3oFX9uzjS-20180818.pdf.plain.html']\n"
          ]
        }
      ]
    },
    {
      "cell_type": "markdown",
      "source": [
        "# Tagtog Annotation json File Preprocessing"
      ],
      "metadata": {
        "id": "SySo6GhrvcXA"
      }
    },
    {
      "cell_type": "code",
      "source": [
        "def split_relation_start(text):\n",
        "  text = text.split('|')[-1]\n",
        "  start = text.split(',')[0]\n",
        "  start = int(start)\n",
        "  return start"
      ],
      "metadata": {
        "id": "_ZjHmbB95_F4"
      },
      "execution_count": 37,
      "outputs": []
    },
    {
      "cell_type": "code",
      "source": [
        "'''\n",
        "Loc : Sub, Obj 위치\n",
        "Cls : Sub, Obj 클래스\n",
        "Part : Sub, Obj html 상 문단\n",
        "Sub : Sub 내용\n",
        "Obj : Obj 내용\n",
        "Label : 관계 있으면 1 없으면 0\n",
        "Relation DataFrame Content\n",
        "'''\n",
        "for context_name, relation_folder, contexts_folder in zip(context_name_list, relation_folder_paths, contexts_folders_paths):\n",
        "    # relation files와 context files 리스트 출력\n",
        "    file_ids = [file_name for file_name in os.listdir(relation_folder)]\n",
        "    file_nums = [ids.split(\"-\")[1] for ids in file_ids]\n",
        "    relation_files = [relation_folder + \"/\"+ file_id for file_id in file_ids]\n",
        "    context_files = [contexts_folder for file_id in file_ids]\n",
        "    Rel_df = pd.DataFrame()\n",
        "    # Tagtog Annotation json 파일 데이터셋 전처리\n",
        "    for relation_file, context_file, file_num in zip(relation_files, context_files, file_nums):\n",
        "      with open(relation_file,\"r\") as f:\n",
        "        relation = json.load(f)\n",
        "        idx_list = []\n",
        "        classid_list = []\n",
        "        part_list = []\n",
        "        text_list = []\n",
        "        start_list = []\n",
        "\n",
        "        for idx, content in enumerate(relation['entities']):\n",
        "          idx_list.append(idx)\n",
        "          classid_list.append(content['classId'])\n",
        "          part_list.append(content['part'])\n",
        "          text_list.append(content['offsets'][0]['text'])\n",
        "          start_list.append(content['offsets'][0]['start'])\n",
        "        \n",
        "        df = pd.DataFrame(zip(idx_list, start_list, classid_list, part_list, text_list))\n",
        "        df.columns = ['Index', 'Start','Class', 'Part', 'Text']\n",
        "\n",
        "        doc_list = []\n",
        "        loc_list = []\n",
        "        cls_list = []\n",
        "        part_list = []\n",
        "        subject_list = []\n",
        "        object_list = []\n",
        "        label_list = []\n",
        "\n",
        "\n",
        "        for rel in relation['relations']:\n",
        "          subject = split_relation_start(rel['entities'][0])\n",
        "          subject_class = df.loc[df['Start']==subject]['Class'].values[0]\n",
        "          subject_part = df.loc[df['Start']==subject]['Part'].values[0]\n",
        "          subject_text = df.loc[df['Start']==subject]['Text'].values[0]\n",
        "          \n",
        "\n",
        "          object = split_relation_start(rel['entities'][1])\n",
        "          object_class = df.loc[df['Start']==object]['Class'].values[0]\n",
        "          object_part = df.loc[df['Start']==object]['Part'].values[0]\n",
        "          object_text = df.loc[df['Start']==object]['Text'].values[0]\n",
        "\n",
        "          loc = str(subject) + '_' + str(object)\n",
        "          cls = subject_class + '_' + object_class\n",
        "          part = subject_part + '_' + object_part\n",
        "\n",
        "          doc_list.append(str(file_num)[2:-13])\n",
        "          loc_list.append(loc)\n",
        "          cls_list.append(cls)\n",
        "          part_list.append(part)\n",
        "          subject_list.append(subject_text)\n",
        "          object_list.append(object_text)\n",
        "          label_list.append(1)\n",
        "          Rel_df = Rel_df.append(pd.DataFrame(zip(doc_list, loc_list, cls_list, part_list, subject_list, object_list, label_list)))\n",
        "\n",
        "Rel_df.columns = ['Doc', 'Loc', 'Cls', 'Part', 'Sub', 'Obj', 'Label']\n",
        "\n",
        "print(Rel_df)"
      ],
      "metadata": {
        "colab": {
          "base_uri": "https://localhost:8080/"
        },
        "id": "XIjJlVvp0yF2",
        "outputId": "9469371f-9c94-4dc0-aa9a-fa48b7c5379e"
      },
      "execution_count": 67,
      "outputs": [
        {
          "output_type": "stream",
          "name": "stdout",
          "text": [
            "       Doc        Loc      Cls         Part  \\\n",
            "0   181208  4370_4249  e_6_e_4    s1p2_s1p2   \n",
            "0   181208  4370_4249  e_6_e_4    s1p2_s1p2   \n",
            "1   181208  4437_4249  e_6_e_4    s1p2_s1p2   \n",
            "0   181208  4370_4249  e_6_e_4    s1p2_s1p2   \n",
            "1   181208  4437_4249  e_6_e_4    s1p2_s1p2   \n",
            "..     ...        ...      ...          ...   \n",
            "2   200226     191_76  e_6_e_4  s1p17_s1p17   \n",
            "0   200226    228_112  e_6_e_4    s1p5_s1p5   \n",
            "1   200226    279_112  e_6_e_4    s1p5_s1p5   \n",
            "2   200226     191_76  e_6_e_4  s1p17_s1p17   \n",
            "3   200226     242_76  e_6_e_4  s1p17_s1p17   \n",
            "\n",
            "                                                  Sub  \\\n",
            "0   청량신호소 및 강릉차량기지 연동검사 과정 에서 21A호, 21B호 선로전환기가 반대...   \n",
            "0   청량신호소 및 강릉차량기지 연동검사 과정 에서 21A호, 21B호 선로전환기가 반대...   \n",
            "1   청량신호소 21A호, 21B호 선로전환기를 설계변경하고 설치․시공ㆍ감리 과 정에 변...   \n",
            "0   청량신호소 및 강릉차량기지 연동검사 과정 에서 21A호, 21B호 선로전환기가 반대...   \n",
            "1   청량신호소 21A호, 21B호 선로전환기를 설계변경하고 설치․시공ㆍ감리 과 정에 변...   \n",
            "..                                                ...   \n",
            "2      기지관제원이 선로전환기 할출 및 할입 사 고에 대한 업무 매뉴얼을 적용하지 않는 것   \n",
            "0      기지관제원이 선로전환기 할출 및 할입 사 고에 대한 업무 매뉴얼을 적용하지 않는 것   \n",
            "1   기지구내 선로의 선형이 입 환 작업시 출·입고 열차의 진로를 지장 하는 구조로 되어...   \n",
            "2      기지관제원이 선로전환기 할출 및 할입 사 고에 대한 업무 매뉴얼을 적용하지 않는 것   \n",
            "3   기지구내 선로의 선형이 입 환 작업시 출·입고 열차의 진로를 지장 하는 구조로 되어...   \n",
            "\n",
            "                                                  Obj  Label  \n",
            "0   청량신호소 출발신호기에 정지 신호가 현시되어야 함에도 불구하고 진행신호가 현시되도록...      1  \n",
            "0   청량신호소 출발신호기에 정지 신호가 현시되어야 함에도 불구하고 진행신호가 현시되도록...      1  \n",
            "1   청량신호소 출발신호기에 정지 신호가 현시되어야 함에도 불구하고 진행신호가 현시되도록...      1  \n",
            "0   청량신호소 출발신호기에 정지 신호가 현시되어야 함에도 불구하고 진행신호가 현시되도록...      1  \n",
            "1   청량신호소 출발신호기에 정지 신호가 현시되어야 함에도 불구하고 진행신호가 현시되도록...      1  \n",
            "..                                                ...    ...  \n",
            "2   기관사가 정지신호를 무시하고 운행하다가 선로전환기를 할출한 후 관제원의 되돌이 운전...      1  \n",
            "0   기관사가 정지신호를 무시하고 운행하다가 선로전 환기를 할출한 후 관제원의 되돌이 운...      1  \n",
            "1   기관사가 정지신호를 무시하고 운행하다가 선로전 환기를 할출한 후 관제원의 되돌이 운...      1  \n",
            "2   기관사가 정지신호를 무시하고 운행하다가 선로전환기를 할출한 후 관제원의 되돌이 운전...      1  \n",
            "3   기관사가 정지신호를 무시하고 운행하다가 선로전환기를 할출한 후 관제원의 되돌이 운전...      1  \n",
            "\n",
            "[191 rows x 7 columns]\n"
          ]
        }
      ]
    },
    {
      "cell_type": "code",
      "source": [
        "print(Rel_df)"
      ],
      "metadata": {
        "colab": {
          "base_uri": "https://localhost:8080/"
        },
        "id": "KdOmDXTY6nVa",
        "outputId": "33264bd6-07b2-4131-db76-35914ea62143"
      },
      "execution_count": 68,
      "outputs": [
        {
          "output_type": "stream",
          "name": "stdout",
          "text": [
            "       Doc        Loc      Cls         Part  \\\n",
            "0   181208  4370_4249  e_6_e_4    s1p2_s1p2   \n",
            "0   181208  4370_4249  e_6_e_4    s1p2_s1p2   \n",
            "1   181208  4437_4249  e_6_e_4    s1p2_s1p2   \n",
            "0   181208  4370_4249  e_6_e_4    s1p2_s1p2   \n",
            "1   181208  4437_4249  e_6_e_4    s1p2_s1p2   \n",
            "..     ...        ...      ...          ...   \n",
            "2   200226     191_76  e_6_e_4  s1p17_s1p17   \n",
            "0   200226    228_112  e_6_e_4    s1p5_s1p5   \n",
            "1   200226    279_112  e_6_e_4    s1p5_s1p5   \n",
            "2   200226     191_76  e_6_e_4  s1p17_s1p17   \n",
            "3   200226     242_76  e_6_e_4  s1p17_s1p17   \n",
            "\n",
            "                                                  Sub  \\\n",
            "0   청량신호소 및 강릉차량기지 연동검사 과정 에서 21A호, 21B호 선로전환기가 반대...   \n",
            "0   청량신호소 및 강릉차량기지 연동검사 과정 에서 21A호, 21B호 선로전환기가 반대...   \n",
            "1   청량신호소 21A호, 21B호 선로전환기를 설계변경하고 설치․시공ㆍ감리 과 정에 변...   \n",
            "0   청량신호소 및 강릉차량기지 연동검사 과정 에서 21A호, 21B호 선로전환기가 반대...   \n",
            "1   청량신호소 21A호, 21B호 선로전환기를 설계변경하고 설치․시공ㆍ감리 과 정에 변...   \n",
            "..                                                ...   \n",
            "2      기지관제원이 선로전환기 할출 및 할입 사 고에 대한 업무 매뉴얼을 적용하지 않는 것   \n",
            "0      기지관제원이 선로전환기 할출 및 할입 사 고에 대한 업무 매뉴얼을 적용하지 않는 것   \n",
            "1   기지구내 선로의 선형이 입 환 작업시 출·입고 열차의 진로를 지장 하는 구조로 되어...   \n",
            "2      기지관제원이 선로전환기 할출 및 할입 사 고에 대한 업무 매뉴얼을 적용하지 않는 것   \n",
            "3   기지구내 선로의 선형이 입 환 작업시 출·입고 열차의 진로를 지장 하는 구조로 되어...   \n",
            "\n",
            "                                                  Obj  Label  \n",
            "0   청량신호소 출발신호기에 정지 신호가 현시되어야 함에도 불구하고 진행신호가 현시되도록...      1  \n",
            "0   청량신호소 출발신호기에 정지 신호가 현시되어야 함에도 불구하고 진행신호가 현시되도록...      1  \n",
            "1   청량신호소 출발신호기에 정지 신호가 현시되어야 함에도 불구하고 진행신호가 현시되도록...      1  \n",
            "0   청량신호소 출발신호기에 정지 신호가 현시되어야 함에도 불구하고 진행신호가 현시되도록...      1  \n",
            "1   청량신호소 출발신호기에 정지 신호가 현시되어야 함에도 불구하고 진행신호가 현시되도록...      1  \n",
            "..                                                ...    ...  \n",
            "2   기관사가 정지신호를 무시하고 운행하다가 선로전환기를 할출한 후 관제원의 되돌이 운전...      1  \n",
            "0   기관사가 정지신호를 무시하고 운행하다가 선로전 환기를 할출한 후 관제원의 되돌이 운...      1  \n",
            "1   기관사가 정지신호를 무시하고 운행하다가 선로전 환기를 할출한 후 관제원의 되돌이 운...      1  \n",
            "2   기관사가 정지신호를 무시하고 운행하다가 선로전환기를 할출한 후 관제원의 되돌이 운전...      1  \n",
            "3   기관사가 정지신호를 무시하고 운행하다가 선로전환기를 할출한 후 관제원의 되돌이 운전...      1  \n",
            "\n",
            "[191 rows x 7 columns]\n"
          ]
        }
      ]
    },
    {
      "cell_type": "markdown",
      "source": [
        "#Google Spreadsheet 연동"
      ],
      "metadata": {
        "id": "W1maNDsXoMWm"
      }
    },
    {
      "cell_type": "code",
      "source": [
        "# GOOGLE API KEY: json\n",
        "key = files.upload()"
      ],
      "metadata": {
        "colab": {
          "base_uri": "https://localhost:8080/",
          "height": 77
        },
        "id": "CJyAMQE7obp2",
        "outputId": "ea039e31-7944-446b-e1c4-97e3ff153a46"
      },
      "execution_count": 69,
      "outputs": [
        {
          "output_type": "display_data",
          "data": {
            "text/plain": [
              "<IPython.core.display.HTML object>"
            ],
            "text/html": [
              "\n",
              "     <input type=\"file\" id=\"files-591e241e-b077-45cf-b9df-900490656aba\" name=\"files[]\" multiple disabled\n",
              "        style=\"border:none\" />\n",
              "     <output id=\"result-591e241e-b077-45cf-b9df-900490656aba\">\n",
              "      Upload widget is only available when the cell has been executed in the\n",
              "      current browser session. Please rerun this cell to enable.\n",
              "      </output>\n",
              "      <script>// Copyright 2017 Google LLC\n",
              "//\n",
              "// Licensed under the Apache License, Version 2.0 (the \"License\");\n",
              "// you may not use this file except in compliance with the License.\n",
              "// You may obtain a copy of the License at\n",
              "//\n",
              "//      http://www.apache.org/licenses/LICENSE-2.0\n",
              "//\n",
              "// Unless required by applicable law or agreed to in writing, software\n",
              "// distributed under the License is distributed on an \"AS IS\" BASIS,\n",
              "// WITHOUT WARRANTIES OR CONDITIONS OF ANY KIND, either express or implied.\n",
              "// See the License for the specific language governing permissions and\n",
              "// limitations under the License.\n",
              "\n",
              "/**\n",
              " * @fileoverview Helpers for google.colab Python module.\n",
              " */\n",
              "(function(scope) {\n",
              "function span(text, styleAttributes = {}) {\n",
              "  const element = document.createElement('span');\n",
              "  element.textContent = text;\n",
              "  for (const key of Object.keys(styleAttributes)) {\n",
              "    element.style[key] = styleAttributes[key];\n",
              "  }\n",
              "  return element;\n",
              "}\n",
              "\n",
              "// Max number of bytes which will be uploaded at a time.\n",
              "const MAX_PAYLOAD_SIZE = 100 * 1024;\n",
              "\n",
              "function _uploadFiles(inputId, outputId) {\n",
              "  const steps = uploadFilesStep(inputId, outputId);\n",
              "  const outputElement = document.getElementById(outputId);\n",
              "  // Cache steps on the outputElement to make it available for the next call\n",
              "  // to uploadFilesContinue from Python.\n",
              "  outputElement.steps = steps;\n",
              "\n",
              "  return _uploadFilesContinue(outputId);\n",
              "}\n",
              "\n",
              "// This is roughly an async generator (not supported in the browser yet),\n",
              "// where there are multiple asynchronous steps and the Python side is going\n",
              "// to poll for completion of each step.\n",
              "// This uses a Promise to block the python side on completion of each step,\n",
              "// then passes the result of the previous step as the input to the next step.\n",
              "function _uploadFilesContinue(outputId) {\n",
              "  const outputElement = document.getElementById(outputId);\n",
              "  const steps = outputElement.steps;\n",
              "\n",
              "  const next = steps.next(outputElement.lastPromiseValue);\n",
              "  return Promise.resolve(next.value.promise).then((value) => {\n",
              "    // Cache the last promise value to make it available to the next\n",
              "    // step of the generator.\n",
              "    outputElement.lastPromiseValue = value;\n",
              "    return next.value.response;\n",
              "  });\n",
              "}\n",
              "\n",
              "/**\n",
              " * Generator function which is called between each async step of the upload\n",
              " * process.\n",
              " * @param {string} inputId Element ID of the input file picker element.\n",
              " * @param {string} outputId Element ID of the output display.\n",
              " * @return {!Iterable<!Object>} Iterable of next steps.\n",
              " */\n",
              "function* uploadFilesStep(inputId, outputId) {\n",
              "  const inputElement = document.getElementById(inputId);\n",
              "  inputElement.disabled = false;\n",
              "\n",
              "  const outputElement = document.getElementById(outputId);\n",
              "  outputElement.innerHTML = '';\n",
              "\n",
              "  const pickedPromise = new Promise((resolve) => {\n",
              "    inputElement.addEventListener('change', (e) => {\n",
              "      resolve(e.target.files);\n",
              "    });\n",
              "  });\n",
              "\n",
              "  const cancel = document.createElement('button');\n",
              "  inputElement.parentElement.appendChild(cancel);\n",
              "  cancel.textContent = 'Cancel upload';\n",
              "  const cancelPromise = new Promise((resolve) => {\n",
              "    cancel.onclick = () => {\n",
              "      resolve(null);\n",
              "    };\n",
              "  });\n",
              "\n",
              "  // Wait for the user to pick the files.\n",
              "  const files = yield {\n",
              "    promise: Promise.race([pickedPromise, cancelPromise]),\n",
              "    response: {\n",
              "      action: 'starting',\n",
              "    }\n",
              "  };\n",
              "\n",
              "  cancel.remove();\n",
              "\n",
              "  // Disable the input element since further picks are not allowed.\n",
              "  inputElement.disabled = true;\n",
              "\n",
              "  if (!files) {\n",
              "    return {\n",
              "      response: {\n",
              "        action: 'complete',\n",
              "      }\n",
              "    };\n",
              "  }\n",
              "\n",
              "  for (const file of files) {\n",
              "    const li = document.createElement('li');\n",
              "    li.append(span(file.name, {fontWeight: 'bold'}));\n",
              "    li.append(span(\n",
              "        `(${file.type || 'n/a'}) - ${file.size} bytes, ` +\n",
              "        `last modified: ${\n",
              "            file.lastModifiedDate ? file.lastModifiedDate.toLocaleDateString() :\n",
              "                                    'n/a'} - `));\n",
              "    const percent = span('0% done');\n",
              "    li.appendChild(percent);\n",
              "\n",
              "    outputElement.appendChild(li);\n",
              "\n",
              "    const fileDataPromise = new Promise((resolve) => {\n",
              "      const reader = new FileReader();\n",
              "      reader.onload = (e) => {\n",
              "        resolve(e.target.result);\n",
              "      };\n",
              "      reader.readAsArrayBuffer(file);\n",
              "    });\n",
              "    // Wait for the data to be ready.\n",
              "    let fileData = yield {\n",
              "      promise: fileDataPromise,\n",
              "      response: {\n",
              "        action: 'continue',\n",
              "      }\n",
              "    };\n",
              "\n",
              "    // Use a chunked sending to avoid message size limits. See b/62115660.\n",
              "    let position = 0;\n",
              "    do {\n",
              "      const length = Math.min(fileData.byteLength - position, MAX_PAYLOAD_SIZE);\n",
              "      const chunk = new Uint8Array(fileData, position, length);\n",
              "      position += length;\n",
              "\n",
              "      const base64 = btoa(String.fromCharCode.apply(null, chunk));\n",
              "      yield {\n",
              "        response: {\n",
              "          action: 'append',\n",
              "          file: file.name,\n",
              "          data: base64,\n",
              "        },\n",
              "      };\n",
              "\n",
              "      let percentDone = fileData.byteLength === 0 ?\n",
              "          100 :\n",
              "          Math.round((position / fileData.byteLength) * 100);\n",
              "      percent.textContent = `${percentDone}% done`;\n",
              "\n",
              "    } while (position < fileData.byteLength);\n",
              "  }\n",
              "\n",
              "  // All done.\n",
              "  yield {\n",
              "    response: {\n",
              "      action: 'complete',\n",
              "    }\n",
              "  };\n",
              "}\n",
              "\n",
              "scope.google = scope.google || {};\n",
              "scope.google.colab = scope.google.colab || {};\n",
              "scope.google.colab._files = {\n",
              "  _uploadFiles,\n",
              "  _uploadFilesContinue,\n",
              "};\n",
              "})(self);\n",
              "</script> "
            ]
          },
          "metadata": {}
        },
        {
          "output_type": "stream",
          "name": "stdout",
          "text": [
            "Saving railway-tagtog-d24e6901ddb0.json to railway-tagtog-d24e6901ddb0.json\n"
          ]
        }
      ]
    },
    {
      "cell_type": "code",
      "source": [
        "import gspread\n",
        "from oauth2client.service_account import ServiceAccountCredentials\n",
        "\n",
        "scope = ['https://spreadsheets.google.com/feeds',\n",
        "         'https://www.googleapis.com/auth/drive']\n",
        "\n",
        "#json key file 위치\n",
        "json_file_name = './railway-tagtog-d24e6901ddb0.json'\n",
        "\n",
        "# json key file을 이용하여 접속\n",
        "credentials = ServiceAccountCredentials.from_json_keyfile_name(json_file_name, scope)\n",
        "gc = gspread.authorize(credentials)\n",
        "\n",
        "#구글 스프레드 시트 주소\n",
        "spreadsheet_url = \"https://docs.google.com/spreadsheets/d/1cpt2ad2pw0N2tC1H3MPtRAaZzFmgCh2If0gHOQKEIIo/edit#gid=0\"\n",
        "\n",
        "# 스프레드시트 문서 가져오기\n",
        "doc = gc.open_by_url(spreadsheet_url)\n",
        "## gc.create(spreadsheet_name) # 스프레드시트 생성\n",
        "\n",
        "\n",
        "#시트 선택하기\n",
        "sheet_name = \"annotation\"\n",
        "worksheet = doc.worksheet(sheet_name) #해당 시트가 있는 경우 불러오기\n",
        "## 403 error가 뜰 경우, google sheets API를 활성시켜줘야 함"
      ],
      "metadata": {
        "id": "sb4r11S1oUcY"
      },
      "execution_count": 70,
      "outputs": []
    },
    {
      "cell_type": "code",
      "source": [
        "print(Rel_df.iloc[0, 4])"
      ],
      "metadata": {
        "colab": {
          "base_uri": "https://localhost:8080/"
        },
        "id": "prRHEYQlR-2q",
        "outputId": "5efb0bef-ac00-4b14-b17c-1923b689bf91"
      },
      "execution_count": 79,
      "outputs": [
        {
          "output_type": "stream",
          "name": "stdout",
          "text": [
            "청량신호소 및 강릉차량기지 연동검사 과정 에서 21A호, 21B호 선로전환기가 반대로 표시되는 것을 확인하지 못한 것\n"
          ]
        }
      ]
    },
    {
      "cell_type": "code",
      "source": [
        "# 시트의 모든 데이터 가져오기\n",
        "values = worksheet.get_all_values()\n",
        "header, rows = values[0], values[1:]\n",
        "data = pd.DataFrame(rows, columns=header)\n",
        "column_list = ['Doc', 'Loc', 'Cls', 'Part', 'Sub', 'Obj', 'Label']\n",
        "data = data[column_list]\n",
        "data.head()\n",
        "\n",
        "# 워크시트 범위 설정\n",
        "worksheet.resize(len(Rel_df)+1,10)\n",
        "list_range = f\"a2:g{len(Rel_df)+1}\"\n",
        "cell_list = worksheet.range(list_range)\n",
        "\n",
        "# 내용 작성\n",
        "for i in range(len(cell_list)//len(column_list)):\n",
        "    cell_list[(7*i)].value = str(Rel_df.iloc[i, 0])\n",
        "    cell_list[(7*i)+1].value = str(Rel_df.iloc[i, 1])\n",
        "    cell_list[(7*i)+2].value = str(Rel_df.iloc[i, 2])\n",
        "    cell_list[(7*i)+3].value = str(Rel_df.iloc[i, 3])\n",
        "    cell_list[(7*i)+4].value = str(Rel_df.iloc[i, 4])\n",
        "    cell_list[(7*i)+5].value = str(Rel_df.iloc[i, 5])\n",
        "    cell_list[(7*i)+6].value = int(Rel_df.iloc[i, 6])\n",
        "    \n",
        "worksheet.update_cells(cell_list)"
      ],
      "metadata": {
        "colab": {
          "base_uri": "https://localhost:8080/"
        },
        "id": "s3BFRhYLoXmW",
        "outputId": "e31ec2a2-9589-4394-ad9a-1cbeb5eabb39"
      },
      "execution_count": 80,
      "outputs": [
        {
          "output_type": "execute_result",
          "data": {
            "text/plain": [
              "{'spreadsheetId': '1cpt2ad2pw0N2tC1H3MPtRAaZzFmgCh2If0gHOQKEIIo',\n",
              " 'updatedRange': 'annotation!A2:G192',\n",
              " 'updatedRows': 191,\n",
              " 'updatedColumns': 7,\n",
              " 'updatedCells': 1337}"
            ]
          },
          "metadata": {},
          "execution_count": 80
        }
      ]
    },
    {
      "cell_type": "code",
      "source": [],
      "metadata": {
        "id": "AbaggDWGQ927"
      },
      "execution_count": null,
      "outputs": []
    }
  ]
}