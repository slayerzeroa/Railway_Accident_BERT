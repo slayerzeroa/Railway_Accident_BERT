{
  "nbformat": 4,
  "nbformat_minor": 0,
  "metadata": {
    "colab": {
      "provenance": [],
      "collapsed_sections": [
        "kcVKRk9GQBus",
        "pdBNaxioP5GI"
      ],
      "authorship_tag": "ABX9TyNyl4rCC9aQT5X67Ukoypom",
      "include_colab_link": true
    },
    "kernelspec": {
      "name": "python3",
      "display_name": "Python 3"
    },
    "language_info": {
      "name": "python"
    }
  },
  "cells": [
    {
      "cell_type": "markdown",
      "metadata": {
        "id": "view-in-github",
        "colab_type": "text"
      },
      "source": [
        "<a href=\"https://colab.research.google.com/github/slayerzeroa/Railway_Accident_BERT/blob/main/Tagtog_Preprocess_Entity_Recognitioin.ipynb\" target=\"_parent\"><img src=\"https://colab.research.google.com/assets/colab-badge.svg\" alt=\"Open In Colab\"/></a>"
      ]
    },
    {
      "cell_type": "markdown",
      "source": [
        "# Code"
      ],
      "metadata": {
        "id": "kcVKRk9GQBus"
      }
    },
    {
      "cell_type": "code",
      "execution_count": null,
      "metadata": {
        "colab": {
          "base_uri": "https://localhost:8080/"
        },
        "id": "CNzKgmi_xEAG",
        "outputId": "a65e5dfe-6467-4ea6-a6da-6bb5d4d99655"
      },
      "outputs": [
        {
          "output_type": "stream",
          "name": "stdout",
          "text": [
            "Looking in indexes: https://pypi.org/simple, https://us-python.pkg.dev/colab-wheels/public/simple/\n",
            "Requirement already satisfied: gspread in /usr/local/lib/python3.8/dist-packages (3.4.2)\n",
            "Requirement already satisfied: requests>=2.2.1 in /usr/local/lib/python3.8/dist-packages (from gspread) (2.25.1)\n",
            "Requirement already satisfied: google-auth in /usr/local/lib/python3.8/dist-packages (from gspread) (2.15.0)\n",
            "Requirement already satisfied: chardet<5,>=3.0.2 in /usr/local/lib/python3.8/dist-packages (from requests>=2.2.1->gspread) (4.0.0)\n",
            "Requirement already satisfied: certifi>=2017.4.17 in /usr/local/lib/python3.8/dist-packages (from requests>=2.2.1->gspread) (2022.12.7)\n",
            "Requirement already satisfied: idna<3,>=2.5 in /usr/local/lib/python3.8/dist-packages (from requests>=2.2.1->gspread) (2.10)\n",
            "Requirement already satisfied: urllib3<1.27,>=1.21.1 in /usr/local/lib/python3.8/dist-packages (from requests>=2.2.1->gspread) (1.24.3)\n",
            "Requirement already satisfied: pyasn1-modules>=0.2.1 in /usr/local/lib/python3.8/dist-packages (from google-auth->gspread) (0.2.8)\n",
            "Requirement already satisfied: rsa<5,>=3.1.4 in /usr/local/lib/python3.8/dist-packages (from google-auth->gspread) (4.9)\n",
            "Requirement already satisfied: cachetools<6.0,>=2.0.0 in /usr/local/lib/python3.8/dist-packages (from google-auth->gspread) (5.2.0)\n",
            "Requirement already satisfied: six>=1.9.0 in /usr/local/lib/python3.8/dist-packages (from google-auth->gspread) (1.15.0)\n",
            "Requirement already satisfied: pyasn1<0.5.0,>=0.4.6 in /usr/local/lib/python3.8/dist-packages (from pyasn1-modules>=0.2.1->google-auth->gspread) (0.4.8)\n",
            "Looking in indexes: https://pypi.org/simple, https://us-python.pkg.dev/colab-wheels/public/simple/\n",
            "Requirement already satisfied: oauth2client in /usr/local/lib/python3.8/dist-packages (4.1.3)\n",
            "Requirement already satisfied: pyasn1-modules>=0.0.5 in /usr/local/lib/python3.8/dist-packages (from oauth2client) (0.2.8)\n",
            "Requirement already satisfied: httplib2>=0.9.1 in /usr/local/lib/python3.8/dist-packages (from oauth2client) (0.17.4)\n",
            "Requirement already satisfied: six>=1.6.1 in /usr/local/lib/python3.8/dist-packages (from oauth2client) (1.15.0)\n",
            "Requirement already satisfied: rsa>=3.1.4 in /usr/local/lib/python3.8/dist-packages (from oauth2client) (4.9)\n",
            "Requirement already satisfied: pyasn1>=0.1.7 in /usr/local/lib/python3.8/dist-packages (from oauth2client) (0.4.8)\n",
            "Looking in indexes: https://pypi.org/simple, https://us-python.pkg.dev/colab-wheels/public/simple/\n",
            "Collecting transformers\n",
            "  Downloading transformers-4.25.1-py3-none-any.whl (5.8 MB)\n",
            "\u001b[2K     \u001b[90m━━━━━━━━━━━━━━━━━━━━━━━━━━━━━━━━━━━━━━━━\u001b[0m \u001b[32m5.8/5.8 MB\u001b[0m \u001b[31m15.6 MB/s\u001b[0m eta \u001b[36m0:00:00\u001b[0m\n",
            "\u001b[?25hRequirement already satisfied: filelock in /usr/local/lib/python3.8/dist-packages (from transformers) (3.9.0)\n",
            "Requirement already satisfied: packaging>=20.0 in /usr/local/lib/python3.8/dist-packages (from transformers) (21.3)\n",
            "Collecting huggingface-hub<1.0,>=0.10.0\n",
            "  Downloading huggingface_hub-0.11.1-py3-none-any.whl (182 kB)\n",
            "\u001b[2K     \u001b[90m━━━━━━━━━━━━━━━━━━━━━━━━━━━━━━━━━━━━━━━\u001b[0m \u001b[32m182.4/182.4 KB\u001b[0m \u001b[31m4.2 MB/s\u001b[0m eta \u001b[36m0:00:00\u001b[0m\n",
            "\u001b[?25hRequirement already satisfied: numpy>=1.17 in /usr/local/lib/python3.8/dist-packages (from transformers) (1.21.6)\n",
            "Requirement already satisfied: requests in /usr/local/lib/python3.8/dist-packages (from transformers) (2.25.1)\n",
            "Collecting tokenizers!=0.11.3,<0.14,>=0.11.1\n",
            "  Downloading tokenizers-0.13.2-cp38-cp38-manylinux_2_17_x86_64.manylinux2014_x86_64.whl (7.6 MB)\n",
            "\u001b[2K     \u001b[90m━━━━━━━━━━━━━━━━━━━━━━━━━━━━━━━━━━━━━━━━\u001b[0m \u001b[32m7.6/7.6 MB\u001b[0m \u001b[31m29.0 MB/s\u001b[0m eta \u001b[36m0:00:00\u001b[0m\n",
            "\u001b[?25hRequirement already satisfied: tqdm>=4.27 in /usr/local/lib/python3.8/dist-packages (from transformers) (4.64.1)\n",
            "Requirement already satisfied: pyyaml>=5.1 in /usr/local/lib/python3.8/dist-packages (from transformers) (6.0)\n",
            "Requirement already satisfied: regex!=2019.12.17 in /usr/local/lib/python3.8/dist-packages (from transformers) (2022.6.2)\n",
            "Requirement already satisfied: typing-extensions>=3.7.4.3 in /usr/local/lib/python3.8/dist-packages (from huggingface-hub<1.0,>=0.10.0->transformers) (4.4.0)\n",
            "Requirement already satisfied: pyparsing!=3.0.5,>=2.0.2 in /usr/local/lib/python3.8/dist-packages (from packaging>=20.0->transformers) (3.0.9)\n",
            "Requirement already satisfied: chardet<5,>=3.0.2 in /usr/local/lib/python3.8/dist-packages (from requests->transformers) (4.0.0)\n",
            "Requirement already satisfied: urllib3<1.27,>=1.21.1 in /usr/local/lib/python3.8/dist-packages (from requests->transformers) (1.24.3)\n",
            "Requirement already satisfied: idna<3,>=2.5 in /usr/local/lib/python3.8/dist-packages (from requests->transformers) (2.10)\n",
            "Requirement already satisfied: certifi>=2017.4.17 in /usr/local/lib/python3.8/dist-packages (from requests->transformers) (2022.12.7)\n",
            "Installing collected packages: tokenizers, huggingface-hub, transformers\n",
            "Successfully installed huggingface-hub-0.11.1 tokenizers-0.13.2 transformers-4.25.1\n",
            "Looking in indexes: https://pypi.org/simple, https://us-python.pkg.dev/colab-wheels/public/simple/\n",
            "Requirement already satisfied: nltk in /usr/local/lib/python3.8/dist-packages (3.7)\n",
            "Requirement already satisfied: click in /usr/local/lib/python3.8/dist-packages (from nltk) (7.1.2)\n",
            "Requirement already satisfied: tqdm in /usr/local/lib/python3.8/dist-packages (from nltk) (4.64.1)\n",
            "Requirement already satisfied: regex>=2021.8.3 in /usr/local/lib/python3.8/dist-packages (from nltk) (2022.6.2)\n",
            "Requirement already satisfied: joblib in /usr/local/lib/python3.8/dist-packages (from nltk) (1.2.0)\n"
          ]
        }
      ],
      "source": [
        "!pip install gspread\n",
        "!pip install oauth2client\n",
        "!pip install transformers\n",
        "!pip install nltk"
      ]
    },
    {
      "cell_type": "code",
      "source": [
        "# 라이브러리\n",
        "import torch\n",
        "from torch import nn, optim, tensor\n",
        "from torch.utils.data import DataLoader, Dataset,TensorDataset, random_split\n",
        "import torch.nn.functional as F\n",
        "\n",
        "import numpy as np\n",
        "import pandas as pd\n",
        "import math\n",
        "import matplotlib.pyplot as plt\n",
        "\n",
        "from sklearn.model_selection import train_test_split, KFold\n",
        "from sklearn.metrics import accuracy_score, mean_squared_error\n",
        "\n",
        "# from transformers import BertTokenizer\n",
        "\n",
        "import json\n",
        "import glob\n",
        "import re\n",
        "import os\n",
        "import ast\n",
        "import html\n",
        "import requests\n",
        "\n",
        "import zipfile\n",
        "import shutil\n",
        "\n",
        "import nltk\n",
        "from nltk.tokenize import word_tokenize\n",
        "\n",
        "import pandas as pd\n",
        "\n",
        "from google.colab import files"
      ],
      "metadata": {
        "id": "fOxUjiYLxMK0"
      },
      "execution_count": null,
      "outputs": []
    },
    {
      "cell_type": "code",
      "source": [
        "#punkt 다운로드\n",
        "nltk.download('punkt')"
      ],
      "metadata": {
        "colab": {
          "base_uri": "https://localhost:8080/"
        },
        "id": "QK2BZzGlGgzg",
        "outputId": "ac356155-9871-481e-b6fb-bd36a5c2cbd9"
      },
      "execution_count": null,
      "outputs": [
        {
          "output_type": "stream",
          "name": "stderr",
          "text": [
            "[nltk_data] Downloading package punkt to /root/nltk_data...\n",
            "[nltk_data]   Unzipping tokenizers/punkt.zip.\n"
          ]
        },
        {
          "output_type": "execute_result",
          "data": {
            "text/plain": [
              "True"
            ]
          },
          "metadata": {},
          "execution_count": 3
        }
      ]
    },
    {
      "cell_type": "code",
      "source": [
        "#로그인 위치\n",
        "url = \"https://tagtog.com/-login\"\n",
        "\n",
        "#다운로드 위치\n",
        "file_url = 'https://www.tagtog.com/slayerzeroa/Railway_BERT/-downloads/dataset-as-anndoc' \n",
        "o_file = 'Railway_Annotation.zip'  \n",
        "if os.path.exists(o_file):\n",
        "    os.remove(o_file)\n",
        "\n",
        "#로그인 정보\n",
        "login_info = {\n",
        "    'loginid' : 'slayerzeroa@gmail.com',\n",
        "    'password' : 'gyysxw5rU3NzrYX',\n",
        "}\n",
        "\n",
        "#로그인\n",
        "with requests.Session() as s:\n",
        "    login_req = s.post(url, data=login_info)\n",
        "    r = s.get(file_url)\n",
        "\n",
        "    with open(o_file,\"wb\") as output:\n",
        "        output.write(r.content)"
      ],
      "metadata": {
        "id": "SxjSVehexrRF"
      },
      "execution_count": null,
      "outputs": []
    },
    {
      "cell_type": "code",
      "source": [
        "#압축파일 풀기\n",
        "folder_path = \"./tagtog_relation_extraction/\"\n",
        "\n",
        "zip_ = zipfile.ZipFile(\"Railway_Annotation.zip\")\n",
        "if os.path.exists(folder_path):\n",
        "    shutil.rmtree(folder_path)\n",
        "zip_.extractall(folder_path)"
      ],
      "metadata": {
        "id": "-sEhJHxqxtby"
      },
      "execution_count": null,
      "outputs": []
    },
    {
      "cell_type": "code",
      "source": [
        "#폴더 경로\n",
        "folder_name = \"./tagtog_relation_extraction/Railway_BERT/\"\n",
        "\n",
        "#name list\n",
        "context_name_list = os.listdir(folder_name + \"plain.html/pool\")\n",
        "relation_name_list = os.listdir(folder_name + \"ann.json/master/pool\")\n",
        "\n",
        "context_name_list.sort()\n",
        "relation_name_list.sort()\n",
        "\n",
        "#폴더 경로\n",
        "contexts_folders_paths = [folder_name + \"plain.html/pool/\" + c for c in context_name_list]\n",
        "relation_folders_paths = [folder_name + \"ann.json/master/pool/\" + c for c in relation_name_list]\n",
        "print(contexts_folders_paths)\n",
        "print(relation_folders_paths)\n",
        "\n",
        "#anntation_lenged 정보\n",
        "annotations_legend = folder_name + \"annotations-legend.json\"\n",
        "with open(annotations_legend,\"r\") as f:\n",
        "    annotations_legend = json.load(f)\n"
      ],
      "metadata": {
        "colab": {
          "base_uri": "https://localhost:8080/"
        },
        "id": "h3qT0kVCxudg",
        "outputId": "5a5214ca-09fe-404d-a6bd-f3f69c30409c"
      },
      "execution_count": null,
      "outputs": [
        {
          "output_type": "stream",
          "name": "stdout",
          "text": [
            "['./tagtog_relation_extraction/Railway_BERT/plain.html/pool/a2nq4ZkAtmxrdM.yECpQx1Ae4rYu-text_4.txt.plain.html', './tagtog_relation_extraction/Railway_BERT/plain.html/pool/a7njLl5A3qbkk787l1KnKTod9AHy-text_2.txt.plain.html', './tagtog_relation_extraction/Railway_BERT/plain.html/pool/aFBtrQNRHHFnpD56uimygcqw5tAW-text_1.txt.plain.html', './tagtog_relation_extraction/Railway_BERT/plain.html/pool/aT0v7lsjlValvCzGFIBlxAutdrrG-text_7.txt.plain.html', './tagtog_relation_extraction/Railway_BERT/plain.html/pool/aVLI6NO6mNSFompKzlsJc0skVUo8-text_5.txt.plain.html', './tagtog_relation_extraction/Railway_BERT/plain.html/pool/aXdTlZzcuUIsWDg1KxZzhYiaHUWC-text_6.txt.plain.html', './tagtog_relation_extraction/Railway_BERT/plain.html/pool/aYqDitzamGH6gW4K6Tv_k3cHoVgW-text.txt.plain.html', './tagtog_relation_extraction/Railway_BERT/plain.html/pool/agCjSEwp8H0mHv_BeVgYapyRM80m-text_3.txt.plain.html']\n",
            "['./tagtog_relation_extraction/Railway_BERT/ann.json/master/pool/a2nq4ZkAtmxrdM.yECpQx1Ae4rYu-text_4.txt.ann.json', './tagtog_relation_extraction/Railway_BERT/ann.json/master/pool/a7njLl5A3qbkk787l1KnKTod9AHy-text_2.txt.ann.json', './tagtog_relation_extraction/Railway_BERT/ann.json/master/pool/aFBtrQNRHHFnpD56uimygcqw5tAW-text_1.txt.ann.json', './tagtog_relation_extraction/Railway_BERT/ann.json/master/pool/aT0v7lsjlValvCzGFIBlxAutdrrG-text_7.txt.ann.json', './tagtog_relation_extraction/Railway_BERT/ann.json/master/pool/aVLI6NO6mNSFompKzlsJc0skVUo8-text_5.txt.ann.json', './tagtog_relation_extraction/Railway_BERT/ann.json/master/pool/aXdTlZzcuUIsWDg1KxZzhYiaHUWC-text_6.txt.ann.json', './tagtog_relation_extraction/Railway_BERT/ann.json/master/pool/aYqDitzamGH6gW4K6Tv_k3cHoVgW-text.txt.ann.json', './tagtog_relation_extraction/Railway_BERT/ann.json/master/pool/agCjSEwp8H0mHv_BeVgYapyRM80m-text_3.txt.ann.json']\n"
          ]
        }
      ]
    },
    {
      "cell_type": "code",
      "source": [
        "def remove_tag(html_text):\n",
        "  check = html_text\n",
        "  check = re.sub('<title>.*</title>', '', check)\n",
        "  check = re.sub('(<([^>]+)>)', '', check).strip()\n",
        "  check = re.sub('\\n', '', check)\n",
        "  check = re.sub(' +', ' ', check)\n",
        "  check = re.sub('·','', check)\n",
        "  check = re.sub('○', '', check)\n",
        "  return check"
      ],
      "metadata": {
        "id": "mp5JpU2vELRa"
      },
      "execution_count": null,
      "outputs": []
    },
    {
      "cell_type": "code",
      "source": [
        "text_list = []\n",
        "label_list = []\n",
        "\n",
        "for context_path, relation_path in zip(contexts_folders_paths, relation_folders_paths):\n",
        "  # entity json 파일 열기\n",
        "  with open(relation_path, \"r\", encoding=\"UTF-8\") as f:\n",
        "    content = json.load(f)\n",
        "\n",
        "  # 텍스트 토큰 대치\n",
        "  check_entity = dict()\n",
        "  for i in content['entities']:\n",
        "    check_entity[i['offsets'][0]['text']] = i['classId']\n",
        "\n",
        "  # plain text 열고 태그 제거\n",
        "  with open(context_path, \"r\", encoding=\"UTF-8\") as g:\n",
        "    context = g.read()\n",
        "  removing = remove_tag(context)\n",
        "\n",
        "  # 워드 토크나이즈, entity 체크\n",
        "  check = word_tokenize(removing)\n",
        "\n",
        "  checking_list = []\n",
        "\n",
        "  for i in check:\n",
        "    if i in check_entity:\n",
        "      checking_list.append(annotations_legend[check_entity[i]])\n",
        "    if i not in check_entity:\n",
        "      checking_list.append('O')\n",
        "  text_list.append(' '.join(check))\n",
        "  label_list.append(' '.join(checking_list))"
      ],
      "metadata": {
        "id": "gjb4hyE8BjCy"
      },
      "execution_count": null,
      "outputs": []
    },
    {
      "cell_type": "code",
      "source": [
        "# google api key\n",
        "key = files.upload()"
      ],
      "metadata": {
        "colab": {
          "base_uri": "https://localhost:8080/",
          "height": 77
        },
        "id": "7tw5jFm7NhSr",
        "outputId": "1b4ca84b-59b1-45fe-bf8f-35898693cc83"
      },
      "execution_count": null,
      "outputs": [
        {
          "output_type": "display_data",
          "data": {
            "text/plain": [
              "<IPython.core.display.HTML object>"
            ],
            "text/html": [
              "\n",
              "     <input type=\"file\" id=\"files-13963529-2c5b-4854-ae1c-99e976cc3c33\" name=\"files[]\" multiple disabled\n",
              "        style=\"border:none\" />\n",
              "     <output id=\"result-13963529-2c5b-4854-ae1c-99e976cc3c33\">\n",
              "      Upload widget is only available when the cell has been executed in the\n",
              "      current browser session. Please rerun this cell to enable.\n",
              "      </output>\n",
              "      <script>// Copyright 2017 Google LLC\n",
              "//\n",
              "// Licensed under the Apache License, Version 2.0 (the \"License\");\n",
              "// you may not use this file except in compliance with the License.\n",
              "// You may obtain a copy of the License at\n",
              "//\n",
              "//      http://www.apache.org/licenses/LICENSE-2.0\n",
              "//\n",
              "// Unless required by applicable law or agreed to in writing, software\n",
              "// distributed under the License is distributed on an \"AS IS\" BASIS,\n",
              "// WITHOUT WARRANTIES OR CONDITIONS OF ANY KIND, either express or implied.\n",
              "// See the License for the specific language governing permissions and\n",
              "// limitations under the License.\n",
              "\n",
              "/**\n",
              " * @fileoverview Helpers for google.colab Python module.\n",
              " */\n",
              "(function(scope) {\n",
              "function span(text, styleAttributes = {}) {\n",
              "  const element = document.createElement('span');\n",
              "  element.textContent = text;\n",
              "  for (const key of Object.keys(styleAttributes)) {\n",
              "    element.style[key] = styleAttributes[key];\n",
              "  }\n",
              "  return element;\n",
              "}\n",
              "\n",
              "// Max number of bytes which will be uploaded at a time.\n",
              "const MAX_PAYLOAD_SIZE = 100 * 1024;\n",
              "\n",
              "function _uploadFiles(inputId, outputId) {\n",
              "  const steps = uploadFilesStep(inputId, outputId);\n",
              "  const outputElement = document.getElementById(outputId);\n",
              "  // Cache steps on the outputElement to make it available for the next call\n",
              "  // to uploadFilesContinue from Python.\n",
              "  outputElement.steps = steps;\n",
              "\n",
              "  return _uploadFilesContinue(outputId);\n",
              "}\n",
              "\n",
              "// This is roughly an async generator (not supported in the browser yet),\n",
              "// where there are multiple asynchronous steps and the Python side is going\n",
              "// to poll for completion of each step.\n",
              "// This uses a Promise to block the python side on completion of each step,\n",
              "// then passes the result of the previous step as the input to the next step.\n",
              "function _uploadFilesContinue(outputId) {\n",
              "  const outputElement = document.getElementById(outputId);\n",
              "  const steps = outputElement.steps;\n",
              "\n",
              "  const next = steps.next(outputElement.lastPromiseValue);\n",
              "  return Promise.resolve(next.value.promise).then((value) => {\n",
              "    // Cache the last promise value to make it available to the next\n",
              "    // step of the generator.\n",
              "    outputElement.lastPromiseValue = value;\n",
              "    return next.value.response;\n",
              "  });\n",
              "}\n",
              "\n",
              "/**\n",
              " * Generator function which is called between each async step of the upload\n",
              " * process.\n",
              " * @param {string} inputId Element ID of the input file picker element.\n",
              " * @param {string} outputId Element ID of the output display.\n",
              " * @return {!Iterable<!Object>} Iterable of next steps.\n",
              " */\n",
              "function* uploadFilesStep(inputId, outputId) {\n",
              "  const inputElement = document.getElementById(inputId);\n",
              "  inputElement.disabled = false;\n",
              "\n",
              "  const outputElement = document.getElementById(outputId);\n",
              "  outputElement.innerHTML = '';\n",
              "\n",
              "  const pickedPromise = new Promise((resolve) => {\n",
              "    inputElement.addEventListener('change', (e) => {\n",
              "      resolve(e.target.files);\n",
              "    });\n",
              "  });\n",
              "\n",
              "  const cancel = document.createElement('button');\n",
              "  inputElement.parentElement.appendChild(cancel);\n",
              "  cancel.textContent = 'Cancel upload';\n",
              "  const cancelPromise = new Promise((resolve) => {\n",
              "    cancel.onclick = () => {\n",
              "      resolve(null);\n",
              "    };\n",
              "  });\n",
              "\n",
              "  // Wait for the user to pick the files.\n",
              "  const files = yield {\n",
              "    promise: Promise.race([pickedPromise, cancelPromise]),\n",
              "    response: {\n",
              "      action: 'starting',\n",
              "    }\n",
              "  };\n",
              "\n",
              "  cancel.remove();\n",
              "\n",
              "  // Disable the input element since further picks are not allowed.\n",
              "  inputElement.disabled = true;\n",
              "\n",
              "  if (!files) {\n",
              "    return {\n",
              "      response: {\n",
              "        action: 'complete',\n",
              "      }\n",
              "    };\n",
              "  }\n",
              "\n",
              "  for (const file of files) {\n",
              "    const li = document.createElement('li');\n",
              "    li.append(span(file.name, {fontWeight: 'bold'}));\n",
              "    li.append(span(\n",
              "        `(${file.type || 'n/a'}) - ${file.size} bytes, ` +\n",
              "        `last modified: ${\n",
              "            file.lastModifiedDate ? file.lastModifiedDate.toLocaleDateString() :\n",
              "                                    'n/a'} - `));\n",
              "    const percent = span('0% done');\n",
              "    li.appendChild(percent);\n",
              "\n",
              "    outputElement.appendChild(li);\n",
              "\n",
              "    const fileDataPromise = new Promise((resolve) => {\n",
              "      const reader = new FileReader();\n",
              "      reader.onload = (e) => {\n",
              "        resolve(e.target.result);\n",
              "      };\n",
              "      reader.readAsArrayBuffer(file);\n",
              "    });\n",
              "    // Wait for the data to be ready.\n",
              "    let fileData = yield {\n",
              "      promise: fileDataPromise,\n",
              "      response: {\n",
              "        action: 'continue',\n",
              "      }\n",
              "    };\n",
              "\n",
              "    // Use a chunked sending to avoid message size limits. See b/62115660.\n",
              "    let position = 0;\n",
              "    do {\n",
              "      const length = Math.min(fileData.byteLength - position, MAX_PAYLOAD_SIZE);\n",
              "      const chunk = new Uint8Array(fileData, position, length);\n",
              "      position += length;\n",
              "\n",
              "      const base64 = btoa(String.fromCharCode.apply(null, chunk));\n",
              "      yield {\n",
              "        response: {\n",
              "          action: 'append',\n",
              "          file: file.name,\n",
              "          data: base64,\n",
              "        },\n",
              "      };\n",
              "\n",
              "      let percentDone = fileData.byteLength === 0 ?\n",
              "          100 :\n",
              "          Math.round((position / fileData.byteLength) * 100);\n",
              "      percent.textContent = `${percentDone}% done`;\n",
              "\n",
              "    } while (position < fileData.byteLength);\n",
              "  }\n",
              "\n",
              "  // All done.\n",
              "  yield {\n",
              "    response: {\n",
              "      action: 'complete',\n",
              "    }\n",
              "  };\n",
              "}\n",
              "\n",
              "scope.google = scope.google || {};\n",
              "scope.google.colab = scope.google.colab || {};\n",
              "scope.google.colab._files = {\n",
              "  _uploadFiles,\n",
              "  _uploadFilesContinue,\n",
              "};\n",
              "})(self);\n",
              "</script> "
            ]
          },
          "metadata": {}
        },
        {
          "output_type": "stream",
          "name": "stdout",
          "text": [
            "Saving railway-tagtog-d24e6901ddb0.json to railway-tagtog-d24e6901ddb0.json\n"
          ]
        }
      ]
    },
    {
      "cell_type": "code",
      "source": [
        "import gspread\n",
        "from oauth2client.service_account import ServiceAccountCredentials\n",
        "\n",
        "scope = ['https://spreadsheets.google.com/feeds',\n",
        "         'https://www.googleapis.com/auth/drive']\n",
        "\n",
        "#json key file 위치\n",
        "json_file_name = './railway-tagtog-d24e6901ddb0.json'\n",
        "\n",
        "# json key file을 이용하여 접속\n",
        "credentials = ServiceAccountCredentials.from_json_keyfile_name(json_file_name, scope)\n",
        "gc = gspread.authorize(credentials)\n",
        "\n",
        "#구글 스프레드 시트 주소\n",
        "spreadsheet_url = \"https://docs.google.com/spreadsheets/d/1cpt2ad2pw0N2tC1H3MPtRAaZzFmgCh2If0gHOQKEIIo/edit#gid=0\"\n",
        "\n",
        "# 스프레드시트 문서 가져오기\n",
        "doc = gc.open_by_url(spreadsheet_url)\n",
        "## gc.create(spreadsheet_name) # 스프레드시트 생성\n",
        "\n",
        "\n",
        "#시트 선택하기\n",
        "sheet_name = \"context\"\n",
        "worksheet = doc.worksheet(sheet_name) #해당 시트가 있는 경우 불러오기\n",
        "## 403 error가 뜰 경우, google sheets API를 활성시켜줘야 함"
      ],
      "metadata": {
        "id": "Qo_B3lbUNZLa"
      },
      "execution_count": null,
      "outputs": []
    },
    {
      "cell_type": "code",
      "source": [
        "# 시트의 모든 데이터 가져오기\n",
        "values = worksheet.get_all_values()\n",
        "header, rows = values[0], values[1:]\n",
        "data = pd.DataFrame(rows, columns=header)\n",
        "column_list = [\"text\",\"label\"]\n",
        "data = data[column_list]\n",
        "data.head()\n",
        "\n",
        "worksheet.resize(len(text_list)+1,10)\n",
        "list_range = f\"a2:b{len(text_list)+1}\"\n",
        "cell_list = worksheet.range(list_range)\n",
        "\n",
        "for i in range(len(cell_list)//len(column_list)):\n",
        "    cell_list[(2*i)].value = text_list[i]\n",
        "    cell_list[(2*i)+1].value = label_list[i]\n",
        "worksheet.update_cells(cell_list)"
      ],
      "metadata": {
        "colab": {
          "base_uri": "https://localhost:8080/"
        },
        "id": "Ox_4DtxbNbx5",
        "outputId": "3132b669-e4ea-4bb4-f64c-d0fde3c7476a"
      },
      "execution_count": null,
      "outputs": [
        {
          "output_type": "execute_result",
          "data": {
            "text/plain": [
              "{'spreadsheetId': '1cpt2ad2pw0N2tC1H3MPtRAaZzFmgCh2If0gHOQKEIIo',\n",
              " 'updatedRange': 'context!A2:B9',\n",
              " 'updatedRows': 8,\n",
              " 'updatedColumns': 2,\n",
              " 'updatedCells': 16}"
            ]
          },
          "metadata": {},
          "execution_count": 11
        }
      ]
    },
    {
      "cell_type": "markdown",
      "source": [
        "# Test\n"
      ],
      "metadata": {
        "id": "pdBNaxioP5GI"
      }
    },
    {
      "cell_type": "code",
      "source": [
        "with open('./tagtog_relation_extraction/Railway_BERT/ann.json/master/pool/aYqDitzamGH6gW4K6Tv_k3cHoVgW-text.txt.ann.json', \"r\", encoding=\"UTF-8\") as f:\n",
        "  test = json.load(f)\n",
        "\n",
        "print(test)\n",
        "print(test['entities'])"
      ],
      "metadata": {
        "colab": {
          "base_uri": "https://localhost:8080/"
        },
        "id": "oN2W0EaZxw1c",
        "outputId": "6d02a93f-db01-4d02-d1f2-c20df438dc8b"
      },
      "execution_count": null,
      "outputs": [
        {
          "output_type": "stream",
          "name": "stdout",
          "text": [
            "{'annotatable': {'parts': ['s1v1']}, 'anncomplete': False, 'sources': [], 'metas': {}, 'entities': [{'classId': 'e_28', 'part': 's1v1', 'offsets': [{'start': 4, 'text': '차량'}], 'coordinates': [], 'confidence': {'state': 'pre-added', 'who': ['user:slayerzeroa'], 'prob': 1}, 'fields': {}, 'normalizations': {}}, {'classId': 'e_6', 'part': 's1v1', 'offsets': [{'start': 19, 'text': '대차가'}], 'coordinates': [], 'confidence': {'state': 'pre-added', 'who': ['user:slayerzeroa'], 'prob': 1}, 'fields': {}, 'normalizations': {}}, {'classId': 'e_23', 'part': 's1v1', 'offsets': [{'start': 23, 'text': '선로'}], 'coordinates': [], 'confidence': {'state': 'pre-added', 'who': ['user:slayerzeroa'], 'prob': 1}, 'fields': {}, 'normalizations': {}}, {'classId': 'e_22', 'part': 's1v1', 'offsets': [{'start': 31, 'text': '탈선하였다'}], 'coordinates': [], 'confidence': {'state': 'pre-added', 'who': ['user:slayerzeroa'], 'prob': 1}, 'fields': {}, 'normalizations': {}}], 'relations': [{'classId': 'r_25', 'type': 'linked', 'directed': False, 'entities': ['s1v1|e_22|31,35', 's1v1|e_23|23,24'], 'confidence': {'state': 'pre-added', 'who': ['user:slayerzeroa'], 'prob': 1}}, {'classId': 'r_26', 'type': 'linked', 'directed': False, 'entities': ['s1v1|e_6|19,21', 's1v1|e_23|23,24'], 'confidence': {'state': 'pre-added', 'who': ['user:slayerzeroa'], 'prob': 1}}]}\n",
            "[{'classId': 'e_28', 'part': 's1v1', 'offsets': [{'start': 4, 'text': '차량'}], 'coordinates': [], 'confidence': {'state': 'pre-added', 'who': ['user:slayerzeroa'], 'prob': 1}, 'fields': {}, 'normalizations': {}}, {'classId': 'e_6', 'part': 's1v1', 'offsets': [{'start': 19, 'text': '대차가'}], 'coordinates': [], 'confidence': {'state': 'pre-added', 'who': ['user:slayerzeroa'], 'prob': 1}, 'fields': {}, 'normalizations': {}}, {'classId': 'e_23', 'part': 's1v1', 'offsets': [{'start': 23, 'text': '선로'}], 'coordinates': [], 'confidence': {'state': 'pre-added', 'who': ['user:slayerzeroa'], 'prob': 1}, 'fields': {}, 'normalizations': {}}, {'classId': 'e_22', 'part': 's1v1', 'offsets': [{'start': 31, 'text': '탈선하였다'}], 'coordinates': [], 'confidence': {'state': 'pre-added', 'who': ['user:slayerzeroa'], 'prob': 1}, 'fields': {}, 'normalizations': {}}]\n"
          ]
        }
      ]
    },
    {
      "cell_type": "code",
      "source": [
        "check_entity = dict()\n",
        "\n",
        "for i in test['entities']:\n",
        "  check_entity[i['offsets'][0]['text']] = i['classId']\n",
        "\n",
        "print(check_entity)"
      ],
      "metadata": {
        "colab": {
          "base_uri": "https://localhost:8080/"
        },
        "id": "jWG8GBcwyJ6q",
        "outputId": "a4fe95ee-d12d-4b33-bb3a-1aa07e2589af"
      },
      "execution_count": null,
      "outputs": [
        {
          "output_type": "stream",
          "name": "stdout",
          "text": [
            "{'차량': 'e_28', '대차가': 'e_6', '선로': 'e_23', '탈선하였다': 'e_22'}\n"
          ]
        }
      ]
    },
    {
      "cell_type": "code",
      "source": [
        "with open('/content/tagtog_relation_extraction/Railway_BERT/plain.html/pool/aYqDitzamGH6gW4K6Tv_k3cHoVgW-text.txt.plain.html', \"r\") as f:\n",
        "  sample = f.read()\n",
        "\n",
        "print(sample)"
      ],
      "metadata": {
        "colab": {
          "base_uri": "https://localhost:8080/"
        },
        "id": "RYOnU1lw0Nlh",
        "outputId": "7a099447-d41e-468c-fee6-f1c78dba4cae"
      },
      "execution_count": null,
      "outputs": [
        {
          "output_type": "stream",
          "name": "stdout",
          "text": [
            "<!DOCTYPE html >\n",
            "<html id=\"aYqDitzamGH6gW4K6Tv_k3cHoVgW-text.txt\" data-origid=\"text.txt\" class=\"anndoc\" data-anndoc-version=\"3.6\" lang=\"\" xml:lang=\"\" xmlns=\"http://www.w3.org/1999/xhtml\">\n",
            "  <head>\n",
            "    <meta charset=\"UTF-8\"/>\n",
            "    <meta name=\"generator\" content=\"net.tagtog.anndoc.v3.parsers.general.VerbatimParser_v1_0_1\"/>\n",
            "    <title>aYqDitzamGH6gW4K6Tv_k3cHoVgW-text.txt</title>\n",
            "  </head>\n",
            "  <body>\n",
            "    <article>\n",
            "      <section data-type=\"\">\n",
            "        <div class=\"content\">\n",
            "          <pre id=\"s1v1\">5번째 차량 ( 3513호 ) 앞 대차가 선로 우측으로 탈선하였다.</pre>\n",
            "        </div>\n",
            "      </section>\n",
            "    </article>\n",
            "  </body>\n",
            "</html>\n",
            "\n"
          ]
        }
      ]
    },
    {
      "cell_type": "code",
      "source": [],
      "metadata": {
        "id": "WFpe7h3V3dzX"
      },
      "execution_count": null,
      "outputs": []
    },
    {
      "cell_type": "code",
      "source": [
        "removing = remove_tag(sample)\n",
        "print(removing)"
      ],
      "metadata": {
        "colab": {
          "base_uri": "https://localhost:8080/"
        },
        "id": "6kcDUqR13lC0",
        "outputId": "963638de-9632-4800-a632-810c03d5dbe6"
      },
      "execution_count": null,
      "outputs": [
        {
          "output_type": "stream",
          "name": "stdout",
          "text": [
            "5번째 차량 ( 3513호 ) 앞 대차가 선로 우측으로 탈선하였다.\n"
          ]
        }
      ]
    },
    {
      "cell_type": "code",
      "source": [
        "check = word_tokenize(removing)"
      ],
      "metadata": {
        "id": "jmFxDAtB893Y"
      },
      "execution_count": null,
      "outputs": []
    },
    {
      "cell_type": "code",
      "source": [
        "print(check)"
      ],
      "metadata": {
        "colab": {
          "base_uri": "https://localhost:8080/"
        },
        "id": "c0skWE9Z9Cvd",
        "outputId": "59967e53-87dd-4a43-e182-c34db12004ed"
      },
      "execution_count": null,
      "outputs": [
        {
          "output_type": "stream",
          "name": "stdout",
          "text": [
            "['5번째', '차량', '(', '3513호', ')', '앞', '대차가', '선로', '우측으로', '탈선하였다', '.']\n"
          ]
        }
      ]
    },
    {
      "cell_type": "code",
      "source": [
        "checking_list = []\n",
        "\n",
        "for i in check:\n",
        "  if i in check_entity:\n",
        "    checking_list.append(annotations_legend[check_entity[i]])\n",
        "  if i not in check_entity:\n",
        "    checking_list.append('O')"
      ],
      "metadata": {
        "id": "pxszQKQb9Hnd"
      },
      "execution_count": null,
      "outputs": []
    },
    {
      "cell_type": "code",
      "source": [
        "print(checking_list)"
      ],
      "metadata": {
        "colab": {
          "base_uri": "https://localhost:8080/"
        },
        "id": "0Qr2ud2J-10Q",
        "outputId": "f7521b38-d0ea-400f-ac4e-5673b35311e1"
      },
      "execution_count": null,
      "outputs": [
        {
          "output_type": "stream",
          "name": "stdout",
          "text": [
            "['O', 'OBJECT', 'O', 'O', 'O', 'O', 'IMPLIED', 'SOLUTION', 'O', 'ACCIDENT', 'O']\n"
          ]
        }
      ]
    },
    {
      "cell_type": "code",
      "source": [
        "print(' '.join(checking_list))"
      ],
      "metadata": {
        "colab": {
          "base_uri": "https://localhost:8080/"
        },
        "id": "A3lFZEKL-5YP",
        "outputId": "773c9427-80e6-4537-c66c-9d9873839e29"
      },
      "execution_count": null,
      "outputs": [
        {
          "output_type": "stream",
          "name": "stdout",
          "text": [
            "O OBJECT O O O O IMPLIED SOLUTION O ACCIDENT O\n"
          ]
        }
      ]
    }
  ]
}