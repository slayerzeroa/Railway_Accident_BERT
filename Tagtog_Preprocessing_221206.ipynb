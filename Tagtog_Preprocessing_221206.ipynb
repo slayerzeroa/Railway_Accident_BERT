{
  "nbformat": 4,
  "nbformat_minor": 0,
  "metadata": {
    "colab": {
      "provenance": [],
      "authorship_tag": "ABX9TyNNTQWmNzjUyjckWd43CINh",
      "include_colab_link": true
    },
    "kernelspec": {
      "name": "python3",
      "display_name": "Python 3"
    },
    "language_info": {
      "name": "python"
    }
  },
  "cells": [
    {
      "cell_type": "markdown",
      "metadata": {
        "id": "view-in-github",
        "colab_type": "text"
      },
      "source": [
        "<a href=\"https://colab.research.google.com/github/slayerzeroa/Railway_Accident_BERT/blob/main/Tagtog_Preprocessing_221206.ipynb\" target=\"_parent\"><img src=\"https://colab.research.google.com/assets/colab-badge.svg\" alt=\"Open In Colab\"/></a>"
      ]
    },
    {
      "cell_type": "code",
      "execution_count": 1,
      "metadata": {
        "id": "jmpus_i-7MJl",
        "colab": {
          "base_uri": "https://localhost:8080/"
        },
        "outputId": "6a4b235d-22d2-48eb-efc8-101b71bd0619"
      },
      "outputs": [
        {
          "output_type": "stream",
          "name": "stdout",
          "text": [
            "Looking in indexes: https://pypi.org/simple, https://us-python.pkg.dev/colab-wheels/public/simple/\n",
            "Requirement already satisfied: gspread in /usr/local/lib/python3.8/dist-packages (3.4.2)\n",
            "Requirement already satisfied: requests>=2.2.1 in /usr/local/lib/python3.8/dist-packages (from gspread) (2.23.0)\n",
            "Requirement already satisfied: google-auth in /usr/local/lib/python3.8/dist-packages (from gspread) (2.14.1)\n",
            "Requirement already satisfied: chardet<4,>=3.0.2 in /usr/local/lib/python3.8/dist-packages (from requests>=2.2.1->gspread) (3.0.4)\n",
            "Requirement already satisfied: urllib3!=1.25.0,!=1.25.1,<1.26,>=1.21.1 in /usr/local/lib/python3.8/dist-packages (from requests>=2.2.1->gspread) (1.24.3)\n",
            "Requirement already satisfied: idna<3,>=2.5 in /usr/local/lib/python3.8/dist-packages (from requests>=2.2.1->gspread) (2.10)\n",
            "Requirement already satisfied: certifi>=2017.4.17 in /usr/local/lib/python3.8/dist-packages (from requests>=2.2.1->gspread) (2022.9.24)\n",
            "Requirement already satisfied: pyasn1-modules>=0.2.1 in /usr/local/lib/python3.8/dist-packages (from google-auth->gspread) (0.2.8)\n",
            "Requirement already satisfied: six>=1.9.0 in /usr/local/lib/python3.8/dist-packages (from google-auth->gspread) (1.15.0)\n",
            "Requirement already satisfied: rsa<5,>=3.1.4 in /usr/local/lib/python3.8/dist-packages (from google-auth->gspread) (4.9)\n",
            "Requirement already satisfied: cachetools<6.0,>=2.0.0 in /usr/local/lib/python3.8/dist-packages (from google-auth->gspread) (5.2.0)\n",
            "Requirement already satisfied: pyasn1<0.5.0,>=0.4.6 in /usr/local/lib/python3.8/dist-packages (from pyasn1-modules>=0.2.1->google-auth->gspread) (0.4.8)\n",
            "Looking in indexes: https://pypi.org/simple, https://us-python.pkg.dev/colab-wheels/public/simple/\n",
            "Requirement already satisfied: oauth2client in /usr/local/lib/python3.8/dist-packages (4.1.3)\n",
            "Requirement already satisfied: six>=1.6.1 in /usr/local/lib/python3.8/dist-packages (from oauth2client) (1.15.0)\n",
            "Requirement already satisfied: rsa>=3.1.4 in /usr/local/lib/python3.8/dist-packages (from oauth2client) (4.9)\n",
            "Requirement already satisfied: pyasn1>=0.1.7 in /usr/local/lib/python3.8/dist-packages (from oauth2client) (0.4.8)\n",
            "Requirement already satisfied: httplib2>=0.9.1 in /usr/local/lib/python3.8/dist-packages (from oauth2client) (0.17.4)\n",
            "Requirement already satisfied: pyasn1-modules>=0.0.5 in /usr/local/lib/python3.8/dist-packages (from oauth2client) (0.2.8)\n"
          ]
        }
      ],
      "source": [
        "!pip install gspread\n",
        "!pip install oauth2client"
      ]
    },
    {
      "cell_type": "code",
      "source": [
        "# 라이브러리\n",
        "import torch\n",
        "from torch import nn, optim, tensor\n",
        "from torch.utils.data import DataLoader, Dataset,TensorDataset, random_split\n",
        "import torch.nn.functional as F\n",
        "\n",
        "import numpy as np\n",
        "import pandas as pd\n",
        "import math\n",
        "import matplotlib.pyplot as plt\n",
        "\n",
        "from sklearn.model_selection import train_test_split, KFold\n",
        "from sklearn.metrics import accuracy_score, mean_squared_error\n",
        "\n",
        "# from transformers import BertTokenizer\n",
        "\n",
        "import json\n",
        "import glob\n",
        "import re\n",
        "import os\n",
        "import ast\n",
        "import html\n",
        "import requests\n",
        "\n",
        "import zipfile\n",
        "import shutil\n",
        "\n",
        "import pandas as pd\n",
        "\n",
        "from google.colab import files"
      ],
      "metadata": {
        "id": "CxnKD9Du8a6A"
      },
      "execution_count": 2,
      "outputs": []
    },
    {
      "cell_type": "markdown",
      "source": [
        "# Tagtog Log-In"
      ],
      "metadata": {
        "id": "oQQl_3O77_GV"
      }
    },
    {
      "cell_type": "code",
      "source": [
        "#로그인 위치\n",
        "url = \"https://tagtog.com/-login\"\n",
        "\n",
        "#다운로드 위치\n",
        "file_url = 'https://www.tagtog.com/slayerzeroa/Railway_BERT/-downloads/dataset-as-anndoc' \n",
        "o_file = 'Railway_Annotation.zip'  \n",
        "if os.path.exists(o_file):\n",
        "    os.remove(o_file)\n",
        "\n",
        "#로그인 정보\n",
        "login_info = {\n",
        "    'loginid' : 'slayerzeroa@gmail.com',\n",
        "    'password' : 'gyysxw5rU3NzrYX',\n",
        "}\n",
        "\n",
        "#로그인\n",
        "with requests.Session() as s:\n",
        "    login_req = s.post(url, data=login_info)\n",
        "    r = s.get(file_url)\n",
        "\n",
        "    with open(o_file,\"wb\") as output:\n",
        "        output.write(r.content)"
      ],
      "metadata": {
        "id": "MjgJQ4xYvb_t"
      },
      "execution_count": 3,
      "outputs": []
    },
    {
      "cell_type": "code",
      "source": [
        "#압축파일 풀기\n",
        "folder_path = \"./tagtog_relation_extraction/\"\n",
        "\n",
        "zip_ = zipfile.ZipFile(\"Railway_Annotation.zip\")\n",
        "if os.path.exists(folder_path):\n",
        "    shutil.rmtree(folder_path)\n",
        "zip_.extractall(folder_path)"
      ],
      "metadata": {
        "id": "dcy6zlWXzPwx"
      },
      "execution_count": 4,
      "outputs": []
    },
    {
      "cell_type": "code",
      "source": [
        "#폴더 경로\n",
        "folder_name = \"./tagtog_relation_extraction/Railway_BERT/\"\n",
        "\n",
        "#context list   # context == plain.html\n",
        "context_name_list = os.listdir(folder_name + \"plain.html/pool\")\n",
        "print(context_name_list)\n",
        "\n",
        "#relation 폴더 경로   # relation == ann.json\n",
        "relation_folder_paths = glob.glob(folder_name + \"ann.json/master/pool\")\n",
        "\n",
        "#context 폴더 경로\n",
        "# contexts_folders_paths = glob.glob(folder_name + \"plain.html/pool/*\")\n",
        "contexts_folders_paths = [folder_name + \"plain.html/pool/\" + c for c in context_name_list]\n",
        "\n",
        "#anntation_lenged 정보\n",
        "annotations_legend = folder_name + \"annotations-legend.json\"\n",
        "with open(annotations_legend,\"r\") as f:\n",
        "    annotations_legend = json.load(f)\n"
      ],
      "metadata": {
        "colab": {
          "base_uri": "https://localhost:8080/"
        },
        "id": "xjB4FYZNzWjd",
        "outputId": "bde50d5f-9f6f-4b72-bee0-9f5d3ab9ef95"
      },
      "execution_count": 5,
      "outputs": [
        {
          "output_type": "stream",
          "name": "stdout",
          "text": [
            "['awUyBdL4lPpVlBOPjSzMhAuRk81a-20181208.pdf.plain.html', 'aPSRwvP5rtizz2O093I3oFX9uzjS-20180818.pdf.plain.html', 'aVuARZFRfgJMD0E67Coa.7G8Z9Pe-20200226.pdf.plain.html', 'arqduk0rnomRe20HKEeXlVPK8qx8-20191022.pdf.plain.html', 'a3DnzcVSvJKG25OeznRpiW5zLgi8-sample.pdf.plain.html']\n"
          ]
        }
      ]
    },
    {
      "cell_type": "markdown",
      "source": [
        "# Tagtog Annotation json File Preprocessing"
      ],
      "metadata": {
        "id": "SySo6GhrvcXA"
      }
    },
    {
      "cell_type": "code",
      "source": [
        "def split_relation_start(text):\n",
        "  text = text.split('|')[-1]\n",
        "  start = text.split(',')[0]\n",
        "  start = int(start)\n",
        "  return start"
      ],
      "metadata": {
        "id": "_ZjHmbB95_F4"
      },
      "execution_count": 10,
      "outputs": []
    },
    {
      "cell_type": "code",
      "source": [
        "'''\n",
        "Loc : Sub, Obj 위치\n",
        "Cls : Sub, Obj 클래스\n",
        "Part : Sub, Obj html 상 문단\n",
        "Sub : Sub 내용\n",
        "Obj : Obj 내용\n",
        "Label : 관계 있으면 1 없으면 0\n",
        "Relation DataFrame Content\n",
        "'''\n",
        "for context_name, relation_folder, contexts_folder in zip(context_name_list, relation_folder_paths, contexts_folders_paths):\n",
        "    # relation files와 context files 리스트 출력\n",
        "    file_ids = [file_name for file_name in os.listdir(relation_folder)]\n",
        "    file_nums = [ids.split(\"-\")[1] for ids in file_ids]\n",
        "    relation_files = [relation_folder + \"/\"+ file_id for file_id in file_ids]\n",
        "    context_files = [contexts_folder for file_id in file_ids]\n",
        "    Rel_df = pd.DataFrame()\n",
        "    text_df = pd.DataFrame()\n",
        "    # Tagtog Annotation json 파일 데이터셋 전처리\n",
        "    for relation_file, context_file, file_num in zip(relation_files, context_files, file_nums):\n",
        "      with open(relation_file,\"r\") as f:\n",
        "        relation = json.load(f)\n",
        "        idx_list = []\n",
        "        classid_list = []\n",
        "        part_list = []\n",
        "        text_list = []\n",
        "        start_list = []\n",
        "        doc_list = []\n",
        "\n",
        "        for idx, content in enumerate(relation['entities']):\n",
        "          doc_list.append(str(file_num)[2:-13])\n",
        "          idx_list.append(idx)\n",
        "          classid_list.append(content['classId'])\n",
        "          part_list.append(content['part'])\n",
        "          text_list.append(content['offsets'][0]['text'])\n",
        "          start_list.append(content['offsets'][0]['start'])\n",
        "          text_df = text_df.append(pd.DataFrame(zip(doc_list, start_list, classid_list, part_list, text_list)))\n",
        "        df = pd.DataFrame(zip(idx_list, start_list, classid_list, part_list, text_list))\n",
        "        df.columns = ['Index', 'Start','Class', 'Part', 'Text']\n",
        "\n",
        "        doc_list = []\n",
        "        loc_list = []\n",
        "        cls_list = []\n",
        "        part_list = []\n",
        "        subject_list = []\n",
        "        object_list = []\n",
        "        label_list = []\n",
        "\n",
        "\n",
        "        for rel in relation['relations']:\n",
        "          subject = split_relation_start(rel['entities'][0])\n",
        "          subject_class = df.loc[df['Start']==subject]['Class'].values[0]\n",
        "          subject_part = df.loc[df['Start']==subject]['Part'].values[0]\n",
        "          subject_text = df.loc[df['Start']==subject]['Text'].values[0]\n",
        "          \n",
        "\n",
        "          object = split_relation_start(rel['entities'][1])\n",
        "          object_class = df.loc[df['Start']==object]['Class'].values[0]\n",
        "          object_part = df.loc[df['Start']==object]['Part'].values[0]\n",
        "          object_text = df.loc[df['Start']==object]['Text'].values[0]\n",
        "\n",
        "          loc = str(subject) + '_' + str(object)\n",
        "          cls = subject_class + '_' + object_class\n",
        "          part = subject_part + '_' + object_part\n",
        "\n",
        "          doc_list.append(str(file_num)[2:-13])\n",
        "          loc_list.append(loc)\n",
        "          cls_list.append(cls)\n",
        "          part_list.append(part)\n",
        "          subject_list.append(subject_text)\n",
        "          object_list.append(object_text)\n",
        "          label_list.append(1)\n",
        "          Rel_df = Rel_df.append(pd.DataFrame(zip(doc_list, loc_list, cls_list, part_list, subject_list, object_list, label_list)))\n",
        "\n",
        "Rel_df.columns = ['Doc', 'Loc', 'Cls', 'Part', 'Sub', 'Obj', 'Label']\n",
        "text_df.columns = ['Doc', 'Start','Class', 'Part', 'Text']\n",
        "print(Rel_df)\n",
        "print(text_df)"
      ],
      "metadata": {
        "colab": {
          "base_uri": "https://localhost:8080/"
        },
        "id": "XIjJlVvp0yF2",
        "outputId": "67ba3d6a-0398-4b30-bd58-17ac1760c6f0"
      },
      "execution_count": 67,
      "outputs": [
        {
          "output_type": "stream",
          "name": "stdout",
          "text": [
            "       Doc          Loc       Cls       Part  \\\n",
            "0   200226      228_112   e_6_e_4  s1p5_s1p5   \n",
            "0   200226      228_112   e_6_e_4  s1p5_s1p5   \n",
            "1   200226      279_112   e_6_e_4  s1p5_s1p5   \n",
            "0   200226      228_112   e_6_e_4  s1p5_s1p5   \n",
            "1   200226      279_112   e_6_e_4  s1p5_s1p5   \n",
            "..     ...          ...       ...        ...   \n",
            "4     mple    3394_3607  e_22_e_4  s1p5_s1p5   \n",
            "5     mple    3434_3607  e_22_e_4  s1p5_s1p5   \n",
            "6     mple    3455_3607  e_22_e_4  s1p5_s1p5   \n",
            "7     mple  13368_13094  e_23_e_6  s1p6_s1p6   \n",
            "8     mple  13525_13057  e_23_e_6  s1p6_s1p6   \n",
            "\n",
            "                                                  Sub  \\\n",
            "0      기지관제원이 선로전환기 할출 및 할입 사 고에 대한 업무 매뉴얼을 적용하지 않는 것   \n",
            "0      기지관제원이 선로전환기 할출 및 할입 사 고에 대한 업무 매뉴얼을 적용하지 않는 것   \n",
            "1   기지구내 선로의 선형이 입 환 작업시 출·입고 열차의 진로를 지장 하는 구조로 되어...   \n",
            "0      기지관제원이 선로전환기 할출 및 할입 사 고에 대한 업무 매뉴얼을 적용하지 않는 것   \n",
            "1   기지구내 선로의 선형이 입 환 작업시 출·입고 열차의 진로를 지장 하는 구조로 되어...   \n",
            "..                                                ...   \n",
            "4                 뒷 대차 첫 번째 차축과 두 번째 차축이 진행방향 좌측으로 탈선   \n",
            "5                                     좌 측 세 번째 차축이 절손   \n",
            "6                     탈선화차와 14번째 화차 사이의 공기호스 가 빠져있는 것   \n",
            "7   화차 차축 베어링의 분해검수 주기와 교환 주기를 화차에 적재되는 화 물의 종류, 적...   \n",
            "8   컨테이너를 화차에서 들어 올릴 때 화차가 함께 들어 올려지다 떨어지지 않도록 작업 ...   \n",
            "\n",
            "                                                  Obj  Label  \n",
            "0   기관사가 정지신호를 무시하고 운행하다가 선로전 환기를 할출한 후 관제원의 되돌이 운...      1  \n",
            "0   기관사가 정지신호를 무시하고 운행하다가 선로전 환기를 할출한 후 관제원의 되돌이 운...      1  \n",
            "1   기관사가 정지신호를 무시하고 운행하다가 선로전 환기를 할출한 후 관제원의 되돌이 운...      1  \n",
            "0   기관사가 정지신호를 무시하고 운행하다가 선로전 환기를 할출한 후 관제원의 되돌이 운...      1  \n",
            "1   기관사가 정지신호를 무시하고 운행하다가 선로전 환기를 할출한 후 관제원의 되돌이 운...      1  \n",
            "..                                                ...    ...  \n",
            "4   차축에 설치되어 있는 차축 베어링 외륜의 내면과 롤러에 결함이 있는 상태에서 운행 ...      1  \n",
            "5   차축에 설치되어 있는 차축 베어링 외륜의 내면과 롤러에 결함이 있는 상태에서 운행 ...      1  \n",
            "6   차축에 설치되어 있는 차축 베어링 외륜의 내면과 롤러에 결함이 있는 상태에서 운행 ...      1  \n",
            "7   차축 베어링의 분해검수 주기와 교환 주기가 화차에 적재되는 화 물의 종류, 적재방법...      1  \n",
            "8                 화차에 컨테이너를 싣고 내릴 때 차축 베어링에 충격이 가해진 것      1  \n",
            "\n",
            "[191 rows x 7 columns]\n",
            "       Doc  Start Class  Part  \\\n",
            "0   200226   3874  e_22  s1p4   \n",
            "0   200226   3874  e_22  s1p4   \n",
            "1   200226    112   e_4  s1p5   \n",
            "0   200226   3874  e_22  s1p4   \n",
            "1   200226    112   e_4  s1p5   \n",
            "..     ...    ...   ...   ...   \n",
            "9     mple  13368  e_23  s1p6   \n",
            "10    mple  13525  e_23  s1p6   \n",
            "11    mple  13608  e_23  s1p6   \n",
            "12    mple  13689  e_23  s1p6   \n",
            "13    mple  13763  e_23  s1p6   \n",
            "\n",
            "                                                 Text  \n",
            "0                 5번째 차량(3513호) 앞 대차가 선로 우측으 로 탈선하였다.  \n",
            "0                 5번째 차량(3513호) 앞 대차가 선로 우측으 로 탈선하였다.  \n",
            "1   기관사가 정지신호를 무시하고 운행하다가 선로전 환기를 할출한 후 관제원의 되돌이 운...  \n",
            "0                 5번째 차량(3513호) 앞 대차가 선로 우측으 로 탈선하였다.  \n",
            "1   기관사가 정지신호를 무시하고 운행하다가 선로전 환기를 할출한 후 관제원의 되돌이 운...  \n",
            "..                                                ...  \n",
            "9   화차 차축 베어링의 분해검수 주기와 교환 주기를 화차에 적재되는 화 물의 종류, 적...  \n",
            "10  컨테이너를 화차에서 들어 올릴 때 화차가 함께 들어 올려지다 떨어지지 않도록 작업 ...  \n",
            "11  화차의 발열 여부를 발견하기 위해 차축에 부착한 온도 테이프는 효과가 없는 것으로 ...  \n",
            "12  역근무자가 열차 감시 업무를 적정하게 수행할 수 있도록 열차감시용 영상감시설비의 확...  \n",
            "13     신형기관차로 열차를 편성하여 운행시 열차 후부를 쉽게 감시할 수 있 도록 개선할 것  \n",
            "\n",
            "[1393 rows x 5 columns]\n"
          ]
        }
      ]
    },
    {
      "cell_type": "code",
      "source": [
        "print(Rel_df)"
      ],
      "metadata": {
        "colab": {
          "base_uri": "https://localhost:8080/"
        },
        "id": "KdOmDXTY6nVa",
        "outputId": "33264bd6-07b2-4131-db76-35914ea62143"
      },
      "execution_count": null,
      "outputs": [
        {
          "output_type": "stream",
          "name": "stdout",
          "text": [
            "       Doc        Loc      Cls         Part  \\\n",
            "0   181208  4370_4249  e_6_e_4    s1p2_s1p2   \n",
            "0   181208  4370_4249  e_6_e_4    s1p2_s1p2   \n",
            "1   181208  4437_4249  e_6_e_4    s1p2_s1p2   \n",
            "0   181208  4370_4249  e_6_e_4    s1p2_s1p2   \n",
            "1   181208  4437_4249  e_6_e_4    s1p2_s1p2   \n",
            "..     ...        ...      ...          ...   \n",
            "2   200226     191_76  e_6_e_4  s1p17_s1p17   \n",
            "0   200226    228_112  e_6_e_4    s1p5_s1p5   \n",
            "1   200226    279_112  e_6_e_4    s1p5_s1p5   \n",
            "2   200226     191_76  e_6_e_4  s1p17_s1p17   \n",
            "3   200226     242_76  e_6_e_4  s1p17_s1p17   \n",
            "\n",
            "                                                  Sub  \\\n",
            "0   청량신호소 및 강릉차량기지 연동검사 과정 에서 21A호, 21B호 선로전환기가 반대...   \n",
            "0   청량신호소 및 강릉차량기지 연동검사 과정 에서 21A호, 21B호 선로전환기가 반대...   \n",
            "1   청량신호소 21A호, 21B호 선로전환기를 설계변경하고 설치․시공ㆍ감리 과 정에 변...   \n",
            "0   청량신호소 및 강릉차량기지 연동검사 과정 에서 21A호, 21B호 선로전환기가 반대...   \n",
            "1   청량신호소 21A호, 21B호 선로전환기를 설계변경하고 설치․시공ㆍ감리 과 정에 변...   \n",
            "..                                                ...   \n",
            "2      기지관제원이 선로전환기 할출 및 할입 사 고에 대한 업무 매뉴얼을 적용하지 않는 것   \n",
            "0      기지관제원이 선로전환기 할출 및 할입 사 고에 대한 업무 매뉴얼을 적용하지 않는 것   \n",
            "1   기지구내 선로의 선형이 입 환 작업시 출·입고 열차의 진로를 지장 하는 구조로 되어...   \n",
            "2      기지관제원이 선로전환기 할출 및 할입 사 고에 대한 업무 매뉴얼을 적용하지 않는 것   \n",
            "3   기지구내 선로의 선형이 입 환 작업시 출·입고 열차의 진로를 지장 하는 구조로 되어...   \n",
            "\n",
            "                                                  Obj  Label  \n",
            "0   청량신호소 출발신호기에 정지 신호가 현시되어야 함에도 불구하고 진행신호가 현시되도록...      1  \n",
            "0   청량신호소 출발신호기에 정지 신호가 현시되어야 함에도 불구하고 진행신호가 현시되도록...      1  \n",
            "1   청량신호소 출발신호기에 정지 신호가 현시되어야 함에도 불구하고 진행신호가 현시되도록...      1  \n",
            "0   청량신호소 출발신호기에 정지 신호가 현시되어야 함에도 불구하고 진행신호가 현시되도록...      1  \n",
            "1   청량신호소 출발신호기에 정지 신호가 현시되어야 함에도 불구하고 진행신호가 현시되도록...      1  \n",
            "..                                                ...    ...  \n",
            "2   기관사가 정지신호를 무시하고 운행하다가 선로전환기를 할출한 후 관제원의 되돌이 운전...      1  \n",
            "0   기관사가 정지신호를 무시하고 운행하다가 선로전 환기를 할출한 후 관제원의 되돌이 운...      1  \n",
            "1   기관사가 정지신호를 무시하고 운행하다가 선로전 환기를 할출한 후 관제원의 되돌이 운...      1  \n",
            "2   기관사가 정지신호를 무시하고 운행하다가 선로전환기를 할출한 후 관제원의 되돌이 운전...      1  \n",
            "3   기관사가 정지신호를 무시하고 운행하다가 선로전환기를 할출한 후 관제원의 되돌이 운전...      1  \n",
            "\n",
            "[191 rows x 7 columns]\n"
          ]
        }
      ]
    },
    {
      "cell_type": "code",
      "source": [
        "context_name, relation_folder, contexts_folder = context_name_list[0], relation_folder_paths[0], contexts_folders_paths[0]\n",
        "file_ids = os.listdir(relation_folder)[0]\n",
        "file_nums = file_ids.split(\"-\")[1]\n",
        "relation_files = relation_folder + \"/\"+ file_ids\n",
        "context_files = file_ids\n",
        "context_df = pd.DataFrame()\n",
        "\n",
        "with open(relation_files,\"r\") as f:\n",
        "  relation = json.load(f)\n",
        "  idx_list = []\n",
        "  classid_list = []\n",
        "  part_list = []\n",
        "  text_list = []\n",
        "  start_list = []\n",
        "\n",
        "for idx, content in enumerate(relation['entities']):\n",
        "  idx_list.append(idx)\n",
        "  classid_list.append(content['classId'])\n",
        "  part_list.append(content['part'])\n",
        "  text_list.append(content['offsets'][0]['text'])\n",
        "  start_list.append(content['offsets'][0]['start'])\n"
      ],
      "metadata": {
        "colab": {
          "base_uri": "https://localhost:8080/"
        },
        "id": "c1Eg4BHSWPR7",
        "outputId": "f687264c-602d-4716-f148-0490038709a2"
      },
      "execution_count": 9,
      "outputs": [
        {
          "output_type": "stream",
          "name": "stdout",
          "text": [
            "{'annotatable': {'parts': ['s1p1', 's1p2', 's1p3', 's1p4', 's1p5', 's1p6', 's1p7', 's1p8', 's1p9', 's1p10', 's1p11', 's1p12', 's1p13', 's1p14', 's1p15', 's1p16', 's1p17', 's1p18', 's1p19', 's1p20', 's1p21', 's1p22']}, 'anncomplete': True, 'sources': [], 'metas': {}, 'entities': [{'classId': 'e_22', 'part': 's1p4', 'offsets': [{'start': 3874, 'text': '5번째 차량(3513호) 앞 대차가 선로 우측으 로 탈선하였다.'}], 'coordinates': [], 'confidence': {'state': 'pre-added', 'who': ['user:slayerzeroa'], 'prob': 1}, 'fields': {}, 'normalizations': {}}, {'classId': 'e_4', 'part': 's1p5', 'offsets': [{'start': 112, 'text': '기관사가 정지신호를 무시하고 운행하다가 선로전 환기를 할출한 후 관제원의 되돌이 운전 지시를 받고, 선로전환기 상태를 확 인하지 않고 되돌이 운전을 시행한 것'}], 'coordinates': [], 'confidence': {'state': 'pre-added', 'who': ['user:slayerzeroa'], 'prob': 1}, 'fields': {}, 'normalizations': {}}, {'classId': 'e_6', 'part': 's1p5', 'offsets': [{'start': 228, 'text': '기지관제원이 선로전환기 할출 및 할입 사 고에 대한 업무 매뉴얼을 적용하지 않는 것'}], 'coordinates': [], 'confidence': {'state': 'pre-added', 'who': ['user:slayerzeroa'], 'prob': 1}, 'fields': {}, 'normalizations': {}}, {'classId': 'e_6', 'part': 's1p5', 'offsets': [{'start': 279, 'text': '기지구내 선로의 선형이 입 환 작업시 출·입고 열차의 진로를 지장 하는 구조로 되어 있는 것'}], 'coordinates': [], 'confidence': {'state': 'pre-added', 'who': ['user:slayerzeroa'], 'prob': 1}, 'fields': {}, 'normalizations': {}}, {'classId': 'e_4', 'part': 's1p17', 'offsets': [{'start': 76, 'text': '기관사가 정지신호를 무시하고 운행하다가 선로전환기를 할출한 후 관제원의 되돌이 운전 지시를 받고, 선로전환기 상태를 확인하지 않고 되돌이 운전을 시행한 것'}], 'coordinates': [], 'confidence': {'state': 'pre-added', 'who': ['user:slayerzeroa'], 'prob': 1}, 'fields': {}, 'normalizations': {}}, {'classId': 'e_6', 'part': 's1p17', 'offsets': [{'start': 191, 'text': '기지관제원이 선로전환기 할출 및 할입 사 고에 대한 업무 매뉴얼을 적용하지 않는 것'}], 'coordinates': [], 'confidence': {'state': 'pre-added', 'who': ['ml:regex', 'user:slayerzeroa'], 'prob': 1}, 'fields': {}, 'normalizations': {}}, {'classId': 'e_6', 'part': 's1p17', 'offsets': [{'start': 242, 'text': '기지구내 선로의 선형이 입 환 작업시 출·입고 열차의 진로를 지장 하는 구조로 되어 있는 것'}], 'coordinates': [], 'confidence': {'state': 'pre-added', 'who': ['ml:regex', 'user:slayerzeroa'], 'prob': 1}, 'fields': {}, 'normalizations': {}}, {'classId': 'e_23', 'part': 's1p19', 'offsets': [{'start': 181, 'text': '다음 사항을 포함하여 인적오류로 인한 사고를 예방하기 위한 종합대 책을 마련하여 시행할 것 - 기관사가 관제원 승인 없이 15Km/h스위치를 취급한 것, 정지신호를 무시하고 운행한 것. - 관제원이 「기지관제원 업무매뉴얼」을 확인하지 않고 기관사에게 되 돌이 운전을 지시한 것.'}], 'coordinates': [], 'confidence': {'state': 'pre-added', 'who': ['user:slayerzeroa'], 'prob': 1}, 'fields': {}, 'normalizations': {}}, {'classId': 'e_23', 'part': 's1p19', 'offsets': [{'start': 339, 'text': '관제원은 이례상황 발생시 업무매뉴얼에 의하여 관계자에게 지시할 수 있 도록 시행절차를 개선할 것.'}], 'coordinates': [], 'confidence': {'state': 'pre-added', 'who': ['user:slayerzeroa'], 'prob': 1}, 'fields': {}, 'normalizations': {}}, {'classId': 'e_23', 'part': 's1p19', 'offsets': [{'start': 400, 'text': '기관사에 대해 다음 사항을 개선하여 시행할 것. - 관제사 및 관제원 승인사항 및 지적확인환호의 명확한 시행 등에 대하 여 지도·교육·점검을 지속적으로 실시하고 그 결과를 기록 유지할 것. -「응급조치매뉴얼」에 ‘선로전환기 할출시 조치’ 내용을 추가하여 교육을 철저히 시행할 것.'}], 'coordinates': [], 'confidence': {'state': 'pre-added', 'who': ['user:slayerzeroa'], 'prob': 1}, 'fields': {}, 'normalizations': {}}, {'classId': 'e_23', 'part': 's1p19', 'offsets': [{'start': 563, 'text': '기지관제원에 대해 다음 사항을 개선하여 시행할 것. - 모든 차량기지에서 신호ㆍ진로 설정시 입·출고 열차와 차량 입환이 경 합될 때는 입·출고 열차에 대한 신호ㆍ진로를 먼저 취급하도록 구내운 전 취급절차(운전취급 우선순위)에 의할 것. - 사고처리 역량 향상을 위한 현장실습 시설이 갖추어질 때까지 사용빈 도가 낮거나 사용하지 않는 선로전환기 등의 시설물을 활용하여 전문 교육을 시행할 것.'}], 'coordinates': [], 'confidence': {'state': 'pre-added', 'who': ['user:slayerzeroa'], 'prob': 1}, 'fields': {}, 'normalizations': {}}, {'classId': 'e_23', 'part': 's1p20', 'offsets': [{'start': 45, 'text': '차량기지에서 입출고선 등 열차운행·차량입환 등으로 인하여 사용빈도 가 높은 개소의 선로전환기가 할출 등으로 기본레일과 첨단레일 간격 이 벌어지면 이를 검지하여 열차운행표시반에 표시할 수 있도록 설비 를 개선할 것.'}], 'coordinates': [], 'confidence': {'state': 'pre-added', 'who': ['user:slayerzeroa'], 'prob': 1}, 'fields': {}, 'normalizations': {}}, {'classId': 'e_23', 'part': 's1p20', 'offsets': [{'start': 171, 'text': '기관사가 정지신호를 무시하고 열차ㆍ차량을 운행할 경우 기지관제실 열차운행표시반에 경고음과 메시지 등 시청각적으로 인지될 수 있도록 개선 방안을 강구할 것.'}], 'coordinates': [], 'confidence': {'state': 'pre-added', 'who': ['user:slayerzeroa'], 'prob': 1}, 'fields': {}, 'normalizations': {}}], 'relations': [{'classId': 'r_19', 'type': 'linked', 'directed': False, 'entities': ['s1p5|e_6|228,273', 's1p5|e_4|112,199'], 'confidence': {'state': 'pre-added', 'who': ['user:slayerzeroa'], 'prob': 1}}, {'classId': 'r_19', 'type': 'linked', 'directed': False, 'entities': ['s1p5|e_6|279,329', 's1p5|e_4|112,199'], 'confidence': {'state': 'pre-added', 'who': ['user:slayerzeroa'], 'prob': 1}}, {'classId': 'r_19', 'type': 'linked', 'directed': False, 'entities': ['s1p17|e_6|191,236', 's1p17|e_4|76,161'], 'confidence': {'state': 'pre-added', 'who': ['user:slayerzeroa'], 'prob': 1}}, {'classId': 'r_19', 'type': 'linked', 'directed': False, 'entities': ['s1p17|e_6|242,292', 's1p17|e_4|76,161'], 'confidence': {'state': 'pre-added', 'who': ['user:slayerzeroa'], 'prob': 1}}]}\n"
          ]
        }
      ]
    },
    {
      "cell_type": "code",
      "source": [
        "print(text_df)"
      ],
      "metadata": {
        "colab": {
          "base_uri": "https://localhost:8080/"
        },
        "id": "kfJ6b6SZbgQD",
        "outputId": "e6c71ab9-0dae-41c8-8974-86d49f990e63"
      },
      "execution_count": 68,
      "outputs": [
        {
          "output_type": "stream",
          "name": "stdout",
          "text": [
            "       Doc  Start Class  Part  \\\n",
            "0   200226   3874  e_22  s1p4   \n",
            "0   200226   3874  e_22  s1p4   \n",
            "1   200226    112   e_4  s1p5   \n",
            "0   200226   3874  e_22  s1p4   \n",
            "1   200226    112   e_4  s1p5   \n",
            "..     ...    ...   ...   ...   \n",
            "9     mple  13368  e_23  s1p6   \n",
            "10    mple  13525  e_23  s1p6   \n",
            "11    mple  13608  e_23  s1p6   \n",
            "12    mple  13689  e_23  s1p6   \n",
            "13    mple  13763  e_23  s1p6   \n",
            "\n",
            "                                                 Text  \n",
            "0                 5번째 차량(3513호) 앞 대차가 선로 우측으 로 탈선하였다.  \n",
            "0                 5번째 차량(3513호) 앞 대차가 선로 우측으 로 탈선하였다.  \n",
            "1   기관사가 정지신호를 무시하고 운행하다가 선로전 환기를 할출한 후 관제원의 되돌이 운...  \n",
            "0                 5번째 차량(3513호) 앞 대차가 선로 우측으 로 탈선하였다.  \n",
            "1   기관사가 정지신호를 무시하고 운행하다가 선로전 환기를 할출한 후 관제원의 되돌이 운...  \n",
            "..                                                ...  \n",
            "9   화차 차축 베어링의 분해검수 주기와 교환 주기를 화차에 적재되는 화 물의 종류, 적...  \n",
            "10  컨테이너를 화차에서 들어 올릴 때 화차가 함께 들어 올려지다 떨어지지 않도록 작업 ...  \n",
            "11  화차의 발열 여부를 발견하기 위해 차축에 부착한 온도 테이프는 효과가 없는 것으로 ...  \n",
            "12  역근무자가 열차 감시 업무를 적정하게 수행할 수 있도록 열차감시용 영상감시설비의 확...  \n",
            "13     신형기관차로 열차를 편성하여 운행시 열차 후부를 쉽게 감시할 수 있 도록 개선할 것  \n",
            "\n",
            "[1393 rows x 5 columns]\n"
          ]
        }
      ]
    },
    {
      "cell_type": "markdown",
      "source": [
        "#Google Spreadsheet 연동"
      ],
      "metadata": {
        "id": "W1maNDsXoMWm"
      }
    },
    {
      "cell_type": "code",
      "source": [
        "# GOOGLE API KEY: json\n",
        "key = files.upload()"
      ],
      "metadata": {
        "colab": {
          "base_uri": "https://localhost:8080/",
          "height": 77
        },
        "id": "CJyAMQE7obp2",
        "outputId": "bee39f09-95f2-4469-8432-0f32f9253b99"
      },
      "execution_count": 14,
      "outputs": [
        {
          "output_type": "display_data",
          "data": {
            "text/plain": [
              "<IPython.core.display.HTML object>"
            ],
            "text/html": [
              "\n",
              "     <input type=\"file\" id=\"files-6956a618-5b8d-4745-be06-9acea839b0cd\" name=\"files[]\" multiple disabled\n",
              "        style=\"border:none\" />\n",
              "     <output id=\"result-6956a618-5b8d-4745-be06-9acea839b0cd\">\n",
              "      Upload widget is only available when the cell has been executed in the\n",
              "      current browser session. Please rerun this cell to enable.\n",
              "      </output>\n",
              "      <script>// Copyright 2017 Google LLC\n",
              "//\n",
              "// Licensed under the Apache License, Version 2.0 (the \"License\");\n",
              "// you may not use this file except in compliance with the License.\n",
              "// You may obtain a copy of the License at\n",
              "//\n",
              "//      http://www.apache.org/licenses/LICENSE-2.0\n",
              "//\n",
              "// Unless required by applicable law or agreed to in writing, software\n",
              "// distributed under the License is distributed on an \"AS IS\" BASIS,\n",
              "// WITHOUT WARRANTIES OR CONDITIONS OF ANY KIND, either express or implied.\n",
              "// See the License for the specific language governing permissions and\n",
              "// limitations under the License.\n",
              "\n",
              "/**\n",
              " * @fileoverview Helpers for google.colab Python module.\n",
              " */\n",
              "(function(scope) {\n",
              "function span(text, styleAttributes = {}) {\n",
              "  const element = document.createElement('span');\n",
              "  element.textContent = text;\n",
              "  for (const key of Object.keys(styleAttributes)) {\n",
              "    element.style[key] = styleAttributes[key];\n",
              "  }\n",
              "  return element;\n",
              "}\n",
              "\n",
              "// Max number of bytes which will be uploaded at a time.\n",
              "const MAX_PAYLOAD_SIZE = 100 * 1024;\n",
              "\n",
              "function _uploadFiles(inputId, outputId) {\n",
              "  const steps = uploadFilesStep(inputId, outputId);\n",
              "  const outputElement = document.getElementById(outputId);\n",
              "  // Cache steps on the outputElement to make it available for the next call\n",
              "  // to uploadFilesContinue from Python.\n",
              "  outputElement.steps = steps;\n",
              "\n",
              "  return _uploadFilesContinue(outputId);\n",
              "}\n",
              "\n",
              "// This is roughly an async generator (not supported in the browser yet),\n",
              "// where there are multiple asynchronous steps and the Python side is going\n",
              "// to poll for completion of each step.\n",
              "// This uses a Promise to block the python side on completion of each step,\n",
              "// then passes the result of the previous step as the input to the next step.\n",
              "function _uploadFilesContinue(outputId) {\n",
              "  const outputElement = document.getElementById(outputId);\n",
              "  const steps = outputElement.steps;\n",
              "\n",
              "  const next = steps.next(outputElement.lastPromiseValue);\n",
              "  return Promise.resolve(next.value.promise).then((value) => {\n",
              "    // Cache the last promise value to make it available to the next\n",
              "    // step of the generator.\n",
              "    outputElement.lastPromiseValue = value;\n",
              "    return next.value.response;\n",
              "  });\n",
              "}\n",
              "\n",
              "/**\n",
              " * Generator function which is called between each async step of the upload\n",
              " * process.\n",
              " * @param {string} inputId Element ID of the input file picker element.\n",
              " * @param {string} outputId Element ID of the output display.\n",
              " * @return {!Iterable<!Object>} Iterable of next steps.\n",
              " */\n",
              "function* uploadFilesStep(inputId, outputId) {\n",
              "  const inputElement = document.getElementById(inputId);\n",
              "  inputElement.disabled = false;\n",
              "\n",
              "  const outputElement = document.getElementById(outputId);\n",
              "  outputElement.innerHTML = '';\n",
              "\n",
              "  const pickedPromise = new Promise((resolve) => {\n",
              "    inputElement.addEventListener('change', (e) => {\n",
              "      resolve(e.target.files);\n",
              "    });\n",
              "  });\n",
              "\n",
              "  const cancel = document.createElement('button');\n",
              "  inputElement.parentElement.appendChild(cancel);\n",
              "  cancel.textContent = 'Cancel upload';\n",
              "  const cancelPromise = new Promise((resolve) => {\n",
              "    cancel.onclick = () => {\n",
              "      resolve(null);\n",
              "    };\n",
              "  });\n",
              "\n",
              "  // Wait for the user to pick the files.\n",
              "  const files = yield {\n",
              "    promise: Promise.race([pickedPromise, cancelPromise]),\n",
              "    response: {\n",
              "      action: 'starting',\n",
              "    }\n",
              "  };\n",
              "\n",
              "  cancel.remove();\n",
              "\n",
              "  // Disable the input element since further picks are not allowed.\n",
              "  inputElement.disabled = true;\n",
              "\n",
              "  if (!files) {\n",
              "    return {\n",
              "      response: {\n",
              "        action: 'complete',\n",
              "      }\n",
              "    };\n",
              "  }\n",
              "\n",
              "  for (const file of files) {\n",
              "    const li = document.createElement('li');\n",
              "    li.append(span(file.name, {fontWeight: 'bold'}));\n",
              "    li.append(span(\n",
              "        `(${file.type || 'n/a'}) - ${file.size} bytes, ` +\n",
              "        `last modified: ${\n",
              "            file.lastModifiedDate ? file.lastModifiedDate.toLocaleDateString() :\n",
              "                                    'n/a'} - `));\n",
              "    const percent = span('0% done');\n",
              "    li.appendChild(percent);\n",
              "\n",
              "    outputElement.appendChild(li);\n",
              "\n",
              "    const fileDataPromise = new Promise((resolve) => {\n",
              "      const reader = new FileReader();\n",
              "      reader.onload = (e) => {\n",
              "        resolve(e.target.result);\n",
              "      };\n",
              "      reader.readAsArrayBuffer(file);\n",
              "    });\n",
              "    // Wait for the data to be ready.\n",
              "    let fileData = yield {\n",
              "      promise: fileDataPromise,\n",
              "      response: {\n",
              "        action: 'continue',\n",
              "      }\n",
              "    };\n",
              "\n",
              "    // Use a chunked sending to avoid message size limits. See b/62115660.\n",
              "    let position = 0;\n",
              "    do {\n",
              "      const length = Math.min(fileData.byteLength - position, MAX_PAYLOAD_SIZE);\n",
              "      const chunk = new Uint8Array(fileData, position, length);\n",
              "      position += length;\n",
              "\n",
              "      const base64 = btoa(String.fromCharCode.apply(null, chunk));\n",
              "      yield {\n",
              "        response: {\n",
              "          action: 'append',\n",
              "          file: file.name,\n",
              "          data: base64,\n",
              "        },\n",
              "      };\n",
              "\n",
              "      let percentDone = fileData.byteLength === 0 ?\n",
              "          100 :\n",
              "          Math.round((position / fileData.byteLength) * 100);\n",
              "      percent.textContent = `${percentDone}% done`;\n",
              "\n",
              "    } while (position < fileData.byteLength);\n",
              "  }\n",
              "\n",
              "  // All done.\n",
              "  yield {\n",
              "    response: {\n",
              "      action: 'complete',\n",
              "    }\n",
              "  };\n",
              "}\n",
              "\n",
              "scope.google = scope.google || {};\n",
              "scope.google.colab = scope.google.colab || {};\n",
              "scope.google.colab._files = {\n",
              "  _uploadFiles,\n",
              "  _uploadFilesContinue,\n",
              "};\n",
              "})(self);\n",
              "</script> "
            ]
          },
          "metadata": {}
        },
        {
          "output_type": "stream",
          "name": "stdout",
          "text": [
            "Saving railway-tagtog-d24e6901ddb0.json to railway-tagtog-d24e6901ddb0.json\n"
          ]
        }
      ]
    },
    {
      "cell_type": "code",
      "source": [
        "import gspread\n",
        "from oauth2client.service_account import ServiceAccountCredentials\n",
        "\n",
        "scope = ['https://spreadsheets.google.com/feeds',\n",
        "         'https://www.googleapis.com/auth/drive']\n",
        "\n",
        "#json key file 위치\n",
        "json_file_name = './railway-tagtog-d24e6901ddb0.json'\n",
        "\n",
        "# json key file을 이용하여 접속\n",
        "credentials = ServiceAccountCredentials.from_json_keyfile_name(json_file_name, scope)\n",
        "gc = gspread.authorize(credentials)\n",
        "\n",
        "#구글 스프레드 시트 주소\n",
        "spreadsheet_url = \"https://docs.google.com/spreadsheets/d/1cpt2ad2pw0N2tC1H3MPtRAaZzFmgCh2If0gHOQKEIIo/edit#gid=0\"\n",
        "\n",
        "# 스프레드시트 문서 가져오기\n",
        "doc = gc.open_by_url(spreadsheet_url)\n",
        "## gc.create(spreadsheet_name) # 스프레드시트 생성\n",
        "\n",
        "\n",
        "#시트 선택하기\n",
        "sheet_name = \"annotation\"\n",
        "worksheet = doc.worksheet(sheet_name) #해당 시트가 있는 경우 불러오기\n",
        "## 403 error가 뜰 경우, google sheets API를 활성시켜줘야 함"
      ],
      "metadata": {
        "id": "sb4r11S1oUcY"
      },
      "execution_count": 15,
      "outputs": []
    },
    {
      "cell_type": "code",
      "source": [
        "print(Rel_df.iloc[0, 4])"
      ],
      "metadata": {
        "colab": {
          "base_uri": "https://localhost:8080/"
        },
        "id": "prRHEYQlR-2q",
        "outputId": "5efb0bef-ac00-4b14-b17c-1923b689bf91"
      },
      "execution_count": null,
      "outputs": [
        {
          "output_type": "stream",
          "name": "stdout",
          "text": [
            "청량신호소 및 강릉차량기지 연동검사 과정 에서 21A호, 21B호 선로전환기가 반대로 표시되는 것을 확인하지 못한 것\n"
          ]
        }
      ]
    },
    {
      "cell_type": "code",
      "source": [
        "# 시트의 모든 데이터 가져오기\n",
        "values = worksheet.get_all_values()\n",
        "header, rows = values[0], values[1:]\n",
        "data = pd.DataFrame(rows, columns=header)\n",
        "column_list = ['Doc', 'Loc', 'Cls', 'Part', 'Sub', 'Obj', 'Label']\n",
        "data = data[column_list]\n",
        "data.head()\n",
        "\n",
        "# 워크시트 범위 설정\n",
        "worksheet.resize(len(Rel_df)+1,10)\n",
        "list_range = f\"a2:g{len(Rel_df)+1}\"\n",
        "cell_list = worksheet.range(list_range)\n",
        "\n",
        "# 내용 작성\n",
        "for i in range(len(cell_list)//len(column_list)):\n",
        "    cell_list[(7*i)].value = str(Rel_df.iloc[i, 0])\n",
        "    cell_list[(7*i)+1].value = str(Rel_df.iloc[i, 1])\n",
        "    cell_list[(7*i)+2].value = str(Rel_df.iloc[i, 2])\n",
        "    cell_list[(7*i)+3].value = str(Rel_df.iloc[i, 3])\n",
        "    cell_list[(7*i)+4].value = str(Rel_df.iloc[i, 4])\n",
        "    cell_list[(7*i)+5].value = str(Rel_df.iloc[i, 5])\n",
        "    cell_list[(7*i)+6].value = int(Rel_df.iloc[i, 6])\n",
        "    \n",
        "worksheet.update_cells(cell_list)"
      ],
      "metadata": {
        "colab": {
          "base_uri": "https://localhost:8080/"
        },
        "id": "s3BFRhYLoXmW",
        "outputId": "e31ec2a2-9589-4394-ad9a-1cbeb5eabb39"
      },
      "execution_count": null,
      "outputs": [
        {
          "output_type": "execute_result",
          "data": {
            "text/plain": [
              "{'spreadsheetId': '1cpt2ad2pw0N2tC1H3MPtRAaZzFmgCh2If0gHOQKEIIo',\n",
              " 'updatedRange': 'annotation!A2:G192',\n",
              " 'updatedRows': 191,\n",
              " 'updatedColumns': 7,\n",
              " 'updatedCells': 1337}"
            ]
          },
          "metadata": {},
          "execution_count": 80
        }
      ]
    },
    {
      "cell_type": "code",
      "source": [
        "print(df)"
      ],
      "metadata": {
        "colab": {
          "base_uri": "https://localhost:8080/"
        },
        "id": "mw2ycDn4dUHJ",
        "outputId": "a28cfed8-b868-4f96-ef6f-51924cf0a96b"
      },
      "execution_count": 20,
      "outputs": [
        {
          "output_type": "stream",
          "name": "stdout",
          "text": [
            "    Index  Start Class  Part  \\\n",
            "0       0   3394  e_22  s1p5   \n",
            "1       1   3434  e_22  s1p5   \n",
            "2       2   3455  e_22  s1p5   \n",
            "3       3   3607   e_4  s1p5   \n",
            "4       4   3704   e_6  s1p5   \n",
            "5       5   3741   e_6  s1p5   \n",
            "6       6  12960   e_4  s1p6   \n",
            "7       7  13057   e_6  s1p6   \n",
            "8       8  13094   e_6  s1p6   \n",
            "9       9  13368  e_23  s1p6   \n",
            "10     10  13525  e_23  s1p6   \n",
            "11     11  13608  e_23  s1p6   \n",
            "12     12  13689  e_23  s1p6   \n",
            "13     13  13763  e_23  s1p6   \n",
            "\n",
            "                                                 Text  \n",
            "0                 뒷 대차 첫 번째 차축과 두 번째 차축이 진행방향 좌측으로 탈선  \n",
            "1                                     좌 측 세 번째 차축이 절손  \n",
            "2                     탈선화차와 14번째 화차 사이의 공기호스 가 빠져있는 것  \n",
            "3   차축에 설치되어 있는 차축 베어링 외륜의 내면과 롤러에 결함이 있는 상태에서 운행 ...  \n",
            "4                 화차에 컨테이너를 싣고 내릴 때 차축 베어링에 충격이 가해진 것  \n",
            "5   차축 베어링의 분해검수 주기와 교환 주기가 화차에 적재되는 화 물의 종류, 적재방법...  \n",
            "6   차축에 설치되어 있는 차축 베어링 외륜의 내면과 롤러에 결함이 있는 상태에서 운행 ...  \n",
            "7                 화차에 컨테이너를 싣고 내릴 때 차축 베어링에 충격이 가해진 것  \n",
            "8   차축 베어링의 분해검수 주기와 교환 주기가 화차에 적재되는 화 물의 종류, 적재방법...  \n",
            "9   화차 차축 베어링의 분해검수 주기와 교환 주기를 화차에 적재되는 화 물의 종류, 적...  \n",
            "10  컨테이너를 화차에서 들어 올릴 때 화차가 함께 들어 올려지다 떨어지지 않도록 작업 ...  \n",
            "11  화차의 발열 여부를 발견하기 위해 차축에 부착한 온도 테이프는 효과가 없는 것으로 ...  \n",
            "12  역근무자가 열차 감시 업무를 적정하게 수행할 수 있도록 열차감시용 영상감시설비의 확...  \n",
            "13     신형기관차로 열차를 편성하여 운행시 열차 후부를 쉽게 감시할 수 있 도록 개선할 것  \n"
          ]
        }
      ]
    },
    {
      "cell_type": "code",
      "source": [
        "print(context_df)"
      ],
      "metadata": {
        "colab": {
          "base_uri": "https://localhost:8080/"
        },
        "id": "ZJM9HoO_nkQf",
        "outputId": "bc73a9d6-4444-43a5-aab7-7dbfe193212b"
      },
      "execution_count": 65,
      "outputs": [
        {
          "output_type": "stream",
          "name": "stdout",
          "text": [
            "       Doc  Start Class  Part  \\\n",
            "0   200226   3874  e_22  s1p4   \n",
            "0   200226   3874  e_22  s1p4   \n",
            "1   200226    112   e_4  s1p5   \n",
            "0   200226   3874  e_22  s1p4   \n",
            "1   200226    112   e_4  s1p5   \n",
            "..     ...    ...   ...   ...   \n",
            "9     mple  13368  e_23  s1p6   \n",
            "10    mple  13525  e_23  s1p6   \n",
            "11    mple  13608  e_23  s1p6   \n",
            "12    mple  13689  e_23  s1p6   \n",
            "13    mple  13763  e_23  s1p6   \n",
            "\n",
            "                                                 Text  \n",
            "0                 5번째 차량(3513호) 앞 대차가 선로 우측으 로 탈선하였다.  \n",
            "0                 5번째 차량(3513호) 앞 대차가 선로 우측으 로 탈선하였다.  \n",
            "1   기관사가 정지신호를 무시하고 운행하다가 선로전 환기를 할출한 후 관제원의 되돌이 운...  \n",
            "0                 5번째 차량(3513호) 앞 대차가 선로 우측으 로 탈선하였다.  \n",
            "1   기관사가 정지신호를 무시하고 운행하다가 선로전 환기를 할출한 후 관제원의 되돌이 운...  \n",
            "..                                                ...  \n",
            "9   화차 차축 베어링의 분해검수 주기와 교환 주기를 화차에 적재되는 화 물의 종류, 적...  \n",
            "10  컨테이너를 화차에서 들어 올릴 때 화차가 함께 들어 올려지다 떨어지지 않도록 작업 ...  \n",
            "11  화차의 발열 여부를 발견하기 위해 차축에 부착한 온도 테이프는 효과가 없는 것으로 ...  \n",
            "12  역근무자가 열차 감시 업무를 적정하게 수행할 수 있도록 열차감시용 영상감시설비의 확...  \n",
            "13     신형기관차로 열차를 편성하여 운행시 열차 후부를 쉽게 감시할 수 있 도록 개선할 것  \n",
            "\n",
            "[1393 rows x 5 columns]\n"
          ]
        }
      ]
    },
    {
      "cell_type": "code",
      "source": [
        "#시트 선택하기\n",
        "sheet_name = \"context\"\n",
        "worksheet = doc.worksheet(sheet_name) #해당 시트가 있는 경우 불러오기\n",
        "## 403 error가 뜰 경우, google sheets API를 활성시켜줘야 함\n",
        "\n",
        "# 시트의 모든 데이터 가져오기\n",
        "values = worksheet.get_all_values()\n",
        "header, rows = values[0], values[1:]\n",
        "data = pd.DataFrame(rows, columns=header)\n",
        "column_list = ['Index', 'Start', 'Class', 'Part', 'Text']\n",
        "data.columns = column_list\n",
        "\n",
        "# 워크시트 범위 설정\n",
        "worksheet.resize(len(text_df)+1,10)\n",
        "list_range = f\"a2:e{len(text_df)+1}\"\n",
        "cell_list = worksheet.range(list_range)\n",
        "\n",
        "\n",
        "print(len(cell_list)//len(column_list))\n",
        "# 내용 작성\n",
        "for i in range(len(cell_list)//len(column_list)):\n",
        "    cell_list[(5*i)].value = str(text_df.iloc[i, 0])\n",
        "    cell_list[(5*i)+1].value = str(text_df.iloc[i, 1])\n",
        "    cell_list[(5*i)+2].value = str(text_df.iloc[i, 2])\n",
        "    cell_list[(5*i)+3].value = str(text_df.iloc[i, 3])\n",
        "    cell_list[(5*i)+4].value = str(text_df.iloc[i, 4])\n",
        "\n",
        "worksheet.update_cells(cell_list)"
      ],
      "metadata": {
        "id": "AbaggDWGQ927",
        "colab": {
          "base_uri": "https://localhost:8080/"
        },
        "outputId": "655cd61a-0e40-4bac-8bef-599e3d8224c5"
      },
      "execution_count": 70,
      "outputs": [
        {
          "output_type": "stream",
          "name": "stdout",
          "text": [
            "1393\n"
          ]
        },
        {
          "output_type": "execute_result",
          "data": {
            "text/plain": [
              "{'spreadsheetId': '1cpt2ad2pw0N2tC1H3MPtRAaZzFmgCh2If0gHOQKEIIo',\n",
              " 'updatedRange': 'context!A2:E1394',\n",
              " 'updatedRows': 1393,\n",
              " 'updatedColumns': 5,\n",
              " 'updatedCells': 6965}"
            ]
          },
          "metadata": {},
          "execution_count": 70
        }
      ]
    },
    {
      "cell_type": "code",
      "source": [],
      "metadata": {
        "id": "nUwX5WVBclNM"
      },
      "execution_count": null,
      "outputs": []
    }
  ]
}