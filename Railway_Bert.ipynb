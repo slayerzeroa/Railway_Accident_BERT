{
  "nbformat": 4,
  "nbformat_minor": 0,
  "metadata": {
    "colab": {
      "provenance": [],
      "collapsed_sections": [
        "1P37vclkjQU_",
        "CgsB3Uobaaan",
        "BRNlWX_lYKuC",
        "CvtIIJici-n-"
      ],
      "include_colab_link": true
    },
    "kernelspec": {
      "name": "python3",
      "display_name": "Python 3"
    },
    "language_info": {
      "name": "python"
    },
    "accelerator": "GPU",
    "gpuClass": "standard",
    "widgets": {
      "application/vnd.jupyter.widget-state+json": {
        "afa8642416864bdfbda17603a164b1d6": {
          "model_module": "@jupyter-widgets/controls",
          "model_name": "HBoxModel",
          "model_module_version": "1.5.0",
          "state": {
            "_dom_classes": [],
            "_model_module": "@jupyter-widgets/controls",
            "_model_module_version": "1.5.0",
            "_model_name": "HBoxModel",
            "_view_count": null,
            "_view_module": "@jupyter-widgets/controls",
            "_view_module_version": "1.5.0",
            "_view_name": "HBoxView",
            "box_style": "",
            "children": [
              "IPY_MODEL_4591d828450b4cb78ce1e573b0eb87eb",
              "IPY_MODEL_f5e4066e221a44bd96863d345ac2e503",
              "IPY_MODEL_7fbb3ada596b4989a3e366cd1f94a80d"
            ],
            "layout": "IPY_MODEL_a45b3f5fd025488f8513a33b994cded5"
          }
        },
        "4591d828450b4cb78ce1e573b0eb87eb": {
          "model_module": "@jupyter-widgets/controls",
          "model_name": "HTMLModel",
          "model_module_version": "1.5.0",
          "state": {
            "_dom_classes": [],
            "_model_module": "@jupyter-widgets/controls",
            "_model_module_version": "1.5.0",
            "_model_name": "HTMLModel",
            "_view_count": null,
            "_view_module": "@jupyter-widgets/controls",
            "_view_module_version": "1.5.0",
            "_view_name": "HTMLView",
            "description": "",
            "description_tooltip": null,
            "layout": "IPY_MODEL_b1d5205bf5304f20a19ed8acd62c3f65",
            "placeholder": "​",
            "style": "IPY_MODEL_292fa57b56e84968a276f65b6d7db820",
            "value": "Downloading: 100%"
          }
        },
        "f5e4066e221a44bd96863d345ac2e503": {
          "model_module": "@jupyter-widgets/controls",
          "model_name": "FloatProgressModel",
          "model_module_version": "1.5.0",
          "state": {
            "_dom_classes": [],
            "_model_module": "@jupyter-widgets/controls",
            "_model_module_version": "1.5.0",
            "_model_name": "FloatProgressModel",
            "_view_count": null,
            "_view_module": "@jupyter-widgets/controls",
            "_view_module_version": "1.5.0",
            "_view_name": "ProgressView",
            "bar_style": "success",
            "description": "",
            "description_tooltip": null,
            "layout": "IPY_MODEL_8f3e2eda0a3147cc97582f1b4f475fad",
            "max": 714314041,
            "min": 0,
            "orientation": "horizontal",
            "style": "IPY_MODEL_970ee9b96c6a4162aae5af483f4ce3cc",
            "value": 714314041
          }
        },
        "7fbb3ada596b4989a3e366cd1f94a80d": {
          "model_module": "@jupyter-widgets/controls",
          "model_name": "HTMLModel",
          "model_module_version": "1.5.0",
          "state": {
            "_dom_classes": [],
            "_model_module": "@jupyter-widgets/controls",
            "_model_module_version": "1.5.0",
            "_model_name": "HTMLModel",
            "_view_count": null,
            "_view_module": "@jupyter-widgets/controls",
            "_view_module_version": "1.5.0",
            "_view_name": "HTMLView",
            "description": "",
            "description_tooltip": null,
            "layout": "IPY_MODEL_977b562accc2426abf86f4d16319f4b7",
            "placeholder": "​",
            "style": "IPY_MODEL_f6d3ffecfdd246c39fd73654ff9b8256",
            "value": " 714M/714M [00:25&lt;00:00, 49.3MB/s]"
          }
        },
        "a45b3f5fd025488f8513a33b994cded5": {
          "model_module": "@jupyter-widgets/base",
          "model_name": "LayoutModel",
          "model_module_version": "1.2.0",
          "state": {
            "_model_module": "@jupyter-widgets/base",
            "_model_module_version": "1.2.0",
            "_model_name": "LayoutModel",
            "_view_count": null,
            "_view_module": "@jupyter-widgets/base",
            "_view_module_version": "1.2.0",
            "_view_name": "LayoutView",
            "align_content": null,
            "align_items": null,
            "align_self": null,
            "border": null,
            "bottom": null,
            "display": null,
            "flex": null,
            "flex_flow": null,
            "grid_area": null,
            "grid_auto_columns": null,
            "grid_auto_flow": null,
            "grid_auto_rows": null,
            "grid_column": null,
            "grid_gap": null,
            "grid_row": null,
            "grid_template_areas": null,
            "grid_template_columns": null,
            "grid_template_rows": null,
            "height": null,
            "justify_content": null,
            "justify_items": null,
            "left": null,
            "margin": null,
            "max_height": null,
            "max_width": null,
            "min_height": null,
            "min_width": null,
            "object_fit": null,
            "object_position": null,
            "order": null,
            "overflow": null,
            "overflow_x": null,
            "overflow_y": null,
            "padding": null,
            "right": null,
            "top": null,
            "visibility": null,
            "width": null
          }
        },
        "b1d5205bf5304f20a19ed8acd62c3f65": {
          "model_module": "@jupyter-widgets/base",
          "model_name": "LayoutModel",
          "model_module_version": "1.2.0",
          "state": {
            "_model_module": "@jupyter-widgets/base",
            "_model_module_version": "1.2.0",
            "_model_name": "LayoutModel",
            "_view_count": null,
            "_view_module": "@jupyter-widgets/base",
            "_view_module_version": "1.2.0",
            "_view_name": "LayoutView",
            "align_content": null,
            "align_items": null,
            "align_self": null,
            "border": null,
            "bottom": null,
            "display": null,
            "flex": null,
            "flex_flow": null,
            "grid_area": null,
            "grid_auto_columns": null,
            "grid_auto_flow": null,
            "grid_auto_rows": null,
            "grid_column": null,
            "grid_gap": null,
            "grid_row": null,
            "grid_template_areas": null,
            "grid_template_columns": null,
            "grid_template_rows": null,
            "height": null,
            "justify_content": null,
            "justify_items": null,
            "left": null,
            "margin": null,
            "max_height": null,
            "max_width": null,
            "min_height": null,
            "min_width": null,
            "object_fit": null,
            "object_position": null,
            "order": null,
            "overflow": null,
            "overflow_x": null,
            "overflow_y": null,
            "padding": null,
            "right": null,
            "top": null,
            "visibility": null,
            "width": null
          }
        },
        "292fa57b56e84968a276f65b6d7db820": {
          "model_module": "@jupyter-widgets/controls",
          "model_name": "DescriptionStyleModel",
          "model_module_version": "1.5.0",
          "state": {
            "_model_module": "@jupyter-widgets/controls",
            "_model_module_version": "1.5.0",
            "_model_name": "DescriptionStyleModel",
            "_view_count": null,
            "_view_module": "@jupyter-widgets/base",
            "_view_module_version": "1.2.0",
            "_view_name": "StyleView",
            "description_width": ""
          }
        },
        "8f3e2eda0a3147cc97582f1b4f475fad": {
          "model_module": "@jupyter-widgets/base",
          "model_name": "LayoutModel",
          "model_module_version": "1.2.0",
          "state": {
            "_model_module": "@jupyter-widgets/base",
            "_model_module_version": "1.2.0",
            "_model_name": "LayoutModel",
            "_view_count": null,
            "_view_module": "@jupyter-widgets/base",
            "_view_module_version": "1.2.0",
            "_view_name": "LayoutView",
            "align_content": null,
            "align_items": null,
            "align_self": null,
            "border": null,
            "bottom": null,
            "display": null,
            "flex": null,
            "flex_flow": null,
            "grid_area": null,
            "grid_auto_columns": null,
            "grid_auto_flow": null,
            "grid_auto_rows": null,
            "grid_column": null,
            "grid_gap": null,
            "grid_row": null,
            "grid_template_areas": null,
            "grid_template_columns": null,
            "grid_template_rows": null,
            "height": null,
            "justify_content": null,
            "justify_items": null,
            "left": null,
            "margin": null,
            "max_height": null,
            "max_width": null,
            "min_height": null,
            "min_width": null,
            "object_fit": null,
            "object_position": null,
            "order": null,
            "overflow": null,
            "overflow_x": null,
            "overflow_y": null,
            "padding": null,
            "right": null,
            "top": null,
            "visibility": null,
            "width": null
          }
        },
        "970ee9b96c6a4162aae5af483f4ce3cc": {
          "model_module": "@jupyter-widgets/controls",
          "model_name": "ProgressStyleModel",
          "model_module_version": "1.5.0",
          "state": {
            "_model_module": "@jupyter-widgets/controls",
            "_model_module_version": "1.5.0",
            "_model_name": "ProgressStyleModel",
            "_view_count": null,
            "_view_module": "@jupyter-widgets/base",
            "_view_module_version": "1.2.0",
            "_view_name": "StyleView",
            "bar_color": null,
            "description_width": ""
          }
        },
        "977b562accc2426abf86f4d16319f4b7": {
          "model_module": "@jupyter-widgets/base",
          "model_name": "LayoutModel",
          "model_module_version": "1.2.0",
          "state": {
            "_model_module": "@jupyter-widgets/base",
            "_model_module_version": "1.2.0",
            "_model_name": "LayoutModel",
            "_view_count": null,
            "_view_module": "@jupyter-widgets/base",
            "_view_module_version": "1.2.0",
            "_view_name": "LayoutView",
            "align_content": null,
            "align_items": null,
            "align_self": null,
            "border": null,
            "bottom": null,
            "display": null,
            "flex": null,
            "flex_flow": null,
            "grid_area": null,
            "grid_auto_columns": null,
            "grid_auto_flow": null,
            "grid_auto_rows": null,
            "grid_column": null,
            "grid_gap": null,
            "grid_row": null,
            "grid_template_areas": null,
            "grid_template_columns": null,
            "grid_template_rows": null,
            "height": null,
            "justify_content": null,
            "justify_items": null,
            "left": null,
            "margin": null,
            "max_height": null,
            "max_width": null,
            "min_height": null,
            "min_width": null,
            "object_fit": null,
            "object_position": null,
            "order": null,
            "overflow": null,
            "overflow_x": null,
            "overflow_y": null,
            "padding": null,
            "right": null,
            "top": null,
            "visibility": null,
            "width": null
          }
        },
        "f6d3ffecfdd246c39fd73654ff9b8256": {
          "model_module": "@jupyter-widgets/controls",
          "model_name": "DescriptionStyleModel",
          "model_module_version": "1.5.0",
          "state": {
            "_model_module": "@jupyter-widgets/controls",
            "_model_module_version": "1.5.0",
            "_model_name": "DescriptionStyleModel",
            "_view_count": null,
            "_view_module": "@jupyter-widgets/base",
            "_view_module_version": "1.2.0",
            "_view_name": "StyleView",
            "description_width": ""
          }
        },
        "43b1824f74854c8a82b377180c3755a8": {
          "model_module": "@jupyter-widgets/controls",
          "model_name": "HBoxModel",
          "model_module_version": "1.5.0",
          "state": {
            "_dom_classes": [],
            "_model_module": "@jupyter-widgets/controls",
            "_model_module_version": "1.5.0",
            "_model_name": "HBoxModel",
            "_view_count": null,
            "_view_module": "@jupyter-widgets/controls",
            "_view_module_version": "1.5.0",
            "_view_name": "HBoxView",
            "box_style": "",
            "children": [
              "IPY_MODEL_2b70a1fa1c564acebbb9adf97d5f4b7e",
              "IPY_MODEL_ca5d2298097e494dbf18e604d23e6b06",
              "IPY_MODEL_a31989b45c574d15a042f1c61d6e30ec"
            ],
            "layout": "IPY_MODEL_6c029eaa89804070a8d51a962bb6ed78"
          }
        },
        "2b70a1fa1c564acebbb9adf97d5f4b7e": {
          "model_module": "@jupyter-widgets/controls",
          "model_name": "HTMLModel",
          "model_module_version": "1.5.0",
          "state": {
            "_dom_classes": [],
            "_model_module": "@jupyter-widgets/controls",
            "_model_module_version": "1.5.0",
            "_model_name": "HTMLModel",
            "_view_count": null,
            "_view_module": "@jupyter-widgets/controls",
            "_view_module_version": "1.5.0",
            "_view_name": "HTMLView",
            "description": "",
            "description_tooltip": null,
            "layout": "IPY_MODEL_e4d41612b37644dcb8093d45df6443a5",
            "placeholder": "​",
            "style": "IPY_MODEL_b42a25b6137f4fb58f8cf22d18eee552",
            "value": "Downloading: 100%"
          }
        },
        "ca5d2298097e494dbf18e604d23e6b06": {
          "model_module": "@jupyter-widgets/controls",
          "model_name": "FloatProgressModel",
          "model_module_version": "1.5.0",
          "state": {
            "_dom_classes": [],
            "_model_module": "@jupyter-widgets/controls",
            "_model_module_version": "1.5.0",
            "_model_name": "FloatProgressModel",
            "_view_count": null,
            "_view_module": "@jupyter-widgets/controls",
            "_view_module_version": "1.5.0",
            "_view_name": "ProgressView",
            "bar_style": "success",
            "description": "",
            "description_tooltip": null,
            "layout": "IPY_MODEL_7f531ab3c7e34f319305336b54b60d55",
            "max": 29,
            "min": 0,
            "orientation": "horizontal",
            "style": "IPY_MODEL_f2941d4fc3f742efb7ad827c6aae37fa",
            "value": 29
          }
        },
        "a31989b45c574d15a042f1c61d6e30ec": {
          "model_module": "@jupyter-widgets/controls",
          "model_name": "HTMLModel",
          "model_module_version": "1.5.0",
          "state": {
            "_dom_classes": [],
            "_model_module": "@jupyter-widgets/controls",
            "_model_module_version": "1.5.0",
            "_model_name": "HTMLModel",
            "_view_count": null,
            "_view_module": "@jupyter-widgets/controls",
            "_view_module_version": "1.5.0",
            "_view_name": "HTMLView",
            "description": "",
            "description_tooltip": null,
            "layout": "IPY_MODEL_362d43d2a6b34557a46cb4dfbd7b9531",
            "placeholder": "​",
            "style": "IPY_MODEL_56ea1d63e44145d48ecfe9a4d7934142",
            "value": " 29.0/29.0 [00:00&lt;00:00, 969B/s]"
          }
        },
        "6c029eaa89804070a8d51a962bb6ed78": {
          "model_module": "@jupyter-widgets/base",
          "model_name": "LayoutModel",
          "model_module_version": "1.2.0",
          "state": {
            "_model_module": "@jupyter-widgets/base",
            "_model_module_version": "1.2.0",
            "_model_name": "LayoutModel",
            "_view_count": null,
            "_view_module": "@jupyter-widgets/base",
            "_view_module_version": "1.2.0",
            "_view_name": "LayoutView",
            "align_content": null,
            "align_items": null,
            "align_self": null,
            "border": null,
            "bottom": null,
            "display": null,
            "flex": null,
            "flex_flow": null,
            "grid_area": null,
            "grid_auto_columns": null,
            "grid_auto_flow": null,
            "grid_auto_rows": null,
            "grid_column": null,
            "grid_gap": null,
            "grid_row": null,
            "grid_template_areas": null,
            "grid_template_columns": null,
            "grid_template_rows": null,
            "height": null,
            "justify_content": null,
            "justify_items": null,
            "left": null,
            "margin": null,
            "max_height": null,
            "max_width": null,
            "min_height": null,
            "min_width": null,
            "object_fit": null,
            "object_position": null,
            "order": null,
            "overflow": null,
            "overflow_x": null,
            "overflow_y": null,
            "padding": null,
            "right": null,
            "top": null,
            "visibility": null,
            "width": null
          }
        },
        "e4d41612b37644dcb8093d45df6443a5": {
          "model_module": "@jupyter-widgets/base",
          "model_name": "LayoutModel",
          "model_module_version": "1.2.0",
          "state": {
            "_model_module": "@jupyter-widgets/base",
            "_model_module_version": "1.2.0",
            "_model_name": "LayoutModel",
            "_view_count": null,
            "_view_module": "@jupyter-widgets/base",
            "_view_module_version": "1.2.0",
            "_view_name": "LayoutView",
            "align_content": null,
            "align_items": null,
            "align_self": null,
            "border": null,
            "bottom": null,
            "display": null,
            "flex": null,
            "flex_flow": null,
            "grid_area": null,
            "grid_auto_columns": null,
            "grid_auto_flow": null,
            "grid_auto_rows": null,
            "grid_column": null,
            "grid_gap": null,
            "grid_row": null,
            "grid_template_areas": null,
            "grid_template_columns": null,
            "grid_template_rows": null,
            "height": null,
            "justify_content": null,
            "justify_items": null,
            "left": null,
            "margin": null,
            "max_height": null,
            "max_width": null,
            "min_height": null,
            "min_width": null,
            "object_fit": null,
            "object_position": null,
            "order": null,
            "overflow": null,
            "overflow_x": null,
            "overflow_y": null,
            "padding": null,
            "right": null,
            "top": null,
            "visibility": null,
            "width": null
          }
        },
        "b42a25b6137f4fb58f8cf22d18eee552": {
          "model_module": "@jupyter-widgets/controls",
          "model_name": "DescriptionStyleModel",
          "model_module_version": "1.5.0",
          "state": {
            "_model_module": "@jupyter-widgets/controls",
            "_model_module_version": "1.5.0",
            "_model_name": "DescriptionStyleModel",
            "_view_count": null,
            "_view_module": "@jupyter-widgets/base",
            "_view_module_version": "1.2.0",
            "_view_name": "StyleView",
            "description_width": ""
          }
        },
        "7f531ab3c7e34f319305336b54b60d55": {
          "model_module": "@jupyter-widgets/base",
          "model_name": "LayoutModel",
          "model_module_version": "1.2.0",
          "state": {
            "_model_module": "@jupyter-widgets/base",
            "_model_module_version": "1.2.0",
            "_model_name": "LayoutModel",
            "_view_count": null,
            "_view_module": "@jupyter-widgets/base",
            "_view_module_version": "1.2.0",
            "_view_name": "LayoutView",
            "align_content": null,
            "align_items": null,
            "align_self": null,
            "border": null,
            "bottom": null,
            "display": null,
            "flex": null,
            "flex_flow": null,
            "grid_area": null,
            "grid_auto_columns": null,
            "grid_auto_flow": null,
            "grid_auto_rows": null,
            "grid_column": null,
            "grid_gap": null,
            "grid_row": null,
            "grid_template_areas": null,
            "grid_template_columns": null,
            "grid_template_rows": null,
            "height": null,
            "justify_content": null,
            "justify_items": null,
            "left": null,
            "margin": null,
            "max_height": null,
            "max_width": null,
            "min_height": null,
            "min_width": null,
            "object_fit": null,
            "object_position": null,
            "order": null,
            "overflow": null,
            "overflow_x": null,
            "overflow_y": null,
            "padding": null,
            "right": null,
            "top": null,
            "visibility": null,
            "width": null
          }
        },
        "f2941d4fc3f742efb7ad827c6aae37fa": {
          "model_module": "@jupyter-widgets/controls",
          "model_name": "ProgressStyleModel",
          "model_module_version": "1.5.0",
          "state": {
            "_model_module": "@jupyter-widgets/controls",
            "_model_module_version": "1.5.0",
            "_model_name": "ProgressStyleModel",
            "_view_count": null,
            "_view_module": "@jupyter-widgets/base",
            "_view_module_version": "1.2.0",
            "_view_name": "StyleView",
            "bar_color": null,
            "description_width": ""
          }
        },
        "362d43d2a6b34557a46cb4dfbd7b9531": {
          "model_module": "@jupyter-widgets/base",
          "model_name": "LayoutModel",
          "model_module_version": "1.2.0",
          "state": {
            "_model_module": "@jupyter-widgets/base",
            "_model_module_version": "1.2.0",
            "_model_name": "LayoutModel",
            "_view_count": null,
            "_view_module": "@jupyter-widgets/base",
            "_view_module_version": "1.2.0",
            "_view_name": "LayoutView",
            "align_content": null,
            "align_items": null,
            "align_self": null,
            "border": null,
            "bottom": null,
            "display": null,
            "flex": null,
            "flex_flow": null,
            "grid_area": null,
            "grid_auto_columns": null,
            "grid_auto_flow": null,
            "grid_auto_rows": null,
            "grid_column": null,
            "grid_gap": null,
            "grid_row": null,
            "grid_template_areas": null,
            "grid_template_columns": null,
            "grid_template_rows": null,
            "height": null,
            "justify_content": null,
            "justify_items": null,
            "left": null,
            "margin": null,
            "max_height": null,
            "max_width": null,
            "min_height": null,
            "min_width": null,
            "object_fit": null,
            "object_position": null,
            "order": null,
            "overflow": null,
            "overflow_x": null,
            "overflow_y": null,
            "padding": null,
            "right": null,
            "top": null,
            "visibility": null,
            "width": null
          }
        },
        "56ea1d63e44145d48ecfe9a4d7934142": {
          "model_module": "@jupyter-widgets/controls",
          "model_name": "DescriptionStyleModel",
          "model_module_version": "1.5.0",
          "state": {
            "_model_module": "@jupyter-widgets/controls",
            "_model_module_version": "1.5.0",
            "_model_name": "DescriptionStyleModel",
            "_view_count": null,
            "_view_module": "@jupyter-widgets/base",
            "_view_module_version": "1.2.0",
            "_view_name": "StyleView",
            "description_width": ""
          }
        },
        "efd5929eff5d4753ac177dff0a82eca9": {
          "model_module": "@jupyter-widgets/controls",
          "model_name": "HBoxModel",
          "model_module_version": "1.5.0",
          "state": {
            "_dom_classes": [],
            "_model_module": "@jupyter-widgets/controls",
            "_model_module_version": "1.5.0",
            "_model_name": "HBoxModel",
            "_view_count": null,
            "_view_module": "@jupyter-widgets/controls",
            "_view_module_version": "1.5.0",
            "_view_name": "HBoxView",
            "box_style": "",
            "children": [
              "IPY_MODEL_f7b74080bb8c4c2cb9505593c58b5e10",
              "IPY_MODEL_f5f5c10e71f84aa89b4f9136847bbff9",
              "IPY_MODEL_5e3e551f334949f4a6f8afcb7c680ca6"
            ],
            "layout": "IPY_MODEL_35096f14093e45bf88d656da471b9ed5"
          }
        },
        "f7b74080bb8c4c2cb9505593c58b5e10": {
          "model_module": "@jupyter-widgets/controls",
          "model_name": "HTMLModel",
          "model_module_version": "1.5.0",
          "state": {
            "_dom_classes": [],
            "_model_module": "@jupyter-widgets/controls",
            "_model_module_version": "1.5.0",
            "_model_name": "HTMLModel",
            "_view_count": null,
            "_view_module": "@jupyter-widgets/controls",
            "_view_module_version": "1.5.0",
            "_view_name": "HTMLView",
            "description": "",
            "description_tooltip": null,
            "layout": "IPY_MODEL_bd2bb6841d454cb4891bdd4450c48627",
            "placeholder": "​",
            "style": "IPY_MODEL_1d0ce140fb064b228287e8c484ea1f20",
            "value": "Downloading: 100%"
          }
        },
        "f5f5c10e71f84aa89b4f9136847bbff9": {
          "model_module": "@jupyter-widgets/controls",
          "model_name": "FloatProgressModel",
          "model_module_version": "1.5.0",
          "state": {
            "_dom_classes": [],
            "_model_module": "@jupyter-widgets/controls",
            "_model_module_version": "1.5.0",
            "_model_name": "FloatProgressModel",
            "_view_count": null,
            "_view_module": "@jupyter-widgets/controls",
            "_view_module_version": "1.5.0",
            "_view_name": "ProgressView",
            "bar_style": "success",
            "description": "",
            "description_tooltip": null,
            "layout": "IPY_MODEL_584b99c02fe94ec4be43afaea6a5853e",
            "max": 995526,
            "min": 0,
            "orientation": "horizontal",
            "style": "IPY_MODEL_2fe8b35b506d4eca948f9f3e3c2bc8e7",
            "value": 995526
          }
        },
        "5e3e551f334949f4a6f8afcb7c680ca6": {
          "model_module": "@jupyter-widgets/controls",
          "model_name": "HTMLModel",
          "model_module_version": "1.5.0",
          "state": {
            "_dom_classes": [],
            "_model_module": "@jupyter-widgets/controls",
            "_model_module_version": "1.5.0",
            "_model_name": "HTMLModel",
            "_view_count": null,
            "_view_module": "@jupyter-widgets/controls",
            "_view_module_version": "1.5.0",
            "_view_name": "HTMLView",
            "description": "",
            "description_tooltip": null,
            "layout": "IPY_MODEL_295c0de55dd946e5930a8d47c6d7f269",
            "placeholder": "​",
            "style": "IPY_MODEL_07f062c86b88427c984c4201f83a7e36",
            "value": " 996k/996k [00:00&lt;00:00, 5.48MB/s]"
          }
        },
        "35096f14093e45bf88d656da471b9ed5": {
          "model_module": "@jupyter-widgets/base",
          "model_name": "LayoutModel",
          "model_module_version": "1.2.0",
          "state": {
            "_model_module": "@jupyter-widgets/base",
            "_model_module_version": "1.2.0",
            "_model_name": "LayoutModel",
            "_view_count": null,
            "_view_module": "@jupyter-widgets/base",
            "_view_module_version": "1.2.0",
            "_view_name": "LayoutView",
            "align_content": null,
            "align_items": null,
            "align_self": null,
            "border": null,
            "bottom": null,
            "display": null,
            "flex": null,
            "flex_flow": null,
            "grid_area": null,
            "grid_auto_columns": null,
            "grid_auto_flow": null,
            "grid_auto_rows": null,
            "grid_column": null,
            "grid_gap": null,
            "grid_row": null,
            "grid_template_areas": null,
            "grid_template_columns": null,
            "grid_template_rows": null,
            "height": null,
            "justify_content": null,
            "justify_items": null,
            "left": null,
            "margin": null,
            "max_height": null,
            "max_width": null,
            "min_height": null,
            "min_width": null,
            "object_fit": null,
            "object_position": null,
            "order": null,
            "overflow": null,
            "overflow_x": null,
            "overflow_y": null,
            "padding": null,
            "right": null,
            "top": null,
            "visibility": null,
            "width": null
          }
        },
        "bd2bb6841d454cb4891bdd4450c48627": {
          "model_module": "@jupyter-widgets/base",
          "model_name": "LayoutModel",
          "model_module_version": "1.2.0",
          "state": {
            "_model_module": "@jupyter-widgets/base",
            "_model_module_version": "1.2.0",
            "_model_name": "LayoutModel",
            "_view_count": null,
            "_view_module": "@jupyter-widgets/base",
            "_view_module_version": "1.2.0",
            "_view_name": "LayoutView",
            "align_content": null,
            "align_items": null,
            "align_self": null,
            "border": null,
            "bottom": null,
            "display": null,
            "flex": null,
            "flex_flow": null,
            "grid_area": null,
            "grid_auto_columns": null,
            "grid_auto_flow": null,
            "grid_auto_rows": null,
            "grid_column": null,
            "grid_gap": null,
            "grid_row": null,
            "grid_template_areas": null,
            "grid_template_columns": null,
            "grid_template_rows": null,
            "height": null,
            "justify_content": null,
            "justify_items": null,
            "left": null,
            "margin": null,
            "max_height": null,
            "max_width": null,
            "min_height": null,
            "min_width": null,
            "object_fit": null,
            "object_position": null,
            "order": null,
            "overflow": null,
            "overflow_x": null,
            "overflow_y": null,
            "padding": null,
            "right": null,
            "top": null,
            "visibility": null,
            "width": null
          }
        },
        "1d0ce140fb064b228287e8c484ea1f20": {
          "model_module": "@jupyter-widgets/controls",
          "model_name": "DescriptionStyleModel",
          "model_module_version": "1.5.0",
          "state": {
            "_model_module": "@jupyter-widgets/controls",
            "_model_module_version": "1.5.0",
            "_model_name": "DescriptionStyleModel",
            "_view_count": null,
            "_view_module": "@jupyter-widgets/base",
            "_view_module_version": "1.2.0",
            "_view_name": "StyleView",
            "description_width": ""
          }
        },
        "584b99c02fe94ec4be43afaea6a5853e": {
          "model_module": "@jupyter-widgets/base",
          "model_name": "LayoutModel",
          "model_module_version": "1.2.0",
          "state": {
            "_model_module": "@jupyter-widgets/base",
            "_model_module_version": "1.2.0",
            "_model_name": "LayoutModel",
            "_view_count": null,
            "_view_module": "@jupyter-widgets/base",
            "_view_module_version": "1.2.0",
            "_view_name": "LayoutView",
            "align_content": null,
            "align_items": null,
            "align_self": null,
            "border": null,
            "bottom": null,
            "display": null,
            "flex": null,
            "flex_flow": null,
            "grid_area": null,
            "grid_auto_columns": null,
            "grid_auto_flow": null,
            "grid_auto_rows": null,
            "grid_column": null,
            "grid_gap": null,
            "grid_row": null,
            "grid_template_areas": null,
            "grid_template_columns": null,
            "grid_template_rows": null,
            "height": null,
            "justify_content": null,
            "justify_items": null,
            "left": null,
            "margin": null,
            "max_height": null,
            "max_width": null,
            "min_height": null,
            "min_width": null,
            "object_fit": null,
            "object_position": null,
            "order": null,
            "overflow": null,
            "overflow_x": null,
            "overflow_y": null,
            "padding": null,
            "right": null,
            "top": null,
            "visibility": null,
            "width": null
          }
        },
        "2fe8b35b506d4eca948f9f3e3c2bc8e7": {
          "model_module": "@jupyter-widgets/controls",
          "model_name": "ProgressStyleModel",
          "model_module_version": "1.5.0",
          "state": {
            "_model_module": "@jupyter-widgets/controls",
            "_model_module_version": "1.5.0",
            "_model_name": "ProgressStyleModel",
            "_view_count": null,
            "_view_module": "@jupyter-widgets/base",
            "_view_module_version": "1.2.0",
            "_view_name": "StyleView",
            "bar_color": null,
            "description_width": ""
          }
        },
        "295c0de55dd946e5930a8d47c6d7f269": {
          "model_module": "@jupyter-widgets/base",
          "model_name": "LayoutModel",
          "model_module_version": "1.2.0",
          "state": {
            "_model_module": "@jupyter-widgets/base",
            "_model_module_version": "1.2.0",
            "_model_name": "LayoutModel",
            "_view_count": null,
            "_view_module": "@jupyter-widgets/base",
            "_view_module_version": "1.2.0",
            "_view_name": "LayoutView",
            "align_content": null,
            "align_items": null,
            "align_self": null,
            "border": null,
            "bottom": null,
            "display": null,
            "flex": null,
            "flex_flow": null,
            "grid_area": null,
            "grid_auto_columns": null,
            "grid_auto_flow": null,
            "grid_auto_rows": null,
            "grid_column": null,
            "grid_gap": null,
            "grid_row": null,
            "grid_template_areas": null,
            "grid_template_columns": null,
            "grid_template_rows": null,
            "height": null,
            "justify_content": null,
            "justify_items": null,
            "left": null,
            "margin": null,
            "max_height": null,
            "max_width": null,
            "min_height": null,
            "min_width": null,
            "object_fit": null,
            "object_position": null,
            "order": null,
            "overflow": null,
            "overflow_x": null,
            "overflow_y": null,
            "padding": null,
            "right": null,
            "top": null,
            "visibility": null,
            "width": null
          }
        },
        "07f062c86b88427c984c4201f83a7e36": {
          "model_module": "@jupyter-widgets/controls",
          "model_name": "DescriptionStyleModel",
          "model_module_version": "1.5.0",
          "state": {
            "_model_module": "@jupyter-widgets/controls",
            "_model_module_version": "1.5.0",
            "_model_name": "DescriptionStyleModel",
            "_view_count": null,
            "_view_module": "@jupyter-widgets/base",
            "_view_module_version": "1.2.0",
            "_view_name": "StyleView",
            "description_width": ""
          }
        },
        "33d1857a32184fbeb3f606c3748a5e37": {
          "model_module": "@jupyter-widgets/controls",
          "model_name": "HBoxModel",
          "model_module_version": "1.5.0",
          "state": {
            "_dom_classes": [],
            "_model_module": "@jupyter-widgets/controls",
            "_model_module_version": "1.5.0",
            "_model_name": "HBoxModel",
            "_view_count": null,
            "_view_module": "@jupyter-widgets/controls",
            "_view_module_version": "1.5.0",
            "_view_name": "HBoxView",
            "box_style": "",
            "children": [
              "IPY_MODEL_12a7c1cee30f47148c6423fe0bb67d26",
              "IPY_MODEL_028e8249121d4f1888977d3492ba4924",
              "IPY_MODEL_e5224eb2b4ee4e4f8e5a0bce2eaea2e9"
            ],
            "layout": "IPY_MODEL_521cd537b4ea425aaf1eaff75b7aa48a"
          }
        },
        "12a7c1cee30f47148c6423fe0bb67d26": {
          "model_module": "@jupyter-widgets/controls",
          "model_name": "HTMLModel",
          "model_module_version": "1.5.0",
          "state": {
            "_dom_classes": [],
            "_model_module": "@jupyter-widgets/controls",
            "_model_module_version": "1.5.0",
            "_model_name": "HTMLModel",
            "_view_count": null,
            "_view_module": "@jupyter-widgets/controls",
            "_view_module_version": "1.5.0",
            "_view_name": "HTMLView",
            "description": "",
            "description_tooltip": null,
            "layout": "IPY_MODEL_5d7e26a4f99649c9a46efa0e3e6268ff",
            "placeholder": "​",
            "style": "IPY_MODEL_4e6ed272194e44a68ea479c99b92622d",
            "value": "Downloading: 100%"
          }
        },
        "028e8249121d4f1888977d3492ba4924": {
          "model_module": "@jupyter-widgets/controls",
          "model_name": "FloatProgressModel",
          "model_module_version": "1.5.0",
          "state": {
            "_dom_classes": [],
            "_model_module": "@jupyter-widgets/controls",
            "_model_module_version": "1.5.0",
            "_model_name": "FloatProgressModel",
            "_view_count": null,
            "_view_module": "@jupyter-widgets/controls",
            "_view_module_version": "1.5.0",
            "_view_name": "ProgressView",
            "bar_style": "success",
            "description": "",
            "description_tooltip": null,
            "layout": "IPY_MODEL_95878b97abcf4262993de1604185f922",
            "max": 1961828,
            "min": 0,
            "orientation": "horizontal",
            "style": "IPY_MODEL_124f55ae32f044d7ba4da26b06cabe6b",
            "value": 1961828
          }
        },
        "e5224eb2b4ee4e4f8e5a0bce2eaea2e9": {
          "model_module": "@jupyter-widgets/controls",
          "model_name": "HTMLModel",
          "model_module_version": "1.5.0",
          "state": {
            "_dom_classes": [],
            "_model_module": "@jupyter-widgets/controls",
            "_model_module_version": "1.5.0",
            "_model_name": "HTMLModel",
            "_view_count": null,
            "_view_module": "@jupyter-widgets/controls",
            "_view_module_version": "1.5.0",
            "_view_name": "HTMLView",
            "description": "",
            "description_tooltip": null,
            "layout": "IPY_MODEL_0ed517b463a9449cbce97a723aba2e05",
            "placeholder": "​",
            "style": "IPY_MODEL_65df6aa4eae54c20b45cfeaa8c96c04e",
            "value": " 1.96M/1.96M [00:00&lt;00:00, 2.77MB/s]"
          }
        },
        "521cd537b4ea425aaf1eaff75b7aa48a": {
          "model_module": "@jupyter-widgets/base",
          "model_name": "LayoutModel",
          "model_module_version": "1.2.0",
          "state": {
            "_model_module": "@jupyter-widgets/base",
            "_model_module_version": "1.2.0",
            "_model_name": "LayoutModel",
            "_view_count": null,
            "_view_module": "@jupyter-widgets/base",
            "_view_module_version": "1.2.0",
            "_view_name": "LayoutView",
            "align_content": null,
            "align_items": null,
            "align_self": null,
            "border": null,
            "bottom": null,
            "display": null,
            "flex": null,
            "flex_flow": null,
            "grid_area": null,
            "grid_auto_columns": null,
            "grid_auto_flow": null,
            "grid_auto_rows": null,
            "grid_column": null,
            "grid_gap": null,
            "grid_row": null,
            "grid_template_areas": null,
            "grid_template_columns": null,
            "grid_template_rows": null,
            "height": null,
            "justify_content": null,
            "justify_items": null,
            "left": null,
            "margin": null,
            "max_height": null,
            "max_width": null,
            "min_height": null,
            "min_width": null,
            "object_fit": null,
            "object_position": null,
            "order": null,
            "overflow": null,
            "overflow_x": null,
            "overflow_y": null,
            "padding": null,
            "right": null,
            "top": null,
            "visibility": null,
            "width": null
          }
        },
        "5d7e26a4f99649c9a46efa0e3e6268ff": {
          "model_module": "@jupyter-widgets/base",
          "model_name": "LayoutModel",
          "model_module_version": "1.2.0",
          "state": {
            "_model_module": "@jupyter-widgets/base",
            "_model_module_version": "1.2.0",
            "_model_name": "LayoutModel",
            "_view_count": null,
            "_view_module": "@jupyter-widgets/base",
            "_view_module_version": "1.2.0",
            "_view_name": "LayoutView",
            "align_content": null,
            "align_items": null,
            "align_self": null,
            "border": null,
            "bottom": null,
            "display": null,
            "flex": null,
            "flex_flow": null,
            "grid_area": null,
            "grid_auto_columns": null,
            "grid_auto_flow": null,
            "grid_auto_rows": null,
            "grid_column": null,
            "grid_gap": null,
            "grid_row": null,
            "grid_template_areas": null,
            "grid_template_columns": null,
            "grid_template_rows": null,
            "height": null,
            "justify_content": null,
            "justify_items": null,
            "left": null,
            "margin": null,
            "max_height": null,
            "max_width": null,
            "min_height": null,
            "min_width": null,
            "object_fit": null,
            "object_position": null,
            "order": null,
            "overflow": null,
            "overflow_x": null,
            "overflow_y": null,
            "padding": null,
            "right": null,
            "top": null,
            "visibility": null,
            "width": null
          }
        },
        "4e6ed272194e44a68ea479c99b92622d": {
          "model_module": "@jupyter-widgets/controls",
          "model_name": "DescriptionStyleModel",
          "model_module_version": "1.5.0",
          "state": {
            "_model_module": "@jupyter-widgets/controls",
            "_model_module_version": "1.5.0",
            "_model_name": "DescriptionStyleModel",
            "_view_count": null,
            "_view_module": "@jupyter-widgets/base",
            "_view_module_version": "1.2.0",
            "_view_name": "StyleView",
            "description_width": ""
          }
        },
        "95878b97abcf4262993de1604185f922": {
          "model_module": "@jupyter-widgets/base",
          "model_name": "LayoutModel",
          "model_module_version": "1.2.0",
          "state": {
            "_model_module": "@jupyter-widgets/base",
            "_model_module_version": "1.2.0",
            "_model_name": "LayoutModel",
            "_view_count": null,
            "_view_module": "@jupyter-widgets/base",
            "_view_module_version": "1.2.0",
            "_view_name": "LayoutView",
            "align_content": null,
            "align_items": null,
            "align_self": null,
            "border": null,
            "bottom": null,
            "display": null,
            "flex": null,
            "flex_flow": null,
            "grid_area": null,
            "grid_auto_columns": null,
            "grid_auto_flow": null,
            "grid_auto_rows": null,
            "grid_column": null,
            "grid_gap": null,
            "grid_row": null,
            "grid_template_areas": null,
            "grid_template_columns": null,
            "grid_template_rows": null,
            "height": null,
            "justify_content": null,
            "justify_items": null,
            "left": null,
            "margin": null,
            "max_height": null,
            "max_width": null,
            "min_height": null,
            "min_width": null,
            "object_fit": null,
            "object_position": null,
            "order": null,
            "overflow": null,
            "overflow_x": null,
            "overflow_y": null,
            "padding": null,
            "right": null,
            "top": null,
            "visibility": null,
            "width": null
          }
        },
        "124f55ae32f044d7ba4da26b06cabe6b": {
          "model_module": "@jupyter-widgets/controls",
          "model_name": "ProgressStyleModel",
          "model_module_version": "1.5.0",
          "state": {
            "_model_module": "@jupyter-widgets/controls",
            "_model_module_version": "1.5.0",
            "_model_name": "ProgressStyleModel",
            "_view_count": null,
            "_view_module": "@jupyter-widgets/base",
            "_view_module_version": "1.2.0",
            "_view_name": "StyleView",
            "bar_color": null,
            "description_width": ""
          }
        },
        "0ed517b463a9449cbce97a723aba2e05": {
          "model_module": "@jupyter-widgets/base",
          "model_name": "LayoutModel",
          "model_module_version": "1.2.0",
          "state": {
            "_model_module": "@jupyter-widgets/base",
            "_model_module_version": "1.2.0",
            "_model_name": "LayoutModel",
            "_view_count": null,
            "_view_module": "@jupyter-widgets/base",
            "_view_module_version": "1.2.0",
            "_view_name": "LayoutView",
            "align_content": null,
            "align_items": null,
            "align_self": null,
            "border": null,
            "bottom": null,
            "display": null,
            "flex": null,
            "flex_flow": null,
            "grid_area": null,
            "grid_auto_columns": null,
            "grid_auto_flow": null,
            "grid_auto_rows": null,
            "grid_column": null,
            "grid_gap": null,
            "grid_row": null,
            "grid_template_areas": null,
            "grid_template_columns": null,
            "grid_template_rows": null,
            "height": null,
            "justify_content": null,
            "justify_items": null,
            "left": null,
            "margin": null,
            "max_height": null,
            "max_width": null,
            "min_height": null,
            "min_width": null,
            "object_fit": null,
            "object_position": null,
            "order": null,
            "overflow": null,
            "overflow_x": null,
            "overflow_y": null,
            "padding": null,
            "right": null,
            "top": null,
            "visibility": null,
            "width": null
          }
        },
        "65df6aa4eae54c20b45cfeaa8c96c04e": {
          "model_module": "@jupyter-widgets/controls",
          "model_name": "DescriptionStyleModel",
          "model_module_version": "1.5.0",
          "state": {
            "_model_module": "@jupyter-widgets/controls",
            "_model_module_version": "1.5.0",
            "_model_name": "DescriptionStyleModel",
            "_view_count": null,
            "_view_module": "@jupyter-widgets/base",
            "_view_module_version": "1.2.0",
            "_view_name": "StyleView",
            "description_width": ""
          }
        },
        "2d19d86ce61148ca875ccfd7973b8bd0": {
          "model_module": "@jupyter-widgets/controls",
          "model_name": "HBoxModel",
          "model_module_version": "1.5.0",
          "state": {
            "_dom_classes": [],
            "_model_module": "@jupyter-widgets/controls",
            "_model_module_version": "1.5.0",
            "_model_name": "HBoxModel",
            "_view_count": null,
            "_view_module": "@jupyter-widgets/controls",
            "_view_module_version": "1.5.0",
            "_view_name": "HBoxView",
            "box_style": "",
            "children": [
              "IPY_MODEL_591f1d70df9a48638ab60ee8b8cbae41",
              "IPY_MODEL_ce134c18d8ff4be39283a6127cd959f8",
              "IPY_MODEL_5ce85ef51f9a47f3acb987bf42eee3a8"
            ],
            "layout": "IPY_MODEL_4c020bc4423341f496ae77a8c486653b"
          }
        },
        "591f1d70df9a48638ab60ee8b8cbae41": {
          "model_module": "@jupyter-widgets/controls",
          "model_name": "HTMLModel",
          "model_module_version": "1.5.0",
          "state": {
            "_dom_classes": [],
            "_model_module": "@jupyter-widgets/controls",
            "_model_module_version": "1.5.0",
            "_model_name": "HTMLModel",
            "_view_count": null,
            "_view_module": "@jupyter-widgets/controls",
            "_view_module_version": "1.5.0",
            "_view_name": "HTMLView",
            "description": "",
            "description_tooltip": null,
            "layout": "IPY_MODEL_b4b17a8aad17419d9a79c26181eac319",
            "placeholder": "​",
            "style": "IPY_MODEL_37b1423ea7a442f19fc76d9d3e80a2dc",
            "value": "Downloading: 100%"
          }
        },
        "ce134c18d8ff4be39283a6127cd959f8": {
          "model_module": "@jupyter-widgets/controls",
          "model_name": "FloatProgressModel",
          "model_module_version": "1.5.0",
          "state": {
            "_dom_classes": [],
            "_model_module": "@jupyter-widgets/controls",
            "_model_module_version": "1.5.0",
            "_model_name": "FloatProgressModel",
            "_view_count": null,
            "_view_module": "@jupyter-widgets/controls",
            "_view_module_version": "1.5.0",
            "_view_name": "ProgressView",
            "bar_style": "success",
            "description": "",
            "description_tooltip": null,
            "layout": "IPY_MODEL_3ac5b627b8fb42f1bbaf8985644513c2",
            "max": 625,
            "min": 0,
            "orientation": "horizontal",
            "style": "IPY_MODEL_fc0c5b92017f4fbd8ef4f4ca4b7caea0",
            "value": 625
          }
        },
        "5ce85ef51f9a47f3acb987bf42eee3a8": {
          "model_module": "@jupyter-widgets/controls",
          "model_name": "HTMLModel",
          "model_module_version": "1.5.0",
          "state": {
            "_dom_classes": [],
            "_model_module": "@jupyter-widgets/controls",
            "_model_module_version": "1.5.0",
            "_model_name": "HTMLModel",
            "_view_count": null,
            "_view_module": "@jupyter-widgets/controls",
            "_view_module_version": "1.5.0",
            "_view_name": "HTMLView",
            "description": "",
            "description_tooltip": null,
            "layout": "IPY_MODEL_508d7201b32a474babc66aee7bba9225",
            "placeholder": "​",
            "style": "IPY_MODEL_0677b70d4dad4371ab0ec33f31422205",
            "value": " 625/625 [00:00&lt;00:00, 19.0kB/s]"
          }
        },
        "4c020bc4423341f496ae77a8c486653b": {
          "model_module": "@jupyter-widgets/base",
          "model_name": "LayoutModel",
          "model_module_version": "1.2.0",
          "state": {
            "_model_module": "@jupyter-widgets/base",
            "_model_module_version": "1.2.0",
            "_model_name": "LayoutModel",
            "_view_count": null,
            "_view_module": "@jupyter-widgets/base",
            "_view_module_version": "1.2.0",
            "_view_name": "LayoutView",
            "align_content": null,
            "align_items": null,
            "align_self": null,
            "border": null,
            "bottom": null,
            "display": null,
            "flex": null,
            "flex_flow": null,
            "grid_area": null,
            "grid_auto_columns": null,
            "grid_auto_flow": null,
            "grid_auto_rows": null,
            "grid_column": null,
            "grid_gap": null,
            "grid_row": null,
            "grid_template_areas": null,
            "grid_template_columns": null,
            "grid_template_rows": null,
            "height": null,
            "justify_content": null,
            "justify_items": null,
            "left": null,
            "margin": null,
            "max_height": null,
            "max_width": null,
            "min_height": null,
            "min_width": null,
            "object_fit": null,
            "object_position": null,
            "order": null,
            "overflow": null,
            "overflow_x": null,
            "overflow_y": null,
            "padding": null,
            "right": null,
            "top": null,
            "visibility": null,
            "width": null
          }
        },
        "b4b17a8aad17419d9a79c26181eac319": {
          "model_module": "@jupyter-widgets/base",
          "model_name": "LayoutModel",
          "model_module_version": "1.2.0",
          "state": {
            "_model_module": "@jupyter-widgets/base",
            "_model_module_version": "1.2.0",
            "_model_name": "LayoutModel",
            "_view_count": null,
            "_view_module": "@jupyter-widgets/base",
            "_view_module_version": "1.2.0",
            "_view_name": "LayoutView",
            "align_content": null,
            "align_items": null,
            "align_self": null,
            "border": null,
            "bottom": null,
            "display": null,
            "flex": null,
            "flex_flow": null,
            "grid_area": null,
            "grid_auto_columns": null,
            "grid_auto_flow": null,
            "grid_auto_rows": null,
            "grid_column": null,
            "grid_gap": null,
            "grid_row": null,
            "grid_template_areas": null,
            "grid_template_columns": null,
            "grid_template_rows": null,
            "height": null,
            "justify_content": null,
            "justify_items": null,
            "left": null,
            "margin": null,
            "max_height": null,
            "max_width": null,
            "min_height": null,
            "min_width": null,
            "object_fit": null,
            "object_position": null,
            "order": null,
            "overflow": null,
            "overflow_x": null,
            "overflow_y": null,
            "padding": null,
            "right": null,
            "top": null,
            "visibility": null,
            "width": null
          }
        },
        "37b1423ea7a442f19fc76d9d3e80a2dc": {
          "model_module": "@jupyter-widgets/controls",
          "model_name": "DescriptionStyleModel",
          "model_module_version": "1.5.0",
          "state": {
            "_model_module": "@jupyter-widgets/controls",
            "_model_module_version": "1.5.0",
            "_model_name": "DescriptionStyleModel",
            "_view_count": null,
            "_view_module": "@jupyter-widgets/base",
            "_view_module_version": "1.2.0",
            "_view_name": "StyleView",
            "description_width": ""
          }
        },
        "3ac5b627b8fb42f1bbaf8985644513c2": {
          "model_module": "@jupyter-widgets/base",
          "model_name": "LayoutModel",
          "model_module_version": "1.2.0",
          "state": {
            "_model_module": "@jupyter-widgets/base",
            "_model_module_version": "1.2.0",
            "_model_name": "LayoutModel",
            "_view_count": null,
            "_view_module": "@jupyter-widgets/base",
            "_view_module_version": "1.2.0",
            "_view_name": "LayoutView",
            "align_content": null,
            "align_items": null,
            "align_self": null,
            "border": null,
            "bottom": null,
            "display": null,
            "flex": null,
            "flex_flow": null,
            "grid_area": null,
            "grid_auto_columns": null,
            "grid_auto_flow": null,
            "grid_auto_rows": null,
            "grid_column": null,
            "grid_gap": null,
            "grid_row": null,
            "grid_template_areas": null,
            "grid_template_columns": null,
            "grid_template_rows": null,
            "height": null,
            "justify_content": null,
            "justify_items": null,
            "left": null,
            "margin": null,
            "max_height": null,
            "max_width": null,
            "min_height": null,
            "min_width": null,
            "object_fit": null,
            "object_position": null,
            "order": null,
            "overflow": null,
            "overflow_x": null,
            "overflow_y": null,
            "padding": null,
            "right": null,
            "top": null,
            "visibility": null,
            "width": null
          }
        },
        "fc0c5b92017f4fbd8ef4f4ca4b7caea0": {
          "model_module": "@jupyter-widgets/controls",
          "model_name": "ProgressStyleModel",
          "model_module_version": "1.5.0",
          "state": {
            "_model_module": "@jupyter-widgets/controls",
            "_model_module_version": "1.5.0",
            "_model_name": "ProgressStyleModel",
            "_view_count": null,
            "_view_module": "@jupyter-widgets/base",
            "_view_module_version": "1.2.0",
            "_view_name": "StyleView",
            "bar_color": null,
            "description_width": ""
          }
        },
        "508d7201b32a474babc66aee7bba9225": {
          "model_module": "@jupyter-widgets/base",
          "model_name": "LayoutModel",
          "model_module_version": "1.2.0",
          "state": {
            "_model_module": "@jupyter-widgets/base",
            "_model_module_version": "1.2.0",
            "_model_name": "LayoutModel",
            "_view_count": null,
            "_view_module": "@jupyter-widgets/base",
            "_view_module_version": "1.2.0",
            "_view_name": "LayoutView",
            "align_content": null,
            "align_items": null,
            "align_self": null,
            "border": null,
            "bottom": null,
            "display": null,
            "flex": null,
            "flex_flow": null,
            "grid_area": null,
            "grid_auto_columns": null,
            "grid_auto_flow": null,
            "grid_auto_rows": null,
            "grid_column": null,
            "grid_gap": null,
            "grid_row": null,
            "grid_template_areas": null,
            "grid_template_columns": null,
            "grid_template_rows": null,
            "height": null,
            "justify_content": null,
            "justify_items": null,
            "left": null,
            "margin": null,
            "max_height": null,
            "max_width": null,
            "min_height": null,
            "min_width": null,
            "object_fit": null,
            "object_position": null,
            "order": null,
            "overflow": null,
            "overflow_x": null,
            "overflow_y": null,
            "padding": null,
            "right": null,
            "top": null,
            "visibility": null,
            "width": null
          }
        },
        "0677b70d4dad4371ab0ec33f31422205": {
          "model_module": "@jupyter-widgets/controls",
          "model_name": "DescriptionStyleModel",
          "model_module_version": "1.5.0",
          "state": {
            "_model_module": "@jupyter-widgets/controls",
            "_model_module_version": "1.5.0",
            "_model_name": "DescriptionStyleModel",
            "_view_count": null,
            "_view_module": "@jupyter-widgets/base",
            "_view_module_version": "1.2.0",
            "_view_name": "StyleView",
            "description_width": ""
          }
        }
      }
    }
  },
  "cells": [
    {
      "cell_type": "markdown",
      "metadata": {
        "id": "view-in-github",
        "colab_type": "text"
      },
      "source": [
        "<a href=\"https://colab.research.google.com/github/slayerzeroa/Railway_Accident_BERT/blob/main/Railway_Bert.ipynb\" target=\"_parent\"><img src=\"https://colab.research.google.com/assets/colab-badge.svg\" alt=\"Open In Colab\"/></a>"
      ]
    },
    {
      "cell_type": "markdown",
      "source": [
        "# Environment Setting\n",
        "+ Installing\n",
        "+ Call Library\n",
        "+ Set Cuda\n",
        "+ Google Api Key"
      ],
      "metadata": {
        "id": "WLSmrz7S99aX"
      }
    },
    {
      "cell_type": "code",
      "execution_count": 1,
      "metadata": {
        "id": "MSCK6v6Km9qE",
        "colab": {
          "base_uri": "https://localhost:8080/"
        },
        "outputId": "246ffa72-f795-4af7-a6a3-88b15c799599"
      },
      "outputs": [
        {
          "output_type": "stream",
          "name": "stdout",
          "text": [
            "Looking in indexes: https://pypi.org/simple, https://us-python.pkg.dev/colab-wheels/public/simple/\n",
            "Collecting transformers\n",
            "  Downloading transformers-4.25.1-py3-none-any.whl (5.8 MB)\n",
            "\u001b[K     |████████████████████████████████| 5.8 MB 5.2 MB/s \n",
            "\u001b[?25hCollecting tokenizers!=0.11.3,<0.14,>=0.11.1\n",
            "  Downloading tokenizers-0.13.2-cp38-cp38-manylinux_2_17_x86_64.manylinux2014_x86_64.whl (7.6 MB)\n",
            "\u001b[K     |████████████████████████████████| 7.6 MB 41.9 MB/s \n",
            "\u001b[?25hCollecting huggingface-hub<1.0,>=0.10.0\n",
            "  Downloading huggingface_hub-0.11.1-py3-none-any.whl (182 kB)\n",
            "\u001b[K     |████████████████████████████████| 182 kB 56.2 MB/s \n",
            "\u001b[?25hRequirement already satisfied: regex!=2019.12.17 in /usr/local/lib/python3.8/dist-packages (from transformers) (2022.6.2)\n",
            "Requirement already satisfied: pyyaml>=5.1 in /usr/local/lib/python3.8/dist-packages (from transformers) (6.0)\n",
            "Requirement already satisfied: tqdm>=4.27 in /usr/local/lib/python3.8/dist-packages (from transformers) (4.64.1)\n",
            "Requirement already satisfied: packaging>=20.0 in /usr/local/lib/python3.8/dist-packages (from transformers) (21.3)\n",
            "Requirement already satisfied: filelock in /usr/local/lib/python3.8/dist-packages (from transformers) (3.8.0)\n",
            "Requirement already satisfied: numpy>=1.17 in /usr/local/lib/python3.8/dist-packages (from transformers) (1.21.6)\n",
            "Requirement already satisfied: requests in /usr/local/lib/python3.8/dist-packages (from transformers) (2.23.0)\n",
            "Requirement already satisfied: typing-extensions>=3.7.4.3 in /usr/local/lib/python3.8/dist-packages (from huggingface-hub<1.0,>=0.10.0->transformers) (4.4.0)\n",
            "Requirement already satisfied: pyparsing!=3.0.5,>=2.0.2 in /usr/local/lib/python3.8/dist-packages (from packaging>=20.0->transformers) (3.0.9)\n",
            "Requirement already satisfied: idna<3,>=2.5 in /usr/local/lib/python3.8/dist-packages (from requests->transformers) (2.10)\n",
            "Requirement already satisfied: certifi>=2017.4.17 in /usr/local/lib/python3.8/dist-packages (from requests->transformers) (2022.9.24)\n",
            "Requirement already satisfied: urllib3!=1.25.0,!=1.25.1,<1.26,>=1.21.1 in /usr/local/lib/python3.8/dist-packages (from requests->transformers) (1.24.3)\n",
            "Requirement already satisfied: chardet<4,>=3.0.2 in /usr/local/lib/python3.8/dist-packages (from requests->transformers) (3.0.4)\n",
            "Installing collected packages: tokenizers, huggingface-hub, transformers\n",
            "Successfully installed huggingface-hub-0.11.1 tokenizers-0.13.2 transformers-4.25.1\n",
            "Looking in indexes: https://pypi.org/simple, https://us-python.pkg.dev/colab-wheels/public/simple/\n",
            "Requirement already satisfied: nltk in /usr/local/lib/python3.8/dist-packages (3.7)\n",
            "Requirement already satisfied: regex>=2021.8.3 in /usr/local/lib/python3.8/dist-packages (from nltk) (2022.6.2)\n",
            "Requirement already satisfied: tqdm in /usr/local/lib/python3.8/dist-packages (from nltk) (4.64.1)\n",
            "Requirement already satisfied: joblib in /usr/local/lib/python3.8/dist-packages (from nltk) (1.2.0)\n",
            "Requirement already satisfied: click in /usr/local/lib/python3.8/dist-packages (from nltk) (7.1.2)\n",
            "Looking in indexes: https://pypi.org/simple, https://us-python.pkg.dev/colab-wheels/public/simple/\n",
            "Collecting pytorch-crf\n",
            "  Downloading pytorch_crf-0.7.2-py3-none-any.whl (9.5 kB)\n",
            "Installing collected packages: pytorch-crf\n",
            "Successfully installed pytorch-crf-0.7.2\n",
            "Looking in indexes: https://pypi.org/simple, https://us-python.pkg.dev/colab-wheels/public/simple/\n",
            "Collecting konlpy\n",
            "  Downloading konlpy-0.6.0-py2.py3-none-any.whl (19.4 MB)\n",
            "\u001b[K     |████████████████████████████████| 19.4 MB 435 kB/s \n",
            "\u001b[?25hCollecting JPype1>=0.7.0\n",
            "  Downloading JPype1-1.4.1-cp38-cp38-manylinux_2_12_x86_64.manylinux2010_x86_64.whl (465 kB)\n",
            "\u001b[K     |████████████████████████████████| 465 kB 67.9 MB/s \n",
            "\u001b[?25hRequirement already satisfied: numpy>=1.6 in /usr/local/lib/python3.8/dist-packages (from konlpy) (1.21.6)\n",
            "Requirement already satisfied: lxml>=4.1.0 in /usr/local/lib/python3.8/dist-packages (from konlpy) (4.9.1)\n",
            "Requirement already satisfied: packaging in /usr/local/lib/python3.8/dist-packages (from JPype1>=0.7.0->konlpy) (21.3)\n",
            "Requirement already satisfied: pyparsing!=3.0.5,>=2.0.2 in /usr/local/lib/python3.8/dist-packages (from packaging->JPype1>=0.7.0->konlpy) (3.0.9)\n",
            "Installing collected packages: JPype1, konlpy\n",
            "Successfully installed JPype1-1.4.1 konlpy-0.6.0\n",
            "Looking in indexes: https://pypi.org/simple, https://us-python.pkg.dev/colab-wheels/public/simple/\n",
            "\u001b[31mERROR: Could not find a version that satisfies the requirement collections (from versions: none)\u001b[0m\n",
            "\u001b[31mERROR: No matching distribution found for collections\u001b[0m\n",
            "Looking in indexes: https://pypi.org/simple, https://us-python.pkg.dev/colab-wheels/public/simple/\n",
            "Requirement already satisfied: gspread in /usr/local/lib/python3.8/dist-packages (3.4.2)\n",
            "Requirement already satisfied: google-auth in /usr/local/lib/python3.8/dist-packages (from gspread) (2.15.0)\n",
            "Requirement already satisfied: requests>=2.2.1 in /usr/local/lib/python3.8/dist-packages (from gspread) (2.23.0)\n",
            "Requirement already satisfied: urllib3!=1.25.0,!=1.25.1,<1.26,>=1.21.1 in /usr/local/lib/python3.8/dist-packages (from requests>=2.2.1->gspread) (1.24.3)\n",
            "Requirement already satisfied: chardet<4,>=3.0.2 in /usr/local/lib/python3.8/dist-packages (from requests>=2.2.1->gspread) (3.0.4)\n",
            "Requirement already satisfied: certifi>=2017.4.17 in /usr/local/lib/python3.8/dist-packages (from requests>=2.2.1->gspread) (2022.9.24)\n",
            "Requirement already satisfied: idna<3,>=2.5 in /usr/local/lib/python3.8/dist-packages (from requests>=2.2.1->gspread) (2.10)\n",
            "Requirement already satisfied: six>=1.9.0 in /usr/local/lib/python3.8/dist-packages (from google-auth->gspread) (1.15.0)\n",
            "Requirement already satisfied: rsa<5,>=3.1.4 in /usr/local/lib/python3.8/dist-packages (from google-auth->gspread) (4.9)\n",
            "Requirement already satisfied: cachetools<6.0,>=2.0.0 in /usr/local/lib/python3.8/dist-packages (from google-auth->gspread) (5.2.0)\n",
            "Requirement already satisfied: pyasn1-modules>=0.2.1 in /usr/local/lib/python3.8/dist-packages (from google-auth->gspread) (0.2.8)\n",
            "Requirement already satisfied: pyasn1<0.5.0,>=0.4.6 in /usr/local/lib/python3.8/dist-packages (from pyasn1-modules>=0.2.1->google-auth->gspread) (0.4.8)\n",
            "Looking in indexes: https://pypi.org/simple, https://us-python.pkg.dev/colab-wheels/public/simple/\n",
            "Requirement already satisfied: oauth2client in /usr/local/lib/python3.8/dist-packages (4.1.3)\n",
            "Requirement already satisfied: six>=1.6.1 in /usr/local/lib/python3.8/dist-packages (from oauth2client) (1.15.0)\n",
            "Requirement already satisfied: pyasn1-modules>=0.0.5 in /usr/local/lib/python3.8/dist-packages (from oauth2client) (0.2.8)\n",
            "Requirement already satisfied: rsa>=3.1.4 in /usr/local/lib/python3.8/dist-packages (from oauth2client) (4.9)\n",
            "Requirement already satisfied: httplib2>=0.9.1 in /usr/local/lib/python3.8/dist-packages (from oauth2client) (0.17.4)\n",
            "Requirement already satisfied: pyasn1>=0.1.7 in /usr/local/lib/python3.8/dist-packages (from oauth2client) (0.4.8)\n"
          ]
        }
      ],
      "source": [
        "!pip install transformers\n",
        "!pip install nltk\n",
        "!pip install pytorch-crf\n",
        "!pip install konlpy\n",
        "!pip install collections\n",
        "\n",
        "!pip install gspread\n",
        "!pip install oauth2client"
      ]
    },
    {
      "cell_type": "code",
      "source": [
        "# 라이브러리\n",
        "import torch\n",
        "from torch import nn, optim, tensor\n",
        "from torch.utils.data import DataLoader, Dataset,TensorDataset, random_split\n",
        "import torch.nn.functional as F\n",
        "from torchcrf import CRF\n",
        "\n",
        "import numpy as np\n",
        "import pandas as pd\n",
        "import math\n",
        "import matplotlib.pyplot as plt\n",
        "\n",
        "from sklearn.model_selection import train_test_split, KFold\n",
        "from sklearn.metrics import accuracy_score, mean_squared_error\n",
        "\n",
        "from transformers import BertTokenizer, BertForMaskedLM, AdamW, get_linear_schedule_with_warmup, BertConfig, BertForTokenClassification, BertModel, BertTokenizerFast\n",
        "\n",
        "import json\n",
        "import glob\n",
        "import re\n",
        "import os\n",
        "import ast\n",
        "import html\n",
        "\n",
        "import re\n",
        "import requests\n",
        "\n",
        "import zipfile\n",
        "import shutil\n",
        "\n",
        "import nltk\n",
        "\n",
        "from nltk.tokenize import sent_tokenize\n",
        "from nltk.tokenize import word_tokenize\n",
        "\n",
        "from konlpy.tag import Okt\n",
        "from collections import Counter\n",
        "\n",
        "from google.colab import files"
      ],
      "metadata": {
        "id": "RH5K6Y2c2UD6"
      },
      "execution_count": 2,
      "outputs": []
    },
    {
      "cell_type": "code",
      "source": [
        "#punkt 다운로드\n",
        "nltk.download('punkt')"
      ],
      "metadata": {
        "colab": {
          "base_uri": "https://localhost:8080/"
        },
        "id": "4YDLOwQ1UozS",
        "outputId": "4985d37a-3ab5-4e94-9402-43a791b56210"
      },
      "execution_count": 3,
      "outputs": [
        {
          "output_type": "stream",
          "name": "stderr",
          "text": [
            "[nltk_data] Downloading package punkt to /root/nltk_data...\n",
            "[nltk_data]   Unzipping tokenizers/punkt.zip.\n"
          ]
        },
        {
          "output_type": "execute_result",
          "data": {
            "text/plain": [
              "True"
            ]
          },
          "metadata": {},
          "execution_count": 3
        }
      ]
    },
    {
      "cell_type": "code",
      "source": [
        "#디바이스 세팅\n",
        "device = torch.device(\"cuda\" if torch.cuda.is_available() else \"cpu\")"
      ],
      "metadata": {
        "id": "IJwQl0n9F25R"
      },
      "execution_count": 4,
      "outputs": []
    },
    {
      "cell_type": "code",
      "source": [
        "tokenizer = BertTokenizerFast.from_pretrained('bert-base-multilingual-cased')"
      ],
      "metadata": {
        "id": "R19nGUlQqlWy",
        "colab": {
          "base_uri": "https://localhost:8080/",
          "height": 145,
          "referenced_widgets": [
            "43b1824f74854c8a82b377180c3755a8",
            "2b70a1fa1c564acebbb9adf97d5f4b7e",
            "ca5d2298097e494dbf18e604d23e6b06",
            "a31989b45c574d15a042f1c61d6e30ec",
            "6c029eaa89804070a8d51a962bb6ed78",
            "e4d41612b37644dcb8093d45df6443a5",
            "b42a25b6137f4fb58f8cf22d18eee552",
            "7f531ab3c7e34f319305336b54b60d55",
            "f2941d4fc3f742efb7ad827c6aae37fa",
            "362d43d2a6b34557a46cb4dfbd7b9531",
            "56ea1d63e44145d48ecfe9a4d7934142",
            "efd5929eff5d4753ac177dff0a82eca9",
            "f7b74080bb8c4c2cb9505593c58b5e10",
            "f5f5c10e71f84aa89b4f9136847bbff9",
            "5e3e551f334949f4a6f8afcb7c680ca6",
            "35096f14093e45bf88d656da471b9ed5",
            "bd2bb6841d454cb4891bdd4450c48627",
            "1d0ce140fb064b228287e8c484ea1f20",
            "584b99c02fe94ec4be43afaea6a5853e",
            "2fe8b35b506d4eca948f9f3e3c2bc8e7",
            "295c0de55dd946e5930a8d47c6d7f269",
            "07f062c86b88427c984c4201f83a7e36",
            "33d1857a32184fbeb3f606c3748a5e37",
            "12a7c1cee30f47148c6423fe0bb67d26",
            "028e8249121d4f1888977d3492ba4924",
            "e5224eb2b4ee4e4f8e5a0bce2eaea2e9",
            "521cd537b4ea425aaf1eaff75b7aa48a",
            "5d7e26a4f99649c9a46efa0e3e6268ff",
            "4e6ed272194e44a68ea479c99b92622d",
            "95878b97abcf4262993de1604185f922",
            "124f55ae32f044d7ba4da26b06cabe6b",
            "0ed517b463a9449cbce97a723aba2e05",
            "65df6aa4eae54c20b45cfeaa8c96c04e",
            "2d19d86ce61148ca875ccfd7973b8bd0",
            "591f1d70df9a48638ab60ee8b8cbae41",
            "ce134c18d8ff4be39283a6127cd959f8",
            "5ce85ef51f9a47f3acb987bf42eee3a8",
            "4c020bc4423341f496ae77a8c486653b",
            "b4b17a8aad17419d9a79c26181eac319",
            "37b1423ea7a442f19fc76d9d3e80a2dc",
            "3ac5b627b8fb42f1bbaf8985644513c2",
            "fc0c5b92017f4fbd8ef4f4ca4b7caea0",
            "508d7201b32a474babc66aee7bba9225",
            "0677b70d4dad4371ab0ec33f31422205"
          ]
        },
        "outputId": "1971c131-6ef0-491e-fcd2-bb5afe2b288b"
      },
      "execution_count": 5,
      "outputs": [
        {
          "output_type": "display_data",
          "data": {
            "text/plain": [
              "Downloading:   0%|          | 0.00/29.0 [00:00<?, ?B/s]"
            ],
            "application/vnd.jupyter.widget-view+json": {
              "version_major": 2,
              "version_minor": 0,
              "model_id": "43b1824f74854c8a82b377180c3755a8"
            }
          },
          "metadata": {}
        },
        {
          "output_type": "display_data",
          "data": {
            "text/plain": [
              "Downloading:   0%|          | 0.00/996k [00:00<?, ?B/s]"
            ],
            "application/vnd.jupyter.widget-view+json": {
              "version_major": 2,
              "version_minor": 0,
              "model_id": "efd5929eff5d4753ac177dff0a82eca9"
            }
          },
          "metadata": {}
        },
        {
          "output_type": "display_data",
          "data": {
            "text/plain": [
              "Downloading:   0%|          | 0.00/1.96M [00:00<?, ?B/s]"
            ],
            "application/vnd.jupyter.widget-view+json": {
              "version_major": 2,
              "version_minor": 0,
              "model_id": "33d1857a32184fbeb3f606c3748a5e37"
            }
          },
          "metadata": {}
        },
        {
          "output_type": "display_data",
          "data": {
            "text/plain": [
              "Downloading:   0%|          | 0.00/625 [00:00<?, ?B/s]"
            ],
            "application/vnd.jupyter.widget-view+json": {
              "version_major": 2,
              "version_minor": 0,
              "model_id": "2d19d86ce61148ca875ccfd7973b8bd0"
            }
          },
          "metadata": {}
        }
      ]
    },
    {
      "cell_type": "markdown",
      "source": [
        "# Load Spread Sheet Dataset"
      ],
      "metadata": {
        "id": "TE1R9WctSCkJ"
      }
    },
    {
      "cell_type": "code",
      "source": [
        "# GOOGLE API KEY: json\n",
        "key = files.upload()"
      ],
      "metadata": {
        "colab": {
          "base_uri": "https://localhost:8080/",
          "height": 77
        },
        "id": "XEIiZO-Yx9iK",
        "outputId": "9c24d1de-0821-4faa-9399-e46142534593"
      },
      "execution_count": 6,
      "outputs": [
        {
          "output_type": "display_data",
          "data": {
            "text/plain": [
              "<IPython.core.display.HTML object>"
            ],
            "text/html": [
              "\n",
              "     <input type=\"file\" id=\"files-cfff84e2-652b-40a0-8662-cabff80519f9\" name=\"files[]\" multiple disabled\n",
              "        style=\"border:none\" />\n",
              "     <output id=\"result-cfff84e2-652b-40a0-8662-cabff80519f9\">\n",
              "      Upload widget is only available when the cell has been executed in the\n",
              "      current browser session. Please rerun this cell to enable.\n",
              "      </output>\n",
              "      <script>// Copyright 2017 Google LLC\n",
              "//\n",
              "// Licensed under the Apache License, Version 2.0 (the \"License\");\n",
              "// you may not use this file except in compliance with the License.\n",
              "// You may obtain a copy of the License at\n",
              "//\n",
              "//      http://www.apache.org/licenses/LICENSE-2.0\n",
              "//\n",
              "// Unless required by applicable law or agreed to in writing, software\n",
              "// distributed under the License is distributed on an \"AS IS\" BASIS,\n",
              "// WITHOUT WARRANTIES OR CONDITIONS OF ANY KIND, either express or implied.\n",
              "// See the License for the specific language governing permissions and\n",
              "// limitations under the License.\n",
              "\n",
              "/**\n",
              " * @fileoverview Helpers for google.colab Python module.\n",
              " */\n",
              "(function(scope) {\n",
              "function span(text, styleAttributes = {}) {\n",
              "  const element = document.createElement('span');\n",
              "  element.textContent = text;\n",
              "  for (const key of Object.keys(styleAttributes)) {\n",
              "    element.style[key] = styleAttributes[key];\n",
              "  }\n",
              "  return element;\n",
              "}\n",
              "\n",
              "// Max number of bytes which will be uploaded at a time.\n",
              "const MAX_PAYLOAD_SIZE = 100 * 1024;\n",
              "\n",
              "function _uploadFiles(inputId, outputId) {\n",
              "  const steps = uploadFilesStep(inputId, outputId);\n",
              "  const outputElement = document.getElementById(outputId);\n",
              "  // Cache steps on the outputElement to make it available for the next call\n",
              "  // to uploadFilesContinue from Python.\n",
              "  outputElement.steps = steps;\n",
              "\n",
              "  return _uploadFilesContinue(outputId);\n",
              "}\n",
              "\n",
              "// This is roughly an async generator (not supported in the browser yet),\n",
              "// where there are multiple asynchronous steps and the Python side is going\n",
              "// to poll for completion of each step.\n",
              "// This uses a Promise to block the python side on completion of each step,\n",
              "// then passes the result of the previous step as the input to the next step.\n",
              "function _uploadFilesContinue(outputId) {\n",
              "  const outputElement = document.getElementById(outputId);\n",
              "  const steps = outputElement.steps;\n",
              "\n",
              "  const next = steps.next(outputElement.lastPromiseValue);\n",
              "  return Promise.resolve(next.value.promise).then((value) => {\n",
              "    // Cache the last promise value to make it available to the next\n",
              "    // step of the generator.\n",
              "    outputElement.lastPromiseValue = value;\n",
              "    return next.value.response;\n",
              "  });\n",
              "}\n",
              "\n",
              "/**\n",
              " * Generator function which is called between each async step of the upload\n",
              " * process.\n",
              " * @param {string} inputId Element ID of the input file picker element.\n",
              " * @param {string} outputId Element ID of the output display.\n",
              " * @return {!Iterable<!Object>} Iterable of next steps.\n",
              " */\n",
              "function* uploadFilesStep(inputId, outputId) {\n",
              "  const inputElement = document.getElementById(inputId);\n",
              "  inputElement.disabled = false;\n",
              "\n",
              "  const outputElement = document.getElementById(outputId);\n",
              "  outputElement.innerHTML = '';\n",
              "\n",
              "  const pickedPromise = new Promise((resolve) => {\n",
              "    inputElement.addEventListener('change', (e) => {\n",
              "      resolve(e.target.files);\n",
              "    });\n",
              "  });\n",
              "\n",
              "  const cancel = document.createElement('button');\n",
              "  inputElement.parentElement.appendChild(cancel);\n",
              "  cancel.textContent = 'Cancel upload';\n",
              "  const cancelPromise = new Promise((resolve) => {\n",
              "    cancel.onclick = () => {\n",
              "      resolve(null);\n",
              "    };\n",
              "  });\n",
              "\n",
              "  // Wait for the user to pick the files.\n",
              "  const files = yield {\n",
              "    promise: Promise.race([pickedPromise, cancelPromise]),\n",
              "    response: {\n",
              "      action: 'starting',\n",
              "    }\n",
              "  };\n",
              "\n",
              "  cancel.remove();\n",
              "\n",
              "  // Disable the input element since further picks are not allowed.\n",
              "  inputElement.disabled = true;\n",
              "\n",
              "  if (!files) {\n",
              "    return {\n",
              "      response: {\n",
              "        action: 'complete',\n",
              "      }\n",
              "    };\n",
              "  }\n",
              "\n",
              "  for (const file of files) {\n",
              "    const li = document.createElement('li');\n",
              "    li.append(span(file.name, {fontWeight: 'bold'}));\n",
              "    li.append(span(\n",
              "        `(${file.type || 'n/a'}) - ${file.size} bytes, ` +\n",
              "        `last modified: ${\n",
              "            file.lastModifiedDate ? file.lastModifiedDate.toLocaleDateString() :\n",
              "                                    'n/a'} - `));\n",
              "    const percent = span('0% done');\n",
              "    li.appendChild(percent);\n",
              "\n",
              "    outputElement.appendChild(li);\n",
              "\n",
              "    const fileDataPromise = new Promise((resolve) => {\n",
              "      const reader = new FileReader();\n",
              "      reader.onload = (e) => {\n",
              "        resolve(e.target.result);\n",
              "      };\n",
              "      reader.readAsArrayBuffer(file);\n",
              "    });\n",
              "    // Wait for the data to be ready.\n",
              "    let fileData = yield {\n",
              "      promise: fileDataPromise,\n",
              "      response: {\n",
              "        action: 'continue',\n",
              "      }\n",
              "    };\n",
              "\n",
              "    // Use a chunked sending to avoid message size limits. See b/62115660.\n",
              "    let position = 0;\n",
              "    do {\n",
              "      const length = Math.min(fileData.byteLength - position, MAX_PAYLOAD_SIZE);\n",
              "      const chunk = new Uint8Array(fileData, position, length);\n",
              "      position += length;\n",
              "\n",
              "      const base64 = btoa(String.fromCharCode.apply(null, chunk));\n",
              "      yield {\n",
              "        response: {\n",
              "          action: 'append',\n",
              "          file: file.name,\n",
              "          data: base64,\n",
              "        },\n",
              "      };\n",
              "\n",
              "      let percentDone = fileData.byteLength === 0 ?\n",
              "          100 :\n",
              "          Math.round((position / fileData.byteLength) * 100);\n",
              "      percent.textContent = `${percentDone}% done`;\n",
              "\n",
              "    } while (position < fileData.byteLength);\n",
              "  }\n",
              "\n",
              "  // All done.\n",
              "  yield {\n",
              "    response: {\n",
              "      action: 'complete',\n",
              "    }\n",
              "  };\n",
              "}\n",
              "\n",
              "scope.google = scope.google || {};\n",
              "scope.google.colab = scope.google.colab || {};\n",
              "scope.google.colab._files = {\n",
              "  _uploadFiles,\n",
              "  _uploadFilesContinue,\n",
              "};\n",
              "})(self);\n",
              "</script> "
            ]
          },
          "metadata": {}
        },
        {
          "output_type": "stream",
          "name": "stdout",
          "text": [
            "Saving railway-tagtog-d24e6901ddb0.json to railway-tagtog-d24e6901ddb0.json\n"
          ]
        }
      ]
    },
    {
      "cell_type": "code",
      "source": [
        "#로그인 위치\n",
        "url = \"https://tagtog.com/-login\"\n",
        "\n",
        "#다운로드 위치\n",
        "file_url = 'https://www.tagtog.com/slayerzeroa/Railway_BERT/-downloads/dataset-as-anndoc' \n",
        "o_file = 'Railway_Annotation.zip'  \n",
        "if os.path.exists(o_file):\n",
        "    os.remove(o_file)\n",
        "\n",
        "#로그인 정보\n",
        "login_info = {\n",
        "    'loginid' : 'slayerzeroa@gmail.com',\n",
        "    'password' : 'gyysxw5rU3NzrYX',\n",
        "}\n",
        "\n",
        "#로그인\n",
        "with requests.Session() as s:\n",
        "    login_req = s.post(url, data=login_info)\n",
        "    r = s.get(file_url)\n",
        "\n",
        "    with open(o_file,\"wb\") as output:\n",
        "        output.write(r.content)"
      ],
      "metadata": {
        "id": "MjgJQ4xYvb_t"
      },
      "execution_count": 8,
      "outputs": []
    },
    {
      "cell_type": "code",
      "source": [
        "import gspread\n",
        "from oauth2client.service_account import ServiceAccountCredentials\n",
        "\n",
        "scope = ['https://spreadsheets.google.com/feeds',\n",
        "         'https://www.googleapis.com/auth/drive']\n",
        "\n",
        "#json key file 위치\n",
        "json_file_name = './railway-tagtog-d24e6901ddb0.json'\n",
        "\n",
        "# json key file을 이용하여 접속\n",
        "credentials = ServiceAccountCredentials.from_json_keyfile_name(json_file_name, scope)\n",
        "gc = gspread.authorize(credentials)\n",
        "\n",
        "#구글 스프레드 시트 주소\n",
        "spreadsheet_url = \"https://docs.google.com/spreadsheets/d/1cpt2ad2pw0N2tC1H3MPtRAaZzFmgCh2If0gHOQKEIIo/edit#gid=0\"\n",
        "\n",
        "# 스프레드시트 문서 가져오기\n",
        "doc = gc.open_by_url(spreadsheet_url)\n",
        "## gc.create(spreadsheet_name) # 스프레드시트 생성\n",
        "\n",
        "\n",
        "#시트 선택하기\n",
        "sheet_name = \"context\"\n",
        "worksheet = doc.worksheet(sheet_name) #해당 시트가 있는 경우 불러오기\n",
        "## 403 error가 뜰 경우, google sheets API를 활성시켜줘야 함\n",
        "\n",
        "# 시트의 모든 데이터 가져오기\n",
        "values = worksheet.get_all_values()\n",
        "\n",
        "# Pandas Dataframe화\n",
        "header, rows = values[0], values[1:]\n",
        "data = pd.DataFrame(rows, columns=header)\n",
        "column_list = ['Doc', 'Start', 'Class', 'Part', 'Text','Label']\n",
        "data.columns = column_list\n",
        "print(data)"
      ],
      "metadata": {
        "id": "lzDF7PWYSSe9",
        "outputId": "911040d3-65c8-43af-a32d-d0c8e81800c0",
        "colab": {
          "base_uri": "https://localhost:8080/"
        }
      },
      "execution_count": 10,
      "outputs": [
        {
          "output_type": "stream",
          "name": "stdout",
          "text": [
            "         Doc  Start Class  Part  \\\n",
            "0     200226   3874  e_22  s1p4   \n",
            "1     200226   3874  e_22  s1p4   \n",
            "2     200226    112   e_4  s1p5   \n",
            "3     200226   3874  e_22  s1p4   \n",
            "4     200226    112   e_4  s1p5   \n",
            "...      ...    ...   ...   ...   \n",
            "1388    mple  13368  e_23  s1p6   \n",
            "1389    mple  13525  e_23  s1p6   \n",
            "1390    mple  13608  e_23  s1p6   \n",
            "1391    mple  13689  e_23  s1p6   \n",
            "1392    mple  13763  e_23  s1p6   \n",
            "\n",
            "                                                   Text  \\\n",
            "0                    5번째 차량(3513호) 앞 대차가 선로 우측으로 탈선하였다.   \n",
            "1                    5번째 차량(3513호) 앞 대차가 선로 우측으로 탈선하였다.   \n",
            "2     기관사가 정지신호를 무시하고 운행하다가 선로전 환기를 할출한 후 관제원의 되돌이 운...   \n",
            "3                    5번째 차량(3513호) 앞 대차가 선로 우측으로 탈선하였다.   \n",
            "4     기관사가 정지신호를 무시하고 운행하다가 선로전 환기를 할출한 후 관제원의 되돌이 운...   \n",
            "...                                                 ...   \n",
            "1388  화차 차축 베어링의 분해검수 주기와 교환 주기를 화차에 적재되는 화 물의 종류, 적...   \n",
            "1389  컨테이너를 화차에서 들어 올릴 때 화차가 함께 들어 올려지다 떨어지지 않도록 작업 ...   \n",
            "1390  화차의 발열 여부를 발견하기 위해 차축에 부착한 온도 테이프는 효과가 없는 것으로 ...   \n",
            "1391  역근무자가 열차 감시 업무를 적정하게 수행할 수 있도록 열차감시용 영상감시설비의 확...   \n",
            "1392     신형기관차로 열차를 편성하여 운행시 열차 후부를 쉽게 감시할 수 있 도록 개선할 것   \n",
            "\n",
            "                                       Label  \n",
            "0     O OBJECT O O O O OBJECT O O ACCIDENT O  \n",
            "1                                             \n",
            "2                                             \n",
            "3                                             \n",
            "4                                             \n",
            "...                                      ...  \n",
            "1388                                          \n",
            "1389                                          \n",
            "1390                                          \n",
            "1391                                          \n",
            "1392                                          \n",
            "\n",
            "[1393 rows x 6 columns]\n"
          ]
        }
      ]
    },
    {
      "cell_type": "code",
      "source": [
        "# Split labels based on whitespace and turn them into a list\n",
        "labels = [i.split() for i in data['Label'].values.tolist()]\n",
        "# Check how many labels are there in the dataset\n",
        "unique_labels = set()\n",
        "\n",
        "for lb in labels:\n",
        "  [unique_labels.add(i) for i in lb if i not in unique_labels]\n",
        " \n",
        "print(unique_labels)\n",
        "\n",
        "# Map each label into its id representation and vice versa\n",
        "labels_to_ids = {k: v for v, k in enumerate(sorted(unique_labels))}\n",
        "ids_to_labels = {v: k for v, k in enumerate(sorted(unique_labels))}\n",
        "print(labels_to_ids)\n",
        "\n",
        "print(labels)"
      ],
      "metadata": {
        "colab": {
          "base_uri": "https://localhost:8080/"
        },
        "id": "g3UMz3vviyNu",
        "outputId": "fef9c500-9643-4791-8f87-55fd80ab739e"
      },
      "execution_count": 22,
      "outputs": [
        {
          "output_type": "stream",
          "name": "stdout",
          "text": [
            "{'O', 'OBJECT', 'ACCIDENT'}\n",
            "{'ACCIDENT': 0, 'O': 1, 'OBJECT': 2}\n",
            "[['O', 'OBJECT', 'O', 'O', 'O', 'O', 'OBJECT', 'O', 'O', 'ACCIDENT', 'O'], [], [], [], [], [], [], [], [], [], [], [], [], [], [], [], [], [], [], [], [], [], [], [], [], [], [], [], [], [], [], [], [], [], [], [], [], [], [], [], [], [], [], [], [], [], [], [], [], [], [], [], [], [], [], [], [], [], [], [], [], [], [], [], [], [], [], [], [], [], [], [], [], [], [], [], [], [], [], [], [], [], [], [], [], [], [], [], [], [], [], [], [], [], [], [], [], [], [], [], [], [], [], [], [], [], [], [], [], [], [], [], [], [], [], [], [], [], [], [], [], [], [], [], [], [], [], [], [], [], [], [], [], [], [], [], [], [], [], [], [], [], [], [], [], [], [], [], [], [], [], [], [], [], [], [], [], [], [], [], [], [], [], [], [], [], [], [], [], [], [], [], [], [], [], [], [], [], [], [], [], [], [], [], [], [], [], [], [], [], [], [], [], [], [], [], [], [], [], [], [], [], [], [], [], [], [], [], [], [], [], [], [], [], [], [], [], [], [], [], [], [], [], [], [], [], [], [], [], [], [], [], [], [], [], [], [], [], [], [], [], [], [], [], [], [], [], [], [], [], [], [], [], [], [], [], [], [], [], [], [], [], [], [], [], [], [], [], [], [], [], [], [], [], [], [], [], [], [], [], [], [], [], [], [], [], [], [], [], [], [], [], [], [], [], [], [], [], [], [], [], [], [], [], [], [], [], [], [], [], [], [], [], [], [], [], [], [], [], [], [], [], [], [], [], [], [], [], [], [], [], [], [], [], [], [], [], [], [], [], [], [], [], [], [], [], [], [], [], [], [], [], [], [], [], [], [], [], [], [], [], [], [], [], [], [], [], [], [], [], [], [], [], [], [], [], [], [], [], [], [], [], [], [], [], [], [], [], [], [], [], [], [], [], [], [], [], [], [], [], [], [], [], [], [], [], [], [], [], [], [], [], [], [], [], [], [], [], [], [], [], [], [], [], [], [], [], [], [], [], [], [], [], [], [], [], [], [], [], [], [], [], [], [], [], [], [], [], [], [], [], [], [], [], [], [], [], [], [], [], [], [], [], [], [], [], [], [], [], [], [], [], [], [], [], [], [], [], [], [], [], [], [], [], [], [], [], [], [], [], [], [], [], [], [], [], [], [], [], [], [], [], [], [], [], [], [], [], [], [], [], [], [], [], [], [], [], [], [], [], [], [], [], [], [], [], [], [], [], [], [], [], [], [], [], [], [], [], [], [], [], [], [], [], [], [], [], [], [], [], [], [], [], [], [], [], [], [], [], [], [], [], [], [], [], [], [], [], [], [], [], [], [], [], [], [], [], [], [], [], [], [], [], [], [], [], [], [], [], [], [], [], [], [], [], [], [], [], [], [], [], [], [], [], [], [], [], [], [], [], [], [], [], [], [], [], [], [], [], [], [], [], [], [], [], [], [], [], [], [], [], [], [], [], [], [], [], [], [], [], [], [], [], [], [], [], [], [], [], [], [], [], [], [], [], [], [], [], [], [], [], [], [], [], [], [], [], [], [], [], [], [], [], [], [], [], [], [], [], [], [], [], [], [], [], [], [], [], [], [], [], [], [], [], [], [], [], [], [], [], [], [], [], [], [], [], [], [], [], [], [], [], [], [], [], [], [], [], [], [], [], [], [], [], [], [], [], [], [], [], [], [], [], [], [], [], [], [], [], [], [], [], [], [], [], [], [], [], [], [], [], [], [], [], [], [], [], [], [], [], [], [], [], [], [], [], [], [], [], [], [], [], [], [], [], [], [], [], [], [], [], [], [], [], [], [], [], [], [], [], [], [], [], [], [], [], [], [], [], [], [], [], [], [], [], [], [], [], [], [], [], [], [], [], [], [], [], [], [], [], [], [], [], [], [], [], [], [], [], [], [], [], [], [], [], [], [], [], [], [], [], [], [], [], [], [], [], [], [], [], [], [], [], [], [], [], [], [], [], [], [], [], [], [], [], [], [], [], [], [], [], [], [], [], [], [], [], [], [], [], [], [], [], [], [], [], [], [], [], [], [], [], [], [], [], [], [], [], [], [], [], [], [], [], [], [], [], [], [], [], [], [], [], [], [], [], [], [], [], [], [], [], [], [], [], [], [], [], [], [], [], [], [], [], [], [], [], [], [], [], [], [], [], [], [], [], [], [], [], [], [], [], [], [], [], [], [], [], [], [], [], [], [], [], [], [], [], [], [], [], [], [], [], [], [], [], [], [], [], [], [], [], [], [], [], [], [], [], [], [], [], [], [], [], [], [], [], [], [], [], [], [], [], [], [], [], [], [], [], [], [], [], [], [], [], [], [], [], [], [], [], [], [], [], [], [], [], [], [], [], [], [], [], [], [], [], [], [], [], [], [], [], [], [], [], [], [], [], [], [], [], [], [], [], [], [], [], [], [], [], [], [], [], [], [], [], [], [], [], [], [], [], [], [], [], [], [], [], [], [], [], [], [], [], [], [], [], [], [], [], [], [], [], [], [], [], [], [], [], [], [], [], [], [], [], [], [], [], [], [], [], [], [], [], [], [], [], [], [], [], [], [], [], [], [], [], [], [], [], [], [], [], [], [], [], [], [], [], [], [], [], [], [], [], [], [], [], [], [], [], [], [], [], [], [], [], [], [], [], [], [], [], [], [], [], [], [], [], [], [], [], [], [], [], [], [], [], [], [], [], [], [], [], [], [], [], [], [], [], [], [], [], [], [], [], [], [], [], [], [], [], [], [], [], [], [], [], [], [], [], [], [], [], [], [], [], [], [], [], [], [], [], [], [], [], [], [], [], [], [], [], [], [], [], [], [], [], [], [], [], [], [], [], [], [], [], [], [], [], [], [], [], [], [], [], [], [], [], [], [], [], [], [], [], [], [], [], [], [], [], [], [], [], [], [], [], [], [], [], [], [], [], [], [], [], [], [], [], [], [], [], [], [], [], [], [], [], [], [], [], [], [], [], [], [], [], [], [], [], [], [], [], [], [], [], [], [], [], [], [], [], [], [], [], [], [], [], [], [], [], [], [], [], [], [], [], [], [], [], [], [], [], [], [], [], [], [], [], [], [], [], [], [], [], [], [], [], [], [], [], [], [], [], [], [], [], [], [], [], [], [], [], [], [], [], [], [], [], [], [], [], [], [], [], [], [], [], [], [], [], [], [], []]\n"
          ]
        }
      ]
    },
    {
      "cell_type": "code",
      "source": [
        "example = data['Text'][0]\n",
        "print(example)\n",
        "\n",
        "label = data['Label'][0]\n",
        "print(label)\n"
      ],
      "metadata": {
        "colab": {
          "base_uri": "https://localhost:8080/"
        },
        "id": "V-hI1Q2bKvD3",
        "outputId": "2d9d836c-4c0d-4029-dc73-29f89d1b1c36"
      },
      "execution_count": 13,
      "outputs": [
        {
          "output_type": "stream",
          "name": "stdout",
          "text": [
            "5번째 차량(3513호) 앞 대차가 선로 우측으로 탈선하였다.\n",
            "O OBJECT O O O O OBJECT O O ACCIDENT O\n"
          ]
        }
      ]
    },
    {
      "cell_type": "code",
      "source": [
        "text_tokenized = tokenizer(example, padding='max_length', max_length=512, truncation=True, return_tensors=\"pt\")\n",
        "print(text_tokenized)"
      ],
      "metadata": {
        "colab": {
          "base_uri": "https://localhost:8080/"
        },
        "id": "eDJ4qr5LK5dJ",
        "outputId": "ff2d07a7-eaaa-4584-9cfc-3a74985300e3"
      },
      "execution_count": 14,
      "outputs": [
        {
          "output_type": "stream",
          "name": "stdout",
          "text": [
            "{'input_ids': tensor([[   101,    126,  48506,   9730,  44321,    113,  34487,  10884,  20309,\n",
            "            114,   9531,   9069,  23466,  11287,   9428,  11261,   9604, 119281,\n",
            "          11467,   9848,  18471,  12609,    119,    102,      0,      0,      0,\n",
            "              0,      0,      0,      0,      0,      0,      0,      0,      0,\n",
            "              0,      0,      0,      0,      0,      0,      0,      0,      0,\n",
            "              0,      0,      0,      0,      0,      0,      0,      0,      0,\n",
            "              0,      0,      0,      0,      0,      0,      0,      0,      0,\n",
            "              0,      0,      0,      0,      0,      0,      0,      0,      0,\n",
            "              0,      0,      0,      0,      0,      0,      0,      0,      0,\n",
            "              0,      0,      0,      0,      0,      0,      0,      0,      0,\n",
            "              0,      0,      0,      0,      0,      0,      0,      0,      0,\n",
            "              0,      0,      0,      0,      0,      0,      0,      0,      0,\n",
            "              0,      0,      0,      0,      0,      0,      0,      0,      0,\n",
            "              0,      0,      0,      0,      0,      0,      0,      0,      0,\n",
            "              0,      0,      0,      0,      0,      0,      0,      0,      0,\n",
            "              0,      0,      0,      0,      0,      0,      0,      0,      0,\n",
            "              0,      0,      0,      0,      0,      0,      0,      0,      0,\n",
            "              0,      0,      0,      0,      0,      0,      0,      0,      0,\n",
            "              0,      0,      0,      0,      0,      0,      0,      0,      0,\n",
            "              0,      0,      0,      0,      0,      0,      0,      0,      0,\n",
            "              0,      0,      0,      0,      0,      0,      0,      0,      0,\n",
            "              0,      0,      0,      0,      0,      0,      0,      0,      0,\n",
            "              0,      0,      0,      0,      0,      0,      0,      0,      0,\n",
            "              0,      0,      0,      0,      0,      0,      0,      0,      0,\n",
            "              0,      0,      0,      0,      0,      0,      0,      0,      0,\n",
            "              0,      0,      0,      0,      0,      0,      0,      0,      0,\n",
            "              0,      0,      0,      0,      0,      0,      0,      0,      0,\n",
            "              0,      0,      0,      0,      0,      0,      0,      0,      0,\n",
            "              0,      0,      0,      0,      0,      0,      0,      0,      0,\n",
            "              0,      0,      0,      0,      0,      0,      0,      0,      0,\n",
            "              0,      0,      0,      0,      0,      0,      0,      0,      0,\n",
            "              0,      0,      0,      0,      0,      0,      0,      0,      0,\n",
            "              0,      0,      0,      0,      0,      0,      0,      0,      0,\n",
            "              0,      0,      0,      0,      0,      0,      0,      0,      0,\n",
            "              0,      0,      0,      0,      0,      0,      0,      0,      0,\n",
            "              0,      0,      0,      0,      0,      0,      0,      0,      0,\n",
            "              0,      0,      0,      0,      0,      0,      0,      0,      0,\n",
            "              0,      0,      0,      0,      0,      0,      0,      0,      0,\n",
            "              0,      0,      0,      0,      0,      0,      0,      0,      0,\n",
            "              0,      0,      0,      0,      0,      0,      0,      0,      0,\n",
            "              0,      0,      0,      0,      0,      0,      0,      0,      0,\n",
            "              0,      0,      0,      0,      0,      0,      0,      0,      0,\n",
            "              0,      0,      0,      0,      0,      0,      0,      0,      0,\n",
            "              0,      0,      0,      0,      0,      0,      0,      0,      0,\n",
            "              0,      0,      0,      0,      0,      0,      0,      0,      0,\n",
            "              0,      0,      0,      0,      0,      0,      0,      0,      0,\n",
            "              0,      0,      0,      0,      0,      0,      0,      0,      0,\n",
            "              0,      0,      0,      0,      0,      0,      0,      0,      0,\n",
            "              0,      0,      0,      0,      0,      0,      0,      0,      0,\n",
            "              0,      0,      0,      0,      0,      0,      0,      0,      0,\n",
            "              0,      0,      0,      0,      0,      0,      0,      0,      0,\n",
            "              0,      0,      0,      0,      0,      0,      0,      0,      0,\n",
            "              0,      0,      0,      0,      0,      0,      0,      0,      0,\n",
            "              0,      0,      0,      0,      0,      0,      0,      0,      0,\n",
            "              0,      0,      0,      0,      0,      0,      0,      0,      0,\n",
            "              0,      0,      0,      0,      0,      0,      0,      0,      0,\n",
            "              0,      0,      0,      0,      0,      0,      0,      0]]), 'token_type_ids': tensor([[0, 0, 0, 0, 0, 0, 0, 0, 0, 0, 0, 0, 0, 0, 0, 0, 0, 0, 0, 0, 0, 0, 0, 0,\n",
            "         0, 0, 0, 0, 0, 0, 0, 0, 0, 0, 0, 0, 0, 0, 0, 0, 0, 0, 0, 0, 0, 0, 0, 0,\n",
            "         0, 0, 0, 0, 0, 0, 0, 0, 0, 0, 0, 0, 0, 0, 0, 0, 0, 0, 0, 0, 0, 0, 0, 0,\n",
            "         0, 0, 0, 0, 0, 0, 0, 0, 0, 0, 0, 0, 0, 0, 0, 0, 0, 0, 0, 0, 0, 0, 0, 0,\n",
            "         0, 0, 0, 0, 0, 0, 0, 0, 0, 0, 0, 0, 0, 0, 0, 0, 0, 0, 0, 0, 0, 0, 0, 0,\n",
            "         0, 0, 0, 0, 0, 0, 0, 0, 0, 0, 0, 0, 0, 0, 0, 0, 0, 0, 0, 0, 0, 0, 0, 0,\n",
            "         0, 0, 0, 0, 0, 0, 0, 0, 0, 0, 0, 0, 0, 0, 0, 0, 0, 0, 0, 0, 0, 0, 0, 0,\n",
            "         0, 0, 0, 0, 0, 0, 0, 0, 0, 0, 0, 0, 0, 0, 0, 0, 0, 0, 0, 0, 0, 0, 0, 0,\n",
            "         0, 0, 0, 0, 0, 0, 0, 0, 0, 0, 0, 0, 0, 0, 0, 0, 0, 0, 0, 0, 0, 0, 0, 0,\n",
            "         0, 0, 0, 0, 0, 0, 0, 0, 0, 0, 0, 0, 0, 0, 0, 0, 0, 0, 0, 0, 0, 0, 0, 0,\n",
            "         0, 0, 0, 0, 0, 0, 0, 0, 0, 0, 0, 0, 0, 0, 0, 0, 0, 0, 0, 0, 0, 0, 0, 0,\n",
            "         0, 0, 0, 0, 0, 0, 0, 0, 0, 0, 0, 0, 0, 0, 0, 0, 0, 0, 0, 0, 0, 0, 0, 0,\n",
            "         0, 0, 0, 0, 0, 0, 0, 0, 0, 0, 0, 0, 0, 0, 0, 0, 0, 0, 0, 0, 0, 0, 0, 0,\n",
            "         0, 0, 0, 0, 0, 0, 0, 0, 0, 0, 0, 0, 0, 0, 0, 0, 0, 0, 0, 0, 0, 0, 0, 0,\n",
            "         0, 0, 0, 0, 0, 0, 0, 0, 0, 0, 0, 0, 0, 0, 0, 0, 0, 0, 0, 0, 0, 0, 0, 0,\n",
            "         0, 0, 0, 0, 0, 0, 0, 0, 0, 0, 0, 0, 0, 0, 0, 0, 0, 0, 0, 0, 0, 0, 0, 0,\n",
            "         0, 0, 0, 0, 0, 0, 0, 0, 0, 0, 0, 0, 0, 0, 0, 0, 0, 0, 0, 0, 0, 0, 0, 0,\n",
            "         0, 0, 0, 0, 0, 0, 0, 0, 0, 0, 0, 0, 0, 0, 0, 0, 0, 0, 0, 0, 0, 0, 0, 0,\n",
            "         0, 0, 0, 0, 0, 0, 0, 0, 0, 0, 0, 0, 0, 0, 0, 0, 0, 0, 0, 0, 0, 0, 0, 0,\n",
            "         0, 0, 0, 0, 0, 0, 0, 0, 0, 0, 0, 0, 0, 0, 0, 0, 0, 0, 0, 0, 0, 0, 0, 0,\n",
            "         0, 0, 0, 0, 0, 0, 0, 0, 0, 0, 0, 0, 0, 0, 0, 0, 0, 0, 0, 0, 0, 0, 0, 0,\n",
            "         0, 0, 0, 0, 0, 0, 0, 0]]), 'attention_mask': tensor([[1, 1, 1, 1, 1, 1, 1, 1, 1, 1, 1, 1, 1, 1, 1, 1, 1, 1, 1, 1, 1, 1, 1, 1,\n",
            "         0, 0, 0, 0, 0, 0, 0, 0, 0, 0, 0, 0, 0, 0, 0, 0, 0, 0, 0, 0, 0, 0, 0, 0,\n",
            "         0, 0, 0, 0, 0, 0, 0, 0, 0, 0, 0, 0, 0, 0, 0, 0, 0, 0, 0, 0, 0, 0, 0, 0,\n",
            "         0, 0, 0, 0, 0, 0, 0, 0, 0, 0, 0, 0, 0, 0, 0, 0, 0, 0, 0, 0, 0, 0, 0, 0,\n",
            "         0, 0, 0, 0, 0, 0, 0, 0, 0, 0, 0, 0, 0, 0, 0, 0, 0, 0, 0, 0, 0, 0, 0, 0,\n",
            "         0, 0, 0, 0, 0, 0, 0, 0, 0, 0, 0, 0, 0, 0, 0, 0, 0, 0, 0, 0, 0, 0, 0, 0,\n",
            "         0, 0, 0, 0, 0, 0, 0, 0, 0, 0, 0, 0, 0, 0, 0, 0, 0, 0, 0, 0, 0, 0, 0, 0,\n",
            "         0, 0, 0, 0, 0, 0, 0, 0, 0, 0, 0, 0, 0, 0, 0, 0, 0, 0, 0, 0, 0, 0, 0, 0,\n",
            "         0, 0, 0, 0, 0, 0, 0, 0, 0, 0, 0, 0, 0, 0, 0, 0, 0, 0, 0, 0, 0, 0, 0, 0,\n",
            "         0, 0, 0, 0, 0, 0, 0, 0, 0, 0, 0, 0, 0, 0, 0, 0, 0, 0, 0, 0, 0, 0, 0, 0,\n",
            "         0, 0, 0, 0, 0, 0, 0, 0, 0, 0, 0, 0, 0, 0, 0, 0, 0, 0, 0, 0, 0, 0, 0, 0,\n",
            "         0, 0, 0, 0, 0, 0, 0, 0, 0, 0, 0, 0, 0, 0, 0, 0, 0, 0, 0, 0, 0, 0, 0, 0,\n",
            "         0, 0, 0, 0, 0, 0, 0, 0, 0, 0, 0, 0, 0, 0, 0, 0, 0, 0, 0, 0, 0, 0, 0, 0,\n",
            "         0, 0, 0, 0, 0, 0, 0, 0, 0, 0, 0, 0, 0, 0, 0, 0, 0, 0, 0, 0, 0, 0, 0, 0,\n",
            "         0, 0, 0, 0, 0, 0, 0, 0, 0, 0, 0, 0, 0, 0, 0, 0, 0, 0, 0, 0, 0, 0, 0, 0,\n",
            "         0, 0, 0, 0, 0, 0, 0, 0, 0, 0, 0, 0, 0, 0, 0, 0, 0, 0, 0, 0, 0, 0, 0, 0,\n",
            "         0, 0, 0, 0, 0, 0, 0, 0, 0, 0, 0, 0, 0, 0, 0, 0, 0, 0, 0, 0, 0, 0, 0, 0,\n",
            "         0, 0, 0, 0, 0, 0, 0, 0, 0, 0, 0, 0, 0, 0, 0, 0, 0, 0, 0, 0, 0, 0, 0, 0,\n",
            "         0, 0, 0, 0, 0, 0, 0, 0, 0, 0, 0, 0, 0, 0, 0, 0, 0, 0, 0, 0, 0, 0, 0, 0,\n",
            "         0, 0, 0, 0, 0, 0, 0, 0, 0, 0, 0, 0, 0, 0, 0, 0, 0, 0, 0, 0, 0, 0, 0, 0,\n",
            "         0, 0, 0, 0, 0, 0, 0, 0, 0, 0, 0, 0, 0, 0, 0, 0, 0, 0, 0, 0, 0, 0, 0, 0,\n",
            "         0, 0, 0, 0, 0, 0, 0, 0]])}\n"
          ]
        }
      ]
    },
    {
      "cell_type": "code",
      "source": [
        "print(tokenizer.decode(text_tokenized.input_ids[0]))"
      ],
      "metadata": {
        "colab": {
          "base_uri": "https://localhost:8080/"
        },
        "id": "PP2ZQh0kK_Xw",
        "outputId": "df2c69aa-a822-4fe0-a742-a00ab165fbd2"
      },
      "execution_count": 15,
      "outputs": [
        {
          "output_type": "stream",
          "name": "stdout",
          "text": [
            "[CLS] 5번째 차량 ( 3513호 ) 앞 대차가 선로 우측으로 탈선하였다. [SEP] [PAD] [PAD] [PAD] [PAD] [PAD] [PAD] [PAD] [PAD] [PAD] [PAD] [PAD] [PAD] [PAD] [PAD] [PAD] [PAD] [PAD] [PAD] [PAD] [PAD] [PAD] [PAD] [PAD] [PAD] [PAD] [PAD] [PAD] [PAD] [PAD] [PAD] [PAD] [PAD] [PAD] [PAD] [PAD] [PAD] [PAD] [PAD] [PAD] [PAD] [PAD] [PAD] [PAD] [PAD] [PAD] [PAD] [PAD] [PAD] [PAD] [PAD] [PAD] [PAD] [PAD] [PAD] [PAD] [PAD] [PAD] [PAD] [PAD] [PAD] [PAD] [PAD] [PAD] [PAD] [PAD] [PAD] [PAD] [PAD] [PAD] [PAD] [PAD] [PAD] [PAD] [PAD] [PAD] [PAD] [PAD] [PAD] [PAD] [PAD] [PAD] [PAD] [PAD] [PAD] [PAD] [PAD] [PAD] [PAD] [PAD] [PAD] [PAD] [PAD] [PAD] [PAD] [PAD] [PAD] [PAD] [PAD] [PAD] [PAD] [PAD] [PAD] [PAD] [PAD] [PAD] [PAD] [PAD] [PAD] [PAD] [PAD] [PAD] [PAD] [PAD] [PAD] [PAD] [PAD] [PAD] [PAD] [PAD] [PAD] [PAD] [PAD] [PAD] [PAD] [PAD] [PAD] [PAD] [PAD] [PAD] [PAD] [PAD] [PAD] [PAD] [PAD] [PAD] [PAD] [PAD] [PAD] [PAD] [PAD] [PAD] [PAD] [PAD] [PAD] [PAD] [PAD] [PAD] [PAD] [PAD] [PAD] [PAD] [PAD] [PAD] [PAD] [PAD] [PAD] [PAD] [PAD] [PAD] [PAD] [PAD] [PAD] [PAD] [PAD] [PAD] [PAD] [PAD] [PAD] [PAD] [PAD] [PAD] [PAD] [PAD] [PAD] [PAD] [PAD] [PAD] [PAD] [PAD] [PAD] [PAD] [PAD] [PAD] [PAD] [PAD] [PAD] [PAD] [PAD] [PAD] [PAD] [PAD] [PAD] [PAD] [PAD] [PAD] [PAD] [PAD] [PAD] [PAD] [PAD] [PAD] [PAD] [PAD] [PAD] [PAD] [PAD] [PAD] [PAD] [PAD] [PAD] [PAD] [PAD] [PAD] [PAD] [PAD] [PAD] [PAD] [PAD] [PAD] [PAD] [PAD] [PAD] [PAD] [PAD] [PAD] [PAD] [PAD] [PAD] [PAD] [PAD] [PAD] [PAD] [PAD] [PAD] [PAD] [PAD] [PAD] [PAD] [PAD] [PAD] [PAD] [PAD] [PAD] [PAD] [PAD] [PAD] [PAD] [PAD] [PAD] [PAD] [PAD] [PAD] [PAD] [PAD] [PAD] [PAD] [PAD] [PAD] [PAD] [PAD] [PAD] [PAD] [PAD] [PAD] [PAD] [PAD] [PAD] [PAD] [PAD] [PAD] [PAD] [PAD] [PAD] [PAD] [PAD] [PAD] [PAD] [PAD] [PAD] [PAD] [PAD] [PAD] [PAD] [PAD] [PAD] [PAD] [PAD] [PAD] [PAD] [PAD] [PAD] [PAD] [PAD] [PAD] [PAD] [PAD] [PAD] [PAD] [PAD] [PAD] [PAD] [PAD] [PAD] [PAD] [PAD] [PAD] [PAD] [PAD] [PAD] [PAD] [PAD] [PAD] [PAD] [PAD] [PAD] [PAD] [PAD] [PAD] [PAD] [PAD] [PAD] [PAD] [PAD] [PAD] [PAD] [PAD] [PAD] [PAD] [PAD] [PAD] [PAD] [PAD] [PAD] [PAD] [PAD] [PAD] [PAD] [PAD] [PAD] [PAD] [PAD] [PAD] [PAD] [PAD] [PAD] [PAD] [PAD] [PAD] [PAD] [PAD] [PAD] [PAD] [PAD] [PAD] [PAD] [PAD] [PAD] [PAD] [PAD] [PAD] [PAD] [PAD] [PAD] [PAD] [PAD] [PAD] [PAD] [PAD] [PAD] [PAD] [PAD] [PAD] [PAD] [PAD] [PAD] [PAD] [PAD] [PAD] [PAD] [PAD] [PAD] [PAD] [PAD] [PAD] [PAD] [PAD] [PAD] [PAD] [PAD] [PAD] [PAD] [PAD] [PAD] [PAD] [PAD] [PAD] [PAD] [PAD] [PAD] [PAD] [PAD] [PAD] [PAD] [PAD] [PAD] [PAD] [PAD] [PAD] [PAD] [PAD] [PAD] [PAD] [PAD] [PAD] [PAD] [PAD] [PAD] [PAD] [PAD] [PAD] [PAD] [PAD] [PAD] [PAD] [PAD] [PAD] [PAD] [PAD] [PAD] [PAD] [PAD] [PAD] [PAD] [PAD] [PAD] [PAD] [PAD] [PAD] [PAD] [PAD] [PAD] [PAD] [PAD] [PAD] [PAD] [PAD] [PAD] [PAD] [PAD] [PAD] [PAD] [PAD] [PAD] [PAD] [PAD] [PAD] [PAD] [PAD] [PAD] [PAD] [PAD] [PAD] [PAD] [PAD] [PAD] [PAD] [PAD] [PAD] [PAD] [PAD] [PAD] [PAD] [PAD] [PAD] [PAD] [PAD] [PAD] [PAD] [PAD] [PAD] [PAD] [PAD] [PAD] [PAD] [PAD] [PAD] [PAD] [PAD]\n"
          ]
        }
      ]
    },
    {
      "cell_type": "code",
      "source": [
        "print(tokenizer.convert_ids_to_tokens(text_tokenized[\"input_ids\"][0]))"
      ],
      "metadata": {
        "colab": {
          "base_uri": "https://localhost:8080/"
        },
        "id": "furIZprjLCV9",
        "outputId": "83b1ce88-a01c-49f4-d7fe-e1620e249a80"
      },
      "execution_count": 16,
      "outputs": [
        {
          "output_type": "stream",
          "name": "stdout",
          "text": [
            "['[CLS]', '5', '##번째', '차', '##량', '(', '351', '##3', '##호', ')', '앞', '대', '##차', '##가', '선', '##로', '우', '##측', '##으로', '탈', '##선', '##하였다', '.', '[SEP]', '[PAD]', '[PAD]', '[PAD]', '[PAD]', '[PAD]', '[PAD]', '[PAD]', '[PAD]', '[PAD]', '[PAD]', '[PAD]', '[PAD]', '[PAD]', '[PAD]', '[PAD]', '[PAD]', '[PAD]', '[PAD]', '[PAD]', '[PAD]', '[PAD]', '[PAD]', '[PAD]', '[PAD]', '[PAD]', '[PAD]', '[PAD]', '[PAD]', '[PAD]', '[PAD]', '[PAD]', '[PAD]', '[PAD]', '[PAD]', '[PAD]', '[PAD]', '[PAD]', '[PAD]', '[PAD]', '[PAD]', '[PAD]', '[PAD]', '[PAD]', '[PAD]', '[PAD]', '[PAD]', '[PAD]', '[PAD]', '[PAD]', '[PAD]', '[PAD]', '[PAD]', '[PAD]', '[PAD]', '[PAD]', '[PAD]', '[PAD]', '[PAD]', '[PAD]', '[PAD]', '[PAD]', '[PAD]', '[PAD]', '[PAD]', '[PAD]', '[PAD]', '[PAD]', '[PAD]', '[PAD]', '[PAD]', '[PAD]', '[PAD]', '[PAD]', '[PAD]', '[PAD]', '[PAD]', '[PAD]', '[PAD]', '[PAD]', '[PAD]', '[PAD]', '[PAD]', '[PAD]', '[PAD]', '[PAD]', '[PAD]', '[PAD]', '[PAD]', '[PAD]', '[PAD]', '[PAD]', '[PAD]', '[PAD]', '[PAD]', '[PAD]', '[PAD]', '[PAD]', '[PAD]', '[PAD]', '[PAD]', '[PAD]', '[PAD]', '[PAD]', '[PAD]', '[PAD]', '[PAD]', '[PAD]', '[PAD]', '[PAD]', '[PAD]', '[PAD]', '[PAD]', '[PAD]', '[PAD]', '[PAD]', '[PAD]', '[PAD]', '[PAD]', '[PAD]', '[PAD]', '[PAD]', '[PAD]', '[PAD]', '[PAD]', '[PAD]', '[PAD]', '[PAD]', '[PAD]', '[PAD]', '[PAD]', '[PAD]', '[PAD]', '[PAD]', '[PAD]', '[PAD]', '[PAD]', '[PAD]', '[PAD]', '[PAD]', '[PAD]', '[PAD]', '[PAD]', '[PAD]', '[PAD]', '[PAD]', '[PAD]', '[PAD]', '[PAD]', '[PAD]', '[PAD]', '[PAD]', '[PAD]', '[PAD]', '[PAD]', '[PAD]', '[PAD]', '[PAD]', '[PAD]', '[PAD]', '[PAD]', '[PAD]', '[PAD]', '[PAD]', '[PAD]', '[PAD]', '[PAD]', '[PAD]', '[PAD]', '[PAD]', '[PAD]', '[PAD]', '[PAD]', '[PAD]', '[PAD]', '[PAD]', '[PAD]', '[PAD]', '[PAD]', '[PAD]', '[PAD]', '[PAD]', '[PAD]', '[PAD]', '[PAD]', '[PAD]', '[PAD]', '[PAD]', '[PAD]', '[PAD]', '[PAD]', '[PAD]', '[PAD]', '[PAD]', '[PAD]', '[PAD]', '[PAD]', '[PAD]', '[PAD]', '[PAD]', '[PAD]', '[PAD]', '[PAD]', '[PAD]', '[PAD]', '[PAD]', '[PAD]', '[PAD]', '[PAD]', '[PAD]', '[PAD]', '[PAD]', '[PAD]', '[PAD]', '[PAD]', '[PAD]', '[PAD]', '[PAD]', '[PAD]', '[PAD]', '[PAD]', '[PAD]', '[PAD]', '[PAD]', '[PAD]', '[PAD]', '[PAD]', '[PAD]', '[PAD]', '[PAD]', '[PAD]', '[PAD]', '[PAD]', '[PAD]', '[PAD]', '[PAD]', '[PAD]', '[PAD]', '[PAD]', '[PAD]', '[PAD]', '[PAD]', '[PAD]', '[PAD]', '[PAD]', '[PAD]', '[PAD]', '[PAD]', '[PAD]', '[PAD]', '[PAD]', '[PAD]', '[PAD]', '[PAD]', '[PAD]', '[PAD]', '[PAD]', '[PAD]', '[PAD]', '[PAD]', '[PAD]', '[PAD]', '[PAD]', '[PAD]', '[PAD]', '[PAD]', '[PAD]', '[PAD]', '[PAD]', '[PAD]', '[PAD]', '[PAD]', '[PAD]', '[PAD]', '[PAD]', '[PAD]', '[PAD]', '[PAD]', '[PAD]', '[PAD]', '[PAD]', '[PAD]', '[PAD]', '[PAD]', '[PAD]', '[PAD]', '[PAD]', '[PAD]', '[PAD]', '[PAD]', '[PAD]', '[PAD]', '[PAD]', '[PAD]', '[PAD]', '[PAD]', '[PAD]', '[PAD]', '[PAD]', '[PAD]', '[PAD]', '[PAD]', '[PAD]', '[PAD]', '[PAD]', '[PAD]', '[PAD]', '[PAD]', '[PAD]', '[PAD]', '[PAD]', '[PAD]', '[PAD]', '[PAD]', '[PAD]', '[PAD]', '[PAD]', '[PAD]', '[PAD]', '[PAD]', '[PAD]', '[PAD]', '[PAD]', '[PAD]', '[PAD]', '[PAD]', '[PAD]', '[PAD]', '[PAD]', '[PAD]', '[PAD]', '[PAD]', '[PAD]', '[PAD]', '[PAD]', '[PAD]', '[PAD]', '[PAD]', '[PAD]', '[PAD]', '[PAD]', '[PAD]', '[PAD]', '[PAD]', '[PAD]', '[PAD]', '[PAD]', '[PAD]', '[PAD]', '[PAD]', '[PAD]', '[PAD]', '[PAD]', '[PAD]', '[PAD]', '[PAD]', '[PAD]', '[PAD]', '[PAD]', '[PAD]', '[PAD]', '[PAD]', '[PAD]', '[PAD]', '[PAD]', '[PAD]', '[PAD]', '[PAD]', '[PAD]', '[PAD]', '[PAD]', '[PAD]', '[PAD]', '[PAD]', '[PAD]', '[PAD]', '[PAD]', '[PAD]', '[PAD]', '[PAD]', '[PAD]', '[PAD]', '[PAD]', '[PAD]', '[PAD]', '[PAD]', '[PAD]', '[PAD]', '[PAD]', '[PAD]', '[PAD]', '[PAD]', '[PAD]', '[PAD]', '[PAD]', '[PAD]', '[PAD]', '[PAD]', '[PAD]', '[PAD]', '[PAD]', '[PAD]', '[PAD]', '[PAD]', '[PAD]', '[PAD]', '[PAD]', '[PAD]', '[PAD]', '[PAD]', '[PAD]', '[PAD]', '[PAD]', '[PAD]', '[PAD]', '[PAD]', '[PAD]', '[PAD]', '[PAD]', '[PAD]', '[PAD]', '[PAD]', '[PAD]', '[PAD]', '[PAD]', '[PAD]', '[PAD]', '[PAD]', '[PAD]', '[PAD]', '[PAD]', '[PAD]', '[PAD]', '[PAD]', '[PAD]', '[PAD]', '[PAD]', '[PAD]', '[PAD]', '[PAD]', '[PAD]', '[PAD]', '[PAD]', '[PAD]', '[PAD]', '[PAD]', '[PAD]', '[PAD]', '[PAD]', '[PAD]', '[PAD]', '[PAD]', '[PAD]', '[PAD]', '[PAD]', '[PAD]', '[PAD]', '[PAD]', '[PAD]', '[PAD]', '[PAD]', '[PAD]', '[PAD]', '[PAD]', '[PAD]', '[PAD]', '[PAD]', '[PAD]', '[PAD]', '[PAD]', '[PAD]', '[PAD]', '[PAD]', '[PAD]', '[PAD]', '[PAD]', '[PAD]', '[PAD]', '[PAD]', '[PAD]', '[PAD]', '[PAD]', '[PAD]', '[PAD]', '[PAD]', '[PAD]', '[PAD]', '[PAD]', '[PAD]']\n"
          ]
        }
      ]
    },
    {
      "cell_type": "code",
      "source": [
        "word_ids = text_tokenized.word_ids()\n",
        "print(tokenizer.convert_ids_to_tokens(text_tokenized[\"input_ids\"][0]))\n",
        "print(word_ids)"
      ],
      "metadata": {
        "colab": {
          "base_uri": "https://localhost:8080/"
        },
        "id": "HrqI8BrwLGNY",
        "outputId": "e22e744f-60a6-4816-f794-669a8ed8b09b"
      },
      "execution_count": 17,
      "outputs": [
        {
          "output_type": "stream",
          "name": "stdout",
          "text": [
            "['[CLS]', '5', '##번째', '차', '##량', '(', '351', '##3', '##호', ')', '앞', '대', '##차', '##가', '선', '##로', '우', '##측', '##으로', '탈', '##선', '##하였다', '.', '[SEP]', '[PAD]', '[PAD]', '[PAD]', '[PAD]', '[PAD]', '[PAD]', '[PAD]', '[PAD]', '[PAD]', '[PAD]', '[PAD]', '[PAD]', '[PAD]', '[PAD]', '[PAD]', '[PAD]', '[PAD]', '[PAD]', '[PAD]', '[PAD]', '[PAD]', '[PAD]', '[PAD]', '[PAD]', '[PAD]', '[PAD]', '[PAD]', '[PAD]', '[PAD]', '[PAD]', '[PAD]', '[PAD]', '[PAD]', '[PAD]', '[PAD]', '[PAD]', '[PAD]', '[PAD]', '[PAD]', '[PAD]', '[PAD]', '[PAD]', '[PAD]', '[PAD]', '[PAD]', '[PAD]', '[PAD]', '[PAD]', '[PAD]', '[PAD]', '[PAD]', '[PAD]', '[PAD]', '[PAD]', '[PAD]', '[PAD]', '[PAD]', '[PAD]', '[PAD]', '[PAD]', '[PAD]', '[PAD]', '[PAD]', '[PAD]', '[PAD]', '[PAD]', '[PAD]', '[PAD]', '[PAD]', '[PAD]', '[PAD]', '[PAD]', '[PAD]', '[PAD]', '[PAD]', '[PAD]', '[PAD]', '[PAD]', '[PAD]', '[PAD]', '[PAD]', '[PAD]', '[PAD]', '[PAD]', '[PAD]', '[PAD]', '[PAD]', '[PAD]', '[PAD]', '[PAD]', '[PAD]', '[PAD]', '[PAD]', '[PAD]', '[PAD]', '[PAD]', '[PAD]', '[PAD]', '[PAD]', '[PAD]', '[PAD]', '[PAD]', '[PAD]', '[PAD]', '[PAD]', '[PAD]', '[PAD]', '[PAD]', '[PAD]', '[PAD]', '[PAD]', '[PAD]', '[PAD]', '[PAD]', '[PAD]', '[PAD]', '[PAD]', '[PAD]', '[PAD]', '[PAD]', '[PAD]', '[PAD]', '[PAD]', '[PAD]', '[PAD]', '[PAD]', '[PAD]', '[PAD]', '[PAD]', '[PAD]', '[PAD]', '[PAD]', '[PAD]', '[PAD]', '[PAD]', '[PAD]', '[PAD]', '[PAD]', '[PAD]', '[PAD]', '[PAD]', '[PAD]', '[PAD]', '[PAD]', '[PAD]', '[PAD]', '[PAD]', '[PAD]', '[PAD]', '[PAD]', '[PAD]', '[PAD]', '[PAD]', '[PAD]', '[PAD]', '[PAD]', '[PAD]', '[PAD]', '[PAD]', '[PAD]', '[PAD]', '[PAD]', '[PAD]', '[PAD]', '[PAD]', '[PAD]', '[PAD]', '[PAD]', '[PAD]', '[PAD]', '[PAD]', '[PAD]', '[PAD]', '[PAD]', '[PAD]', '[PAD]', '[PAD]', '[PAD]', '[PAD]', '[PAD]', '[PAD]', '[PAD]', '[PAD]', '[PAD]', '[PAD]', '[PAD]', '[PAD]', '[PAD]', '[PAD]', '[PAD]', '[PAD]', '[PAD]', '[PAD]', '[PAD]', '[PAD]', '[PAD]', '[PAD]', '[PAD]', '[PAD]', '[PAD]', '[PAD]', '[PAD]', '[PAD]', '[PAD]', '[PAD]', '[PAD]', '[PAD]', '[PAD]', '[PAD]', '[PAD]', '[PAD]', '[PAD]', '[PAD]', '[PAD]', '[PAD]', '[PAD]', '[PAD]', '[PAD]', '[PAD]', '[PAD]', '[PAD]', '[PAD]', '[PAD]', '[PAD]', '[PAD]', '[PAD]', '[PAD]', '[PAD]', '[PAD]', '[PAD]', '[PAD]', '[PAD]', '[PAD]', '[PAD]', '[PAD]', '[PAD]', '[PAD]', '[PAD]', '[PAD]', '[PAD]', '[PAD]', '[PAD]', '[PAD]', '[PAD]', '[PAD]', '[PAD]', '[PAD]', '[PAD]', '[PAD]', '[PAD]', '[PAD]', '[PAD]', '[PAD]', '[PAD]', '[PAD]', '[PAD]', '[PAD]', '[PAD]', '[PAD]', '[PAD]', '[PAD]', '[PAD]', '[PAD]', '[PAD]', '[PAD]', '[PAD]', '[PAD]', '[PAD]', '[PAD]', '[PAD]', '[PAD]', '[PAD]', '[PAD]', '[PAD]', '[PAD]', '[PAD]', '[PAD]', '[PAD]', '[PAD]', '[PAD]', '[PAD]', '[PAD]', '[PAD]', '[PAD]', '[PAD]', '[PAD]', '[PAD]', '[PAD]', '[PAD]', '[PAD]', '[PAD]', '[PAD]', '[PAD]', '[PAD]', '[PAD]', '[PAD]', '[PAD]', '[PAD]', '[PAD]', '[PAD]', '[PAD]', '[PAD]', '[PAD]', '[PAD]', '[PAD]', '[PAD]', '[PAD]', '[PAD]', '[PAD]', '[PAD]', '[PAD]', '[PAD]', '[PAD]', '[PAD]', '[PAD]', '[PAD]', '[PAD]', '[PAD]', '[PAD]', '[PAD]', '[PAD]', '[PAD]', '[PAD]', '[PAD]', '[PAD]', '[PAD]', '[PAD]', '[PAD]', '[PAD]', '[PAD]', '[PAD]', '[PAD]', '[PAD]', '[PAD]', '[PAD]', '[PAD]', '[PAD]', '[PAD]', '[PAD]', '[PAD]', '[PAD]', '[PAD]', '[PAD]', '[PAD]', '[PAD]', '[PAD]', '[PAD]', '[PAD]', '[PAD]', '[PAD]', '[PAD]', '[PAD]', '[PAD]', '[PAD]', '[PAD]', '[PAD]', '[PAD]', '[PAD]', '[PAD]', '[PAD]', '[PAD]', '[PAD]', '[PAD]', '[PAD]', '[PAD]', '[PAD]', '[PAD]', '[PAD]', '[PAD]', '[PAD]', '[PAD]', '[PAD]', '[PAD]', '[PAD]', '[PAD]', '[PAD]', '[PAD]', '[PAD]', '[PAD]', '[PAD]', '[PAD]', '[PAD]', '[PAD]', '[PAD]', '[PAD]', '[PAD]', '[PAD]', '[PAD]', '[PAD]', '[PAD]', '[PAD]', '[PAD]', '[PAD]', '[PAD]', '[PAD]', '[PAD]', '[PAD]', '[PAD]', '[PAD]', '[PAD]', '[PAD]', '[PAD]', '[PAD]', '[PAD]', '[PAD]', '[PAD]', '[PAD]', '[PAD]', '[PAD]', '[PAD]', '[PAD]', '[PAD]', '[PAD]', '[PAD]', '[PAD]', '[PAD]', '[PAD]', '[PAD]', '[PAD]', '[PAD]', '[PAD]', '[PAD]', '[PAD]', '[PAD]', '[PAD]', '[PAD]', '[PAD]', '[PAD]', '[PAD]', '[PAD]', '[PAD]', '[PAD]', '[PAD]', '[PAD]', '[PAD]', '[PAD]', '[PAD]', '[PAD]', '[PAD]', '[PAD]', '[PAD]', '[PAD]', '[PAD]', '[PAD]', '[PAD]', '[PAD]', '[PAD]', '[PAD]', '[PAD]', '[PAD]', '[PAD]', '[PAD]', '[PAD]', '[PAD]', '[PAD]', '[PAD]', '[PAD]', '[PAD]', '[PAD]', '[PAD]', '[PAD]', '[PAD]', '[PAD]', '[PAD]', '[PAD]', '[PAD]', '[PAD]', '[PAD]', '[PAD]', '[PAD]', '[PAD]', '[PAD]', '[PAD]', '[PAD]', '[PAD]', '[PAD]', '[PAD]', '[PAD]', '[PAD]', '[PAD]', '[PAD]', '[PAD]', '[PAD]', '[PAD]', '[PAD]', '[PAD]', '[PAD]', '[PAD]']\n",
            "[None, 0, 0, 1, 1, 2, 3, 3, 3, 4, 5, 6, 6, 6, 7, 7, 8, 8, 8, 9, 9, 9, 10, None, None, None, None, None, None, None, None, None, None, None, None, None, None, None, None, None, None, None, None, None, None, None, None, None, None, None, None, None, None, None, None, None, None, None, None, None, None, None, None, None, None, None, None, None, None, None, None, None, None, None, None, None, None, None, None, None, None, None, None, None, None, None, None, None, None, None, None, None, None, None, None, None, None, None, None, None, None, None, None, None, None, None, None, None, None, None, None, None, None, None, None, None, None, None, None, None, None, None, None, None, None, None, None, None, None, None, None, None, None, None, None, None, None, None, None, None, None, None, None, None, None, None, None, None, None, None, None, None, None, None, None, None, None, None, None, None, None, None, None, None, None, None, None, None, None, None, None, None, None, None, None, None, None, None, None, None, None, None, None, None, None, None, None, None, None, None, None, None, None, None, None, None, None, None, None, None, None, None, None, None, None, None, None, None, None, None, None, None, None, None, None, None, None, None, None, None, None, None, None, None, None, None, None, None, None, None, None, None, None, None, None, None, None, None, None, None, None, None, None, None, None, None, None, None, None, None, None, None, None, None, None, None, None, None, None, None, None, None, None, None, None, None, None, None, None, None, None, None, None, None, None, None, None, None, None, None, None, None, None, None, None, None, None, None, None, None, None, None, None, None, None, None, None, None, None, None, None, None, None, None, None, None, None, None, None, None, None, None, None, None, None, None, None, None, None, None, None, None, None, None, None, None, None, None, None, None, None, None, None, None, None, None, None, None, None, None, None, None, None, None, None, None, None, None, None, None, None, None, None, None, None, None, None, None, None, None, None, None, None, None, None, None, None, None, None, None, None, None, None, None, None, None, None, None, None, None, None, None, None, None, None, None, None, None, None, None, None, None, None, None, None, None, None, None, None, None, None, None, None, None, None, None, None, None, None, None, None, None, None, None, None, None, None, None, None, None, None, None, None, None, None, None, None, None, None, None, None, None, None, None, None, None, None, None, None, None, None, None, None, None, None, None, None, None, None, None, None, None, None, None, None, None, None, None, None, None, None, None, None, None, None, None, None, None, None, None, None, None, None, None, None, None, None, None, None, None, None, None, None, None, None, None, None, None, None, None, None, None, None, None, None, None, None, None, None, None, None, None, None, None, None, None, None, None, None, None, None, None]\n"
          ]
        }
      ]
    },
    {
      "cell_type": "code",
      "source": [
        "def align_label_example(tokenized_input, labels):\n",
        "\n",
        "        word_ids = tokenized_input.word_ids()\n",
        "\n",
        "        previous_word_idx = None\n",
        "        label_ids = []\n",
        "   \n",
        "        for word_idx in word_ids:\n",
        "\n",
        "            if word_idx is None:\n",
        "                label_ids.append(-100)\n",
        "                \n",
        "            elif word_idx != previous_word_idx:\n",
        "                try:\n",
        "                  label_ids.append(labels_to_ids[labels[word_idx]])\n",
        "                except:\n",
        "                  label_ids.append(-100)\n",
        "        \n",
        "            else:\n",
        "                label_ids.append(labels_to_ids[labels[word_idx]] if label_all_tokens else -100)\n",
        "            previous_word_idx = word_idx\n",
        "      \n",
        "\n",
        "        return label_ids"
      ],
      "metadata": {
        "id": "4_2BrKc7ifJW"
      },
      "execution_count": 20,
      "outputs": []
    },
    {
      "cell_type": "code",
      "source": [
        "label = labels[0]\n",
        "print(label)"
      ],
      "metadata": {
        "colab": {
          "base_uri": "https://localhost:8080/"
        },
        "id": "iLXfv3lqjeG9",
        "outputId": "ad793fa6-709e-4698-9021-2c0a536d4b71"
      },
      "execution_count": 25,
      "outputs": [
        {
          "output_type": "stream",
          "name": "stdout",
          "text": [
            "['O', 'OBJECT', 'O', 'O', 'O', 'O', 'OBJECT', 'O', 'O', 'ACCIDENT', 'O']\n"
          ]
        }
      ]
    },
    {
      "cell_type": "code",
      "source": [
        "label_all_tokens = True\n",
        "\n",
        "new_label = align_label_example(text_tokenized, label)\n",
        "print(new_label)\n",
        "print(tokenizer.convert_ids_to_tokens(text_tokenized[\"input_ids\"][0]))\n",
        "\n",
        "label_all_tokens = False\n",
        "\n",
        "new_label = align_label_example(text_tokenized, label)\n",
        "print(new_label)\n",
        "print(tokenizer.convert_ids_to_tokens(text_tokenized[\"input_ids\"][0]))"
      ],
      "metadata": {
        "colab": {
          "base_uri": "https://localhost:8080/"
        },
        "id": "mJSWItXyihTZ",
        "outputId": "5876af81-15c2-403e-e017-9f294ebc6767"
      },
      "execution_count": 26,
      "outputs": [
        {
          "output_type": "stream",
          "name": "stdout",
          "text": [
            "[-100, 1, 1, 2, 2, 1, 1, 1, 1, 1, 1, 2, 2, 2, 1, 1, 1, 1, 1, 0, 0, 0, 1, -100, -100, -100, -100, -100, -100, -100, -100, -100, -100, -100, -100, -100, -100, -100, -100, -100, -100, -100, -100, -100, -100, -100, -100, -100, -100, -100, -100, -100, -100, -100, -100, -100, -100, -100, -100, -100, -100, -100, -100, -100, -100, -100, -100, -100, -100, -100, -100, -100, -100, -100, -100, -100, -100, -100, -100, -100, -100, -100, -100, -100, -100, -100, -100, -100, -100, -100, -100, -100, -100, -100, -100, -100, -100, -100, -100, -100, -100, -100, -100, -100, -100, -100, -100, -100, -100, -100, -100, -100, -100, -100, -100, -100, -100, -100, -100, -100, -100, -100, -100, -100, -100, -100, -100, -100, -100, -100, -100, -100, -100, -100, -100, -100, -100, -100, -100, -100, -100, -100, -100, -100, -100, -100, -100, -100, -100, -100, -100, -100, -100, -100, -100, -100, -100, -100, -100, -100, -100, -100, -100, -100, -100, -100, -100, -100, -100, -100, -100, -100, -100, -100, -100, -100, -100, -100, -100, -100, -100, -100, -100, -100, -100, -100, -100, -100, -100, -100, -100, -100, -100, -100, -100, -100, -100, -100, -100, -100, -100, -100, -100, -100, -100, -100, -100, -100, -100, -100, -100, -100, -100, -100, -100, -100, -100, -100, -100, -100, -100, -100, -100, -100, -100, -100, -100, -100, -100, -100, -100, -100, -100, -100, -100, -100, -100, -100, -100, -100, -100, -100, -100, -100, -100, -100, -100, -100, -100, -100, -100, -100, -100, -100, -100, -100, -100, -100, -100, -100, -100, -100, -100, -100, -100, -100, -100, -100, -100, -100, -100, -100, -100, -100, -100, -100, -100, -100, -100, -100, -100, -100, -100, -100, -100, -100, -100, -100, -100, -100, -100, -100, -100, -100, -100, -100, -100, -100, -100, -100, -100, -100, -100, -100, -100, -100, -100, -100, -100, -100, -100, -100, -100, -100, -100, -100, -100, -100, -100, -100, -100, -100, -100, -100, -100, -100, -100, -100, -100, -100, -100, -100, -100, -100, -100, -100, -100, -100, -100, -100, -100, -100, -100, -100, -100, -100, -100, -100, -100, -100, -100, -100, -100, -100, -100, -100, -100, -100, -100, -100, -100, -100, -100, -100, -100, -100, -100, -100, -100, -100, -100, -100, -100, -100, -100, -100, -100, -100, -100, -100, -100, -100, -100, -100, -100, -100, -100, -100, -100, -100, -100, -100, -100, -100, -100, -100, -100, -100, -100, -100, -100, -100, -100, -100, -100, -100, -100, -100, -100, -100, -100, -100, -100, -100, -100, -100, -100, -100, -100, -100, -100, -100, -100, -100, -100, -100, -100, -100, -100, -100, -100, -100, -100, -100, -100, -100, -100, -100, -100, -100, -100, -100, -100, -100, -100, -100, -100, -100, -100, -100, -100, -100, -100, -100, -100, -100, -100, -100, -100, -100, -100, -100, -100, -100, -100, -100, -100, -100, -100, -100, -100, -100, -100, -100, -100, -100, -100, -100, -100, -100, -100, -100, -100, -100, -100, -100, -100, -100, -100, -100, -100, -100, -100, -100, -100, -100, -100, -100, -100, -100, -100, -100, -100, -100, -100, -100, -100, -100, -100, -100, -100, -100]\n",
            "['[CLS]', '5', '##번째', '차', '##량', '(', '351', '##3', '##호', ')', '앞', '대', '##차', '##가', '선', '##로', '우', '##측', '##으로', '탈', '##선', '##하였다', '.', '[SEP]', '[PAD]', '[PAD]', '[PAD]', '[PAD]', '[PAD]', '[PAD]', '[PAD]', '[PAD]', '[PAD]', '[PAD]', '[PAD]', '[PAD]', '[PAD]', '[PAD]', '[PAD]', '[PAD]', '[PAD]', '[PAD]', '[PAD]', '[PAD]', '[PAD]', '[PAD]', '[PAD]', '[PAD]', '[PAD]', '[PAD]', '[PAD]', '[PAD]', '[PAD]', '[PAD]', '[PAD]', '[PAD]', '[PAD]', '[PAD]', '[PAD]', '[PAD]', '[PAD]', '[PAD]', '[PAD]', '[PAD]', '[PAD]', '[PAD]', '[PAD]', '[PAD]', '[PAD]', '[PAD]', '[PAD]', '[PAD]', '[PAD]', '[PAD]', '[PAD]', '[PAD]', '[PAD]', '[PAD]', '[PAD]', '[PAD]', '[PAD]', '[PAD]', '[PAD]', '[PAD]', '[PAD]', '[PAD]', '[PAD]', '[PAD]', '[PAD]', '[PAD]', '[PAD]', '[PAD]', '[PAD]', '[PAD]', '[PAD]', '[PAD]', '[PAD]', '[PAD]', '[PAD]', '[PAD]', '[PAD]', '[PAD]', '[PAD]', '[PAD]', '[PAD]', '[PAD]', '[PAD]', '[PAD]', '[PAD]', '[PAD]', '[PAD]', '[PAD]', '[PAD]', '[PAD]', '[PAD]', '[PAD]', '[PAD]', '[PAD]', '[PAD]', '[PAD]', '[PAD]', '[PAD]', '[PAD]', '[PAD]', '[PAD]', '[PAD]', '[PAD]', '[PAD]', '[PAD]', '[PAD]', '[PAD]', '[PAD]', '[PAD]', '[PAD]', '[PAD]', '[PAD]', '[PAD]', '[PAD]', '[PAD]', '[PAD]', '[PAD]', '[PAD]', '[PAD]', '[PAD]', '[PAD]', '[PAD]', '[PAD]', '[PAD]', '[PAD]', '[PAD]', '[PAD]', '[PAD]', '[PAD]', '[PAD]', '[PAD]', '[PAD]', '[PAD]', '[PAD]', '[PAD]', '[PAD]', '[PAD]', '[PAD]', '[PAD]', '[PAD]', '[PAD]', '[PAD]', '[PAD]', '[PAD]', '[PAD]', '[PAD]', '[PAD]', '[PAD]', '[PAD]', '[PAD]', '[PAD]', '[PAD]', '[PAD]', '[PAD]', '[PAD]', '[PAD]', '[PAD]', '[PAD]', '[PAD]', '[PAD]', '[PAD]', '[PAD]', '[PAD]', '[PAD]', '[PAD]', '[PAD]', '[PAD]', '[PAD]', '[PAD]', '[PAD]', '[PAD]', '[PAD]', '[PAD]', '[PAD]', '[PAD]', '[PAD]', '[PAD]', '[PAD]', '[PAD]', '[PAD]', '[PAD]', '[PAD]', '[PAD]', '[PAD]', '[PAD]', '[PAD]', '[PAD]', '[PAD]', '[PAD]', '[PAD]', '[PAD]', '[PAD]', '[PAD]', '[PAD]', '[PAD]', '[PAD]', '[PAD]', '[PAD]', '[PAD]', '[PAD]', '[PAD]', '[PAD]', '[PAD]', '[PAD]', '[PAD]', '[PAD]', '[PAD]', '[PAD]', '[PAD]', '[PAD]', '[PAD]', '[PAD]', '[PAD]', '[PAD]', '[PAD]', '[PAD]', '[PAD]', '[PAD]', '[PAD]', '[PAD]', '[PAD]', '[PAD]', '[PAD]', '[PAD]', '[PAD]', '[PAD]', '[PAD]', '[PAD]', '[PAD]', '[PAD]', '[PAD]', '[PAD]', '[PAD]', '[PAD]', '[PAD]', '[PAD]', '[PAD]', '[PAD]', '[PAD]', '[PAD]', '[PAD]', '[PAD]', '[PAD]', '[PAD]', '[PAD]', '[PAD]', '[PAD]', '[PAD]', '[PAD]', '[PAD]', '[PAD]', '[PAD]', '[PAD]', '[PAD]', '[PAD]', '[PAD]', '[PAD]', '[PAD]', '[PAD]', '[PAD]', '[PAD]', '[PAD]', '[PAD]', '[PAD]', '[PAD]', '[PAD]', '[PAD]', '[PAD]', '[PAD]', '[PAD]', '[PAD]', '[PAD]', '[PAD]', '[PAD]', '[PAD]', '[PAD]', '[PAD]', '[PAD]', '[PAD]', '[PAD]', '[PAD]', '[PAD]', '[PAD]', '[PAD]', '[PAD]', '[PAD]', '[PAD]', '[PAD]', '[PAD]', '[PAD]', '[PAD]', '[PAD]', '[PAD]', '[PAD]', '[PAD]', '[PAD]', '[PAD]', '[PAD]', '[PAD]', '[PAD]', '[PAD]', '[PAD]', '[PAD]', '[PAD]', '[PAD]', '[PAD]', '[PAD]', '[PAD]', '[PAD]', '[PAD]', '[PAD]', '[PAD]', '[PAD]', '[PAD]', '[PAD]', '[PAD]', '[PAD]', '[PAD]', '[PAD]', '[PAD]', '[PAD]', '[PAD]', '[PAD]', '[PAD]', '[PAD]', '[PAD]', '[PAD]', '[PAD]', '[PAD]', '[PAD]', '[PAD]', '[PAD]', '[PAD]', '[PAD]', '[PAD]', '[PAD]', '[PAD]', '[PAD]', '[PAD]', '[PAD]', '[PAD]', '[PAD]', '[PAD]', '[PAD]', '[PAD]', '[PAD]', '[PAD]', '[PAD]', '[PAD]', '[PAD]', '[PAD]', '[PAD]', '[PAD]', '[PAD]', '[PAD]', '[PAD]', '[PAD]', '[PAD]', '[PAD]', '[PAD]', '[PAD]', '[PAD]', '[PAD]', '[PAD]', '[PAD]', '[PAD]', '[PAD]', '[PAD]', '[PAD]', '[PAD]', '[PAD]', '[PAD]', '[PAD]', '[PAD]', '[PAD]', '[PAD]', '[PAD]', '[PAD]', '[PAD]', '[PAD]', '[PAD]', '[PAD]', '[PAD]', '[PAD]', '[PAD]', '[PAD]', '[PAD]', '[PAD]', '[PAD]', '[PAD]', '[PAD]', '[PAD]', '[PAD]', '[PAD]', '[PAD]', '[PAD]', '[PAD]', '[PAD]', '[PAD]', '[PAD]', '[PAD]', '[PAD]', '[PAD]', '[PAD]', '[PAD]', '[PAD]', '[PAD]', '[PAD]', '[PAD]', '[PAD]', '[PAD]', '[PAD]', '[PAD]', '[PAD]', '[PAD]', '[PAD]', '[PAD]', '[PAD]', '[PAD]', '[PAD]', '[PAD]', '[PAD]', '[PAD]', '[PAD]', '[PAD]', '[PAD]', '[PAD]', '[PAD]', '[PAD]', '[PAD]', '[PAD]', '[PAD]', '[PAD]', '[PAD]', '[PAD]', '[PAD]', '[PAD]', '[PAD]', '[PAD]', '[PAD]', '[PAD]', '[PAD]', '[PAD]', '[PAD]', '[PAD]', '[PAD]', '[PAD]', '[PAD]', '[PAD]', '[PAD]', '[PAD]', '[PAD]', '[PAD]', '[PAD]', '[PAD]', '[PAD]', '[PAD]', '[PAD]', '[PAD]', '[PAD]', '[PAD]', '[PAD]', '[PAD]', '[PAD]', '[PAD]', '[PAD]', '[PAD]', '[PAD]', '[PAD]', '[PAD]', '[PAD]', '[PAD]', '[PAD]', '[PAD]', '[PAD]', '[PAD]', '[PAD]', '[PAD]', '[PAD]', '[PAD]', '[PAD]', '[PAD]', '[PAD]', '[PAD]', '[PAD]', '[PAD]', '[PAD]', '[PAD]']\n",
            "[-100, 1, -100, 2, -100, 1, 1, -100, -100, 1, 1, 2, -100, -100, 1, -100, 1, -100, -100, 0, -100, -100, 1, -100, -100, -100, -100, -100, -100, -100, -100, -100, -100, -100, -100, -100, -100, -100, -100, -100, -100, -100, -100, -100, -100, -100, -100, -100, -100, -100, -100, -100, -100, -100, -100, -100, -100, -100, -100, -100, -100, -100, -100, -100, -100, -100, -100, -100, -100, -100, -100, -100, -100, -100, -100, -100, -100, -100, -100, -100, -100, -100, -100, -100, -100, -100, -100, -100, -100, -100, -100, -100, -100, -100, -100, -100, -100, -100, -100, -100, -100, -100, -100, -100, -100, -100, -100, -100, -100, -100, -100, -100, -100, -100, -100, -100, -100, -100, -100, -100, -100, -100, -100, -100, -100, -100, -100, -100, -100, -100, -100, -100, -100, -100, -100, -100, -100, -100, -100, -100, -100, -100, -100, -100, -100, -100, -100, -100, -100, -100, -100, -100, -100, -100, -100, -100, -100, -100, -100, -100, -100, -100, -100, -100, -100, -100, -100, -100, -100, -100, -100, -100, -100, -100, -100, -100, -100, -100, -100, -100, -100, -100, -100, -100, -100, -100, -100, -100, -100, -100, -100, -100, -100, -100, -100, -100, -100, -100, -100, -100, -100, -100, -100, -100, -100, -100, -100, -100, -100, -100, -100, -100, -100, -100, -100, -100, -100, -100, -100, -100, -100, -100, -100, -100, -100, -100, -100, -100, -100, -100, -100, -100, -100, -100, -100, -100, -100, -100, -100, -100, -100, -100, -100, -100, -100, -100, -100, -100, -100, -100, -100, -100, -100, -100, -100, -100, -100, -100, -100, -100, -100, -100, -100, -100, -100, -100, -100, -100, -100, -100, -100, -100, -100, -100, -100, -100, -100, -100, -100, -100, -100, -100, -100, -100, -100, -100, -100, -100, -100, -100, -100, -100, -100, -100, -100, -100, -100, -100, -100, -100, -100, -100, -100, -100, -100, -100, -100, -100, -100, -100, -100, -100, -100, -100, -100, -100, -100, -100, -100, -100, -100, -100, -100, -100, -100, -100, -100, -100, -100, -100, -100, -100, -100, -100, -100, -100, -100, -100, -100, -100, -100, -100, -100, -100, -100, -100, -100, -100, -100, -100, -100, -100, -100, -100, -100, -100, -100, -100, -100, -100, -100, -100, -100, -100, -100, -100, -100, -100, -100, -100, -100, -100, -100, -100, -100, -100, -100, -100, -100, -100, -100, -100, -100, -100, -100, -100, -100, -100, -100, -100, -100, -100, -100, -100, -100, -100, -100, -100, -100, -100, -100, -100, -100, -100, -100, -100, -100, -100, -100, -100, -100, -100, -100, -100, -100, -100, -100, -100, -100, -100, -100, -100, -100, -100, -100, -100, -100, -100, -100, -100, -100, -100, -100, -100, -100, -100, -100, -100, -100, -100, -100, -100, -100, -100, -100, -100, -100, -100, -100, -100, -100, -100, -100, -100, -100, -100, -100, -100, -100, -100, -100, -100, -100, -100, -100, -100, -100, -100, -100, -100, -100, -100, -100, -100, -100, -100, -100, -100, -100, -100, -100, -100, -100, -100, -100, -100, -100, -100, -100, -100, -100, -100, -100, -100, -100, -100, -100, -100, -100, -100, -100, -100, -100, -100, -100, -100, -100, -100, -100, -100, -100, -100]\n",
            "['[CLS]', '5', '##번째', '차', '##량', '(', '351', '##3', '##호', ')', '앞', '대', '##차', '##가', '선', '##로', '우', '##측', '##으로', '탈', '##선', '##하였다', '.', '[SEP]', '[PAD]', '[PAD]', '[PAD]', '[PAD]', '[PAD]', '[PAD]', '[PAD]', '[PAD]', '[PAD]', '[PAD]', '[PAD]', '[PAD]', '[PAD]', '[PAD]', '[PAD]', '[PAD]', '[PAD]', '[PAD]', '[PAD]', '[PAD]', '[PAD]', '[PAD]', '[PAD]', '[PAD]', '[PAD]', '[PAD]', '[PAD]', '[PAD]', '[PAD]', '[PAD]', '[PAD]', '[PAD]', '[PAD]', '[PAD]', '[PAD]', '[PAD]', '[PAD]', '[PAD]', '[PAD]', '[PAD]', '[PAD]', '[PAD]', '[PAD]', '[PAD]', '[PAD]', '[PAD]', '[PAD]', '[PAD]', '[PAD]', '[PAD]', '[PAD]', '[PAD]', '[PAD]', '[PAD]', '[PAD]', '[PAD]', '[PAD]', '[PAD]', '[PAD]', '[PAD]', '[PAD]', '[PAD]', '[PAD]', '[PAD]', '[PAD]', '[PAD]', '[PAD]', '[PAD]', '[PAD]', '[PAD]', '[PAD]', '[PAD]', '[PAD]', '[PAD]', '[PAD]', '[PAD]', '[PAD]', '[PAD]', '[PAD]', '[PAD]', '[PAD]', '[PAD]', '[PAD]', '[PAD]', '[PAD]', '[PAD]', '[PAD]', '[PAD]', '[PAD]', '[PAD]', '[PAD]', '[PAD]', '[PAD]', '[PAD]', '[PAD]', '[PAD]', '[PAD]', '[PAD]', '[PAD]', '[PAD]', '[PAD]', '[PAD]', '[PAD]', '[PAD]', '[PAD]', '[PAD]', '[PAD]', '[PAD]', '[PAD]', '[PAD]', '[PAD]', '[PAD]', '[PAD]', '[PAD]', '[PAD]', '[PAD]', '[PAD]', '[PAD]', '[PAD]', '[PAD]', '[PAD]', '[PAD]', '[PAD]', '[PAD]', '[PAD]', '[PAD]', '[PAD]', '[PAD]', '[PAD]', '[PAD]', '[PAD]', '[PAD]', '[PAD]', '[PAD]', '[PAD]', '[PAD]', '[PAD]', '[PAD]', '[PAD]', '[PAD]', '[PAD]', '[PAD]', '[PAD]', '[PAD]', '[PAD]', '[PAD]', '[PAD]', '[PAD]', '[PAD]', '[PAD]', '[PAD]', '[PAD]', '[PAD]', '[PAD]', '[PAD]', '[PAD]', '[PAD]', '[PAD]', '[PAD]', '[PAD]', '[PAD]', '[PAD]', '[PAD]', '[PAD]', '[PAD]', '[PAD]', '[PAD]', '[PAD]', '[PAD]', '[PAD]', '[PAD]', '[PAD]', '[PAD]', '[PAD]', '[PAD]', '[PAD]', '[PAD]', '[PAD]', '[PAD]', '[PAD]', '[PAD]', '[PAD]', '[PAD]', '[PAD]', '[PAD]', '[PAD]', '[PAD]', '[PAD]', '[PAD]', '[PAD]', '[PAD]', '[PAD]', '[PAD]', '[PAD]', '[PAD]', '[PAD]', '[PAD]', '[PAD]', '[PAD]', '[PAD]', '[PAD]', '[PAD]', '[PAD]', '[PAD]', '[PAD]', '[PAD]', '[PAD]', '[PAD]', '[PAD]', '[PAD]', '[PAD]', '[PAD]', '[PAD]', '[PAD]', '[PAD]', '[PAD]', '[PAD]', '[PAD]', '[PAD]', '[PAD]', '[PAD]', '[PAD]', '[PAD]', '[PAD]', '[PAD]', '[PAD]', '[PAD]', '[PAD]', '[PAD]', '[PAD]', '[PAD]', '[PAD]', '[PAD]', '[PAD]', '[PAD]', '[PAD]', '[PAD]', '[PAD]', '[PAD]', '[PAD]', '[PAD]', '[PAD]', '[PAD]', '[PAD]', '[PAD]', '[PAD]', '[PAD]', '[PAD]', '[PAD]', '[PAD]', '[PAD]', '[PAD]', '[PAD]', '[PAD]', '[PAD]', '[PAD]', '[PAD]', '[PAD]', '[PAD]', '[PAD]', '[PAD]', '[PAD]', '[PAD]', '[PAD]', '[PAD]', '[PAD]', '[PAD]', '[PAD]', '[PAD]', '[PAD]', '[PAD]', '[PAD]', '[PAD]', '[PAD]', '[PAD]', '[PAD]', '[PAD]', '[PAD]', '[PAD]', '[PAD]', '[PAD]', '[PAD]', '[PAD]', '[PAD]', '[PAD]', '[PAD]', '[PAD]', '[PAD]', '[PAD]', '[PAD]', '[PAD]', '[PAD]', '[PAD]', '[PAD]', '[PAD]', '[PAD]', '[PAD]', '[PAD]', '[PAD]', '[PAD]', '[PAD]', '[PAD]', '[PAD]', '[PAD]', '[PAD]', '[PAD]', '[PAD]', '[PAD]', '[PAD]', '[PAD]', '[PAD]', '[PAD]', '[PAD]', '[PAD]', '[PAD]', '[PAD]', '[PAD]', '[PAD]', '[PAD]', '[PAD]', '[PAD]', '[PAD]', '[PAD]', '[PAD]', '[PAD]', '[PAD]', '[PAD]', '[PAD]', '[PAD]', '[PAD]', '[PAD]', '[PAD]', '[PAD]', '[PAD]', '[PAD]', '[PAD]', '[PAD]', '[PAD]', '[PAD]', '[PAD]', '[PAD]', '[PAD]', '[PAD]', '[PAD]', '[PAD]', '[PAD]', '[PAD]', '[PAD]', '[PAD]', '[PAD]', '[PAD]', '[PAD]', '[PAD]', '[PAD]', '[PAD]', '[PAD]', '[PAD]', '[PAD]', '[PAD]', '[PAD]', '[PAD]', '[PAD]', '[PAD]', '[PAD]', '[PAD]', '[PAD]', '[PAD]', '[PAD]', '[PAD]', '[PAD]', '[PAD]', '[PAD]', '[PAD]', '[PAD]', '[PAD]', '[PAD]', '[PAD]', '[PAD]', '[PAD]', '[PAD]', '[PAD]', '[PAD]', '[PAD]', '[PAD]', '[PAD]', '[PAD]', '[PAD]', '[PAD]', '[PAD]', '[PAD]', '[PAD]', '[PAD]', '[PAD]', '[PAD]', '[PAD]', '[PAD]', '[PAD]', '[PAD]', '[PAD]', '[PAD]', '[PAD]', '[PAD]', '[PAD]', '[PAD]', '[PAD]', '[PAD]', '[PAD]', '[PAD]', '[PAD]', '[PAD]', '[PAD]', '[PAD]', '[PAD]', '[PAD]', '[PAD]', '[PAD]', '[PAD]', '[PAD]', '[PAD]', '[PAD]', '[PAD]', '[PAD]', '[PAD]', '[PAD]', '[PAD]', '[PAD]', '[PAD]', '[PAD]', '[PAD]', '[PAD]', '[PAD]', '[PAD]', '[PAD]', '[PAD]', '[PAD]', '[PAD]', '[PAD]', '[PAD]', '[PAD]', '[PAD]', '[PAD]', '[PAD]', '[PAD]', '[PAD]', '[PAD]', '[PAD]', '[PAD]', '[PAD]', '[PAD]', '[PAD]', '[PAD]', '[PAD]', '[PAD]', '[PAD]', '[PAD]', '[PAD]', '[PAD]', '[PAD]', '[PAD]', '[PAD]', '[PAD]', '[PAD]', '[PAD]', '[PAD]', '[PAD]', '[PAD]', '[PAD]', '[PAD]', '[PAD]', '[PAD]', '[PAD]', '[PAD]', '[PAD]', '[PAD]', '[PAD]', '[PAD]', '[PAD]', '[PAD]', '[PAD]', '[PAD]', '[PAD]', '[PAD]', '[PAD]', '[PAD]', '[PAD]', '[PAD]', '[PAD]', '[PAD]']\n"
          ]
        }
      ]
    },
    {
      "cell_type": "markdown",
      "source": [
        "- 전처리 완료\n",
        "- 학습을 위해 더 많은 데이터 구축... 필요"
      ],
      "metadata": {
        "id": "jdM6JwO5jn-p"
      }
    },
    {
      "cell_type": "code",
      "source": [
        "import torch\n",
        "\n",
        "def align_label(texts, labels):\n",
        "    tokenized_inputs = tokenizer(texts, padding='max_length', max_length=512, truncation=True)\n",
        "\n",
        "    word_ids = tokenized_inputs.word_ids()\n",
        "\n",
        "    previous_word_idx = None\n",
        "    label_ids = []\n",
        "\n",
        "    for word_idx in word_ids:\n",
        "\n",
        "        if word_idx is None:\n",
        "            label_ids.append(-100)\n",
        "\n",
        "        elif word_idx != previous_word_idx:\n",
        "            try:\n",
        "                label_ids.append(labels_to_ids[labels[word_idx]])\n",
        "            except:\n",
        "                label_ids.append(-100)\n",
        "        else:\n",
        "            try:\n",
        "                label_ids.append(labels_to_ids[labels[word_idx]] if label_all_tokens else -100)\n",
        "            except:\n",
        "                label_ids.append(-100)\n",
        "        previous_word_idx = word_idx\n",
        "\n",
        "    return label_ids\n",
        "\n",
        "class DataSequence(torch.utils.data.Dataset):\n",
        "\n",
        "    def __init__(self, df):\n",
        "\n",
        "        lb = [i.split() for i in df['labels'].values.tolist()]\n",
        "        txt = df['text'].values.tolist()\n",
        "        self.texts = [tokenizer(str(i),\n",
        "                               padding='max_length', max_length = 512, truncation=True, return_tensors=\"pt\") for i in txt]\n",
        "        self.labels = [align_label(i,j) for i,j in zip(txt, lb)]\n",
        "\n",
        "    def __len__(self):\n",
        "\n",
        "        return len(self.labels)\n",
        "\n",
        "    def get_batch_data(self, idx):\n",
        "\n",
        "        return self.texts[idx]\n",
        "\n",
        "    def get_batch_labels(self, idx):\n",
        "\n",
        "        return torch.LongTensor(self.labels[idx])\n",
        "\n",
        "    def __getitem__(self, idx):\n",
        "\n",
        "        batch_data = self.get_batch_data(idx)\n",
        "        batch_labels = self.get_batch_labels(idx)\n",
        "\n",
        "        return batch_data, batch_labels"
      ],
      "metadata": {
        "id": "BtlhIaZyjtux"
      },
      "execution_count": null,
      "outputs": []
    },
    {
      "cell_type": "code",
      "source": [
        "import numpy as np\n",
        "\n",
        "df = df[0:1000]\n",
        "df_train, df_val, df_test = np.split(df.sample(frac=1, random_state=42),\n",
        "                            [int(.8 * len(df)), int(.9 * len(df))])"
      ],
      "metadata": {
        "id": "27qP3CVfj1Wj"
      },
      "execution_count": null,
      "outputs": []
    },
    {
      "cell_type": "code",
      "source": [
        "from transformers import BertForTokenClassification\n",
        "\n",
        "class BertModel(torch.nn.Module):\n",
        "\n",
        "    def __init__(self):\n",
        "\n",
        "        super(BertModel, self).__init__()\n",
        "\n",
        "        self.bert = BertForTokenClassification.from_pretrained('bert-base-cased', num_labels=len(unique_labels))\n",
        "\n",
        "    def forward(self, input_id, mask, label):\n",
        "\n",
        "        output = self.bert(input_ids=input_id, attention_mask=mask, labels=label, return_dict=False)\n",
        "\n",
        "        return output"
      ],
      "metadata": {
        "id": "MXDGYbnsj1gu"
      },
      "execution_count": null,
      "outputs": []
    },
    {
      "cell_type": "code",
      "source": [
        "def train_loop(model, df_train, df_val):\n",
        "\n",
        "    train_dataset = DataSequence(df_train)\n",
        "    val_dataset = DataSequence(df_val)\n",
        "\n",
        "    train_dataloader = DataLoader(train_dataset, num_workers=4, batch_size=BATCH_SIZE, shuffle=True)\n",
        "    val_dataloader = DataLoader(val_dataset, num_workers=4, batch_size=BATCH_SIZE)\n",
        "\n",
        "    use_cuda = torch.cuda.is_available()\n",
        "    device = torch.device(\"cuda\" if use_cuda else \"cpu\")\n",
        "\n",
        "    optimizer = AdamW(model.parameters(), lr=LEARNING_RATE)\n",
        "\n",
        "    if use_cuda:\n",
        "        model = model.cuda()\n",
        "\n",
        "    best_acc = 0\n",
        "    best_loss = 1000\n",
        "\n",
        "    for epoch_num in range(EPOCHS):\n",
        "\n",
        "        total_acc_train = 0\n",
        "        total_loss_train = 0\n",
        "\n",
        "        model.train()\n",
        "\n",
        "        for train_data, train_label in tqdm(train_dataloader):\n",
        "\n",
        "            train_label = train_label.to(device)\n",
        "            mask = train_data['attention_mask'].squeeze(1).to(device)\n",
        "            input_id = train_data['input_ids'].squeeze(1).to(device)\n",
        "\n",
        "            optimizer.zero_grad()\n",
        "            loss, logits = model(input_id, mask, train_label)\n",
        "\n",
        "            for i in range(logits.shape[0]):\n",
        "\n",
        "              logits_clean = logits[i][train_label[i] != -100]\n",
        "              label_clean = train_label[i][train_label[i] != -100]\n",
        "\n",
        "              predictions = logits_clean.argmax(dim=1)\n",
        "              acc = (predictions == label_clean).float().mean()\n",
        "              total_acc_train += acc\n",
        "              total_loss_train += loss.item()\n",
        "\n",
        "            loss.backward()\n",
        "            optimizer.step()\n",
        "\n",
        "        model.eval()\n",
        "\n",
        "        total_acc_val = 0\n",
        "        total_loss_val = 0\n",
        "\n",
        "        for val_data, val_label in val_dataloader:\n",
        "\n",
        "            val_label = val_label.to(device)\n",
        "            mask = val_data['attention_mask'].squeeze(1).to(device)\n",
        "            input_id = val_data['input_ids'].squeeze(1).to(device)\n",
        "\n",
        "            loss, logits = model(input_id, mask, val_label)\n",
        "\n",
        "            for i in range(logits.shape[0]):\n",
        "\n",
        "              logits_clean = logits[i][val_label[i] != -100]\n",
        "              label_clean = val_label[i][val_label[i] != -100]\n",
        "\n",
        "              predictions = logits_clean.argmax(dim=1)\n",
        "              acc = (predictions == label_clean).float().mean()\n",
        "              total_acc_val += acc\n",
        "              total_loss_val += loss.item()\n",
        "\n",
        "        val_accuracy = total_acc_val / len(df_val)\n",
        "        val_loss = total_loss_val / len(df_val)\n",
        "\n",
        "        print(\n",
        "            f'Epochs: {epoch_num + 1} | Loss: {total_loss_train / len(df_train): .3f} | Accuracy: {total_acc_train / len(df_train): .3f} | Val_Loss: {total_loss_val / len(df_val): .3f} | Accuracy: {total_acc_val / len(df_val): .3f}')\n",
        "\n",
        "LEARNING_RATE = 5e-3\n",
        "EPOCHS = 1\n",
        "BATCH_SIZE = 2\n",
        "\n",
        "model = BertModel()\n",
        "train_loop(model, df_train, df_val)"
      ],
      "metadata": {
        "id": "zwmQ5lvBj1mC"
      },
      "execution_count": null,
      "outputs": []
    },
    {
      "cell_type": "code",
      "source": [
        "def evaluate(model, df_test):\n",
        "\n",
        "    test_dataset = DataSequence(df_test)\n",
        "\n",
        "    test_dataloader = DataLoader(test_dataset, num_workers=4, batch_size=1)\n",
        "\n",
        "    use_cuda = torch.cuda.is_available()\n",
        "    device = torch.device(\"cuda\" if use_cuda else \"cpu\")\n",
        "\n",
        "    if use_cuda:\n",
        "        model = model.cuda()\n",
        "\n",
        "    total_acc_test = 0.0\n",
        "\n",
        "    for test_data, test_label in test_dataloader:\n",
        "\n",
        "            test_label = test_label.to(device)\n",
        "            mask = test_data['attention_mask'].squeeze(1).to(device)\n",
        "\n",
        "            input_id = test_data['input_ids'].squeeze(1).to(device)\n",
        "\n",
        "            loss, logits = model(input_id, mask, test_label)\n",
        "\n",
        "            for i in range(logits.shape[0]):\n",
        "\n",
        "              logits_clean = logits[i][test_label[i] != -100]\n",
        "              label_clean = test_label[i][test_label[i] != -100]\n",
        "\n",
        "              predictions = logits_clean.argmax(dim=1)\n",
        "              acc = (predictions == label_clean).float().mean()\n",
        "              total_acc_test += acc\n",
        "\n",
        "    val_accuracy = total_acc_test / len(df_test)\n",
        "    print(f'Test Accuracy: {total_acc_test / len(df_test): .3f}')\n",
        "\n",
        "\n",
        "evaluate(model, df_test)"
      ],
      "metadata": {
        "id": "obXKerRi8UYb"
      },
      "execution_count": null,
      "outputs": []
    },
    {
      "cell_type": "code",
      "source": [
        "\n",
        "def align_word_ids(texts):\n",
        "  \n",
        "    tokenized_inputs = tokenizer(texts, padding='max_length', max_length=512, truncation=True)\n",
        "\n",
        "    word_ids = tokenized_inputs.word_ids()\n",
        "\n",
        "    previous_word_idx = None\n",
        "    label_ids = []\n",
        "\n",
        "    for word_idx in word_ids:\n",
        "\n",
        "        if word_idx is None:\n",
        "            label_ids.append(-100)\n",
        "\n",
        "        elif word_idx != previous_word_idx:\n",
        "            try:\n",
        "                label_ids.append(1)\n",
        "            except:\n",
        "                label_ids.append(-100)\n",
        "        else:\n",
        "            try:\n",
        "                label_ids.append(1 if label_all_tokens else -100)\n",
        "            except:\n",
        "                label_ids.append(-100)\n",
        "        previous_word_idx = word_idx\n",
        "\n",
        "    return label_ids\n",
        "\n",
        "\n",
        "def evaluate_one_text(model, sentence):\n",
        "\n",
        "\n",
        "    use_cuda = torch.cuda.is_available()\n",
        "    device = torch.device(\"cuda\" if use_cuda else \"cpu\")\n",
        "\n",
        "    if use_cuda:\n",
        "        model = model.cuda()\n",
        "\n",
        "    text = tokenizer(sentence, padding='max_length', max_length = 512, truncation=True, return_tensors=\"pt\")\n",
        "\n",
        "    mask = text['attention_mask'].to(device)\n",
        "    input_id = text['input_ids'].to(device)\n",
        "    label_ids = torch.Tensor(align_word_ids(sentence)).unsqueeze(0).to(device)\n",
        "\n",
        "    logits = model(input_id, mask, None)\n",
        "    logits_clean = logits[0][label_ids != -100]\n",
        "\n",
        "    predictions = logits_clean.argmax(dim=1).tolist()\n",
        "    prediction_label = [ids_to_labels[i] for i in predictions]\n",
        "    print(sentence)\n",
        "    print(prediction_label)"
      ],
      "metadata": {
        "id": "sxAcYS938WNe"
      },
      "execution_count": null,
      "outputs": []
    },
    {
      "cell_type": "markdown",
      "source": [
        "#Tokenizer\n",
        "-> 목적에 알맞는 토크나이저로 튜닝"
      ],
      "metadata": {
        "id": "IBZ3UXZtjIbA"
      }
    },
    {
      "cell_type": "code",
      "source": [
        "def tokenizing_(token_list, label_list, tokenizer):\n",
        "  text_seq = []\n",
        "  valid_seq = []\n",
        "  label_seq = label_list\n",
        "  for tokens, label in zip(token_list, label_list):\n",
        "    new_target_text = []\n",
        "    new_valid = []\n",
        "    for i, (t, l) in enumerate(zip(tokens, label)):\n",
        "      tokens_wordpiece = tokenizer.tokenize(t)\n",
        "      new_v = [1] + [0]*(len(tokens_wordpiece)-1)\n",
        "      new_target_text.extend(tokens_wordpiece)\n",
        "      new_valid.extend(new_v)\n",
        "    valid_seq.append(new_valid)\n",
        "    text_seq.append(new_target_text)\n",
        "  return text_seq, valid_seq, label_seq"
      ],
      "metadata": {
        "id": "iz4LXOrQoATP"
      },
      "execution_count": 18,
      "outputs": []
    },
    {
      "cell_type": "code",
      "source": [
        "token_list = sentences\n",
        "label_list = list(data['Class'])\n",
        "\n",
        "text_seq, valid_seq, label_seq = tokenizing_(token_list, label_list, tokenizer)\n",
        "\n",
        "print(text_seq)\n",
        "print(valid_seq)\n",
        "print(label_seq)\n",
        "\n",
        "print(len(text_seq[0]))\n",
        "print(len(valid_seq[0]))\n"
      ],
      "metadata": {
        "id": "KUaZwhsOLqW3",
        "colab": {
          "base_uri": "https://localhost:8080/",
          "height": 245
        },
        "outputId": "84c570f1-d8f1-4efd-c275-bd62cefa5cee"
      },
      "execution_count": 19,
      "outputs": [
        {
          "output_type": "error",
          "ename": "NameError",
          "evalue": "ignored",
          "traceback": [
            "\u001b[0;31m---------------------------------------------------------------------------\u001b[0m",
            "\u001b[0;31mNameError\u001b[0m                                 Traceback (most recent call last)",
            "\u001b[0;32m<ipython-input-19-40202be9c5c9>\u001b[0m in \u001b[0;36m<module>\u001b[0;34m\u001b[0m\n\u001b[0;32m----> 1\u001b[0;31m \u001b[0mtoken_list\u001b[0m \u001b[0;34m=\u001b[0m \u001b[0msentences\u001b[0m\u001b[0;34m\u001b[0m\u001b[0;34m\u001b[0m\u001b[0m\n\u001b[0m\u001b[1;32m      2\u001b[0m \u001b[0mlabel_list\u001b[0m \u001b[0;34m=\u001b[0m \u001b[0mlist\u001b[0m\u001b[0;34m(\u001b[0m\u001b[0mdata\u001b[0m\u001b[0;34m[\u001b[0m\u001b[0;34m'Class'\u001b[0m\u001b[0;34m]\u001b[0m\u001b[0;34m)\u001b[0m\u001b[0;34m\u001b[0m\u001b[0;34m\u001b[0m\u001b[0m\n\u001b[1;32m      3\u001b[0m \u001b[0;34m\u001b[0m\u001b[0m\n\u001b[1;32m      4\u001b[0m \u001b[0mtext_seq\u001b[0m\u001b[0;34m,\u001b[0m \u001b[0mvalid_seq\u001b[0m\u001b[0;34m,\u001b[0m \u001b[0mlabel_seq\u001b[0m \u001b[0;34m=\u001b[0m \u001b[0mtokenizing_\u001b[0m\u001b[0;34m(\u001b[0m\u001b[0mtoken_list\u001b[0m\u001b[0;34m,\u001b[0m \u001b[0mlabel_list\u001b[0m\u001b[0;34m,\u001b[0m \u001b[0mtokenizer\u001b[0m\u001b[0;34m)\u001b[0m\u001b[0;34m\u001b[0m\u001b[0;34m\u001b[0m\u001b[0m\n\u001b[1;32m      5\u001b[0m \u001b[0;34m\u001b[0m\u001b[0m\n",
            "\u001b[0;31mNameError\u001b[0m: name 'sentences' is not defined"
          ]
        }
      ]
    },
    {
      "cell_type": "markdown",
      "source": [
        "- 개체명 사이의 관계 추출을 할 때는 입력값으로 (문장, 관계를 보고자하는 개체1,\n",
        "관계를 보고자하는 개체 2) 형태로 문장과 개체 모두가 주어져야 함\n",
        "- 따라서 모든 단어 쌍에 대해 구분을 위해 특수 token을 부여하여 이를 구별함"
      ],
      "metadata": {
        "id": "3qFjdTWHLgwq"
      }
    },
    {
      "cell_type": "markdown",
      "source": [
        "- 전체 텍스트에서 문장 분할\n",
        "- 관계가 있는 두 문장을 left, right로 나누고\n",
        "- 전체 텍스트에서 해당 하는 문장 있으면 특수 토큰 추가\n",
        "-> 정규표현식 사용 re.sub"
      ],
      "metadata": {
        "id": "9MPKtnXUM-o5"
      }
    },
    {
      "cell_type": "code",
      "source": [
        "# 관계있는 Dataset Tokenizing?\n",
        "# 특수 토큰 집어넣는 일\n",
        "def tokenizing_rel(token_list, label_list, rel_list, tokenizer):\n",
        "  text_seq = []\n",
        "  valid_seq = []\n",
        "  final_left_seq = []\n",
        "  final_right_seq = []\n",
        "  label_seq = []\n",
        "\n",
        "  for tokens, label, rel in zip(token_list, label_list, rel_list):\n",
        "    lefts, rights, labels = rel\n",
        "\n",
        "    for le, ri, la in zip(lefts, rights, labels):\n",
        "      new_target_text = []\n",
        "      new_valid = []\n",
        "      new_left = []\n",
        "      new_right = []\n",
        "      before_label = -1\n",
        "\n",
        "      for i, (t, l) in enumerate(zip(tokens, label)):\n",
        "        tokens_wordpiece = tokenizer.tokenize(t)\n",
        "        if before_label != l and l != -1:\n",
        "          if l == le:\n",
        "            tokens_wordpiece = [\"*\"] + tokens_wordpiece\n",
        "          elif l == ri:\n",
        "            tokens_wordpiece = [\"#\"] + tokens_wordpiece\n",
        "        \n",
        "        if l != -1 and i+1 != len(label) and l != label[i+1]:\n",
        "          if l == le:\n",
        "            tokens_wordpiece = tokens_wordpiece + [\"*\"]\n",
        "          elif l == ri:\n",
        "            tokens_wordpiece = tokens_wordpiece + [\"#\"]\n",
        "        \n",
        "        if l != -1 and i+1 == len(label):\n",
        "          if l == le:\n",
        "            tokens_wordpiece = tokens_wordpiece + [\"*\"]\n",
        "          elif l == ri:\n",
        "            tokens_wordpiece = tokens_wordpiece + [\"#\"]\n",
        "        \n",
        "        before_label = l\n",
        "        new_v = [l]*(len(tokens_wordpiece))\n",
        "        new_target_text.extend(tokens_wordpiece)\n",
        "        new_valid.extend(new_v)\n",
        "      \n",
        "      leftaa = [float(x == le) for x in new_valid]\n",
        "      rightaa = [float(x == ri) for x in new_valid]\n",
        "      final_left_seq.append(leftaa)\n",
        "      final_right_seq.append(rightaa)\n",
        "      text_seq.append(new_target_text)\n",
        "      label_seq.append(la)\n",
        "    return text_seq, final_left_seq, final_right_seq, label_seq"
      ],
      "metadata": {
        "id": "mFHJ9gXGqzku"
      },
      "execution_count": null,
      "outputs": []
    },
    {
      "cell_type": "code",
      "source": [
        "def make_greedy_label(rel_list, dic_rel_label, max_labels):\n",
        "  final_rel_list = []\n",
        "\n",
        "  for rel, max_lab in zip(rel_list, max_labels):\n",
        "    temp_les = []\n",
        "    temp_re =[]\n",
        "    rel_labels = rel[4]\n",
        "    rel_lefts = rel[5]\n",
        "    rel_rights = rel[6]\n",
        "    max_value = max_lab\n",
        "    l, r = make_fair_by_max(max_value)\n",
        "    new_l = []\n",
        "    new_r = []\n",
        "    qomax = len(rel_labels)\n",
        "    z = 0\n",
        "\n",
        "    for ll, rr in zip(l, r):\n",
        "      q = 0\n",
        "      laba = 0\n",
        "      for lf, ri, rel_label in zip(rel_lefts, rel_rights, rel_labels):\n",
        "        if ll == lf and rr == ri:\n",
        "          q = 1\n",
        "          laba = dic_rel_label[rel_label]\n",
        "      \n",
        "      if q == 1:\n",
        "        new_l.append(ll)\n",
        "        new_r.append(rr)\n",
        "        temp_les.append(laba)\n",
        "      elif z < 1.5*qomax:\n",
        "        new_l.append(ll)\n",
        "        new_r.append(rr)\n",
        "        z = z + 1\n",
        "        temp_les.append(0)\n",
        "      \n",
        "    final_rel_list.append((new_l, new_r, temp_les))\n",
        "  return final_rel_list"
      ],
      "metadata": {
        "id": "BpvnNH0Ku9P_"
      },
      "execution_count": null,
      "outputs": []
    },
    {
      "cell_type": "markdown",
      "source": [
        "#BERT Model Fine Tuning by MLM"
      ],
      "metadata": {
        "id": "1P37vclkjQU_"
      }
    },
    {
      "cell_type": "markdown",
      "source": [
        "+MLM학습을 위한 Plain Text 받아오기"
      ],
      "metadata": {
        "id": "66guDmfXWf0L"
      }
    },
    {
      "cell_type": "code",
      "source": [
        "#압축파일 풀기\n",
        "folder_path = \"./tagtog_relation_extraction/\"\n",
        "\n",
        "zip_ = zipfile.ZipFile(\"Railway_Annotation.zip\")\n",
        "if os.path.exists(folder_path):\n",
        "    shutil.rmtree(folder_path)\n",
        "zip_.extractall(folder_path)\n",
        "\n",
        "#폴더 경로\n",
        "folder_name = \"./tagtog_relation_extraction/Railway_BERT/\"\n",
        "\n",
        "#context list   # context == plain.html\n",
        "context_name_list = os.listdir(folder_name + \"plain.html/pool\")\n",
        "print(context_name_list)\n",
        "\n",
        "#relation 폴더 경로   # relation == ann.json\n",
        "relation_folder_paths = glob.glob(folder_name + \"ann.json/master/pool\")\n",
        "\n",
        "#context 폴더 경로\n",
        "# contexts_folders_paths = glob.glob(folder_name + \"plain.html/pool/*\")\n",
        "contexts_folders_paths = [folder_name + \"plain.html/pool/\" + c for c in context_name_list]\n",
        "\n",
        "#anntation_lenged 정보\n",
        "annotations_legend = folder_name + \"annotations-legend.json\"\n",
        "with open(annotations_legend,\"r\") as f:\n",
        "    annotations_legend = json.load(f)"
      ],
      "metadata": {
        "colab": {
          "base_uri": "https://localhost:8080/"
        },
        "id": "vWdPv5hiWkjB",
        "outputId": "dcb28731-bd4f-4955-b52c-78f2600b7a5e"
      },
      "execution_count": null,
      "outputs": [
        {
          "output_type": "stream",
          "name": "stdout",
          "text": [
            "['a3DnzcVSvJKG25OeznRpiW5zLgi8-sample.pdf.plain.html', 'awUyBdL4lPpVlBOPjSzMhAuRk81a-20181208.pdf.plain.html', 'arqduk0rnomRe20HKEeXlVPK8qx8-20191022.pdf.plain.html', 'aVuARZFRfgJMD0E67Coa.7G8Z9Pe-20200226.pdf.plain.html', 'aPSRwvP5rtizz2O093I3oFX9uzjS-20180818.pdf.plain.html']\n"
          ]
        }
      ]
    },
    {
      "cell_type": "code",
      "source": [
        "def remove_tag(html_text):\n",
        "  check = html_text\n",
        "  check = re.sub('(<([^>]+)>)', '', check).strip()\n",
        "  check = re.sub('\\n', '', check)\n",
        "  check = re.sub(' +', ' ', check)\n",
        "  check = check[41:]\n",
        "  check = re.sub('·','', check)\n",
        "  check = re.sub('○', '', check)\n",
        "  return check"
      ],
      "metadata": {
        "id": "aKd2YkmAYfvf"
      },
      "execution_count": null,
      "outputs": []
    },
    {
      "cell_type": "code",
      "source": [
        "check = ''\n",
        "\n",
        "for context_path in contexts_folders_paths:\n",
        "  with open(context_path, \"r\") as f:\n",
        "    sample = f.read()\n",
        "    sample = remove_tag(sample)\n",
        "  print(sample)\n",
        "  check += sample\n",
        "\n",
        "check = sent_tokenize(check)"
      ],
      "metadata": {
        "colab": {
          "base_uri": "https://localhost:8080/"
        },
        "id": "Su8pl0h2XKkR",
        "outputId": "e2788499-200d-4f84-ced7-e4e74792061f"
      },
      "execution_count": null,
      "outputs": [
        {
          "output_type": "stream",
          "name": "stdout",
          "text": [
            "고서 번호: ARAIB/R 2020 - 3 철도사고 조사보고서 한국철도공사 경전선(완사역→진주역 사이, 삼랑진역 기점 103.286km) 제3081화물열차(디젤 7620호 + 화차 25량) 열차탈선 2019년 2월 18일(월) 21시 56분경 2020. 6. 19. 항공･철도사고조사위원회 이 조사보고서는 「항공․철도사고조사에 관한 법률」제 2조에 의거 사고조사가 이루어졌으며, 제25조에 따라 작 성되었다. 같은 법률 제1조에서 「철도사고 조사는 독립적이고 공정 한 조사를 통하여 사고 원인을 정확하게 규명함으로써 철도 사고의 예방과 안전 확보에 이바지함」을 목적으로 하고 있 다. 또한, 제30조에 따라 사고조사는 민․형사상 책임과 관련된 사 법절차, 행정처분 절차 또는 행정 쟁송 절차와 분리․수행되어 야 하고, 제32조에서위원회에 진술․증언․자료 등의 제출 또는 답변을 한 사람은 이를 이유로 해고․전보․징계․부당한 대우 또 는 그 밖에 신분이나 처우와 관련하여 불이익을 받지 아니 한다.라고 규정하고 있다. 그러므로 이 조사보고서는 철도 분야의 안전을 증진시킬 목 적 이외의 용도로 사용되어서는 아니 된다. 차례 한국철도공사 경전선 완사역∼진주역간 화물열차 탈선사고 조사보고서 - i - 차 례 한국철도공사 경전선 완사역∼진주역간 화물열차 탈선사고  1 개요  2 1. 사실 정보  3 1.1 사고의 경위  3 1.2 피해 사항  4 1.3 인적 정보 및 업무 수행사항  4 1.4 현장 정보  10 1.5 열차와 차량 정보  11 1.6 차량정비단의 차축 베어링 분해 검수 실태  16 1.7 신호 및 전차선 정보  18 1.8 기상 정보  19 2. 분석  20 2.1 업무 수행사항 분석  20 2.2 차축 베어링 분해 검사  22 2.3 컨테이너 상하차 작업 분석  25 2.4 그리스 성분 분석  26 2.5 종합 분석  29 3. 결론  30 3.1 조사 결과  30 3.2 사고 원인  32 4. 안전 권고  33 4.1 한국철도공사에 대하여  33 제목 한국철도공사 경전선 완사역∼진주역간 화물열차 탈선사고 조사보고서 - 1 - 한국철도공사 경전선 완사역∼진주역간 화물열차 탈선사고  운영기관 : 한국철도공사  운행노선 : 경전선  발생장소 : 완사역∼진주역 사이 (삼랑진역 기점 103.286km 지점)  사고열차 : 제3081화물열차 (황등역16:38→부산항역22:41) [디젤 7620호 + 화차 25량 편성, 환산 33.9량(컨테이너 실은 차)]  사고유형 : 열차탈선  발생일시 : 2019년 2월 18일(월) 21시 56분경 [그림1] 사고현장 개요 개요 한국철도공사 경전선 완사역∼진주역간 화물열차 탈선사고 조사보고서 - 2 - 개요 2019년 2월 18일 16:38에 전라선 황등역을 출발하여 부산항역으로 운행 중 이던 제3081호 화물열차(이하 ‘사고열차’라 한다)가 21:56경 경전선 하행선 방 향 완사역과 진주역 사이에서 비상제동이 체결되어 정차하였다. 정차 후 사고 열차 기관사가 확인한 결과 13번째 화차(976296호, 이하 ‘탈선화차’라 한다)의 뒷 대차 첫 번째 차축과 두 번째 차축이 진행방향 좌측으로 탈선되었고, 좌 측 세 번째 차축이 절손되었으며, 탈선화차와 14번째 화차 사이의 공기호스 가 빠져있는 것이 발견되었다. 이 사고로 인명피해는 발생하지 않았으나, 탈선화차의 차축이 절손되고 대 차부품 일부와 선로시설의 PCT침목, 체결구 등이 파손되는 피해가 발생하 였다. 항공철도사고조사위원회는 이번 사고의 주원인을 ‘차축에 설치되어 있는 차축 베어링 외륜의 내면과 롤러에 결함이 있는 상태에서 운행 도중 차축 베어링이 파손되면서 차축이 절손되어 탈선한 것’으로 결정하였다. 기여요인으로는 ‘화차에 컨테이너를 싣고 내릴 때 차축 베어링에 충격이 가해진 것, 차축 베어링의 분해검수 주기와 교환 주기가 화차에 적재되는 화 물의 종류, 적재방법 및 사용환경의 차이에도 불구하고 동일하게 규정하여 관리한 것’으로 결정하였다. 항공․철도사고조사위원회는 한국철도공사에 5건의 안전권고를 한다. 사실정보 한국철도공사 경전선 완사역∼진주역간 화물열차 탈선사고 조사보고서 - 3 - 1. 사실 정보 1.1 사고의 경위 2019년 2월 18일 16:38에 황등역을 출발하여 부산항역으로 운행 중이던 사 고열차의 탈선화차 3번째 좌측 차축 베어링이 과열되어 불꽃을 일으키며 진 행하다가 차축 베어링의 과열로 차축이 절손되어 21:52경 신기터널 출구 부 근(삼랑진역 기점 106.135km)에서 엔드캡이 탈락되었으며, 이후 베어링이 분 해되며 롤러 및 베어링 외륜 등 베어링 부품이 선로변으로 흩어졌다. 사고열 차는 완사역과 진주역 사이(삼랑진역 기점 103.286km)에서 탈선화차의 3위축 과 4위축이 진행방향 좌측으로 탈선하여 약 886m를 진행하다 탈선화차와 14 번째 화차 사이의 공기호스가 빠지면서 비상제동이 체결되어 정차(삼랑진 기점 102.400km)하였다. 선로변에서 발견한 차축 베어링 부품의 위치와 탈선위치 등은 [그림2]와 같다. [그림2] 차축 베어링 부품 발견위치와 탈선위치 주행방향 사실정보 한국철도공사 경전선 완사역∼진주역간 화물열차 탈선사고 조사보고서 - 4 - 1.2. 피해 사항 1.2.1 인명 피해 이 사고로 인명 피해는 발생하지 않았다. 1.2.2 물적 피해 이번 사고로 화차 1량이 탈선되면서 대차 프레임, 브레이크빔, 차축, 스프 링 등이 파손되어 차량 분야에서 약 1,088만원, PC침목 402개, e-코일 1,500 개, 체결구 60세트 등이 파손되어 2,847만원, 솔티터널 복구 공사비 2억6,364 만원 등 선로 분야에서 2억9,211만원의 피해가 발생하여 총 3억299만원의 피해가 발생하였으며 운행에 지장을 받은 열차는 없었다. 1.3 인적 정보 및 업무 수행 사항 1.3.1 사고열차 기관사 사고열차 기관사(58세, 남)는 1980년 11월 1일 (구)철도청 광주기관차사무 소 기관조사로 임용된 후 1987년 12월 31일 기관사로 임용되었으며, 2006년 7월 1일 디젤과 전기 1종 철도차량 운전면허를 취득하여 2018년 7월 1일자 로 지원기관사로 근무하고 있었다. 사고열차 기관사는 2016년 적성검사에 합격하였고, 사고당일 19시경 출근 하여 승무적합성 검사를 시행하였으며 결과는 양호하였다. 사고열차 기관사는 순천역 발차 후 제동 감도 시험 후 광양역, 진상역, 하 동역, 횡천역, 완사역을 차례로 통과하고 8/1000 상구배에 접어들면서 가감 간을 2단으로 운행 중 갑자기 비상제동이 체결되었다고 진술하였다. 사고열 차 기관사는 진상역 진입 시 열차 후부를 본 적이 있으나 이상 상태는 감지 하지 못했고, 이후에는 선로상태가 거의 직선이어서 열차 후부를 보는 것은 사실정보 한국철도공사 경전선 완사역∼진주역간 화물열차 탈선사고 조사보고서 - 5 - 불가능하였고, MMI1) 화면의 CCTV로 볼 수는 있지만 선명하지 않아 확인할 수 없었다고 진술하였다. 정차 후 비상제동을 완해하기 위해서 1분 이상을 기다린 후 완해하였으나 주공기는 정상이고 제동관 공기가 3.5바(bar) 이상 충기되지 않아 다시 한 번 비상제동을 체결한 후 완해를 시키는 절차를 수행했으나 동일 현상이 발생 되어 진주역을 무전으로 호출하여 열차가 비상제동이 체결되어 정차하고 있 다는 통보를 하였고, 사고열차 보조기관사로 하여 기관차와 화차사이의 제동 관 연결콕크를 잠궈보라고 하니 공기압이 정상 회복되어 화차의 문제라 판 단하고 사고열차를 점검하도록 지시 하였다고 진술하였다. 1.3.2 사고열차 보조기관사 사고열차 보조기관사(59세, 남)는 1985년 12월 19일 (구)철도청 순천기관차 승무사무소에 기관조사로 전입되어 1991년 12월 05일 기관사로 임용되었으 며, 2006년 7월 1일 디젤과 전기 1종 철도차량 운전면허를 취득하여 지원기 관사로 근무하고 있었다. 사고열차 보조기관사는 사고 당일 19시경 출근하여 승무적합성 검사를 시 행하였으며 결과는 양호하였다. 사고열차 보조기관사는 순천역∼마산역 간 사고열차 사업담당으로 순천역 ∼진주역 간은 보조기관사, 진주역에서 마산역까지는 기관사 업무를 수행할 예정으로 완사역을 계획보다 1시간12분 늦게 통과(현 21:53)하여 삼량진역 기점 102.700km 지점(8‰ 상구배) 운행중 갑자기 비상제동이 체결되면서 정차하였다. 비상제동 원인을 찾던 중 사고열차의 13번째 화차 뒷 대차(3,4위)가 탈선 되어 있음을 확인하고 구로교통관제센터와 진주역에 통보(현 23:15)하였다. 1) MMI((Man Machine Interface) : 차량의 상태를 화면으로 보여주는 장치 사실정보 한국철도공사 경전선 완사역∼진주역간 화물열차 탈선사고 조사보고서 - 6 - 1.3.3 진주역 로컬관제원 진주역 로컬관제원(48세, 남)는 1999년 (구)철도청 역무원으로 임용되어 2015년 1월 1일부터 진주역 로컬관제원으로 근무하고 있었다. 진주역 로컬관제원은 2015년 8월 20일 로컬관제원 보수교육을 수료하였고, 2016년 3월15일 적성검사를 통과하였으며, 2018년 6월25일 신체검사 결과는 양호하였다. 사고당일 진주역 로컬관제원은 야간근무시(21:00~익 02:00) 1231열차의 입 환작업을 준비하던 중 21시57분경 사고열차 기관사로 부터 비상제동이 체결 되어 공기압이 올라가지 않는다는 내용을 무전으로 통보받고, 구로교통관제 센터에 관련 사실을 통보하고, 역무팀장에 보고하였으며, 23시18분 전남본부 ㅇㅇㅇ으로부터 사고열차가 탈선되었다는 통보를 받고 사고열차 복구 관련 업무를 수행하였다고 진술하였다. 1.3.4 북천역 로컬관제원 북천역 로컬관제원은 사고열차가 1시간13분 지연되어 21시46분경 북천역 51호 선로전환기에서 21호 선로전환기까지 3번선 통과 운행시 정상적인 신 호에 의해 운행하였고, CCTV를 통해 확인하였을 때도 다른 이상이 없었다 고 진술하였다. 1.3.5 사고열차(DL7620호) 운행기록 사고열차의 운행기록을 분석해 본 결과 [표1]과 같이 21:54:12경(③) 약 81km/h 속도로 운행 중 기관차 출력을 최대로 상승시켰으나 속도가 74km/h로 떨어졌다. 사실정보 한국철도공사 경전선 완사역∼진주역간 화물열차 탈선사고 조사보고서 - 7 - 21:54:43경(⑥) 약 73km/h의 속도에서 8단으로 견인 중 제동관 압력 이 급감하면서 비상제동이 체결되었고 약 231m 이동 후 정차되었다.(⑦) [표1] 사고열차의 운행기록 정보 구분 시간 속도(km/h) 거리(m) 차 량 상 태 비고 ① 21:07:01 66 51,869.3 순천역 출발 평균속도 ② 21:54:01 81 247.5 가감간 유전⇒1단 상승 ③ 21:54:12 81 244.4 가감간 1단에서 상승 시작 화차탈선(추정) ④ 21:54:23 79 403.8 가감간 8단 유지 속도가 떨어짐(81km/h⇒74km/h)⑤ 21:54:42 74 20.4 ⑥ 21:54:43 73 231.7 제동관 압력 급강하, 비상체결 약 231.7m 이동 후 정차⑦ 21:55:05 0 0 열차 정지 ⑦⑥④~⑤③ 사실정보 한국철도공사 경전선 완사역∼진주역간 화물열차 탈선사고 조사보고서 - 8 - 1.3.6 열차무선 녹취록 사고열차의 운행과 관련하여 [표2]와 같이 로컬관제원과 기관사의 무전기 녹취록을 확인한 결과 사고열차는 21:03에 순천역에 도착하여 21:07에 순천 역을 출발하였으며, 21:13경 광양역을 통과하는 과정의 녹취록은 잡음이 심해 통화내용을 확인할 수 없었다. 22:05경 기관사가 진주역을 호출하여 운행 중 갑자기 비상제동이 체결되어 열차가 정지되어 원인을 찾고 있다고 하였고, 이후 현장에서 차량상태를 점검 하여 열차의 탈선을 확인하였다. 사고열차 무전기의 통화내용 녹음 기록 중 탈선화차에 대한 차축 베어링 의 이상(불꽃 등)을 발견하거나 확인한 내용은 없었다. 시 간 사고열차 기관사 로컬관제원 비 고 21:03 철도 3081열차 후부 양호. 순천역 이상! 순천역 21:06 철도 3081 교대 완료, 준비완료! 철도 3081 순천역 4번선에 정차 한 상선 출발확인 발차합시다. 순천역 로컬관제 이상! 21:07 철도 3081 발차, 재확인 이상! 21:13 철도 30**열차 이상!(잡음 심함) 광양역 22:05 철도 진주 3081 ~ 예 지금 102km200부근에 갑자기 비상 제 동이 체결되어 정차해 있습니다. 예, 지금 원인을 찾고 있습니다. 이상감지, 이후 열차 탈선확인 [표2] 열차무선 녹취록 1.3.7 CCTV 확인(역 및 기관차) 사고열차가 순천역을 출발 후 탈선되어 정차할 때까지 [그림3]과 [그림4]와 같이 역사 및 기관차 CCTV에 녹화된 영상을 확인한 결과 광양역과 진상역 간 운행 중 차량 하부에서 최초로 불꽃이 발생되는 것을 확인하였으며, 이후 하동역 북천역 완사역 통과 중에도 불꽃이 발생되는 것을 확인하였다. 사실정보 한국철도공사 경전선 완사역∼진주역간 화물열차 탈선사고 조사보고서 - 9 - ① 진상역 통과 중(불꽃 발생) ② 하동역 통과 중(불꽃 발생) ③ 북천역 통과 중(불꽃 발생) ④ 완사역 통과 중(불꽃 발생) [그림3] 순천역∼완사역 역사 CCTV 녹화 화면 이상 없음 하부 불꽃 ① 광양역 통과 중(이상 없음) ② 광양역∼진상역 운행 중(불꽃 발생) 하부 불꽃 21:55:05 열차정지 ③ 완사역∼진주역 운행 중(불꽃 발생) ④ 열차 정차 [그림4] 기관차 7620호 CCTV 녹화 화면 사실정보 한국철도공사 경전선 완사역∼진주역간 화물열차 탈선사고 조사보고서 - 10 - 1.4 현장 정보 1.4.1 최초 탈선위치 및 최종 정차위치 사고열차의 최초 탈선흔적은 [그림5]과 같이 삼랑진역 기점 약 103.286km 지점에서 발견되었으며, 탈선화차의 세 번째 차축의 좌우 차륜이 열차 진행 방향 좌측으로 떨어지면서 자갈에 끌린 흔적을 남겼다. 사고열차는 최초 탈선위치에서 약 886m를 더 진행하여 삼랑진역 기점 약 102.400km 지점에 정차되었다.([그림6]) [그림5] 최초 탈선위치 및 최종 정차위치 [그림6] 사고열차 탈선상태 1.4.2 선로 정보 사고지점(삼량진역 기점103.290km)이 포함된 경전선 진주역∼완사역 간은 2017년 경전선 진주역∼광양역 복선으로 개통되었으며, 사고개소의 본선 선형은 열차진행 방향으로 우곡선(R:3000m, 곡선 시점101.687km-종점 최초 탈선위치 (삼랑진역 기점 103.286km) 최종 정차위치(삼랑진역 기점 102.400km) 사실정보 한국철도공사 경전선 완사역∼진주역간 화물열차 탈선사고 조사보고서 - 11 - 103. 464km, 연장 1,777m)으로 설정 캔트는 50mm이며, 선로기울기는 내리막 1.0‰이고, 최고속도는 150km/h이다. 사고지점의 궤도는 60kg 장대레일에 PC침목, 코일스프링 크립, 도상자갈 두께 320mm로 부설되어 있었으며, 솔티터널2) 접속부는 콘크리트 도상으로 레일을 침목에 체결하는 형식은 레다20003)과 터널 내부는 시스템300-14)로 구성되어 있었다. 선로유지관리 상태를 보면 궤도검측차 운행은 분기1회 시행하고 있었으며, 2018년 1/4분기(4/5∼4/5), 2/4분기(5/31∼6/1), 3/4분기(9/11∼9/12), 4/4분 기(11/14∼11/15) 4회 검측한 결과는 양호하였다. 또한, 삼랑진역 기점 101.000km∼114.500km 구간에 대하여 2019년 1월 7 일, 1월 14일, 1월 21일, 2월 1일, 2월 7일, 2월 11일, 2월 18일 도보순회 점검을 시행한 결과에도 탈선에 영향을 줄 만한 사항은 없었다. 유지보수 작업은 인력작업과 보선장비 작업을 병행하였으며, 보선장비 작업은 주로 1종 기계작업으로 시행한 것을 확인하였다. 1.5 열차와 차량 정보 1.5.1 사고열차의 조성 사고열차는 [표3]과 같이 디젤기관차(DL7620호)와 컨테이너 화차 25량으로 조성(환산 33.9량, 열차장 30.1량)되어 있었으며 화물이 적재된 컨테이너를 싣 고 있었다. 2) 솔티터널(복선) : 경전선 진주역-완사역간 102km497~102km906 ( L = 409m) 3) 레다2000 : 레티스 철근으로 연결된 RCT Twin Block 침목을 콘크리트 도상에 매립하고 레일과 침 목사이에 탄성재를 삽입 4) 시스템300-1 : 트러프를 시공 후 트러프 내부에 탄성식 베이스 플레이트로 구성된 PCT Mono Block 침목과 침목 관통 종방향 보강 철근과 횡철근을 매입 사실정보 한국철도공사 경전선 완사역∼진주역간 화물열차 탈선사고 조사보고서 - 12 - ⑬976296 ☜완사(순천)방 향 진주(부산)방향 ☞ ①◯25 열차진행방향 [표3] 사고열차의 조성 현황 1.5.2 사고열차 제원 사고열차에 조성되어 있던 기관차와 화차의 제원은 각각 [표4] 및 [표5]와 같다. 조성순서 차량번호 차종명 차량톤수 하중톤수 공차환산 영차환산 차 길이 기관차 7620 디젤76 132 124 4.2 4.4 1.5 1 70085 컨테2TEU 18.5 50 0.5 1.6 1 2 763025 컨테이너전용 23.1 51.5 0.6 1.7 1.1 3 70911 컨테2TEU 21.4 62.6 0.5 1.9 1 4 76071 컨테2TEU 18.1 50 0.5 1.6 1 5 70965 컨테2TEU 21.4 62.6 0.5 1.9 1 6 70883 컨테2TEU 21.4 62.6 0.5 1.9 1 7 70385 컨테2TEU 17.7 50 0.4 1.6 1 8 976211 컨테3TEU 20 54.5 0.5 1.7 1.4 9 976509 컨테3TEU 20.8 56.5 0.5 1.8 1.4 10 760872 컨겸50 21 50 0.5 1.6 1.1 11 70162 컨테2TEU 17.5 50 0.4 1.6 1 12 70394 컨테2TEU 17.7 50 0.4 1.6 1 13 976296 컨테3TEU 20.6 56.5 0.5 1.8 1.4 14 763349 컨겸평판 22.8 52 0.6 1.7 1.1 15 763359 컨겸평판 22.8 52 0.6 1.7 1.1 16 71020 컨겸평판 22.7 52 0.6 1.7 1.1 17 975209 컨테3TEU 18.2 56.5 0.5 1.7 1.4 18 975276 컨테3TEU 18.2 56.5 0.5 1.7 1.4 19 970505 냉동컨테이너 19.5 48 0.5 1.6 1 20 763071 컨겸평판 23.1 51.5 0.6 1.7 1.1 21 71027 컨겸평판 22.7 52 0.6 1.7 1.1 22 975237 컨테3TEU 18.2 56.5 0.5 1.7 1.4 23 70948 컨테2TEU 21.4 62.6 0.5 1.9 1 24 71033 컨겸평판 22.7 52 0.6 1.7 1.1 25 975262 컨테3TEU 18.2 56.5 0.5 1.7 1.4 사실정보 한국철도공사 경전선 완사역∼진주역간 화물열차 탈선사고 조사보고서 - 13 - 구 분 제 원 구 분 제 원 기관차번호 7620 최고속도 150km/h 차 종 디젤기관차 자 중 132t 도입일 2014. 6.30. 길 이 21,168㎜ 대차형식 볼스타리스 용접대차 높 이 4,150㎜ 제동장치 발전제동, 답면제동 폭 2,870㎜ 연결기형식 E 형 고정축거 4,200㎜ [표4] 기관차 주요 제원 구 분 제 원 구 분 제 원 차량번호 976296 최고속도 90km 차 종 평판차 자 중 20.6t 세부차종 컨테이너 3T 하 중 56.5t 도입일 1996.01.09 길 이 19,570㎜ 대차형식 바바 높 이 1,065㎜ 제동장치 공기제동(K2) 폭 2,579㎜ 연결기형식 E 형 고정축거 1,676㎜ [표5] 탈선화차의 주요 제원 1.5.3 탈선화차의 정비 현황 탈선화차의 종별 검수 이력은 [표6]과 같다. 검종 시행일 시행 장소 ES(기본정비) ‘19.2.15., ‘19.2.13., ‘19.2.11. 익산차량사업소 LI6(경정비) ‘18.12.19. ‘17.11.23.-11.24. ‘16.9.20.-9.21. 부산신항차량사업소 부산차량사업소 사외정비(고려차량) GI1(중정비1) ‘18.7.5. ‘16.4.4.-4.6. 부곡차량사업소 사외정비(고려차량) GI2(중정비2) ‘17.4.6.-5.4. ‘15.1.12.-1.16. 부산철도차량정비단 사외정비(고려차량) [표6] 탈선화차의 종별 검수 이력 탈선화차는 한국철도공사 객화차유지보수기준 제18조에 따라 주행장치 대차 각부 분해세척, 청소 후 액체침투 탐상, 차축 롤러 베어링 분해세척 후 각 부품의 상태 확인 및 차륜삭정 등을 시행하는 중정비2(GI2)를 2017년 5월 2일 실시하였고 검사 이후 사고당일까지 127,448.6㎞를 주행하였다. 사실정보 한국철도공사 경전선 완사역∼진주역간 화물열차 탈선사고 조사보고서 - 14 - 탈선화차의 차축에 대한 초음파탐상 및 유간측정 등의 결과는 [표7]과 같다. [표7] 탈선화차 윤축검사 내용 1.5.4 탈선화차의 차축 베어링 탈선화차 차축에는 TIMKEN사와 SKF사의 RCT NFL5) 차축 베어링이 혼 합 설치되어 있었으며, 탈선화차의 절손된 차축에는 SKF사의 차축 베어링이 설치되어 있었다. 이 베어링은 신차 도입 시 최초 설치되었고 차축 베어링의 구조는 [그림7]과 같다. 설치 볼트 엔드캡 씰 마모링 오일 씰잠금 플레이트 베어링 외륜 스페이스 내륜 및 롤러 조립 백킹링오일 씰 씰 마모링 내륜 및 롤러 조립 [그림7] RCT형 NFL 차축 베어링 구조 5) RCT NFL : Rotate end Cap and Tapered roller bearing No Field Lubrication의 약자로서, 정상 운행 중이면 장기간 그리스의 재급유가 필요하지 않은 그리스 윤활방식의 테이퍼 롤 러 베어링 위수 차축탐상 베어링 번호 제작사/년월 축방향유간 내경 감도 주파수 판독 R L R L R L R L 기준값 35 3M PN(양호) 0.25~0.50㎜ 131.75~131.80㎜ 1 35 3M PN 9708 76553 0007 34619 TK 97.08 TK 00.07 0.38 0.32 131.78 131.78 2 35 3M PN 0208 54537 0111 39836 TK 02.08 TK 01.11 0.32 0.32 131.78 131.78 3 35 3M PN 0312 004385 0111 57918 SKF 03.12 SKF 01.11 0.35 0.34 131.78 131.78 4 35 3M PN 0212 91188 0709 559109 TK 02.12 TK 07.09 0.30 0.38 131.78 131.78 사실정보 한국철도공사 경전선 완사역∼진주역간 화물열차 탈선사고 조사보고서 - 15 - 1.5.5 탈선화차의 축상 및 차륜의 상태 탈선화차의 뒷 대차의 왼쪽 앞 차축은 [그림8]과 같이 절손되었으며, 엔드캡 부분이 절손된 상태의 차축이 사고현장에서 발견되었다. [그림8] 절손된 탈선화차 차축 탈선화차 뒷 대차의 엔드캡 상태는 [그림9]와 같고 차축 베어링 과열 확인 을 위해 붙여 놓은 70도 온도 테이프는 탈락되었거나 변색이 없었다. 또한 모든 베어링에서 그리스 누유 흔적은 발견되지 않았다. [그림9] 탈선화차 차축의 베어링 조립체 3L : 70도 온도 테이프 없음 3R : 70도온도테이프변색없음 4L : 70도 온도 테이프 변색 없음 4R : 70도 온도 테이프 변색 없음 사실정보 한국철도공사 경전선 완사역∼진주역간 화물열차 탈선사고 조사보고서 - 16 - [그림 10]은 사고현장에서 수거한 탈선화차의 파손된 차축 베어링과 정상 적인 차축 베어링을 비교한 것이다. 파손된 차축 베어링은 내륜, 외륜, 롤러, 케이지 등이 심하게 훼손된 상태였다. [그림10] 정상 차축 베어링(상)과 비교한 파손된 차축 베어링(하) 1.6 차축 베어링 분해 검수 실태 한국철도공사 차량정비단에서는 객화차유지보수기준 에 따라 중정비 중 차축 베어링 분해검수 기준(주행키로 80만km, 회기한도 8년)에 도달하는 차 축 베어링에 대해서는 세척→내륜의 청소→검사→외륜의 검사→ 각부의 측정→표기, 기록→조립→그리스 주입→오일 씰 조립 후 차축에 압입하는 분해검수 과정으로 중정비를 시행하고 있었다. 탈선차량의 경우 사고 이전(‘17.4.28) 중정비2(GI2) 시행 시 차축 베어링을 분해 세척한 후 [그림11] 처럼 외륜과 롤러 표면의 필링(미세 박리), 브리넬 링(표면 변형), 스폴링(피로성 박리) 등을 돋보기와 디지털 현미경으로 확인 하고 있었으며, 차축 베어링 유간 및 내륜 측정기로 치수를 측정하였으며, 탈선화차의 롤러 베어링 분해 및 조립 시 검사항목은 [그림12]과 같으며, 모든 측정값은 모두 기준치 이내로 관리되고 있었다. 사실정보 한국철도공사 경전선 완사역∼진주역간 화물열차 탈선사고 조사보고서 - 17 - 롤러 표면 육안 검사 롤러 표면 현미경 검사 유간 및 내륜 측정기 베어링 내륜 측정 [그림11] 차량정비단의 베어링 분해검사 장면 [그림12] 차축 베어링 분해검사 및 조립 후 검사기준치 및 측정치 3L (절손) 3R (탈선) 4L (탈선) 4R (탈선) 사실정보 한국철도공사 경전선 완사역∼진주역간 화물열차 탈선사고 조사보고서 - 18 - 1.7 신호 및 전차선 정보 1.7.1 신호정보 사고구간의 신호설비는 전자연동장치, 복선 자동폐색 5현시, 구내 임펄스 궤도회로, 역간 AF 궤도회로, ATS 방식으로 구성되어 있다. 전기기술지원시스템 기록에는 [그림13] ①②③④와 같이 사고열차가 완사 역 상장내-2번선 진로로 진입하여 완사역 2번선에서 상출발 신호현시 상태에 서 진출한 후 사고지점에 정차할 때까지 신호와 진로는 모두 양호한 상태였 으며, 사고열차는 완사역∼진주역 구간을 운행하다가 탈선되어 886m를 더 진행 후 B8303T와 B8305T 구간에서 비상제동이 체결되어 정차되었다. ③ 사고열차 완사역 2번선-상출발 진출2019. 2.18. 21:53:32 ④ 사고열차 완사-진주간 탈선 8303T 정차2019. 2.18. 21:56:09 [그림13] 완사역∼진주역간 사고열차 운행 기술지원시스템 기록 상황 ① 사고열차 완사역 2번선 통과 현시2019. 2.18 21:47:10 ② 사고열차 완사역 상장내 진입 전2019. 2.18. 21:52:17 사실정보 한국철도공사 경전선 완사역∼진주역간 화물열차 탈선사고 조사보고서 - 19 - 1.7.2 전차선 정보 사고구간은 복선 비전철 구간으로 이번 사고와 관련이 없다. 1.8 기상정보 기상청 자료에 따르면 사고구간인 진주시의 당시 날씨는 약간의 비가 내 렸고, 기온은 4.9℃, 습도는 59%로 나타났다. 분석 한국철도공사 경전선 완사역∼진주역간 화물열차 탈선사고 조사보고서 - 20 - 2. 분석(Analysis) 2.1 업무 수행사항 2.1.1 사고열차 기관사 사고열차 기관사는 음주 등 승무적합성 검사에 대하여 위반 사항은 없었 으며, 사고열차 운행 시 운행기록 분석 결과 제한속도를 초과하지 않았으며, 열차에 충격을 줄 만한 기기 취급은 없는 등 적정한 승무업무를 수행하였다. 2.1.2 열차감시의 적정성 사고열차 무전기 녹취록을 확인한 결과 기관사와 로컬관제원 간 통화내용 중‘차량상태 이상 유무’를 확인해 주거나 탈선화차‘차축 베어링의 발열(불꽃 등)을 발견하거나 확인’한 내용은 없는 것으로 조사되었다. 사고열차가 출발 후 탈선되어 정차할 때까지 역사 및 기관차 CCTV 녹화 영상을 확인한 결과 탈선화차의 차축 베어링 발열에 의한 불꽃은 광양역과 진상역 사이 운행 중 차량 하부에서 최초로 불꽃이 발생되는 것을 확인하였 고, 이후 하동역 북천역 완사역 통과 중에도 불꽃이 발생되는 것이 확인되었 다. 당시 사고열차의 운행 속도를 80km/h라고 하고 불꽃발생 지점을 추정해 보면, ① 광양역(삼량진역 기점 148.500km) 지점의 통과 시각 21시17분20초 ② 최초 불꽃 확인된 지점의 통과시각 21시26분29초 ③ ①-②지점 운행시각 = 21시26분29초-21시17분20초 = 9분9초 = 549초 ④ 당시 속도 80km/h를 초속으로 환산하면 22.2m/sec ⑤ 이동거리 22.2m/sec × 549초 ≒ 12,200 m = 12.2km ⑥ 최초 불꽃발생 지점은 148.500km–12.2km = 136.300km 지점으로 추정됨 분석 한국철도공사 경전선 완사역∼진주역간 화물열차 탈선사고 조사보고서 - 21 - 또한 열차의 감시업무에 대하여 한국철도공사 운전취급규정 (개정 2018. 5. 8.) 37조와 제37조의 2에서 [표8]과 같이 규정하고 있다. 제37조(열차의 감시) ① 열차가 정거장에 도착출발 또는 통과할 때와 운행 중인 열차 의 감시는 다음 각 호에 따른다. 1. 기관사 가. 견인력 저하 등 차량이상을 감지한 경우 열차상태를 확인 후 운행할 것 나. 열차교행, 역 출발 또는 통과 시 무선전화기 수신에 주의할 것 다. 동력차 2인 승무열차의 기관사(또는 부기관사)는 운행 중 각 정거장간 1회 이상 뒤를 감시하여 열차의 이상 유무를 확인하여야 하며, 열차가 정거장을 출발하거나 통과할 경우 때때로 뒤를 감시하여 열차의 상태와 역장 또는 열차승무원의 동작 에 주의할 것 라. 동력차 1인 승무열차는 뒤감시 생략 제37조의2(영상감시설비에 의한 열차의 감시) ① 열차감시 지정역의 역장은 조작반 취 급, 열차무선교신 등 운전취급에 지장 없는 범위에서 영상감시장비를 활용하여 열차가 정거장에 진입 또는 진출할 때 주행장치 등의 이상 유무를 감시하여야 한다. 다만, 고 정편성 여객열차 및 동력차만으로 조성한 열차는 감시를 생략할 수 있다. ② 영상감시설비에 의한 열차감시 지정역은 별표 26과 같다. 영상감시설비에 의한 열차감시 지정역(제37조의2 [별표 26] 관련) 선 명 대상역 경전선 진영, 마산, 진주, 광양 [표8] 열차감시 관련 한국철도공사 「운전취급규정」 발췌 사고구간의 영상감시설비에 의한 열차의 감시는 [표8]의 [별표26]과 같고 열차감시 지정역은 ‘광양역과 진주역’이며 광양역에서는 광양역과 진상역 진주역에서는 완사역과 진주역의 영상감시설비가 구성되어 있었다. 하동역, 횡천역, 북천역은 무인 또는 1∼2명이 근무하는 역으로 열차 감시 역으로 지정되어 있지 않았다. 광양역과 진주역 로컬관제원은 ‘사고열차에 대해 CCTV 영상설비를 활용하 여 열차감시를 하였고 이상 없었다.’라고 진술하였으나 광양역 근무자는 사 고열차가 진상역 통과 중 차량 하부의 불꽃이 발생된 것을 확인하지 못하였 고 진주역 근무자는 사고열차가 완사역 통과 중 차량 하부의 불꽃이 발생된 것을 발견하지 못한 것으로 확인되었다. 분석 한국철도공사 경전선 완사역∼진주역간 화물열차 탈선사고 조사보고서 - 22 - 그리고 사고열차의 기관차는 신형기관차로서 일반기관차의 구조와 달리 박 스 형태이며 후부감시용 후사경은 설치되어 있지 않았고 측면 창문은 작게 설치되어 있어 운전실 내부에 운전자용 MMI 화면을 CCTV 화면으로 변경 하여야 열차 후부를 감시할 수 있었다. 사고열차의 기관사는‘정거장 간 후부감시를 기관차 내부 MMI 화면(CCTV) 을 통해 확인했으나 야간 및 우천으로 화질 상태가 불량하여 후부 감시가 어려웠습니다.’라고 진술하였다. 지역본부 지도운영팀장은 본사 운전제도 문답방6)을 활용하여‘신형기관차 (7600호대, 8500호대) 열차 후부감시 방법’을 문의(2015. 9. 28) 한 것 으로 보 아 사고열차와 같은 신형기관차는 기관사가 운전실에서 열차의 후부를 감시 하기에는 적절하지 않은 것으로 조사되었다. 2.2 차축 베어링 분해 검사 차축베어링이 차축 절손에 영향을 주었는지를 알아보기 위하여 탈선화차 에 설치된 총 8개의 차축 베어링 중 절손된 세 번째 왼쪽 차축(3L)에 설치 되었던 차축 베어링은 [그림14]과 같이 심하게 파손되어 사고원인을 밝힐 만 한 단서를 찾을 수 없었다. 그러나 세 번째 왼쪽 차축 베어링과 거의 유사한 하중이력을 가졌다고 판단되는 세 번째 오른쪽 차축 베어링(3R), 동일한 뒷 대차에 있던 차축 베어링(4L, 4R) 및 동일 차량의 앞 대차에 설치되어 있던 차축 베어링(1L, 1R, 2L, 2R)을 검사하여 간접적으로 사고의 원인을 추정하 였다. 6) 문답방 : 한국철도공사 그룹포털(전자문서)에 운전제도에 관한 질의 응답방 베어링 잔해 분석 한국철도공사 경전선 완사역∼진주역간 화물열차 탈선사고 조사보고서 - 23 - [그림14] 사고현장에서 수거한 베어링 잔해 및 엔드캡 검사 결과 [그림15]와 같이 대부분의 차축 베어링 외륜과 롤러에서 일직선 불량 및 충격흠 등 결함이 발견되었다. 차축 베어링이 파손되고(3L) 탈선한 뒷 대차의 나머지 세 개 차축 베어링(3R, 4L, 4R)에서 발견한 결함은 탈선 충격의 영향을 받았을 수 있지만, 탈선하지 않은 앞 대차의 네 개 차축 베어링 (1L, 1R, 2L, 2R)에서도 결함이 발견된 것으로 보아 탈선화차의 차축 베어링 은 사고 이전부터 결함이 있는 상태로 운행하다가 제 기능을 하지 못하여 차축이 절단되어 탈선된 것으로 판단된다. 차축 베어링 외륜과 롤러에서 발 견된 일직선 불량이나 충격흠 등 결함은 과적 또는 편적한 상태로 운행할 때, 열차 편성 시 충격 또는 고정핀을 풀지 않고 크레인으로 화차에서 컨테이너 를 들어 올렸다 화차가 떨어질 때 발생할 가능성이 있는 것으로 확인되었다. 1L : 외륜의 일직선 불량, 필링 1L : 롤러의 일직선 불량, 필링 1R : 외륜의 일직선 불량, 충격흠 1R : 롤러의 일직선 불량 롤러 엔드캡 분석 한국철도공사 경전선 완사역∼진주역간 화물열차 탈선사고 조사보고서 - 24 - [그림15] 차축 베어링 표면 검사 결과 (3R과 4L의 외륜은 탈선 충격으로 파손된 것으로 추정됨) 2L : 외륜의 일직선 불량 2L : 롤러의 일직선 불량 2R : 외륜의 일직선 불량 2R : 롤러의 일직선 불량 3R : 외륜의 일직선 불량 및 충격흠 3R : 롤러의 일직선 불량 및 파손 4L : 외륜의 일직선 불량 4L : 롤러의 일직선 불량 4R : 외륜의 일직선 불량 및 충격흠 4R : 롤러의 일직선 불량 분석 한국철도공사 경전선 완사역∼진주역간 화물열차 탈선사고 조사보고서 - 25 - 또한 화차가 특성이 각각 다른 선로를 운행하거나 작업하는 것을 고려하 지 않고 한국철도공사 객화차유지보수기준(내규 35호) 에서 차축 베어링의 분해검사 주기는 주행거리 80만km 또는 회기한도 8년으로, 교환 주기는 주 행키로 320만km로 동일하게 정하여 검사, 교환하는 것은 차축 베어링 결함 으로 발생할 수 있는 탈선사고를 예방하기 적절하지 못하므로 운행환경 작 업환경에 따라 그 주기에 차이를 두어 관리할 수 있도록 객화차유지보수기 준 을 개정할 필요가 있을 것으로 판단된다. 2.3 컨테이너 상하차 작업 화차에 컨테이너를 싣고 내리는 작업을 조사한 결과 컨테이너 고정핀을 완 전히 풀지 않고 컨테이너를 들어 올리거나 고정핀을 풀었다 하더라도 컨테 이너가 수직 방향으로 들어 올려지지 않으면 컨테이너가 고정핀에서 원활하 게 빠지지 못하고 화차가 함께 들어 올려지다 떨어지는 경우가 발생할 수 있다. 이러한 경우에 차축 베어링 외륜의 내면과 롤러 사이에 충격이 발생하 여 차축 베어링 외륜의 내면과 롤러에 일직선불량, 충격흠 등의 결함이 생기 는 것으로 조사되었다.([그림16]) 컨테이너 상하차 작업 분석 한국철도공사 경전선 완사역∼진주역간 화물열차 탈선사고 조사보고서 - 26 - 잠긴 상태 풀린 상태 [그림16] 컨테이너 상하차 작업과 고정핀 2.4 그리스 성분 사고 당시에 파손된 차축 베어링 이외의 차량에 남아 있는 차축 베어링에서 그리스를 채취하여 분석함으로써 탈선화차의 차축에 베어링을 설치할 당시 또는 운행 중에 이물질이 유입되었는지 여부를 간접적으로 확인하였다.([그림17]) [그림17] 탈선화차의 차축 베어링에서 채취한 그리스 고정핀 분석 한국철도공사 경전선 완사역∼진주역간 화물열차 탈선사고 조사보고서 - 27 - 신품 그리스와 파손된 차축 베어링에서 채취한 7종(1L, 1R, 2L, 2R, 3R, 4L, 4R) 그리스 시료의 구조분석을 위해 적외선 분광기를 사용하였다. 구조 분석의 결과 [그림18]과 같이 적외선 분광기 스펙트럼의 주요 피크가 일치하 기 때문에 신품과 차축 베어링에서 채취한 그리스는 동일한 제품(SCH-100, Mobilith 社)일 것으로 분석되었다. [그림18] 적외선 분광기 구조분석 결과 차축 베어링 마모에 의해 그리스에 철(Fe)성분이 섞여 있는지를 확인하기 위해 유도결합 플라즈마 분광기를 사용하였다. 신품 그리스와 차축 베어링에 서 채취한 그리스의 성분을 분석하여 비교하였고, 그 결과는 [표9]과 같다. 유도결합 플라즈마 분광기의 성분분석 결과, 신품에서는 철 성분이 검출되 지 않았으나 나머지 7종에서는 모두 철 성분이 검출되었다. 이는 탈선 충격 이나 차축 베어링에 결함이 있는 상태에서 차량이 주행하여 차축 베어링 구 성 부품들이 마모되어 그리스에 철 성분이 섞인 것으로 분석되었다. 분석 한국철도공사 경전선 완사역∼진주역간 화물열차 탈선사고 조사보고서 - 28 - [표9] 그리스 성분 분석 결과 (단위: wt%) 그리스에 함유된 수분을 분석하기 위해 수분함량 측정기를 사용하였다. 신 품 그리스와 차축 베어링에서 채취한 그리스의 수분을 분석하여 비교하였고, 그 결과는 [표10]과 같이 신품 및 차축 베어링에서 채취한 그리스에서 수분 이 0.1% 이내로 검출되어 기준(신간선 0.2%)을 만족하는 것으로 분석되었다. [표10] 수분 함량 측정 결과 (단위: wt%) 분석 한국철도공사 경전선 완사역∼진주역간 화물열차 탈선사고 조사보고서 - 29 - 2.5 종합 분석 탈선화차는 컨테이너를 운반하는 화차로서 차축 베어링 분해검사 결과 차 축 베어링 외륜의 내면과 롤러에서 일직선 불량과 충격흠 등 결함이 발견되 었으며, 차축 베어링의 분해검사 주기도 운행 및 작업환경 등을 고려하지 않 고 동일(주행거리 80만km, 회기 한도 8년)하게 정해져 있었다. 또한, 화차에 컨테이너를 싣고 내리는 작업을 조사한 결과 화차에서 컨테 이너 고정핀을 완전히 풀지 않고 컨테이너를 들어 올리거나 고정핀을 풀었 다 하더라도 컨테이너가 수직 방향으로 들어 올려지지 않으면 컨테이너가 고정핀에서 원활하게 빠지지 못하고 화차가 함께 들어 올려지다 떨어지는 경우가 발생할 수 있다. 이러한 경우에 차축 베어링 외륜의 내면과 롤러 사 이에 충격이 발생하여 결함이 생기는 것으로 판단된다. 탈선화차는 차축 베어링에 결함이 있는 상태로 주행하다가 진상역 진입하 기 이전부터 차축 베어링 발열에 의한 불꽃이 발생되었으나 로컬관제원은 열차감시를 통해 이를 발견하지 못하였다. 탈선화차는 사고 현장 근처에서 외륜이 파손되었고, 롤러가 차축 베어링 내의 정상 위치로부터 이탈되었으며, 이로 인해 차축 베어링이 과열되며 차 축이 절손되어 완사역과 진주역 사이에서 진행방향 좌측으로 탈선하였다. 결론 한국철도공사 경전선 완사역∼진주역간 화물열차 탈선사고 조사보고서 - 30 - 3. 결론 3.1 조사 결과 3.1.1 사고열차는 2인 승무열차로 기관사는 운전취급규정 제37조(열차의 감 시) 제1항에 따라 기관차 내부 MMI 화면(CCTV)을 활용하여 열차감시 를 시행하였으나 야간 및 우천으로 인하여 확인에 어려움이 있었다. 3.1.2 사고열차의 기관차는 신형기관차로 일반기관차 구조와 달리 박스 형태 이고, 후부감시용 후사경이 설치되어 있지 않았으며, 측면 창문은 작게 설치되어 있었고, 운전실 내부에 설치된 운전자용 후부감시용 CCTV 화면은 MMI를 CCTV 모드로 변경해야 열차 후부를 감시할 수 있는 어려움이 있으므로 기관사가 차축 베어링 발열 등 열차 후부의 이상을 용이하게 감시하기 위한 개선이 필요할 것으로 조사되었다. 3.1.3 사고열차 무전기 녹취록을 확인한 결과 기관사와 로컬관제원 간 통화 내용 중에서‘차량상태의 이상 유무’를 확인해 주었거나 탈선화차 ‘차축 베 어링의 발열(불꽃 등) 상태를 발견하거나 확인’한 내용은 없었다. 3.1.4 역사 및 기관차 CCTV 녹화영상을 확인한 결과 사고열차는 광양역과 진상역 운행 중 차량 하부에서 최초로 불꽃이 발생되는 것을 확인하였고, 이후 하동역 북천역 완사역 통과 중 불꽃이 확인되어 탈선화차의 차축 베어링 발열에 의한 불꽃은 진상역 진입전(삼랑진역 기점 136.300km 지점)부터 발생된 것으로 조사되었다. 3.1.5 광양역과 진주역 로컬관제원은 운전취급규정 제37조의2에 따른 열차 감시를 시행하였으나 차축 불꽃을 발견하지 못하여 탈선사고를 예방하 지 못한 것으로 분석되었다. 3.1.6 탈선화차 뒷 대차의 엔드캡에 차축 베어링 과열 확인을 위해 붙여 놓 은 70도 온도 테이프는 탈락되었거나 변색이 없어 개선이 필요할 것으 결론 한국철도공사 경전선 완사역∼진주역간 화물열차 탈선사고 조사보고서 - 31 - 로 조사되었다. 3.1.7 한국철도공사 객화차유지보수기준(내규 35호) 에서 차축 베어링의 분해검사 주기는 주행거리 80만km 또는 회기한도 8년으로, 교환주기는 주행키로 320만km로 동일하게 정하여 검사, 교환하는 것은 차축 베어 링 결함으로 발생할 수 있는 탈선사고를 예방하기에는 적절하지 못하 므로 운행환경작업환경에 따라 차이를 둘 수 있도록 객화차유지보수 기준 을 개정할 필요가 있을 것으로 판단된다. 3.1.8 탈선화차에 설치되어 있던 차축 베어링 분해검사 결과 대부분의 차축 베어링 외륜과 롤러에서 일직선 불량 및 충격흠 등의 결함이 발견되었 다. 차축 베어링이 파손되고 탈선한 뒷 대차의 나머지 세 개 차축 베어 링에서 발견한 결함은 탈선 충격의 영향을 받았을 수 있지만, 탈선하지 않은 앞 대차의 네 개 차축 베어링에서도 결함이 발견된 것으로 보아 탈선화차의 차축 베어링은 사고 이전부터 결함이 있는 상태로 운행한 것이 탈선의 원인이 된 것으로 판단된다. 3.1.9 차축 베어링 외륜의 내면과 롤러에서 발견된 일직선 불량이나 충격흠 등 결함은 과적 또는 편적한 상태로 운행하거나, 화차에 컨테이너를 싣고 내리는 작업을 할 때 컨테이너 고정핀을 완전히 풀지 않고 컨테 이너를 들어 올리거나 고정핀을 풀었다 하더라도 컨테이너가 수직 방 향으로 들어 올려지지 않으면 컨테이너가 고정핀에서 원활하게 빠지지 못하고 화차가 함께 들어 올려지다 떨어지는 경우가 발생할 수 있다. 이러한 경우에 차축 베어링 외륜의 내면과 롤러 사이에 충격이 발생되 면서 차축 베어링 외륜의 내면과 롤러에 결함이 생길 수 있을 것으로 조사되었다. 3.1.10 적외선 분광기 이용하여 그리스 구조 분석을 수행한 결과 신품과 탈 선화차 차축 베어링에서 채취한 그리스는 동일 제품일 것으로 분석되 었다. 결론 한국철도공사 경전선 완사역∼진주역간 화물열차 탈선사고 조사보고서 - 32 - 3.1.11 유도결합 플라즈마 분광기의 성분분석 결과, 신품에서는 철 성분이 검 출되지 않았으나 나머지 7종에서는 모두 철 성분이 검출되었다. 이는 탈선 충격이나 차축 베어링에 결함이 있는 상태에서 차량이 주행하여 차축 베어링 구성 부품들이 마모되어 그리스에 철 성분이 섞인 것으로 분석되었다. 3.1.12 그리스 수분함량 측정 결과 신품 및 차축 베어링에서 채취한 그리스 에서는 수분이 0.1% 이내로 검출되어 기준을 만족하는 것으로 분석되 었다. 3.1.13 사고구간의 선로상태 확인을 위한 궤도검측차 검측 결과는 양호하였 으며, 도보순회점검도 주기적으로 시행하였고 특이사항은 없었다. 3.1.14 사고열차는 완사역을 통과하여 진주역 쪽으로 운행하면서 사고지점에 정차할 때까지 신호와 진로는 모두 양호한 상태였다. 3.2 사고 원인 항공철도사고조사위원회는 이번 사고의 주원인을 ‘차축에 설치되어 있는 차축 베어링 외륜의 내면과 롤러에 결함이 있는 상태에서 운행 도중 차축 베어링이 파손되면서 차축이 절손되어 탈선한 것’으로 결정하였다. 기여요인으로는 ‘화차에 컨테이너를 싣고 내릴 때 차축 베어링에 충격이 가해진 것, 차축 베어링의 분해검수 주기와 교환 주기가 화차에 적재되는 화 물의 종류, 적재방법 및 사용환경의 차이에도 불구하고 동일하게 규정하여 관리한 것’으로 결정하였다. 안전 권고 한국철도공사 경전선 완사역∼진주역간 화물열차 탈선사고 조사보고서 - 33 - 4. 안전 권고 항공․철도사고조사위원회는「항공․철도사고조사에 관한 법률」제26조에 따라 2019년 2월 18일 경전선 완사역∼진주역 사이에서 발생한 화물열차 탈 선사고에 대하여 다음과 같이 권고한다. 4.1 한국철도공사에 대하여 4.1.1 화차 차축 베어링의 분해검수 주기와 교환 주기를 화차에 적재되는 화 물의 종류, 적재방법 및 사용환경에 따라 차이를 두어 유지보수에 적용 할 수 있도록 연구용역 등을 통하여 차축 베어링의 분해검수 주기와 교환 주기를 단축할 수 있도록 객화차 유지보수 기준 을 개정할 것 4.1.2 컨테이너를 화차에서 들어 올릴 때 화차가 함께 들어 올려지다 떨어지지 않도록 작업 절차를 개선하고 이를 감시할 수 있는 시스템을 갖출 것 4.1.3 화차의 발열 여부를 발견하기 위해 차축에 부착한 온도 테이프는 효과가 없는 것으로 밝혀진 바, 이를 대체할 방법을 수립하고 시행할 것 4.1.4 역근무자가 열차 감시 업무를 적정하게 수행할 수 있도록 열차감시용 영상감시설비의 확대 설치 등 방안을 마련하여 시행할 것 4.1.5 신형기관차로 열차를 편성하여 운행시 열차 후부를 쉽게 감시할 수 있 도록 개선할 것 - 34 - 　　이 보고서는 사고조사 과정에서 관계인들로부터 청취한 진 술 및 개인정보 등이 포함되어 있어, 　『항공․철도사고조사에 관한 법률』제28조(정보의 공개금지) 및 같은 법 시행령 제8조(공개를 금지할 수 있는 정보의 범위)에 의 하여 이 보고서(인쇄본)에 개인정보는 공개하지 않았으며, 국민 여러분의 이해를 돕기 위해 전문 철도용어를 쉽게 풀어서 쓴 점을 양해하여 주시기 바랍니다. 자세한 사항은 항공․철도사고조사위원회로 문의하여 주시기 바랍니다. 항공․철도사고조사위원회 http://www.araib.go.kr 전화 : 044-201-5443 E-mail: mrlee56@korea.kr\n",
            " 보고서번호: ARAIB/R 2019-7 철 도 사 고 조 사 보 고 서 한국철도공사 강릉선 청량신호소 구내 제806 KTX-산천열차(10량, 강릉역→서울역) 열차 탈선 2018년 12월 8일(토) 07시 35분경 2019. 12. 23. 항공･철도사고조사위원회 이 조사보고서는 「항공․철도사고조사에 관한 법률」제2 조(정의)에 의거 사고조사가 이루어졌으며, 제25조(사고 조사보고서의 작성 등)에 따라 작성되었다. 같은 법률 제1조(목적)에서 ‘철도사고 조사는 독립적이고 공정한 조사를 통하여 사고 원인을 정확하게 규명함으로써 철 도사고의 예방과 안전 확보에 이바지함’을 목적으로 하고 있다. 또한, 제30조(다른 절차와의 분리)에 따라 ‘사고조사는 민․형사상 책임과 관련된 사법절차, 행정처분절차 또는 행정쟁송절차와 분리․수행’되어야 하고, 제32조(불이익의 금지)에서 ‘위원회에 진술․증언․자료 등의 제출 또는 답변을 한 사람은 이를 이유로 해고․전 보․징계․부당한 대우 또는 그 밖에 신분이나 처우와 관련하여 불이익을 받지 아니한다.’라고 규정하고 있다. 그러므로 이 조사보고서는 철도분야의 안전을 증진시 킬 목적 이외의 용도로 사용되어서는 아니 된다. 차례 한국철도공사 강릉선 청량신호소 구내 KTX열차 탈선사고 차 례 제목 1 개요 2 1. 사실정보 4 1.1 사고의 경위 4 1.2 피해사항 5 1.3 인적정보 및 업무수행사항 6 1.4 현장정보 13 1.5 차량정보 18 1.6 신호정보 22 1.7 기상정보 52 2. 분석 53 2.1 업무수행사항 분석 53 2.2 선로분석 54 2.3 차량분석 54 2.4 신호분석 55 2.5 종합분석 75 3. 결론 76 3.1 조사결과 76 3.2 사고원인 85 4. 안전권고 86 4.1 한국철도시설공단에 대하여 86 4.2 한국철도공사에 대하여 87 4.3 교통안전공단 대하여 88 제목 한국철도공사 강릉선 청량신호소 구내 KTX열차 탈선사고 - 1 - 한국철도공사 강릉선 청량신호소 구내 KTX열차 탈선사고  운영기관 : 한국철도공사  운행노선 : 강릉선  발생장소 : 청량신호소 구내 선로전환기 21B호  사고열차 : 제806KTX-산천열차(10량)  사고유형 : 열차 탈선  발생일시 : 2018년 12월 8일(토) 07시 35분경 개요 한국철도공사 강릉선 청량신호소 구내 KTX열차 탈선사고 - 2 - 개요(Synopsis) 2018년 12월 8일 07시30분경 제806KTX열차가 강릉역에서 출발하여 07시 35분경 청량신호소1) 출발신호기 진행 상태에서 21B2)호 선로전환기를 통과 중 선두 동력차가 탈선하고 이어 모든 차량이 탈선하였다. [그림1] 연동장치 재생화면 및 탈선사고 사진3) 1) 최초 설계 시 명칭은 “강릉신호소”였으며, 2단계(2017. 9) 이후부터 국토교통부 고시에 의하여 “청량 신호소”로 명칭이 변경되었음. 2) 사고 당시 첨단부가 벌어진 장애 상태였으며 21A호, 21B호의 명칭이 표시회로를 분리하며 ‘D’를 추 가하여 본 보고서에는 21A는 21AD, 21B는 21BD로 칭하며 같은 선로전환기임. 3) 이 보고서에서 항공촬영 된 탈선사고 사진은 언론사 보도 사진 또는 영상화면을 인용하였음. 개요 한국철도공사 강릉선 청량신호소 구내 KTX열차 탈선사고 - 3 - 이 사고로 부상 1명(강릉역 직원)의 인명피해가 발생하였고, 탈선과정에서 KTX차량, 레일, 침목, 선로전환기 및 전차선 등이 파손되었다. 항공․철도사고조사위원회는 항공․철도사고조사에 관한 법률 제2조(정 의) 및 제18조(사고조사의 개시)에 따라 사고조사를 실시하였다. 이번 사고의 주 원인은 ‘청량신호소 21B호 선로전환기 첨단부가 서울방향 으로 밀착되지 못하고 벌어진 장애 상태에서 청량신호소 출발신호기에 정지 신호가 현시되어야 함에도 불구하고 진행신호가 현시되도록 신호기계실내 분선반 단자대의 21A호, 21B호 선로전환기 배선을 반대로 시공한 것’으로 결정하였다. 또한 이번 사고의 기여요인은 ‘청량신호소 및 강릉차량기지 연동검사 과정 에서 21A호, 21B호 선로전환기가 반대로 표시되는 것을 확인하지 못한 것, 청량신호소 21A호, 21B호 선로전환기를 설계변경하고 설치․시공ㆍ감리 과 정에 변경내용을 정확하게 반영하지 못한 것, 쌍동 선로전환기 표시회로를 분리하도록 변경하고 유지 보수 교육을 시행하지 않고 유지보수 매뉴얼을 개정하지 않아 유지보수를 적절하게 시행하지 못한 것, 종합시험운행 사전점 검 결과 검토가 미흡하게 시행된 것’으로 결정하였다. 따라서 항공․철도사고조사위원회는 사고조사 결과에 따라 한국철도시설 공단에 9건, 한국철도공사에 5건, 교통안전공단에 2건의 안전권고를 발행한 다. ※ 청량신호소 21B호 선로전환기의 불일치 장애원인은 선로전환기 전동기 내부의 콘덴서 고장에 의한 전동기의 전환력 부족으로 확인되었으며 선로전 환기 첨단이 벌어진 상태에서 열차가 운행하여 탈선하였지만 21B호 선로전 환기는 불일치 상황을 자체 동작원리에 따라 연동장치에 전달하였기 때문에 탈선사고의 사고원인 및 기여요인으로 정하지 않았다.(보고서 2.4.6.2 참고) 사실정보 한국철도공사 강릉선 청량신호소 구내 KTX열차 탈선사고 - 4 - 1. 사실정보 1.1 사고의 경위 강릉역 로컬관제원은 2018년 12월 8일 07시 03분경 제801KTX열차4)가 청 량신호소 하본선을 통과하자 07시 04분경 강릉차량기지에서 청량신호소를 경유하여 강릉역으로 운행할 제H1636열차5)를 출고시키기 위해 청량신호소 1B진로6)를 제어한 후 제어모니터 화면에 21A호 선로전환기 불일치 장애가 발생한 것을 확인하였다. 로컬관제원은 07시 05분부터 21A호 선로전환기를 정․반위7)로 수회 반복 전환을 하였으나 불일치 장애가 복구되지 않아 역무원과 신호직원을 현장으 로 출동시키고 07시 07분경 철도교통관제센터 관제사에게 장애 내용을 보고 하고 관제센터 관제사는 본사 상황실 관제사에게 보고하였다. 이후 초기 대응팀이 현장으로 출동하고 21A호 장애 선로전환기를 복구 또 는 수동취급하려고 준비하는 과정에 관계자8)간 협의를 통해 ‘21A호 선로전 환기가 장애 상태에서도 청량신호소 출발신호기9)는 정상으로 현시되니 제 806KTX열차(이하 “사고열차”라 한다.)를 강릉역에서 먼저 출발시키고 이후 에 제H1636열차를 강릉차량기지에서 출고’시키기로 결정하였다. 사고열차가 07시30분경 강릉역에서 출발하여 07시 35분경 청량신호소의 출발신호기 진행 상태에서 21B호 선로전환기를 101km/h의 속도로 통과 중 선두 동력차의 첫 번째 대차는 서울방향으로 진행하고 두 번째 대차는 강릉 차량기지방향으로 진행하며 [그림2]와 같이 모든 차량이 탈선하였다. 4) 서울역에서 강릉역으로 운행하는 열차이며 강릉역 도착 후 제806KTX 사고열차로 반복 사용된다. 5) 강릉역에서 운행할 무궁화호 열차로 강릉차량기지에서 강릉역으로 운행할 회송열차임 6) 강릉역 로컬관제원이 청량신호소 신호설비를 제어하고 있으며 1B진로는 열차가 강릉차량기지에서 청량신호소로 진입을 허용하는 진로이고 제어 시 21A, 21B호 선로전환기는 반위로 전환된다. 7) 정위는 주요하거나 안전한 선로 방향으로 개통하는 것을 말하며 그 반대를 반위라 한다. 8) 관계자란 강릉역 로컬관제원, 센터 관제사, 본사 관제사를 말한다. 9) 21A호 선로전환기가 장애이더라도 21B호 선로전환기기 정상이면 신호기는 진행으로 현시된다. 사실정보 한국철도공사 강릉선 청량신호소 구내 KTX열차 탈선사고 - 5 - [그림2] 탈선 상황도 1.2. 피해사항 1.2.1 인명피해 이번 사고로 인명피해는 사망자는 없으며 부상자 1명이 발생하였다. 1.2.2 물적피해 이번 사고로 KTX차량의 동력차 및 객차의 차체와 대차가 파손되어 차량 분야에서 약 21,534,000천원, 레일, 침목, 분기기 등이 파손되어 시설분야에서 약 796,333천원, 전차선로, 각종 체결구 등이 파손되어 전기분야에서 약 397,731천원 총 22,728,064천원의 물적피해가 발생하였고, 총 103개10) 열차가 지장을 받았다. 10) KTX 100개열차일부구간운행중지및무궁화3개열차전구간운행중지하였음. 사실정보 한국철도공사 강릉선 청량신호소 구내 KTX열차 탈선사고 - 6 - 1.3 인적정보 및 업무수행사항 1.3.1 사고열차 기장 사고열차 기장은 1995년 4월 1일 (구)철도청 동해 기관차 승무사무소 부기관 사로 임용되어 2001년 1월 20일 기관사로 발령받았으며, 2010년 12월 1일 운전 지도팀장, 2014년 4월 28일 지도운용팀장을 거쳐 2018년 4월 23일 청량리 고속 승무사업소 KTX 견습기장 파견, 이후 6월 30일 KTX기장으로 발령받아 고속 열차 운전업무를 수행하고 있었다. 기장은 「철도안전법」(법률 제13436호, 2015년 7월 24일 개정, 이하 “철도안 전법”이라 한다) 제10조에 따라 2006년 7월 1일 디젤차량과 제1종 전기차량, 2011년 10월 25일 제2종 전기차량, 2017년 12월 28일 고속철도차량 운전면허 를 취득하여 자격을 유지하고 있었다. 기장은 사고 열차 승무를 위하여 청량리 고속열차승무사업소 강릉주재에 12월 7일 22시40분경 도착하여 다음 날 6시 30분까지 휴식을 취한 후 승무 적합성 검사를 받고 7시 10분경 강릉역 3번선에서 KTX801열차 도착 편성을 인계받아 차량상태 점검을 하였으며 차량상태는 이상 없었다. 기장은 사고열차에 탑승하여 출발대기 중 강릉역 3번선 출발신호기의 감속신 호 현시 상태를 확인하였으나 몇 분 뒤 주의신호로 바뀌어 강릉역에 열차무선 으로 출발신호기의 신호상태를 확인하려 하였으나 다시 감속신호가 정상적으로 현시되어 강릉역에 확인하지 않고, 진로표시기에 강릉선 지시와 열차팀장의 출 발전호를 확인하고 출발하였다. 기장은 강릉역 출발 후 청량신호소 장내신호기진행,진로표시기경강을 확인하고 사고지점에 접근 중 진행 방향 좌측 선로 밖에서 대피해 있는 직원 3 명을 목격하였으며, 열차가 사고지점을 통과 중 충격과 심한 진동이 발생한 후 뒤가 틀리고 좌측으로 심하게 기울며 정차되었다고 진술하였다. 사실정보 한국철도공사 강릉선 청량신호소 구내 KTX열차 탈선사고 - 7 - 1.3.2 사고열차의 운행기록 [그림3]과 같이 사고열차의 운행기록 정보는 2초 간격으로 기록되고 있었 으며, 사고 당시 전차선 가선전압은 25,000V로 정상이었고, 강릉역 출발 후 부터 운전자경계장치(VDS)는 정상으로 동작하고 있었다. 사고열차는 강릉역 출발 후 07:33:52까지 최대 견인속도 118km/h로 운행하 였으며, 07:35:04 사고지점인 21B호 선로전환기 통과속도는 101km/h11)이며 같은 시각 기장이 비상제동을 취급하였고 이후 07:35:12 속도 30km/h에서 시 스템이 정지되어 기록이 멈췄다. [그림3] 사고열차 운행기록 11) 기장은 속도모드 120km/h구간의 허용속도를 초과하지 않았다. 사실정보 한국철도공사 강릉선 청량신호소 구내 KTX열차 탈선사고 - 8 - 1.3.3 철도교통관제센터 관제사 관제사는 1991년 5월 15일 능곡역 역무원으로 임용되어 수송원, 차장, 운전 원, 부역장을 역임한 후 서울사령실에서 2년 근무 후 2006년부터 철도교통관 제센터에서 관제업무를 수행하고 있었다. 관제사는 2017년 7월 25일 교통안전공단으로부터 「철도안전법」 제21조3 에 따른 관제자격증명을 받았으며, 사고 당일 3조2교대 근무 중 2조 근무로 19시부터 익일 9시까지 근무하면서 19시부터 21시까지 합동근무, 21시부터 새 벽 2시까지 단독근무 후 다시 아침 7시부터 합동근무를 하였다. 관제사의 제어영역은 강릉선 만종에서 강릉역까지이며, 관제사의 업무는 대형모니터로 운행상황 감시, 차단작업 협의, 전철사령과 급단전 협의, 급단 전 통보, 차단작업 전 작업에 대한 주의 사항 고지, 승인 및 제어권 이관 업 무를 수행하고 작업사항 관리, 작업완료 수보, 출고열차와 시발열차 확인, 이 례적인 신호 취급 승인과 상황 대처 등이었다. 관제사는 7시 7분경 다른 업무를 하던 중 인접 콘솔의 관제사가 청량신호 소 차량기지 쪽 선로전환기 장애 발생을 알려와 신호사령에게 장애 내용을 통보하였으며, 7시 11분경 본사 운영상황실 관제사에게 장애 내용을 보고하 고 인접 관제사에게 강원본부 당직실에 통보를 의뢰하였고 7시 12분경 강릉 역 초기대응팀에게 선로전환기 수동취급과 수신호를 준비하여 청량신호소로 출동할 것을 지시하였다. 관제사는 7시 17분경 강릉역 로컬관제원에게 관제전화로 사고열차의 운행 에 지장 없음을 확인하고 7시 20분경 대형모니터로 사고열차에 대한 강릉역 출발신호 현시와 청량신호소 장내ㆍ출발신호기의 진행현시를 확인하고 본사 운영상황실에 사고열차 통과 후에 차량기지에서 출고되는 열차는 수동으로 취급하겠다고 업무전화로 통보한 후 강릉역 로컬관제원에게 사고열차 통과 후 출고 열차 H1636열차는 수동 취급을 준비하라고 지시하였다. 사실정보 한국철도공사 강릉선 청량신호소 구내 KTX열차 탈선사고 - 9 - 7시 24분경 강릉역 로컬관제원에게 강릉차량기지 로컬관제원과 협의해서 지도표12) 등의 준비를 지시하였으며, 7시 30분경 강릉역 로컬관제원이 ‘초기 대응팀은 현장에 도착했으며, 신호 직원이 사고열차 통과 후 3분 정도 시간 을 요구하였으며 3분 이내에 응급조치가 되지 않으면 선로전환기를 수동 취 급해야 한다.’라고 지시하였다고 진술하였다. 관제사는 사고열차가 청량신호소 장내신호기를 통과하여 출발신호기를 점 유할 때까지 정상 상태를 보이다가 순식간에 21BT와 21AT가 적색으로 점 멸하는 것을 확인하였으며, 7시 36분경 전기사령이 강릉 SS부터 안인 SP까 지 단전을 통보해왔고 강릉역 로컬관제원이 사고열차의 탈선 사실을 통보해 왔다고 진술하였다. 1.3.4 강릉역 운전팀장(로컬관제원) 강릉역 운전팀장은 1997년 동해역 수송원으로 임용되어, 정동진역, 묵호항 역, 옥계역을 거쳐 동해역 수송원 근무 중 팀장 등용시험 합격 후 운전팀장 으로 발령받고 로컬관제원 교육을 이수하여 2018년 6월 21일 강릉역 운전팀 장으로 발령받아 사고 당시 로컬관제원 업무를 수행하고 있었다. 강릉역은 로컬제어역으로 강릉역에서 청량신호소까지 제어하며, 상시로컬 역으로 조작판에서 열차의 신호진로를 취급하고, 모니터로 운행상황 감시, 운전시행전달 명령으로 전달된 차단작업의 철도운행 안전협의 및 관제센터 에 보고, 작업 사항을 관리하며 열차 출발시각 10분 전에 신호를 취급하고 철도교통관제센터 관제사에게 통보하고 있었다. 운전팀장은 강릉역 승강장에는 4개 선로가 있으며 청량신호소는 본선이 단선이고 영동선 및 강릉차량기지로 분기되며 신호는 5현시이고 신호 취급 시에는 청량신호소의 상행 출발신호와 장내신호를 먼저 취급하고 강릉역의 12) 이례상황 발생 시 발행하는 운전허가증으로서 양단 정거장 또는 신호소의 역장이 서로 협의 후 발행하여야 하며 1폐색구간에 1매로 함. 사실정보 한국철도공사 강릉선 청량신호소 구내 KTX열차 탈선사고 - 10 - 출발신호를 취급해야만 정상적으로 진로가 취급되는데 그때 강릉역의 출발 신호는 감속신호가 현시된다고 설명하였다. 운전팀장은 사고 당일 7시 이전 근무자와 교대 후 H1636열차를 차량기지 에서 강릉역으로 출고시키기 위하여 청량신호소의 장내 신호(1B)를 취급하 자 장애가 발생하여 21A호와 21B호 선로전환기를 단독으로 정위와 반위로 전환 시험을 하였으며, 7시 7분경까지 장애가 지속되어 평창신호제어사업소 와 철도교통관제센터에 장애 내용을 통보하였다. 운전팀장은 7시 12분경 철도교통관제센터 관제사 지시로 역무팀장과 역무 원을 현장으로 출동시켰으며, 7시 17분경 관제사가 강릉선 청량신호소 출발 신호가 현시 되는지 물어와서 현시 가능하다고 하자 관제사가 강릉선으로 출발을 지시하여 출발신호를 취급하였고, 7시 26분경 평창신호에 연락하여 사고열차가 운행할 청량신호소 출발신호기 현시에 지장이 없음을 확인했다 고 진술하였다. 운전팀장은 7시 30분경 신호 직원이 사고열차가 지난 뒤 21호 선로전환기 를 점검하기로 하고 점검시간을 약 3분 요청하여 철도교통관제센터 관제사 에게 통보하였으며, 7시 35분경 사고열차 기장이 무선으로 탈선 사실을 통보 해왔다고 진술하였다. 1.3.5 강릉역 역무팀장 강릉역 역무팀장은 1998년도 8월 3일 묵호항역에 신규 임용되어, 동해역, 묵호역, 신기역을 거쳐 옥계역에서 부역장을 역임하다가 2018년 8월 21일 강 릉역 역무팀장으로 발령받았으며, 로컬관제원 자격요건을 갖추고 있어 사고 당시 강릉역 운전취급자의 연가사용으로 새벽 2시부터 7시까지 로컬관제원 업무를 수행하였다. 역무팀장은 사고 당일 근무 중 청량신호소의 제어 및 열차 취급 시 별다 사실정보 한국철도공사 강릉선 청량신호소 구내 KTX열차 탈선사고 - 11 - 른 이상은 없었으며, 7시경 운전팀장과 근무 교대 후 역무실에서 업무 중 운 전팀장이 비상대응팀 출동을 요청하여 역무원과 함께 승용차를 타고 사고 현장으로 출동하였다. 역무팀장은 7시 23분경 이동하는 승용차 내에서 운전팀장으로부터 휴대전 화로 상황 설명을 들었으며, 7시 32분경 현장에 도착하여 다시 운전팀장으로 부터 전화를 받았고, 7시 33분경 청량신호소 안전 출구 계단으로 올라가 현 장에 접근하며 신호직원과 합류하였다. 역무팀장은 7시 35분경 21A호 선로전환기로부터 약 2미터 전방에서 운전 팀장과 통화를 끝내고 이동 중 진입하고 있던 사고열차가 순간적으로 달려 드는 것 같아 선로 밖으로 피했는데 사면의 돌망으로 굴러 마지막 울타리까 지 구른 후 뭔가 다시 덮칠 것 같아 축대 쪽으로 오르다가 미끄러졌으며 이 후 119구급대가 도착하여 외부로 이동했다고 진술하였다. 1.3.6 평창신호제어사업소 B조 선임 전기장 B조 선임 전기장(41세, 남)은 철도신호기사, 전기기사, 교통안전관리자 등 을 취득하고 있었으며, 2004년 3월에 동해신호제어사업소 신규임용 후 약 3 년 근무, 동백산신호제어사업소에서 약 1년 근무, 강원본부 전기처에서 약 4 년 근무, 동백산신호제어사업소에서 약 4년 6월 근무 후 2017년 11월20일 평 창신호제어사업소로 발령받아 사고 당시 남강릉주재 B조에 소속되어 야간근 무 중이었다. 남강릉주재는 선임 전기장 1명과 전기장 1명이 2인 1조로 3조2교대 근무 를 하고 있었고, 강릉선 남강릉신호장, 청량신호소, 강릉역, 차량기지 신호제 어설비 유지보수 업무를 담당하고 있었다. B조 선임 전기장은 사고 당일 00시부터 05시 20분까지 ‘강릉선 진부~대관 령간 터널경보장치 제작사 합동 연동검사’ 작업을 마치고 남강릉 주재로 복 사실정보 한국철도공사 강릉선 청량신호소 구내 KTX열차 탈선사고 - 12 - 귀하여 06시부터 휴게(취침)중 07:07경 강릉역 운전팀장으로부터 ‘청량신호소 1B 진로 신호 장애’ 내용을 통보받고 장애상황 파악을 위한 사진 요청 및 강 릉차량기지 로컬관제원에게 ‘끌림검지 장치13)’ 미동작을 확인 후 07:15경 장 애 상황을 파악하기 청량신호소 계전기실로 혼자14) 출발하였다. B조 선임 전기장은 07:18경 출동 중 강릉역으로부터 전송된 사진을 보고 ‘청량신호소 선로전환기 21A호 장애’를 확인하고 사업소에 지원요청 후 07:25경 현장에 도착하여 강릉역 로컬관제원에게 21A호 선로전환기 전환시 험을 요청하여 밀착․쇄정 상태가 이상없는 것을 확인하였으나 강릉역 조작 반에는 계속 ‘선로전환기 불일치’라고 통보를 받았다. 이후 로컬관제원이 청량신호소 출발신호기에 대한 신호취급을 해도 되는 지 문의해 와 “출발신호가 난다면 열차를 보내도 된다.”고 대답하였으며 선 로전환기 본체 점검 중 강릉역의 신호취급이 있어 점검을 중단하고 ‘청량신 호소 선로전환기 21A호 장애’ 상황을 사업소에 통보하였다. B조 선임 전기장은 07:31경 수동핸들 등 보수 장비를 가지러 선로변 출동 차량에 가서 그곳에 도착한 강릉역 직원 2명과 함께 21A호 선로전환기로 이 동하였으며 사고열차가 통과하면 다시 점검하려고 21A호 선로전환기 옆에서 대기 중 07:35경 사고열차가 탈선하여 굉음과 함께 자갈이 튀며 차량이 비정 상적으로 달려와 선로 아래로 빠르게 대피하다 미끄러져 석축 중간에 어깨 가 걸쳐서 멈추었으며 의식을 차리고 주변을 보니 강릉역 직원 1명만 보였 다고 진술하였다. 13) 강릉차량기지에서 청량신호소로 진,출입하는 차량의 하부 장치의 끌림을 검지하는 장치 14) 남강릉 주재 파트너 전기장 000 병가로 혼자 출발함. 사실정보 한국철도공사 강릉선 청량신호소 구내 KTX열차 탈선사고 - 13 - 1.4 현장정보 1.4.1 사고현장에 관한 정보 사고지점의 선로는 2018평창 동계올림픽을 앞두고 2017년 12월 22일 개통 되었으며, 본선 궤도는 60kg 장대레일15)에 PC침목, 코일스프링 클립, 도상자 갈로 구성되어 있으며, 청량신호소 분기기는 60kg PCT탄성분기기로 21B호 선로전환기는 15번, 21A호 선로전환기는 8번이다. 본선 선형은 열차 진행방 향으로 직선이며 사고지점의 선로기울기는 수평(기울기 0‰)이다. 사고현장의 강릉선 청량신호소 21B호 선로전환기는 본선과 강릉차량기지 로 분기하는 역할을 하며 강릉역 기준 약 3.708km지점에 설치되어 있다. 1.4.2 탈선상황 및 흔적 사고 직후 조사한 결과 [그림4]와 같이 21B호 선로전환기 첨단의 텅레일은 좌측 65mm, 우측 92mm로 벌어져 어느 쪽으로도 밀착되지 않았다. [그림4] 탈선 현장 21B호 선로전환기 상황도 15) 장대레일이란 일반철도의 경우 한 개의 레일길이가 200m 이상, 고속철도의 경우 한 개의 레일길 이가 300m 이상인 레일을 말한다. 사실정보 한국철도공사 강릉선 청량신호소 구내 KTX열차 탈선사고 - 14 - 선두동력차(PC1)의 첫 번째 대차(일반대차)는 서울방향(강릉선)으로 진행 하고 두 번째 대차(일반대차)는 기지방향으로 진행하였으며, 이후 1호 객차 첫 번째 대차(일반대차)도 기지방향으로 진행하였고 두 번째 대차(관절대차) 부터 맨 후부동력차(PC2)까지의 대차(10개)는 모두 서울방향(강릉선)으로 진 행하였다. [그림5]와 같이 맨 앞 동력차(PC1)와 1호 객차가 후부 8량의 관성력에 의 해 탈선된 상태에서 크게 꺾이면서 정차하였다. [그림5] 탈선된 차량의 상태 사실정보 한국철도공사 강릉선 청량신호소 구내 KTX열차 탈선사고 - 15 - 1.4.3 선로유지관리 사고지점(서원주 기점 114.600km) 부근 선로의 유지관리는 「선로유지관리 지침」에 따라 궤도검측차 운행 분기 1회, 종합검측차 운행 월 1회, 선로순 회 점검 월 3~14회 시행하였으며 단계별 선형관리기준은 [표1]과 같다. 관리단계 속도(단선) 80&lt;V≤120km/h 단위(mm) 고저틀림 (면맞춤) 방향틀림 (줄맞춤) 뒤틀림 수평틀림 궤간틀림 목표기준(TV) 4 4 4.5 4 -3/+11 주의기준(WV) 10 9 9 10 -3/+17 보수기준(AV) 15 12 12 20 -5/+20 속도제한기준(SV) 22 17 21 - -10/+35 [표1] 단계별 선형 관리기준 1.4.4 궤도검측 결과 [표2], [그림6]과 같이 사고지점 전ㆍ후 각 50m 구간의 3/4분기(2018. 8. 22) 궤도검측차에 의한 검측 결과 모든 항목이 보수기준 미만으로 확인되어 궤도의 문제점은 없는 것으로 조사되었다. 위치(km) 면맞춤(L) 면맞춤(R) 줄맞춤(L) 줄맞춤(R) 뒤틀림 수평 궤간 114,550 -0.98 -2.34 -2.89 -2.46 0.39 1.52 3.52 114,560 -1.95 -4.34 -1.99 -2.46 1.09 2.42 3.55 114,570 -1.05 -1.87 1.45 0.23 -0.12 0.08 4.41 114,580 -0.47 -0.08 1.05 1.41 0.08 -0.47 2.23 114,590 0.43 0.7 -1.02 1.02 -0.12 -0.82 0.74 114,600 0 -0.16 0.51 0.62 0.08 0.16 1.13 114,610 0.59 -0.59 0.9 -1.17 0.55 1.29 2.73 114,620 -0.55 -1.13 0.94 0.82 -0.74 -0.47 2.11 114,630 0.82 1.02 -0.16 0.51 -0.39 -2.5 1.87 114,640 3.71 3.79 -1.56 -1.21 0.82 -2.42 2.46 114,650 4.37 1.72 -2.62 -2.62 3.63 3.55 2.42 [표2] 궤도검측차(EM-140) 3/4분기 검측결과 사실정보 한국철도공사 강릉선 청량신호소 구내 KTX열차 탈선사고 - 16 - [그림6] 궤도검측차 검측결과 분석 그래프 1.4.5 궤도 피해 현황 KTX 열차가 101km/h의 속도로 운행 중 탈선되어 차량과 궤도시설물의 충격으로 [그림7]과 같이 레일 및 PC침목 등이 파손되었다. 레일 파손 21B호 분기기 리드부 레일파손 사실정보 한국철도공사 강릉선 청량신호소 구내 KTX열차 탈선사고 - 17 - [그림7] 탈선 지점 부근 궤도시설물 상태 궤도 시설물은 다음과 같은 피해를 입어 피해금액은 총 796,333천원이었다. * 레일 400m굴곡 및 파손, PC침목 800정(체결구 포함) 파손 * P21AD(60kg F8) 및 P21BD(60kg F15) 분기기 파손 레일 및 PC침목 파손 1 레일 및 PC침목 파손 2 사실정보 한국철도공사 강릉선 청량신호소 구내 KTX열차 탈선사고 - 18 - 1.5 차량정보 1.5.1 사고열차 조성내역 사고열차는 [그림8]과 같이 동력차 2량과 객차 8량 등 총 10량으로 동력차 (PC1)-단부객차-객차(6량)-단부객차-동력차(PC2)로 조성되어 있었다. [그림8] 사고열차 조성표 1.5.2 사고열차 주요제원 사고열차의 주요 제원은 다음 [표3]과 같다. 항목 제원 길이/폭/높이 201,000(편성길이)mm / 2,970mm / 4,100mm 영업 최고속도 300km/h(중앙선: 200km/h, 강릉선: 250km/h) 제동장치 회생+발전+마찰제동 전기방식 AC25,000V, 60Hz 제어방식 VVVF 인버터(IGBT) 1C1M 제어 비상감속도 3.8㎞/h/s 신호보안장치 ATS (ATP), TVM430 (ATC) [수동운전] 총 중량 공차 406t / 만차 441t 견인전동기 3상 농형 유도전동기(1,100kW×8대) 기동견인력 210kN 대차 제동 구동대차-답면제동, 관절대차-디스크제동 차체 재질 알루미늄 압출재 편성 10량 1편성 정원(좌석) 410석 [표3] 사고열차 제원 사실정보 한국철도공사 강릉선 청량신호소 구내 KTX열차 탈선사고 - 19 - 1.5.3 사고열차 검수현황 사고열차에 대한 검수는 철도차량유지보수세칙(한국철도공사, 2017.3.16.개 정)에 따라 실시하고 있었고 최근 실시한 정비이력은 [표4]와 같다. 순번 검종 주행거리 (+10%) 회기한도 시행일시 주행거리 비 고 1 체계(SWT) 50,000km - 2018.11.12. 2018.10.08. 2018.07.04. 43,486.8km 47,749.6km 51,544.8km 2 제한정비(LI) 150,000km 4개월 2018.04.04. 2017.07.19. 159,288.0km 154,813.2km 3 일반정비(GI) 300,000km 8개월 2017.11.21 317,597.3km 4 전반정비(FGI) 600,000km 16개월 2018.08.28 627,717.1km 5 실내설비정비 주행기어정비 20,000km 14일 2018.12.06. 2018.11.23. 2018.11.09. 18,254.2km 18,646.6km 17,310.1km [표4] 사고 열차의 정비이력 (신차 도입: 2017.2.22.) 1.5.4 차륜치수 측정결과 [표5]와 같이 사고열차의 차륜치수를 측정한 결과 6번, 7번 및 9번 대차의 차륜내면간 거리가 철도차량유지보수세칙 기준을 초과하였고 그 외의 항 목은 기준을 만족하는 것으로 확인되었다. 대차 번호 차축 번호 직경(mm) 후렌지 높이 (mm) 후렌지 두께 (mm) 내면간 거리(mm)L R L R L R 기준치 850∼924mm 36mm 이상(근접)시 28mm 이하시 삭정 (원형 36) 1352∼ 1358mm 1 A 858.44 858.29 30.40 30.50 31.60 32.00 1354.00 B 894.20 893.79 34.80 35.00 33.60 32.00 1354.00 2 A 888.25 889.74 34.90 34.10 31.00 31.50 1354.40 B 886.94 886.73 31.00 31.30 31.20 32.00 1354.30 3 A 908.10 908.66 33.40 33.10 31.00 30.00 1354.50 B 908.83 908.62 32.70 32.80 30.00 31.00 1355.10 4 A 901.59 900.65 33.10 33.70 31.40 30.30 1354.50 사실정보 한국철도공사 강릉선 청량신호소 구내 KTX열차 탈선사고 - 20 - [표5] 차륜 치수 측정 결과 1.5.5 차량피해 현황 탈선사고 당시 사고열차의 상태는 [그림9]와 같다. PC1 객차2(좌)-객차1(우) 객차1 객차1-객차2-객차3 B 899.47 900.47 33.60 33.10 30.80 31.90 1353.80 5 A 901.20 899.50 32.60 33.40 30.20 30.40 1353.70 B 900.43 900.23 32.60 32.70 31.00 31.40 1354.30 6 A 900.67 899.89 32.60 33.00 29.30 30.00 1347.50 B 896.03 897.00 33.10 32.70 32.30 31.30 1354.00 7 B 908.94 907.72 33.20 33.80 30.10 30.30 1358.60 A 904.48 904.81 33.60 33.50 30.80 31.00 1354.10 8 B 905.67 904.15 29.20 29.80 30.60 31.00 1354.20 A 894.94 894.31 29.60 30.00 31.20 31.70 1353.60 9 B 901.58 902.90 33.00 32.50 30.00 29.40 1351.40 A 904.83 903.21 32.00 32.80 29.70 30.40 1361.50 10 B 903.67 902.17 33.10 33.90 30.10 29.90 1354.30 A 906.95 907.31 33.40 33.30 30.50 31.30 1353.60 11 B 908.63 907.46 32.40 33.00 30.00 30.00 1354.40 A 906.82 906.69 33.00 33.10 30.30 31.40 1354.40 12 B 888.73 889.63 31.20 30.60 31.80 31.00 1354.70 A 895.18 895.13 33.20 33.30 33.00 33.10 1354.50 13 B 895.51 896.06 31.00 30.60 31.80 32.00 1354.90 A 871.51 871.24 31.30 31.50 31.20 32.20 1354.20 사실정보 한국철도공사 강릉선 청량신호소 구내 KTX열차 탈선사고 - 21 - [그림9] 사고 당시 사고열차의 상태 탈선으로 인해 사고열차는 다음과 같은 피해를 입어 피해금액은 총 21,534,000천원이었다. § PC1(전부 동력차) 1번, 2번 동력대차 및 차체 일부 파손 § PC1～1호 객차 전원 및 제어케이블 파손 § 1～2호차 객차 차단 케이블 및 차체 파손 § 3번 대차 부분 파손 및 에어백 이탈 § 4번 대차 갱웨이 파손 § PC2(후부 동력차) 차체 파손 중간 객차 탈선 상태 중간 객차 탈선 상태 객차9-PC2 PC2 사실정보 한국철도공사 강릉선 청량신호소 구내 KTX열차 탈선사고 - 22 - 1.6 신호정보 1.6.1 사고 당일 연동장치 기록 [표6], [그림10]과 같이 전자연동장치 기록을 확인한 결과 강릉역 로컬관제 원이 07:04경 1B-1DN16) 진로를 취급하자 21AD호 선로전환기 불일치 장애 가 발생하였고, 이후 07:28분까지 21AD호, 21BD호 선로전환기를 정ㆍ반위로 9회 전환해 보았으나 21AD호의 불일치 장애는 복구되지 않았다. 로컬관제원은 07:28분경 3B-A17)진로를 제어하여 진로가 설정되었고, 강릉 차량기지 방면 21AD호 선로전환기는 불일치 장애가 계속되었다. 07:32분경 사고열차는 청량신호소 장내, 출발신호기 진행 상태에서 운행하 였으며, 07:35분경 21BD호 선로전환기 불일치 장애가 추가로 발생하였다. 시간 (시:분:초) 선로전환기 취급구분 비고 21AD호 21BD호 06:21:25 정위 정위 [3B-A] 신호취급 07:04:38 불일치 반위1 [1B-1DN] 신호취급 07:05:09 불일치 정위1 [21BD]호 07:05:25 불일치 반위2 [21AD]호 07:05:43 불일치 정위2 [21AD]호 07:06:21 불일치 반위3 [21AD]호 07:06:52 불일치 정위3 [21AD]호 07:07:13 불일치 반위4 [21BD]호 관제보고 07:08:06 불일치 정위4 [21BD]호 07:09:33 불일치 반위5 [21BD]호 07:10:19 불일치 정위5 [21BD]호 07:10:48 불일치 반위6 [21AD]호 07:11:57 불일치 정위6 [21BD]호 07:13:00 불일치 반위7 [21BD]호 07:14:07 불일치 정위7 [21BD]호 07:16:37 불일치 반위8 [21BD]호 07:20:33 불일치 정위8 [21BD]호 07:26:27 불일치 반위9 [21BD]호 07:28:43 불일치 정위9 [21BD]호 07:28:51 불일치 정위 [3B-A] 신호취급 07:35:03 불일치 불일치 열차탈선 [표6] 연동장치 기록(선로전환기 21AD/BD호 취급 및 장애 기록) 16) 강릉차량기지에서 강릉역 방향으로 진로 취급 17) 사고열차가 운행 할 청량신호소 출발신호 진로취급 사실정보 한국철도공사 강릉선 청량신호소 구내 KTX열차 탈선사고 - 23 - ① 기지→강릉역 방향 진로 취급시 21A호 불일치 장애 발생(07:04) ② 사고열차 청량신호소 접근, 장내/출발신호기 진행(07:32) ③ 사고열차 탈선(07:35) [그림10] 신호기계실 연동장치 재생화면 사실정보 한국철도공사 강릉선 청량신호소 구내 KTX열차 탈선사고 - 24 - 1.6.2 청량신호소 신호기계실내 배선상태 사고 이후 [그림11]과 같이 청량신호소 신호기계실 분선반 단자대를 확인 한 결과 선로전환기 21A호, 21B호 배선이 반대로 연결되어 있는 것(좌: 상 21A호, 하21B호, 우: 상 21B호, 하: 21A호)을 확인하였다. 이것은 21A호와 21B호의 표시 정보가 서로 바뀌어 21A호 불일치 장애 표 시는 실제로 21B호 불일치 장애 표시인 것이며 관계자18)들을 기능이 정상인 21A호 선로전환기 장애 조치에 집중하게 하였다. 21A호와 21B호의 배선이 서로 바뀌지 않았다면 21B호 불일치 장애 상태 에서 청량신호소 출발신호기는 정지신호가 현시되어 이번 탈선사고는 발생 하지 않았을 것으로 조사되었다. 사고 이전(A-B결선 바뀜) 사고 이후(A-B결선 일치) [그림11] 신호기계실 분선반 단자대 사고 전ㆍ후 비교 사진 18) 강릉역 로컬관제원, 차량기지 로컬관제원, 강릉역 역무원, 현장 출동 신호직원, 센터 관제사, 본사 관제사 등 사실정보 한국철도공사 강릉선 청량신호소 구내 KTX열차 탈선사고 - 25 - 1.6.3 선로전환기 21A호, 21B호 설계 및 명칭 변경 [그림12]와 같이 2015년 12월 청량신호소 최초 설계도면(전선로도 및 연동 도표)에 21A호는 본선 방면, 21B호는 강릉차량기지 방면으로 설계되어 있었 으나 2017년 4월 감리단 회의를 통해 21A호는 강릉차량기지 방면, 21B호는 본선방면으로 연동도표를 변경하였다. 강릉차량기지 설계 도면은 처음부터 21A호는 강릉차량기지 방면, 21B호는 본선방면이었다. 청량신호소 최초 설계도면 (2015. 12.) ① 전선로도 일부분 ② 연동도표 일부분 감리단 회의결과 변경 연동도표 (2017. 4.) ① 1단계(2017. 4.) 연동도표 일부 ② 2단계(2017. 9) 연동도표 일부 [그림12] 강릉신호소 최초 설계도면(위)과 감리단 회의결과 21A/B호 변경 도면(아래) 한국철도시설공단(이하 “철도공단”이라 한다) 청량신호소 전자연동장치 공 사관리관은 ‘청량신호소 21A/B호 선로전환기가 최초 계약당시와 변경된 이 유는 본선 설계 도면에 21A호는 본선 방면, 21B호는 기지 방면 이었으나 철 도공단 「연동도표 작성 및 검토 기준」에 청량신호소에서 먼쪽이 21A호, 가까운 쪽이 21B호이기 때문에 전자연동장치 제작사와 감리단에 본선은 21B 호, 기지는 21A호로 변경되야 한다고 지시 하였으며, 2017년 2월경 전자연동 장치 공장검사 당시 변경사항을 확인하였고, 차량기지 설계 도면은 처음부터 본선은 21B호, 기지 방면은 21A호였습니다.’라고 진술하였다. 사실정보 한국철도공사 강릉선 청량신호소 구내 KTX열차 탈선사고 - 26 - 또한 ‘신호케이블 공사는 2016년 2월경 계약되었으므로 본선방면은 21A호, 기지방면은 21B호로 알고 2017년 1월경 시공을 하였습니다. A호, B호 명칭 변경은 본선 감리단과 차량기지 공사관리관에게 알려 주었고 본선 감리단에 서 본선 시공사에게 문서로 알려주었습니다. 2017년 2․3월경 본선 시공사는 연동도표를 감리 및 전자연동장치 제작사와 주고받는 과정에서 명칭변경을 인지했을 것이고, 이후 2017년 4월 1일부터 후임 공사관리관에게 업무를 인 계하였습니다.’라고 진술하였다. 청량신호소 신호설비 감리를 맡은 ㈜S 책임감리원(이하 “본선감리”라 한 다)은 2017년 4월 25일(14:00~15:30) 강릉차량기지 감리단 사무실에서 「원강 선 청량신호소 ～ 강릉차량기지간 연동장치 물량증가 반영 및 시행 주체 관 련 인터페이스 회의」를 개최하였다. 회의 참석자는 강릉차량기지 작업과 관련하여 공단 공사관리관, 작업감독 자(감리), 시공작업책임자, 전자연동장치 제작책임자 등 4명이 참석하였으며, 본선 작업과 관련하여 작업감독자(감리), 전자연동장치 제작책임자 등 2명이 참석하였으나 공사관리관, 작업책임자는 참석하지 않았다. 회의내용은 ‘청량신호소 21A, 21B 선로전환기 현장시공19)은 ㈜HL20) 작업 자(이하 “기지작업자”라 한다)가 시공하고, 전자연동장치 추가물량과 S/W 개수는 ㈜DA21)에서 설계변경 반영 조치’, ‘청량신호소 ~ 강릉차량기지간 시 공일정이 상이22)하여 본선만 4월27일 연동검사 시행’ 등이었다. 회의내용 중 ‘설계(본선설계, 차량기지설계) 도면이 서로 다르게 표기된 선 로전환기 21A/B호를 본선 방면 선로전환기를 21B호로 협의’하고 알림 문서 에 [그림12](아래 부분)과 같이 청량신호소 21A호, 21B호의 명칭이 바뀐 연 동도표 1단계와 2단계를 첨부하였다. 19) 청량신호소 관내 21A호, 21B호 선로전환기 시공 설치가 강릉차량기지 선호설비 시공 사업에 포함 되어 계약이 체결되어 있었음 20) 강릉차량기지 신호설비 현장작업 시행사 21) 강릉선(만종 ~ 청량신호소 ~ 강릉역) 전자연동장치 제작 공급사 22) 강릉차량기지 시공일정이 청량신호소 시공일정 보다 늦어 진행되고 있는 사항임 사실정보 한국철도공사 강릉선 청량신호소 구내 KTX열차 탈선사고 - 27 - 1.6.4 선로전환기 21A호, 21B호 설치 작업 철도공단의 「2016년도 원주~강릉 철도건설 강릉차량기지 신호설비 신설 공사–설계도」, 「강릉차량기지 기본 및 실시설계」, 「청량신호소 연동검 사비」, 「설계변경공종별예산조서」등을 살펴본 결과 청량신호소 21A호, 21B호 선로전환기, 그와 관련된 궤도회로, 장내신호기 등의 현장시공ㆍ설치 는 강릉차량기지 신호설비 신설공사에 반영하여 시공한 것을 확인하였다. 1.6.4.1 선로전환기 21B호 설치(1단계) 청량신호소 신호설비 현장설치 작업을 시행한 ㈜DJ23) 작업자(이하 “본선 작업자”라 한다)는 2017년 1월부터 3월까지 현장케이블 설치와 2017년 3월말 21A호, 21B호 선로전환기 케이블에 대한 기계실 연결 작업을 완료하였다. 본선작업책임자는 ‘2017년 3월말 기준으로 최초설계 도면에 따라 감리단으 로부터 기계실 단자대 도면을 전달받아 기계실 분선반 단자대(기구함 포함) 의 윗부분은 21A호(본선 방면, 현재 21B호), 아랫부분은 21B호(기지 방면, 현재 21A호)로 현장케이블 및 명찰24)을 설치하였다.”라고 진술하였다. 기지작업자25)는 2017년 4월25일에 본선방면 21B호(현재 21B호) 선로전환 기 몸체를 현장에 설치하고 본선작업자가 4월 27일에 선로전환기 케이블을 연결하였다. 또한 본선작업책임자는 ‘작업 과정에 청량신호소 21A호, 21B호 선로전환 기의 결선 도면이 바뀐 것은 몰랐으며, 2017년 12월 5일에 기계실 분선반 현 장부분 케이블 결선을 사진촬영 후 상부가 21B호, 하부가 21A호로 명찰이 바뀌어 있어서 그대로 기계실 분전반 도면을 수정하여 2017년 12월 말경 한 23) 청량신호소 신호설비 현장작업 시행사 24) 케이블 번호를 표시하는 명찰로 선명찰 이라고도 하며 21A호, 21B호 등 케이블 인식표임. 25) 강릉차량기지 신호설비 현장작업 시행사로 2017년 4월25일 감리단 회의에 참석하여 21B호가 본선 방면, 21A호가 기지 방면에 설치하는 것으로 알고 있었음. 사실정보 한국철도공사 강릉선 청량신호소 구내 KTX열차 탈선사고 - 28 - 국철도공사(이하 “철도공사”라 한다)에 인계하였습니다.’라고 진술하였다. [그림13]과 같이 청량신호소 ‘책임감리원 업무일지’를 확인한 결과 2017년 04월17일∼4월19일, 4월26일에 ‘청량신호소 LDTS 결선 점검, 계전기실 분전 반 결선 작업 입회’ 감리업무를 수행한 것으로 조사되었다. [그림13] 책임감리원 업무일지 일부(2017. 4. 26) 1.6.4.2 선로전환기 21A호 설치(2단계) 기지작업자는 2017년 7월 24일에 강릉차량기지 방면 21A호 선로전환기 몸 체를 현장에 설치하였으며 7월 26일에 21A호 선로전환기 케이블 연결작업을 수행하였다. 기지작업책임자는 ‘기계실 도면은 받은 적이 없고 현장 접속함 도면만 받 았으며, 도면에 따라 2017년 7월 26일에 접속함(J230) 명찰만 상부 본선방면 은 21A호에서 21B호로, 하부 기지방면은 21B호는 21A호로 변경하였습니다. 그리고 기지 현장대리인이 청량신호소 기계실26) 분선반 현장측 단자대 명찰 26) 청량신호소 기계실 열쇠는 본선감리단에서 관리하고 있었으며 기지 현장대리인은 열쇠를 교부 받 아 기계실을 출입함. 사실정보 한국철도공사 강릉선 청량신호소 구내 KTX열차 탈선사고 - 29 - 을 현장 선로전환기와 일치되도록 변경했습니다.’라고 진술하였다. 또한 기지작업책임자는 ‘2017년 9월 17일 청량신호소 2단계 연동검사 이후 에 청량신호 기계실 출입은 하지 않았으며 2018년 2월경 접속함(J210) 명찰 을 본선방면 21A호에서 21B호로 현장설비에 맞추어 변경했습니다.’라고 진 술하였다. [그림14]와 같이 청량신호소 전자연동장치 제작사와 본선시공사의 도면을 비교해 보면 전자연동장치 제작사는 위쪽 1번에서 6번까지는 21A호, 7번에 서 12번까지는 21B호를 연결하였으나 본선시공사는 위쪽 1번에서 6번까지는 21B호, 7번에서 12번까지는 21A호를 연결한 것으로 조사되었다. ① 본선 전자연동장치 제작사 준공도면 ② 본선시공사 분선반 준공도면 [그림14] 본선제작사와 본선시공사 청량신호소 기계실 분선반 준공도면 청량신호소 전자연동장치 제작책임자는 ‘2016년 7월 계약시 연동도표에는 본선방면 21A호, 기지방면 21B호로 되어 있었으나 2017년 2월 본선감리단으 사실정보 한국철도공사 강릉선 청량신호소 구내 KTX열차 탈선사고 - 30 - 로부터 받은 연동도표에는 본선방면 21B호, 기지방면 21A호로 변경되어 있 어 2017년 2월16일 공장검사 때부터 변경된 연동도표를 적용하여 작업하였 으며 이후 1단계 연동도표(2017. 4. 28), 2단계 연동도표(2017. 9. 17), 3단계 연동도표(2018. 3.20)에서는 변경이 없었습니다.’라고 진술하였다. 또한 ‘신호기계실내 전자연동장치 실내 작업사항으로 2017년 4월 28일부터 2017년 9월 16일까지 본선방면 21B호 선로전환기를 단동선로전환기로 사용 하였고, 2017년 9월 17일부터는 본선방면을 21B호, 기지방면을 21A호로 쌍 동선로전환기로 사용하였으며, 본선방면 21B호는 단동이나 쌍동 때 모두 단 자대 아래쪽을 사용하였으며 기지방면 21A호는 단자대 위쪽을 사용했습니 다.’라고 진술하였다. 1.6.5 신호 연동검사27) 사고구간의 연동검사는 청량신호소 1단계(2017. 4. 28), 2단계(2017. 9. 17), 3단계(2018. 3. 20)와 강릉차량기지(2017. 9. 21) 등 총 4회가 시행 되었으며, 청량신호소 3단계 연동검사는 ‘영동선 안인역과 청량신호소간 폐색설비 신설 및 건널목 설비 개량’에 따라 시행되어 연동검사 대상 설비가 이번 사고와 관련이 없어 조사대상에서 제외하였다. 철도공단은 「시공관리절차서(철도공단 시관절-24 2016. 11. 개정)」(이하 “시공관리절차서”라 한다)의 「연동검사 시행」에 따라 연동검사를 시행하도 록 정하고 있으며 연동검사의 업무절차는 [그림1528)]과 같다. 27) 연동검사란 신호설비의 신설ㆍ개량 시 연동장치의 안전도 및 신뢰성 확보를 위해 사용 개시 전 시행하는 검사로서 신호기, 선로전환기, 궤도회로 등의 신호설비를 기계 또는 전기적으로 상호 연 동하여 동작하도록 하는 연동장치의 종합기능을 확인하는 검사로 정적시험/동적시험으로 구분한다. 28) 시공관리절차서의 연동검사 업무절차가 그림17과 같아서 프로세스 개념을 적용한 절차서 그림을 인용하였음. 사실정보 한국철도공사 강릉선 청량신호소 구내 KTX열차 탈선사고 - 31 - [그림15] [시공관리절차서] 연동검사 프로세스 사실정보 한국철도공사 강릉선 청량신호소 구내 KTX열차 탈선사고 - 32 - 1.6.5.1 청량신호소 연동검사 1단계(2017. 4. 28) 청량신호소 연동검사를 시행하기 위해 2017년 4월 5일 본선 감리단은 철 도공단 강원본부에 청량신호소 연동도표29) 1단계에 대한 승인요청을 하였으 나 강원본부는 청량신호소가 차량기지 및 영동선 연결이 예정되어 있고 최 종적으로 철도공사에게 인계하는 마스터 계획이 있어 그때 승인받으려고 「시공관리절차서」에 의한 승인을 받지 않았다. 철도공단 강원본부는 2017년 4월 28일 강릉선 시운전열차 운행을 위한 청량신호소 연동검사 1단계의 대상 설비를 [표7]과 같이 정하였다. 설 비 단 위 물 량 명 칭 비 고 연동장치 식 1 강릉신호소 전자연동장치 신호기(엄호) 기 2 5A, 6A 선로전환기 틀 3 21B, 22, 51 궤도회로(임펄스) 개소 4 21BT,22T,1T,51T [표7] 청량신호소 연동검사 1단계 대상 설비 연동검사 체크리스트를 확인한 결과 ‘5A-B, 6A-A 진로(신호기)’에 대한 항목만 〇표(정상)으로 표기되어 있었으나 ‘연동장치 1식, 선로전환기 3틀, 궤도회로 4개소’에 대한 체크리스트는 확인할 수 없었으며, 「강릉신호소 연 동도표 1단계(1)」에 연동검사 결과 ‘이상없음’으로 기록하고 검사자 및 입회 자는 서명하였다. 연동검사 시간대 전자연동장치 기록을 확인한 결과 선로전환기 21호 3회 불일치 기록이 있는 것을 확인하였으며 이것은 연동검사 과정에 5mm 철편 시험을 실시한 것이었다. 본선 공사관리관은 ‘선로전환기 단독 전환점검에 따른 수동스위치, 철편삽 입, 밀착검지기 등이 체크리스트에 누락되어 있으나 철편시험은 당시 로그 29) 연동도표란 신호기, 선로전환기, 궤도회로 및 안전설비 등의 상호 연결된 쇄정관계에 의하여 열차 안전이 확보될 수 있는 상태를 철도 신호용 심볼, 문자, 숫자, 그림, 기호 등을 사용하여 표시한 도 표를 말한다. 사실정보 한국철도공사 강릉선 청량신호소 구내 KTX열차 탈선사고 - 33 - 기록에 있으며 청량신호소 21A호, 21B호 선로전환기의 연동검사는 선로전환 기를 시공한 강릉차량기지 관할이며 연동검사 비용도 기지사업에 책정되어 있다.’고 진술하였다. 1.6.5.2 청량신호소 연동검사 2단계(2017. 9. 17) 철도공단 강원본부 차량기지PM은 2017년 6월 30일 「시공관리절차서」에 따라 [표8]의 내용과 연동도표를 첨부하여 기술본부(신호처장)에 청량신호소 연동도표 변경 승인을 요청하였으나 승인받지 못하였다. 역 명 주요 변경내용 변경사유 비 고 청량 신호소 신호기 신설: 장내(1B), 출발(3B, 4A) 3기 신호기 변경: 5A⇒1A, 6A⇒2B 청량신호소에 강릉 차량기지 분기부 우선 연결 시공 작업예정일 (‘17.07.31)궤도회로 신설: 21AT, B0701T, B0702T(3개소) 선로전환기 신설: 21A, 21B(2틀) [표8] 청량신호소 주요 변경 내용 철도공단 강원본부 청량신호소 신호통신 PM은 ‘청량신호소 2단계 연동검 사는 연동도표 승인은 없는 상태에서 이루어졌고, 사유는 강릉차량기지 PM 이 철도공단 본사로 승인요청을 올렸지만, 각종 점검과정에서 청량신호소 궤 도회로 분할, 신호기 추가 등 향후 계획된 작업이 있어서 향후 일괄 연동검 사를 위해 승인이 없었다.’라고 진술하였다. 설 비 단 위 물 량 명 칭 비 고 연동장치 식 1 청량신호소 전자연동장치 신호기 기 5 1A,1B,3B,4A,2B 선로전환기 틀 3 21, 22, 51 궤도회로 개소 9 21BT,22T,1T,51T [표9] 청량신호소 연동검사 2단계 대상 설비 철도공단 강원본부에서 2017년 9월 17일 시행한 청량신호소 연동검사 2단 계 대상 설비를 [표9]와 같이 정하여 시행하였고 연동검사 2단계 결과를 살 펴본 바 체크리스트는 없었으며, 「강릉신호소 연동도표 2단계」에 연동검사 사실정보 한국철도공사 강릉선 청량신호소 구내 KTX열차 탈선사고 - 34 - 결과 ‘이상없음’으로 기록하고 검사자(공사관리관, 책임감리원)의 서명은 있 으나 입회자(철도공사)의 서명은 없었다. 또한 청량신호소 21A/B호 선로전환 기는 강릉차량기지에 포함된 설치작업임에도 차량기지 공사관리관과 감리원 은 입회하지 않았다. 연동검사 시간대 전자연동장치 기록을 확인 한 결과 선로전환기 21A호 1 회, 21B호 2회 불일치 기록이 있는 것을 확인하였으나, 취급정보 기록이 없 는 것으로 보아 선로전환기 표시회로를 복구하는 과정에서 생성된 것으로 조사되었다. 본선 공사관리관은 ‘2017년 9월 17일 시행한 청량신호소 연동검사는 2017 년 8월 8일 철도공사 시설물 검증팀 요구사항「청량(가칭 강릉)신호소 출발 신호기 설치 지시」(원주강릉사업단TF-14797호)을 반영하기 위한 청량신호 소 출발신호기 설치에 따라 [표10]과 같이 「시공관리절차서」 연동검사 시 행요령 6.2항에 의거하여 단독시험을 하였다.’고 진술하였다. 6.2 출발신호기 6.2.1 출발신호기의 현시 가능진로를 취급하여 현시상태 및 진로선별 등 동작 확인 6.2.2 출발신호기 내방 첫 번째 폐색신호기의 현시상태를 인위적으로 조정하여 출발신호기 제열상태 확인 [표10] 「시공관리절차서」연동검사 시행요령 6.2항 또한 ‘강릉차량기지 연동검사가 2017년 9월 21일에 청량신호소 21A/B호 선로전환기, 1B 신호기, 궤도회로 3개소를 포함하여 예정되어 있었고 본선 부분은 경미하여 신호현시계열 및 진로구성만 검사를 시행하였습니다. 「청 량신호소 2단계 연동검사 결과」에 철도공사의 입회자 서명이 없는 것은 2017년 9월 19일 철도공단이 철도공사에 보낸 문서에 2017년 9월 20일부터 9월 21일까지 시행하는 강릉차량기지연동검사(청량신호소 포함)에 입회요청 이 있었기 때문에 청량신호소 2단계 연동검사에는 입회가 필요하지 않았고 2단계 연동검사에 입회하도록 별도 문서로 통보하지 않았습니다.’라고 진술 하였다. 사실정보 한국철도공사 강릉선 청량신호소 구내 KTX열차 탈선사고 - 35 - 청량신호소 전자연동장치 공사관리관은 ‘청량신호소 2단계 연동검사의 업 무담당에 대하여 전자연동장치는 본선 공사관리관이고, 선로전환기 21A/B호 는 강릉차량기지 공사관리관이며, 연동검사 비용이 본선 종합시험비에 6개 진로비용이 책정되어 있고 강릉차량기지 종합시험비에 4개 진로비용이 책정 되었습니다. 본선전자연동장치 제작사는 21A/B호 선로전환기의 소프트웨어 개수 및 진로신설이 포함되었고 현장시공사와 전자연동장치 제작사에 각각 50%씩 대가를 지급하여 설치 및 연동검사를 시행하였습니다.’라고 진술하였 다. 강릉차량기지 공사관리관은 ‘청량신호소 1단계 연동검사(2017.04.28.) 시행 시 본인은 입회하였으나 연동도표에 서명을 하지 않았고, 2단계 연동검사는 당초 9월 15일에 계획 되었다가 9월 17일로 변경되어 참석하지 못했으며, 청 량신호소 21A호, 21B호 선로전환기 관련 연동검사 비용은 본선, 기지 모두 다 책정되어 있습니다.’라고 진술하였다. 또한 ‘기지방면 21A호 선로전환기 연결을 위한 청량신호소 연동도표 변경 요청을 2017년 6월경 철도공단 본부 신호처에 요청하였으나 승인되지 않았 고 청량신호소 연동검사를 2017년 7월 27일에 직접 먼저 하려 하였지만 승 인이 없어 못했습니다. 그래서 2017년 9월 17일 본선 공사관리관이 본선 변 경부분까지 포함해서 연동검사를 하게 되었습니다.’라고 진술하였다. 철도공단 신호처 차장은 ‘연동도표 승인은 현장에서 작성하여 승인요청이 신호처로 올라오면 철도공단, 철도공사 관련 부서와 협의를 하고 협의 결과 를 반영해서 최종 확정을 해서 지역본부에 승인해 주며 연동검사 승인 검토 기간은 짧게 2주, 길게 6~12개월 걸릴 수 있으며, 연동검사는 연동도표 승인 후 시행하는 것이 원칙이고, 승인 없이 연동검사를 시행하는 것은 잘못된 것 입니다.’라고 진술하였다. 철도공단 신호처 부장은 ‘연동검사는 시공관리절차서의 연동검사 시행요령 과 체크리스트로 수행하는 것이 맞으며, 청량신호소 1․2단계 연동도표가 승 사실정보 한국철도공사 강릉선 청량신호소 구내 KTX열차 탈선사고 - 36 - 인되지 않았던 것은 이번 사고 이후에 알았습니다.’라고 진술하였다. 철도공단 신호처장은 ‘강원본부에서 청량신호소 21A/B호 선로전환기 연동 도표 승인 요청사항은 엄호신호기, 폐색관련 철도공사 요구사항이 있어 승인 이 이루어지지 않았고, 승인이 안 된 연동도표로 연동검사를 시행한 것은 적 정하지 않으며, 1ㆍ2단계 연동검사 시행 사항을 당시에는 알 수 없었으며, 사고이후 강원본부에서 청량신호소 21A호, 21B호 선로전환기 연동도표 승인 요청했던 것을 문서로 확인했습니다.’라고 진술하였다. 1.6.5.3 강릉차량기지 연동검사(2017. 9. 21) 강릉차량기지 연동도표는 기 승인본으로 별도의 승인은 필요하지 않았다. 강릉차량기지 연동검사시행계획서(2017. 9. 13)의 연동검사 대상설비를 살 펴본 결과 총385개 진로(북쪽 133개 진로, 남쪽 252개 진로)와 선로전환기 69틀 등이며 대상설비 중 [표11]과 같이 이번 사고와 관련이 있는 청량신호 소 관할 궤도회로 3개소(XT, 21AT, 21BT)와 선로전환기 2틀(21A, 21B) 등 이 포함되어 있었다. 철도공단 강원본부에서 2일간(2017. 9. 20~ 9. 21) 시행한 강릉차량기지 연 동검사 결과를 살펴본 바 강릉차량기지 연동도표(최종)에 연동검사 결과에 대한 이상유무 확인 기록 없이 검사자와 입회자는 서명하였으며, 연동검사 참석자 명단에 연동검사의 결과에 대한 기록은 공란으로 비워두고 참석자는 참석자 명단에 서명하였다. 체크리스트는 ‘조작반 표시 및 전원장치’ 항목만 있었으며 공종별 시험결 과(신호분야)를 첨부하였다. 시험결과 중 [표11]과 같이 청량신호소에 해당하 는 항목은 ‘궤도회로 3개소(XT, 21AT, 21BT) 정상동작-합격, 신호기 1B 정 상동작-합격, 선로전환기 21A호, 21B호 정상동작-합격, 선로전환기 21호 정 상동작-합격(쌍동), 열차집중제어장치(CTC) 인터페이스 시험 정상동작-합격, 사실정보 한국철도공사 강릉선 청량신호소 구내 KTX열차 탈선사고 - 37 - 연동장치 기능시험 정상동작-합격, 자동열차정지장치 기능시험(ATS) 1B 정 상동작-합격, 자동열차제어장치 기능시험(ATP) 정상동작-합격’으로 기록한 것을 확인하였다. 또한 공종별 시험 결과를 보면 궤도회로, 신호현시계열 시험, 선로전환기 성능․동작검사, CTC 인터페이스, 연동장치 기능시험, ATS, ATP 등 신호 설비 273대와 강릉차량기지 연동검사 시행일이 동일한 것이 확인되어 공종 별 시험과 연동검사가 함께 수행된 것으로 조사되었다. 강릉차량기지 연동검사 기간(2017.9.21.～9.22) 내 청량신호소 전자연동장치 기록을 확인한 결과 제어 기록, 이벤트 기록 등이 없어 청량신호소 관할 궤 도회로 3개소(XT, 21AT, 21BT)와 선로전환기 2틀(21A호, 21B호) 등에 대한 연동검사를 시행하지 않은 것으로 조사되었다. 시험항목 공종별 시험결과 궤도회로 성능시험 신호계열시험 선로전환기 성능검사(단동) 선로전환기 성능검사(쌍동) 사실정보 한국철도공사 강릉선 청량신호소 구내 KTX열차 탈선사고 - 38 - [표11] 강릉차량기지 연동검사 결과 중 청량신호소 관내 항목 1.6.6 종합시험운행 「철도종합시험운행 시행지침」(국토부고시 2015-790호, 2015.11.12. 이하 “시행지침”이라 한다)에 따라 원주∼강릉 철도건설 종합시험운행은 [표12]와 같이 시행되었으며 이번 사고와 관련이 있는 공종별 시험, 사전점검, 시설물 검증시험 항목에 대해 조사하였다. 열차집중제어장치 인터페이스 시험 연동장치 기능시험 자동열차정지장치 기능시험(ATS) 자동열차제어장치 기능시험(ATP) 사 전 준 비 기본계획수립 ‘17.05.10. O 종합시험운행 기본계획 수립 공종별 시험 ‘17.05.31. O 공종별 시공품질 및 성능확인 사전점검 ‘17.06.01. ∼06.27 O 사전점검반(철도공단, 철도공사)구성 점검 - 시설물상태 및 공종별시험결과 확인, 종합시험 운행 가능여부 확인 종합시험운행 시행계획수립 ‘17.06.30 O 시험팀 구성 등 종합시험운행 시행계획 수립 결과검토 (검토팀) O 사전점검결과 및 종합시험운행 시행계획 검토 - 철도시설의 기술기준에의 적합여부 검토 사실정보 한국철도공사 강릉선 청량신호소 구내 KTX열차 탈선사고 - 39 - [표12] 원주～강릉 철도건설 종합시험운행 업무 흐름도 1.6.6.1 청량신호소 공종별시험 철도공단 강원본부가 시행지침 제8조(공종별시험30))에 따라 시행한 평창∼ 강릉구간(청량신호소 포함) 신호설비의 공종별시험(2017. 4. 11～5. 26)에 대 해 조사한 결과 ‘궤도회로 성능시험, 신호계열시험, 열차집중제어장치(CTC) 인터페이스 시험, 연동장치 기능시험 등’에 대하여 시행하고 ‘이상없음’으로 확인하였으나, ‘선로전환기에 대한 시험’31) 결과는 확인할 수 없었다. 1.6.6.2 청량신호소 사전점검 철도공단 강원본부는 시행지침 제9조(사전점검32))에 따라 「원주～강릉 철 도건설사업」사전점검(2017. 6. 1~6.23)을 철도공사와 합동으로 시행하였으며, ‘각 분야별 점검체크리스트에 의한 철도시설의 설치상태 및 공종별시험결과 확인 등’을 시행하며 신호분야(서원주~강릉, 청량신호소 포함)는 ‘신호기, 궤 도회로, 선로전환기, 각종 표지의 설치상태’에 대하여 ‘적합’으로 점검하였다. 그러나 공종별시험에서 평창~강릉역간 6개역의 연동장치 기능시험을 모두 정상동작-합격으로 시행하고도 [그림16]과 같이 연동장치에 대한 ‘연동검사 결과확인, 연동장치 설치 및 각부 동작의 적정성’ 항목은 체크되지 않은 것 30) 제8조 철도시설관리자는 사전점검을 실시하기 전에 분야별, 공종별 시험을 실시하여야 한다.(신 호분야 점검항목: 4. 모든 선로변 감지기가 정상 작동하는지 확인 15. 열차제어시스템 및 중앙집 중제어 기능이 안전하게 작동하는지 확인 16. 궤도 분기 및 열차제어 시스템의 현장 작동 확인) 31) 철도공단에서 제출한 공종별시험 자료에 선로전환기 시험 자료는 없음 32) 제9조 철도시설관리자는 제8조의 공종별 시험을 완료한 후 종합시험운행의 가능여부를 확인하 기 위한 사전점검을 철도운영자와 합동으로 실시하여야 한다. 종 합 시 험 운 행 시설물 검증시험 ‘17.07.31 ∼10.11 O 시운전열차 운행 분야별 성능검증 - 단계별로 증속 시험운행 운행 하면서 성능검증 결과검토 O 시설물검증시험 시행결과 검토(국토교통부 및 검토팀) - 철도시설 및 열차운행체계 안전성 여부 검토 영업시운전 ‘17.10.24 ∼11.23 O 열차운행체계 및 영업설비점검 O KTX기장 노선숙지 등 운영요원 적응훈련 결과검토 O 종합시험운행 시행결과 검토(국토교통부 및 검토팀) 사실정보 한국철도공사 강릉선 청량신호소 구내 KTX열차 탈선사고 - 40 - 으로 확인되었다. [그림16] 서원주-강릉간(청량신호소 포함) 신호분야 사전점검표 일부 청량신호소 21A/B호 선로전환기를 포함한 강릉차량기지는 노반을 제외한 나머지 분야가 시공 중임을 감안하여 시설물의 시공 완료(8월말) 후 별도 사 전점검을 시행할 것으로 정하고 마무리한 것으로 조사되었다. 1.6.6.3 시설물 검증시험 시행지침 제13조(시설물 검증시험)의 시험은 사전점검 시행 후 시행되며, 철도공단과 철도공사가 합동으로 시행한 검증시험은 시험열차의 속도를 최 고속도(250km/h)까지 단계적으로 증가시키면서 ‘철도시설의 안전상태, 철도 차량의 운행적합성 및 연계성, 시설물의 정상동작 여부’ 확인을 위해 시험열 차를 총444회[KTX 398회, 기관차(EL, DL등) 46회] 운행하였으며, 이번 사고 와 연관성은 없는 것으로 조사되었다. 1.6.6.4 강릉차량기지 공종별 시험 철도공단 강원본부가 강릉차량기지 신호분야 공종별 시험(2017.09.21.∼ 09.22.)을 2일간(12시간24분33)) 시행한 결과를 확인한 바 청량신호소 관할 ‘궤 도회로 3개소(XT, 21AT, 21BT), 선로전환기 2틀(21A, 21B)’ 등을 포함하여 강릉차량기지 전체 ‘궤도회로 성능시험, 신호계열시험, 선로전환기 성능검사, 열차집중제어장치(CTC) 인터페이스 시험, 연동장치 기능시험, 자동열차정지 장치(ATS) 기능시험, 자동열차제어장치(ATP) 기능시험’ 둥 모든 항목에 대 33) 2017년09월21일 10:22～22:46분(12시간24분) 소요 사실정보 한국철도공사 강릉선 청량신호소 구내 KTX열차 탈선사고 - 41 - 해 ‘정상동작’ 합격으로 판정하였다. 강릉차량기지 신호분야 공종별 시험 중의 강릉차량기지와 청량신호소 전 자연동장치 기록을 확인한 결과 강릉차량기지 연동검사 기록은 확인되었으 나, 청량신호소 연동검사 기록34)은 없어 청량신호소 관할 궤도회로, 선로전 환기 등에 대한 공종별 시험은 시행하지 않은 것으로 조사되었다. 강릉차량기지 공종별 시험결과를 검토한 바 궤도회로 110개소, 신호현시계 열시험 70기, 선로전환기 69대, CTC 인터페이스 시험, 연동장치 기능시험, ATS 기능시험 19개소, ATP 2개소 등 모든 설비에 대해 합격 판정하였다. 1.6.6.5 강릉차량기지 사전점검 공종별 시험완료 후 시행되어야 할 사전점검은 공종별 시험을 완료하기 전에 미리 시행(2017. 9. 4.∼ 9. 5. / 2일간)되었으며, 점검결과 ‘부적합사항: 없음’, 보완사항 45건 중 신호분야 보완사항으로 ‘신호 연동장치 연동검사 철 도공사와 합동으로 실시(9.24), 현장설비 설치미비로 추후 협의하여 사전점검 재시행(9. 25) 등’으로 정하고 마무리한 것으로 조사되었다. 2017년 9월 25일에 보완사항에 대해 재 시행된 사전점검 점검표를 확인한 결과 점검항목 중 ‘연동검사 결과확인, 연동장치 설치 및 각 부 동작의 적정 성, 선로전환기 설치 및 동작의 적정성 등’에 대해 적합 판정하였으며, ‘궤도 회로 송ㆍ착 위치 적정성, 신호케이블 및 관로, 기구함 및 접속함 등’에 대해 보완(10. 20. / 11. 12. 조치 예정) 판정하였으며, 청량신호소 관할 궤도회로, 선로전환기 등에 대한 점검기록은 확인할 수 없었다. 또한 붙임 자료에 청량신호소 관할 궤도회로, 선로전환기 등에 대한 공종 별 시험은 시행하지 않고 합격 판정한 공종별 시험 결과지와 강릉차량기지 공종별 시험(09.21.∼09.22.) 결과지를 첨부한 것으로 조사되었다. 34) 제어 기록, 이벤트 기록 등 사실정보 한국철도공사 강릉선 청량신호소 구내 KTX열차 탈선사고 - 42 - 1.6.6.6 사전점검 결과 검토 교통안전공단의 검토팀은 시행지침 제9조제5항35)에 따라 「원주∼강릉 복 선철도 종합시험운행 사전점검 결과」 검토를 2017년 6월 1일부터 6월 27일 까지 18일간 시행하였으며 점검내용은 ‘분야별 시설물 시공(설치) 및 기능 확인, 사전점검 진행현황 확인, 분야별 공종별 시험 세부결과 검토 등’이었 다. 검토팀은 ‘공종별시험 및 사전점검 결과, 종합시험운행 시행계획 등에 대 한 적정성 검토를 위한 「철도시설의 기술기준(국토교통부고시 제2017-150 호, 2017. 3. 10 개정)」에의 적합여부 검토(2017. 7. 3～7.14)’를 서류검토 6 일, 현장검토 4일 등 10일간 시행하였다. 검토팀의 사전점검 결과 보고를 살펴보면 청량신호소 공종별 시험 결과 선로전환기에 대한 공종별 시험 결과가 없는 것, 청량신호소 사전점검 결과 사전점검표에 연동장치에 대한 ‘연동검사 결과확인, 연동장치 설치 및 각 부 동작의 적정성’ 항목은 점검하지 않은 것을 보완하도록 조치하지 않았다. [그림17]과 같이 교통안전공단이 국토교통부에 보고한 [원주∼강릉 복선철 도 「철도시설의 기술기준」에의 적합여부 검토결과 보고(17.07.17.)]를 살펴 보면 ‘17. 열차제어시스템 및 중앙집중제어 기능이 안전하게 작동하는지 확 인’ 항목을 점검하며 ‘ATP 동적시험 및 연동시험 결과 및 현장 확인’을 하였 으나 청량신호소 1단계 연동검사의 ‘연동장치 1식, 선로전환기 3틀, 궤도회로 4개소’에 대한 체크리스트36)가 없는 것을 보완하도록 조치하지 않았다. 또한 ‘20. 공종별 시험 및 사전점검 결과의 적정성’ 항목을 점검한 후 ‘공종 별 시험과 사전점검 완료 확인’을 보완하도록 검토하였으나 이후 보완 사항 에 대한 점검ㆍ확인은 없었다. 35) 철도시설관리자는 사전점검 시행계획을 검토팀에 통보하여야 하며, 검토팀은 사전점검 기간 중에 철도시설의 기술기준에 적합여부 검토 36) 철도공단 「시공관리절차서」에서 정한 체크리스트를 말한다. 사실정보 한국철도공사 강릉선 청량신호소 구내 KTX열차 탈선사고 - 43 - [그림17] 철도시설의 기술기준에의 적합여부 검토결과 보고 일부 검토팀의 사전점검표에 연동장치 연동검사 결과확인 항목에 대한 기록이 없고, 평창역에서 강릉역까지 8건(평창∼강릉 5건, 청량신호소 3건)의 연동검 사 중 2건(대관령신호장, 청량신호소 2단계)은 철도공사 입회자 없이 시행된 연동도표가 공종별 시험결과에 제출된 것을 확인하지 못하였다. 또한 청량신호소 관할 궤도회로 3개소(XT, 21AT, 21BT)와 선로전환기 2 틀(21A호, 21B호)등이 강릉차량기지에 포함되어 시공 설치되고 있음에도 강 릉차량기지에 대한 사전점검 결과 검토가 없었으며, 강릉차량기지 공종별시 험 완료 후에 사전점검이 이루어져야 함에도 공종별시험과 사전점검이 뒤바 뀌어 이루어 진 것을 확인하지 못하였다. 1.6.7 신호제어설비의 유지보수 철도공사 평창신호제어사업소는 강릉선 평창역에서 강릉역까지 신호제어 설비의 유지보수 업무를 담당하고 있으며 사고구간의 유지보수는 남강릉신 호 주재원 6명이 3조2교대(선임전기장1, 전기장1) 근무 형태로 남강릉신호장, 청량신호소, 강릉역, 강릉차량기지를 담당하고 있었다. 1.6.7.1 선로전환기 21A/B호 고장 이력 2017년 12월 22일 강릉선 개통 이후 청량신호소 연동장치의 선로전환기 사실정보 한국철도공사 강릉선 청량신호소 구내 KTX열차 탈선사고 - 44 - 21A/B호 고장기록을 확인한 결과 [표13]과 같이 점검 또는 작업과 관련된 것은 21A호 5건, 21B호 4건이며, 장애와 관련된 것은 2018년 7월 13일 21A 호 불일치 장애 1건이 있는 것으로 조사되었다. 2018년 7월 13일 15:40경 21A호 불일치 장애는 58초간 발생 후 자동복귀 되었으며 강릉역 로컬관제원이 신호주재에 통보하여 선임전기장 등 2명이 15:50경 현장에 도착하여 확인 결과 선로전환기 상판에 녹이 많이 발생되어 기름칠 후 장애예방을 위해 21B호 선로전환기 상판에도 기름칠을 하였다. 선임전기장은 기름칠 후 레일과 선로전환기 첨단간 밀착력을 확인하기 위 해 수동 전환시험을 3회 실시하고 로컬관제원에게 이상없음을 확인하였다. [표13] 개통이후 21A/B선로전환기 고장 기록 No 일 자 21A호 21B호 비 고내용 횟수 시간 내용 횟수 시간 1 17.12.27. 신호기, 선로전환기 기능시험 (정) 2 (반) - 02:18:24 02:25:37 (07:13) 신호기,선로전환기 기능시험 (정) 2 (반) - 02:48:36 02:52:22 (03:46) 설비 점검 2 18.02.19. 정위측 밀착, 쇄정간 조정 (정) - (반) 5 03:21:26 03:37:55 (16:29) 밀착, 쇄정확인 (정) - (반) 9 02:56:48 03:12:10 (16:22) 설비 점검 3 18.02.24. 밀착, 쇄정확인 (정) 1 (반) 2 02:55:32 02:56:37 (01:05) 밀착, 쇄정확인 - - 설비 점검 4 18.06.02. 시설1종기계작업 (정) - (반) 1 01:59:05 01:59:10 (00:05) - - 선로 작업 5 18.07.13. 불일치 장애발생 (정) 3 (반) - 15:40:47 15:41:45 (00:58) 선로전환기상판청소 (정) - (반) 5 16:13:42 16:19:24 (05:42) 상판 청소 6 18.11.28. 첨단간 교체 작업 (정) 5 (반) - 00:29:55 01:07:08 (39:13) - - - 설비 점검 사실정보 한국철도공사 강릉선 청량신호소 구내 KTX열차 탈선사고 - 45 - 1.6.7.2 신호제어설비의 유지보수 철도공사는 신호제어설비 유지보수에 관한 사항을 「신호제어설비 유지보 수 세칙(2015. 3. 27. 개정) 및 (2018. 4. 10. 개정)」(이하 “세칙”라 한다)제 109조(검사의 종별)제1호(일상검사)에 ‘장치의 기능을 정상으로 확보하기 위 하여 소정의 주기에 따라 시행하는 검사를 말한다.’ 제2호(정밀검사)에 ‘일상 검사로는 장치의 정상적인 기능을 확보하기 어려울 경우 또는 그 외의 경우 로 세밀한 계획표에 따라 시행하는 검사를 말하며, 필요 시 외부 전문인력의 지원을 받을 수 있다.’라고 정하고 있다. 세칙 제111조(검사주기)의 주요 검사항목 및 주기는 [표14]와 같으며 선로 전환기와 연동장치 및 전선로 등은 일상검사와 정밀검사로 구분하여 점검하 도록 정하고 있고 세칙113조(연동검사회수와 검사항목)에 ‘연동검사’는 2년에 1회 이상 시행하도록 정하고 있으나 사고 당시 연동검사 주기가 도래하지 않아 연동검사는 시행하지 않았다. [표14] 일반철도 주요 검사항목 및 주기(주요 항목) 평창신호사업소는 강릉선 개통(2017. 12. 22) 이후 청량신호소 신호제어설 비에 대해 [표15]와 같이 점검부를 작성하여 점검하고 있었다. 장 치 명 검 사 항 목 검사주기 일상 정밀 NS(AM)형 선로전환기장치 마. 밀착검지기(※) 및 그 부속장치류의 작동상태 월1회 - 아. 전동기 작동전압, 전류(※) - 반기1회 자. 마찰 클러치 조정 및 기내급유 - 반기1회 연동장치 사. 기계실내 분선반, 단자류의 배선 정비 - 분기1회 아. 각종 랙 및 기기의 취부상태 - 분기1회 전선로 다. 절연저항의 측정 1) 선로전환기 제어ㆍ표시 - 연1회 사실정보 한국철도공사 강릉선 청량신호소 구내 KTX열차 탈선사고 - 46 - [표15] 청량신호소 신호설비 점검 기록부 검사 내용 점검부 일상검사 (선로전환기 21A호) 일상검사 (선로전환기 21B호) 정밀검사 (선로전환기 21A호) 정밀검사 (선로전환기 21B호) 연동장치 사실정보 한국철도공사 강릉선 청량신호소 구내 KTX열차 탈선사고 - 47 - 2018년 2월 24일37) 평창신호사업소의 유지보수자는 ‘청량신호소 21A호, 21B호 선로전환기 동작 전환시험 및 밀착쇄정 상태 확인’ 일상점검 시 현장 에서 21호 쌍동 선로전환기를 21A호, 21B호를 각각 구분하여 점검하였다. [표16] 선로전환기 점검 녹취록 [표16]과 같이 점검 과정의 무선 녹취록을 확인한 결과 유지보수자는 강릉 역 로컬관제원에게 전환시험 요청 시 21A호, 21B호를 각각 구분하지 않고 21호 선로전환기로 통칭하여 전환시험을 요청하였다. 강릉역 로컬관제실 제어 모니터에는 선로전환기 21A호와 21B호의 표시 정보가 구분되어 있었으나 유지보수자가 로컬관제원에게 21호 선로전환기를 통칭하여 전환시험을 요청하여 각각의 선로전환기의 ‘불일치 또는 양호’ 등 상태 확인이 정확하게 이루어지지 않았던 것으로 조사되었다. 37) 2018년 2월 24일 선로전환기 일상점검 시간대 무선 녹취록이 남아 있어서 사실조사가 가능하였음 시 각 유지보수자 로컬 관제원 02:44:50 철도 강릉운전 나오세요. 청량 이상! 02:45:11 강릉 찾았습니까? 02:45:29 예. 청량신호소 21호 전철기 반위요? 예 반위. 02:45:57 예 반위 양호, 정위 02:54:38 강릉운전! 청량 21호 반위요? 02:55:37 강릉운전! 지금 21호 상태 어떻습니까? 네 불일치. 불 들어와 있습니다. 02:55:49 네 지금 불일치 복구되었습니다. 02:55:55 예 반위 양호, 정위 전환. 02:56:11 네 정위 양호. 02:56:33 예 지금 상태요? 네 불일치 불 들어왔다가 복구되었습니다. 02:56:45 네 현장 좋습니다. 21호 정/반위 한번씩만 돌려주세요? 네 정/반위. 02:57:13 예 정/반위 양호. 사실정보 한국철도공사 강릉선 청량신호소 구내 KTX열차 탈선사고 - 48 - 2017년 12월 27일, 2018년 2월 19일, 2018년 6월 2일, 2018년 11월 28일 평창신호사업소의 유지보수자가 시행한 ‘청량신호소 21A호, 21B호 선로전환 기 점검 및 작업’ 과정의 무선 녹취록은 없어 선로전환기 점검 및 작업은 확 인 할 수 없었다. 평창신호제어사업소 A조 선임전기장은 ‘청량신호소 21A호, 21B호 선로전 환기의 표시정보가 강릉역 판넬이나 제어 모니터에 각각 분리되어 표시되는 것은 알고 있었으나, 두 선로전환기는 같이 동작하는 쌍동 선로전환기이므로 21A호, 21B호 구분하여 점검하지 않았으며, 청량신호소 21A/B호 선로전환기 의 표시회로가 분리되어 강릉역 모니터에 구분되어 표시되는 것에 대한 매 뉴얼도 없었고 교육은 받지 못하였습니다.’라고 진술하였다. 평창신호사업소의 유지보수자는 청량신호소 21A/B호 선로전환기 반기 정 밀검사를 2018년 6월 20일에 시행하였으나, 세칙 제109조38)에서 정한 일상검 사와 정밀검사를 구분하지 않고 ‘전동기 전압․전류 측정, 클러치 조정, 기내 급유, 전환작동시분 측정’ 점검을 시행하였다. 평창신호사업소의 유지보수자는 청량신호소 연동장치를 일상검사와 정밀 검사를 구분하지 않고 점검주기를 월2, 월, 분기, 연으로 구분하여 점검하였 고, 2018년 8월 1일과 11월14일 연동장치 분기 정밀점검을 시행하고 ‘기계실 분선반 단자류 배선정비’ 항목에 ‘양호’라고 기록하였다. 평창신호제어사업소 A조 선임전기장은 ‘신호기계실 분선반 단자류 배선 이완상태를 확인하기 위해 드라이버를 사용하여 조이는 작업을 시행하였고 청량신호소 단자랙 21호 선로전환기 관련 단자 이완 조임 작업은 시행 하였 지만 배선이 뒤바뀌어 있는 것은 발견하지 못했습니다.’라고 진술하였다. 평창신호사업소의 유지보수자는 청량신호소 전선로의 정밀검사 항목 ‘절연 38) 제109조(검사의 종별) 2. 정밀검사: 일상검사로는 장치의 정상적인 기능을 확보하기 어려울 경우 또는 그 외의 경우로 세밀한 계획표에 따라 시행하는 검사를 말하며, 필요 시 외부 전문인력의 지 원을 받을 수 있다. 사실정보 한국철도공사 강릉선 청량신호소 구내 KTX열차 탈선사고 - 49 - 저항의 측정-선로전환기 제어ㆍ표시’를 연1회 점검하도록 하였으나 사고 이 후 2018년 12월 26일에 검사주기 3일을 초과하여 점검하였다. 평창신호제어사업소장은 ‘신호제어설비 정밀검사는 검검부에 따라 점검하 고 별도의 세밀한 계획표는 없고 일상검사와 정밀검사를 겸해서 수행할 때 도 있으며, 쌍동선로전환기 21호 전환 시험시 21A호, 21B호 구분하여 점검 하지 않았고 고장표시가 발생하면 구분하여 현장을 확인합니다.’라고 진술하 였다. 1.6.8 쌍동 선로전환기 표시회로 개선 1.6.8.1 철도공사 추진내용 철도공사는 2015년 3월 13일 ‘열차지연 최소, 보수시간 단축, 표시회로 단 순화(일원화)’를 위하여 철도공단, 신호협회, 전자연동 제작사 3곳 등 관계자 와 ‘쌍동 선로전환기 표시회로 개선’ 관련 기술검토 회의를 개최 하였다. 기술검토 회의 후 2015년 5월 14일 쌍동 선로전환기 표시회로 개선 관련 회의 결과에 따라 [그림18]과 같이 개선하기로 내부 방침을 수립하고 전자연 동장치가 신설되는 충북선 주덕역에 쌍동선로전환기 3개소에 시범 설치하여 효과 및 문제점을 분석하기로 결정하였다. 개 선 (전) ⇨ 개 선 (후) 건넘선 선로전환기 고장시 상ㆍ하선 모두 열차운행 지장 건넘선 선로전환기 고장시 상선 만 열차운행 지장 [그림18] [쌍동 선로전환기 표시회로 개선] 전, 후 비교 사실정보 한국철도공사 강릉선 청량신호소 구내 KTX열차 탈선사고 - 50 - 2015년 8월 20일 「쌍동 선로전환기 표시회로 분리」 시범설치 관련 관계 자39)회의를 개최하고 ‘연동도표 작성기준 및 표시제어부 표출방법 등(D를 붙 임), 운전취급방법, 유지보수 직원 안전교육 등(매뉴얼 배부 2015.08.26.), 시 범설치에 따른 협의사항 등, 전자연동장치와 CTC 인터페이스 및 CTC서버 기술검토’ 등에 관한 결과를 도출하고 2015년 9월 4일부터 충북선 주덕역에 시범운영하였다. 2015년 12월 21일 쌍동 선로전환기 표시회로 분리 시범운용 결과 ‘고장 선 로전환기 파악에 효과가 있어 안전성, 정시운행 확보 및 보수시간 단축의 효 과’가 있다며 철도공단에 통보하고 향후 건설공사에 ‘신규건설사업 및 연동 장치 개량시 모든 쌍동 선로전환기기 표시회로 분리’를 반영해 줄 것을 요청 하였다. [표17] 철도공사 [쌍동선로전환기 표시회로 분리] 추진 내용 철도공사는 2016년 5월부터 「쌍동 선로전환기 표시회로 분리」 시스템을 적용하였으나 유지보수에 필요한 ‘유지보수 매뉴얼’과 운전취급자용 ‘운전보 안장치 취급 매뉴얼’을 개정하지 않았으며, 그에 따른 유지보수자와 운전취 급자 교육시행 실적은 없었다. 39) 역운영처, 안전조사처, 신호제어처, 관제센터, 대전 전기처, 대아 티아이, 유경제어 구분 시행일 추진 내용 1 ’15. 3. 25 기술검토 회의(제어방식은 동시제어, 표시회로는 분리) 2 ’15. 4. 7 관련부서 회의(필요성 공감, 운용절차 및 연동도표 표기방법 방안마련) 3 ’15. 5. 13 표시회로 개선관련 사전점검 시행(충북선 주덕역 계전기실) 4 ’15. 9. 04 시범운영 설치(충북선 주덕역 쌍동선로전환기 3개소) 5 ’16. 1. 8 시범운영 합동점검(’15.11.26 51B호 고장시 반대선 51A 정상운행 확인) 사실정보 한국철도공사 강릉선 청량신호소 구내 KTX열차 탈선사고 - 51 - 1.6.8.2 철도공단 추진내용 철도공단은 2015년 12월 30일 분기부 안전 확보를 위한 「쌍동 전기선로 전환기 표시회로 개선(안)」에 대한 내부결재를 시행하고, 2016년 2월 2일 쌍동 선로전환기 표시회로 분리 시범운영에 따른 규격 개정을 위한 합동 실 태점검을 시행하였다. 2016년 2월 17일 쌍동 선로전환기 표시회로 개선(안)에 대하여 자문회의40) 를 개최하고, 2016년 2월 23일 자문회의 시행 결과 ‘전반적으로 적합, 대전도 시철도의 선로전환기는 쇄정되도록 하고, 신호현시는 정지신호가 현시토록 하고 있다.’는 것을 보고하였다. 2016년 2월 25일 신호처는 자문회의 결과를 바탕으로 「신호분야 설계기 준 개정 요구(안) [쌍동 선로전환기 표시회로 개선], 신호처-975호 (2016.02.25.)」방침 수립 및 철도공단 연구원에 ‘시공관리절차서-24 연동검사 의 시행, 2.4 표시회로가 분리된 쌍동 이상의 선로전환기는 한쪽만 고장시 다른 쪽 정상표시 여부 확인’ 등 철도설계지침 및 편람 개정(쌍동 선로전환 기 표시회로 개선)을 요청하였다. 이 방침서의 추진배경은 첫째, 일반선 쌍동 선로전환기 고장 시 고장진로 와 정상진로까지 열차운행에 지장이 발생된다는 것이며, 둘째, 전기선로전환 기 표시회로 신호시스템 개선으로 고장 시 해당진로와 관계없는 열차는 정 상운행 및 유지 보수시간을 단축하여 열차 안전운행을 확보하기 위함이었다. 그러나 방침서의 제목은 ‘전기선로전환기 표시회로 개선(안)’이나 실제 개 선하고자 하는 주 내용은 ‘쌍동 전기선로전환기 한쪽 고장 시 반대선은 정상 신호ㆍ진로를 구성시켜 열차를 정상 운행하겠다는 신호ㆍ진로 체계 또는 신 호제어설비의 변경’이었다. 40) 위원장(처장), 간사(일반신호부장), 자문위원 5명(외부 3, 내부2) 사실정보 한국철도공사 강릉선 청량신호소 구내 KTX열차 탈선사고 - 52 - 철도공단 본사 신호처 부장은 ‘쌍동 선로전환기 표시 개선과 관련하여 철 도공사 요청으로 내부 시행방침 수립을 담당하였으며, 처장 및 중앙제어설비 부장과 충분한 상호 검토가 이루어졌다.’라고 진술하였다. 또한 ‘쌍동 선로전환기 표시분리와 관련하여 연동검사 추가 항목에 대해 연동검사 절차서 및 체크리스트 변경에 대하여 본사에서 지역본부에 표시회 로 분리 개선에 대하여 문서로 알려주었으나 이후 변경사항은 확인하지 않 았으며 관련 기준 개정은 적정하게 이루어지지 않았습니다.’라고 진술하였다. 철도공단 신호처장은 ‘[쌍동 선로전환기 표시회로 개선] 방침에 반대선 선 로전환기가 불일치되어도 정상신호로 운행할 수 있도록 변경한 것에 대하여 안전성 검토는 사고 후 지금 시점에서는 재검토가 필요하다고 생각되며, [쌍 동 선로전환기 표시회로 개선]관련 연동검사 항목이 추가된 부분에 대해 연 동검사 절차 및 체크리스트 변경에 대한 관련기준 개정 등 시공관리절차서 관리는 신호처 소관으로 개정이 이루어지지 않았습니다.’라고 진술하였다. 1.7 기상정보 2018년 12월 8일 06시 40분에 강원내륙에 한파특보가 발효되었으며, 07시 30분경 강원도 강릉시의 기온은 영하 7.6℃, 습도 29%, 풍속 1.0m/s이었으며 기상 상태가 이번 탈선사고에 영향을 미치지는 않은 것으로 조사되었다. 분석 한국철도공사 강릉선 청량신호소 구내 KTX열차 탈선사고 - 53 - 2. 분석 2.1 업무수행사항 분석 2.1.1 사고열차 기장 사고열차 기장은 운행기록정보 분석 결과 강릉역 출발후 사고발생 시점까 지 최대속도는 118km/h였고, 사고지점인 청량신호소 21B호 선로전환기 통과 속도는 101km/h로 허용속도 120km/h 이하로 운행하였으며, 탈선사고와 동 시에 비상제동을 취급하는 등 운전취급은 적정한 것으로 분석되었다. 2.1.2 철도교통관제센터 관제사 철도교통관제센터 관제사는 청량신호소 선로전환기 장애발생을 통보받고 본사 운영상황실 관제사에게 통보한 뒤 강원본부 당직실에 통보 및 강릉역 로컬관제원에게 선로전환기 수동취급과 수신호를 준비하여 초기대응팀을 청 량신호소로 출동할 것을 지시하는 등 관제업무를 적정하게 수행한 것으로 분석되었다. 2.1.3 강릉역 운전팀장(로컬관제원) 및 역무팀장 강릉역 운전팀장은 사고 당일 H1636열차를 차량기지에서 강릉역으로 출고 시키기 위하여 청량신호소의 장내신호(1B)를 취급 후 21호 선로전환기 장애 가 발생하자 21A/B호 선로전환기를 단독으로 정위와 반위로 전환하여 장애 복구를 시도하였으나 복구되지 않아 평창신호와 철도교통관제센터에 상황을 통보하였고 역무팀장과 역무원을 현장으로 출동시키는 등 로컬관제업무를 적정하게 수행하였으며, 역무팀장은 비상대응을 위해 현장으로 적극 출동하 는 등 적정하게 업무를 수행한 것으로 분석되었다. 2.1.4 평창신호제어사업소 B조 선임 전기장 분석 한국철도공사 강릉선 청량신호소 구내 KTX열차 탈선사고 - 54 - 선임 전기장은 사고당시 전기장의 병가로 혼자 야간근무 중 강릉역 로컬 관제원으로부터 ‘청량신호소 21A호 선로전환기 불일치’ 장애내용을 통보받고 장애상황 재 파악, 청량신호소 21A호 현장 출동, 사업소에 지원요청, 현장 출동하여 21A호 선로전환기 밀착․쇄정 상태 등 장애복구에 최선을 다한 것 으로 조사되었다. 2.2 선로분석 사고지점 선로는 「선로유지관리지침(철도공단 2016. 12. 30 개정)」에 따 라 관리되고 있었으며 사고지점 전ㆍ후 50m 구간의 궤도검측차에 의한 검측 결과 모든 항목이 보수기준을 만족하고 있어 이번 탈선사고에 영향은 미치 지 않은 것으로 조사되었다. 2.3 차량분석 2.3.1 검수현황 분석 사고 이전에 실시한 사고열차의 검수이력을 조사한 결과 정비주기 초과 등의 문제는 발견되지 않았다. 2.3.2 차륜치수 측정결과 사고열차의 차륜치수를 측정한 결과 6번, 7번 및 9번 대차의 차륜내면간 거 리가 기준을 초과하였고 그 외의 항목은 기준을 만족하는 것으로 확인되었 으며 세 개의 대차에서 차륜내면간 거리가 초과된 것은 탈선충격에 기인한 것으로 판단된다. 분석 한국철도공사 강릉선 청량신호소 구내 KTX열차 탈선사고 - 55 - 2.4 신호분석 2.4.1 선로전환기 21A호와 21B호 배선 뒤바뀜 분석 2.4.1.1 전자연동장치 기록 분석 전자연동장치 기록 분석결과 7시4분부터 21A호가 불일치가 발생되어 7시 28분까지 9회 정․반위 전환명령이 있었으나 불일치는 복구되지 않았고 7시 35분에 21A호, 21B호 모두 불일치가 발생되었다. 이번 탈선사고는 21B호 선로전환기에서 발생되었으나 전자연동장치 기록 에는 21A호 선로전환기에서 불일치 장애로 표시된 것을 확인하였다. [그림19]와 같이 탈선사고 전 전자연동장치 재생화면도 21A호 선로전환기 불일치, 21B호 선로전환기 정상으로 표시됨을 확인하였다. [그림19] 탈선사고 전 전자연동장치 재생 화면 따라서 전자연동장치 기록 및 재생화면을 확인한 결과 기능이 정상인 21A 호 선로전환기는 불일치로 표시되고 장애가 발생한 21B호 선로전환기는 정 상상태로 표시되어 전자연동장치와 현장 선로전환기간 정보가 반대로 표시 되는 것을 확인하였다. 분석 한국철도공사 강릉선 청량신호소 구내 KTX열차 탈선사고 - 56 - 2.4.1.2 선로전환기 결선이 뒤바뀐 경위 청량신호소 최초 설계도면(2015. 12)의 21A호, 21B호 선로전환기의 위치는 본선 방면은 21A호, 강릉차량기지 방면은 21B호로 설계되어 있었다. 2017년 1월부터 3월까지 본선 작업자는 최초 설계도면에 따라 21A호(본 선), 21B호(기지) 선로전환기 현장케이블을 설치하고 [그림20]과 같이 기계실 분선반 단자대 오른쪽 위에 21A호(현재 21B호, 그림의 B위치), 오른쪽 아래 에 21B호(현재 21A호, 그림의 A위치) 현장케이블과 명찰을 설치하였다. [그림20] 신호기계실 분선반 단자대 2017년 4월 25일 본선 책임감리원은 강릉차량기지에서 회의를 개최하여 ‘설계(본선설계, 차량기지설계) 도면이 서로 다르게 표기된 선로전환기 21A/B호를 본선 방면 선로전환기를 21B호로 협의’하고, 철도공단 「연동도 표 작성 및 검토 기준」에 따라 청량신호소에서 먼 쪽을 21A호(기지), 가까 운 쪽을 21B호(본선)로 변경하고 변경된 연동도표 배선도 1단계와 2단계를 첨부하여 관계자에게 알렸으나, 본선작업자는 변경내용을 알지 못했다고 진 술하였다. 2017년 4월 25일에 기지작업자는 변경된 현장 도면에 따라 21B(본선) 선 로전환기 몸체를 현장 설치하였다. 분석 한국철도공사 강릉선 청량신호소 구내 KTX열차 탈선사고 - 57 - 2017년 4월 27일에 본선작업자는 도면이 바뀐 것을 반영하지 않고 접속함 상부에 21B호 현장케이블을 연결하였다. 2017년 7월 24일에 기지작업자는 21A호(기지) 선로전환기 몸체를 현장에 설치하고 접속함 하부에 케이블을 연결하였으며 이후 현장 접속함 명찰만 상부는 21A에서 21B로, 하부는 21B에서 21A로 변경하였고 청량신호소 기계 실 분선반 단자대 명찰도 현장 선로전환기와 일치되도록 변경하였다. 본선 작업책임자는 2017년 12월 5일에 기계실 분선반 현장부분 케이블 결 선이 상부가 21B, 하부가 21A로 명찰이 바뀌어 있어서 기계실 분선반 도면 만 수정하여 2017년 12월말경 철도공사에 인계하였다. 상기내용을 요약하면, 본선작업자는(‘17. 3) 최초 설계도면에 따라 21A호 (본선), 21B호(기지) 선로전환기에 대한 현장케이블 설치와 기계실 분선반 단자대에 케이블을 연결하였으며 이후 본선 책임감리원은(‘17. 4. 25) 회의를 통해 기지방면은 21A호, 본선방면은 21B호로 결정하여 관계자에게 알렸으 나, 본선작업자는(‘17. 4. 27) 회의결과를 반영하지 않고 접속함과 기계실 단 자대에 케이블을 연결하여 21A호와 21B호 선로전환기 결선이 반대로 연결 되었으며, 강릉차량기지 작업자는(‘17. 4. 25) 회의 결과가 반영된(기존 차량 기지 도면) 도면에 따라 선로전환기를 설치하였고 케이블연결은(‘17. 7. 24) 21B호는 본선작업자, 21A호는 기지작업자가 접속함에 연결하였으며, 현장 접속함 명찰과 청량신호소 기계실 분선반 단자대 명찰만 현장 선로전환기와 일치되도록 변경하였다. 본선 감리원은 2017년 4월17일∼4월19일, 4월26일에 ‘청량신호소 LDTS 결 선 점검, 계전기실 분전반 결선 작업 입회’ 감리 업무를 수행하며 청량신호 소 21A호(기지), 21B호(본선) 선로전환기가 변경된 배선도에 따라 결선해야 하는 것을 제대로 확인하지 않는 등 감리업무가 부적절하게 수행된 것으로 분석 되었다. 분석 한국철도공사 강릉선 청량신호소 구내 KTX열차 탈선사고 - 58 - 2.4.1.3 선로전환기 불일치 표시정보 분석 [그림21]과 같이 청량신호소 분선반은 선로전환기 21A호(1번∼6번)와 21B 호(7∼12번) 신호제어케이블을 서로 바꾸어 연결하면서 표시회로가 분리된 표시전원 단자 3, 4번 단자와 9, 10번 단자가 바뀌어 21A호 선로전환기 표시 회로 전원이 21B호 선로전환기 표시계전기(21BNKR)와 연결되어 사고당일 21B호 선로전환기가 불일치 장애가 발생하였을 때 강릉역 관제실 모니터 등 에는 21A호를 불일치 장애로 표시하고 21B호는 정상으로 표시하여 사고열 차가 운행할 출발신호기(3B)는 진행신호를 현시한 것으로 분석되었다. 분석 한국철도공사 강릉선 청량신호소 구내 KTX열차 탈선사고 - 59 - [그림21] 청량신호소 연동장치 도면과 분선반 선로전환기 결선상태 2.4.2 연동검사의 적정성 분석 2.4.2.1 청량신호소 연동검사 1단계 본선 감리단은 철도공단 강원본부에 청량신호소 연동도표41) 1단계에 대한 승인요청을 하였으나 강원본부는 청량신호소가 차량기지 및 영동선 연결이 예정되어 있고 최종적으로 철도공사에게 인계하는 마스터 계획이 있어 그때 기술본부(신호처장)에 승인받으려고 「시공관리절차서」에 따라 승인을 받지 않았다. 연동검사 체크리스트는 ‘5A-B, 6A-A 진로’에 대한 항목만 〇표(정상)으로 표기되어 있었고 ‘연동장치 1식, 선로전환기 3틀, 궤도회로 4개소’에 대한 체 크리스트는 확인할 수 없었으며, 「강릉신호소 연동도표1단계(1)」에 연동검 사 결과 ‘이상없음’으로 기록하고 검사자와 입회자는 서명하였다. 41) 연동도표란 신호기, 선로전환기, 궤도회로 및 안전설비 등의 상호 연결된 쇄정관계에 의하여 열차 안전이 확보될 수 있는 상태를 철도 신호용 심볼, 문자, 숫자, 그림, 기호 등을 사용하여 표시한 도 표를 말한다. 분석 한국철도공사 강릉선 청량신호소 구내 KTX열차 탈선사고 - 60 - 연동검사 시간대 전자연동장치 기록에 선로전환기 21호 3회 불일치 기록 이 있어서 5mm 철편시험을 한 것으로 판단되며 이 과정에 신호기계실 제어 모니터를 정확하게 확인 하였더라도 21B호 선로전환기가 1개로 단독 전환되 었기 때문에 21A호와 21B호의 동작 상태가 서로 바뀌어 표시되는 것을 확 인할 수 없었을 것으로 분석되었다. 2.4.2.2 청량신호소 연동검사 2단계 철도공단 강원본부는 ‘청량신호소에 강릉차량기지 분기부 우선연결 시공’ 을 위해 2017년 6월 30일 강릉신호소 연동도표 변경승인을 기술본부(신호처 장)에 요청하였으나 승인받지 못하였다. 본선 공사관리관이 2017년 9월 17일 시행한 청량신호소 연동검사는 철도 공사 시설물 검증팀 요구사항「청량신호소 출발신호기 설치 지시」를 반영 하기 위한 출발신호기 설치에 따라 「시공관리절차서」 연동검사 시행요령 6.2항에 의거하여 단독시험을 시행하였고 연동검사는 출발신호기 신호현시계 열 및 진로구성 검사로 경미하여 체크리스트 없이 시행되었다. 본선 공사관리관은 2017년 9월 20일부터 9월 21일까지 시행하는 강릉차량 기지연동검사에 ‘청량신호소 21A/B호 선로전환기, 1B 신호기, 궤도회로 3개 소’가 포함되어 있어 철도공사 관계자를 입회시키지 않았다. 2단계 연동검사 시간대 전자연동장치 기록을 확인한 결과 선로전환기 불 일치 기록이 21A호 1회, 21B호 2회 있었으나 선로전환기 단동시험 취급기록 을 찾을 수 없었고, 쇄정란의 선로전환기 시험, 신호제어시험, 진로구분쇄정 시험 등 기록도 일부 누락되어 있었다. 연동검사를 절차서에 따라 선로전환 기 단동시험부터 시행 하였다면 표시회로가 분리된 21A, 21B호 쌍동 선로전 환기의 정보가 반대로 표시되는 것을 확인할 수 있었을 것으로 분석되었다. 분석 한국철도공사 강릉선 청량신호소 구내 KTX열차 탈선사고 - 61 - 2.4.2.3 강릉차량기지 연동검사 철도공단 강원본부 강릉차량기지 연동검사시행계획서(2017. 9. 13)의 연동 검사 대상설비는 총 385개 진로(북쪽 133개 진로, 남쪽 252개 진로)와 선로 전환기 69틀 등이며 대상설비 중 이번사고와 관련이 있는 청량신호소 관할 궤도회로 3개소(XT, 21AT, 21BT)와 선로전환기 2틀(21A, 21B) 등이 포함되 어 있었다. 강릉차량기지 공사관리관은 강릉차량기지 연동검사를 2일간(2017. 9. 20~ 9. 21) 시행하고 강릉차량기지 연동도표(최종)에 연동검사 결과에 대한 ‘이상 유무 확인’ 기록 없이 검사자와 입회자는 서명하였으며, 연동검사 결과에 대 한 기록을 공란으로 비워두고 참석자는 참석자 명단에 서명하였다. 또한 강릉차량기지 공종별 시험(09.21.∼09.22.) ‘궤도회로, 신호현시계열 시 험, 선로전환기 성능․동작검사, CTC 인터페이스, 연동장치 기능시험, ATS, ATP 신호설비 273대’ 등 결과가 강릉차량기지 연동검사 시행일과 동일하여 공종별 시험과 연동검사가 함께 수행된 것으로 조사되었다. 강릉차량기지 연동검사 시간대 청량신호소 전자연동장치 기록을 확인한 결과 제어 기록, 이벤트 기록 등이 없어 청량신호소 관할 궤도회로 3개소 (XT, 21AT, 21BT)와 선로전환기 2틀(21A호, 21B호) 등에 대한 연동검사를 시행하지 않았다. 강릉차량기지 연동검사(청량신호소 관할 신호설비)를 「시공관리절차서」 에 따라 시행하지 않아 ‘청량신호소 21A호, 21B호 쌍동 선로전환기의 신호 기계실 분선반 단자대 배선이 서로 바뀌어 표시정보가 서로 반대로 표시되 는 것’을 확인할 기회를 갖지 못한 것으로 분석되었다. 강릉차량기지 연동검사 시간대 강릉차량기지 전자연동장치 기록을 분석한 결과 연동검사의 기본이 되는 궤도회로 단락 시험 및 선로전환기 단동시험 분석 한국철도공사 강릉선 청량신호소 구내 KTX열차 탈선사고 - 62 - 을 시행하지 않았고 진로별 쇄정조건, 신호제어조건, 접근쇄정조건 등 일부 만 시행되었으며, 입환표지에 대한 연동검사는 시행하지 않았다. [표18]과 같이 항공철도사고조사위원회에서 사고이후 강릉차량기지에서 철 도공단과 철도공사 관계자가 입회한 가운데 선로전환기 단동검사와 진로연 동시험을 철도공단 「시공관리절차서-24」 붙임 ‘연동검사 시행요령’과 같이 시행해 본 결과 연동검사에 소요되는 예상시간은 약 95시간이었으나 강릉차 량기지 공사관리관이 연동검사와 공종별 시험을 12시간24분 동안 모두 수행 한 것은 시간적으로 불가능했을 것으로 분석되었다. [표18] 사고 이후 강릉차량기지 연동검사 시행결과 2.4.3 종합시험운행의 적정성 2.4.3.1 청량신호소 공종별 시험 철도공단이 평창∼강릉구간(청량신호소 포함)에 대한 신호설비 공종별 시 험을 2017년 4월 11일부터 5월 26일까지 시행하였으나 선로전환기에 대한 공종별 시험결과는 확인할 수 없었다. 구 분 시험설비 및 진로 시험 시분 보정 시분 설비량 진로수 소요 시분 비 고 시 험 결 과 단동 시험 22AD호 7분 5분 69대 345분 쌍동 10분 단동 6~7분 22BD호 3분 21호 7분 진로연동 시험 1A-9번 장내신호 33조건 28분 25분 17진로 425분 진로당 평균조건수: 35.5 33-A2 입환신호기 28조건 18분 15분 184진로 2,760분 진로당 평균조건수: 23.4 32-A1 입환표지 21조건 12분 12분 184진로 2,208분 진로당 평균조건수: 22.4 합 계 69대, 385진로 5,738분 95시간38분 필요 분석 한국철도공사 강릉선 청량신호소 구내 KTX열차 탈선사고 - 63 - 2.4.3.2 청량신호소 사전점검 철도공단과 철도공사는 합동으로 신호분야 사전점검을 시행(2016. 6. 1~6.23)하였으나 사전점검표에 연동장치에 대한 ‘연동검사 결과확인, 연동장 치 설치 및 각부 동작의 적정성’ 항목은 점검하지 않은 것으로 확인 되었으 며, 교통안전공단의 서류 현장 검토시 ‘공종별 시험시 - 선로전환기 성능검 사 기록’ 결과는 없었다. 2.4.3.3 시설물검증 시험 철도공단과 철도공사가 합동으로 시행한 시설물검증 시험은 시험열차의 속도를 최고속도(250km/h)까지 단계적으로 증가시키면서 ‘철도시설의 안전상 태, 철도차량의 운행적합성 및 연계성, 시설물의 정상동작 여부’ 확인 시험으 로 이번 사고와 연관성이 없는 것으로 분석되었다. 2.4.3.4 강릉차량기지 공종별 시험 철도공단은 강릉차량기지 신호분야 공종별 시험(2017.09.21.∼09.22.)을 강 릉차량기지 전체 ‘궤도회로 성능시험, 신호계열시험, 선로전환기 성능검사, 열차집중제어장치(CTC) 인터페이스 시험, 연동장치 기능시험, 자동열차정지 장치(ATS) 기능시험, 자동열차제어장치(ATP) 기능시험’과 청량신호소 관할 ‘궤도회로 3개소(XT, 21AT, 21BT), 선로전환기 2틀(21A, 21B)’ 등을 포함하 여 2일간(12시간24분) 시행하였으며 모든 항목에 대해 ‘정상동작’ 합격으로 판정하였다. 강릉차량기지 신호분야 공종별 시험 중의 강릉차량기지와 청량신호소 전 자연동장치 기록을 확인한 결과 강릉차량기지 연동검사 기록은 확인되었으 나, 청량신호소 연동검사 기록이 없어 청량신호소 관할 궤도회로, 선로전환 기 등에 대한 공종별 시험은 시행하지 않은 것으로 조사되었다. 분석 한국철도공사 강릉선 청량신호소 구내 KTX열차 탈선사고 - 64 - 철도공단은 강릉차량기지 신호분야에 대한 공종별 시험을 연동검사와 함 께 시행하였다. 공종별 시험결과 모든 신호설비에 대해 합격 판정한 것은 공 종별 시험과 연동검사에 소요되는 시간 등을 고려하면 시험과 검사는 적절 히 시행하지 않은 것으로 조사되었다. 2.4.3.5 강릉차량기지 사전점검 철도공단과 철도공사가 합동으로 시행한 강릉차량기지 신호분야에 대한 사전점검은 공종별 시험을 시행한 후 설비의 기능에 이상이 없으면 시행해 야 하는 함에도 순서가 뒤바뀌어 시행되어 「철도종합시험운행 시행지침」 을 준수하지 않았다. 강릉차량기지 신호분야 사전점검 결과 보완사항으로 ‘신호 연동장치 연동 검사 철도공사와 합동으로 실시(9.24), 현장설비 설치미비로 추후 협의하여 사전점검 재시행(9. 25) 등’으로 정하고 마무리하였으나 2017년 9월 25일에 재 시행된 사전점검 점검표를 확인한 결과 점검항목 중 청량신호소 관할 궤 도회로, 선로전환기 등에 대한 점검기록은 확인할 수 없었다. 또한 붙임 자료에 청량신호소 관할 궤도회로, 선로전환기 등에 대한 공종 별 시험은 시행하지 않고 합격 판정한 공종별 시험 결과지와 물리적으로 미 흡하게 시행된 강릉차량기지 공종별 시험(09.21.∼09.22.) 결과지를 첨부하는 등 강릉차량기지 사전점검은 부적정하게 시행된 것으로 분석되었다. 2.4.3.6 사전점검 결과 검토 교통안전공단 검토팀은 「원주∼강릉 복선철도 종합시험운행 사전점검 결 과」 검토를 2017년 6월 1일부터 6월 27일까지 18일간 시행하였으며 점검내 용은 ‘분야별 시설물 시공(설치) 및 기능 확인, 사전점검 진행현황 확인, 분 야별 공종별 시험 세부결과 검토 등’이었다. 분석 한국철도공사 강릉선 청량신호소 구내 KTX열차 탈선사고 - 65 - 검토팀은 ‘공종별시험 및 사전점검 결과, 종합시험운행 시행계획 등에 대 한 적정성 검토를 위한 「철도시설의 기술기준」에의 적합여부 검토(2017. 7. 3～7.14)’를 서류검토 6일, 현장검토 4일 등 10일간 시행하였다. 검토팀은 사전점검 검토 시 청량신호소 공종별 시험 결과 선로전환기에 대한 공종별 시험 결과가 없는 것, 청량신호소 사전점검 결과 사전점검표에 연동장치에 대한 ‘연동검사 결과확인, 연동장치 설치 및 각부 동작의 적정성’ 항목에 대해 점검하지 않은 것을 보완하도록 조치하지 않았다. 검토팀이 국토교통부에 보고한 [원주∼강릉 복선철도 「철도시설의 기술기 준」에의 적합여부 검토결과 보고(17.07.17.)] 확인 결과 ‘17. 열차제어시스템 및 중앙집중제어 기능이 안전하게 작동하는지 확인’ 항목을 점검하며 청량신 호소 1단계 연동검사의 ‘연동장치 1식, 선로전환기 3틀, 궤도회로 4개소’에 대 한 체크리스트가 없는 것을 보완하도록 조치하지 않았다. 또한 ‘20. 공종별 시험 및 사전점검 결과의 적정성’ 항목을 점검한 후 ‘공종 별 시험과 사전점검 완료 확인’을 보완하도록 검토하였으나 이후 보완사항에 대한 점검ㆍ확인은 없었다. 검토팀의 사전점검표에 연동장치 연동검사 결과확인 항목에 대한 기록이 없고, 평창역에서 강릉역까지 8건(평창∼강릉 5건, 청량신호소 3건)의 연동검 사 중 2건(대관령신호장, 청량신호소 2단계)은 철도공사 입회자 없이 시행된 연동도표가 공종별 시험결과에 제출된 것을 확인하지 못하였다. 또한 청량신호소 관할 궤도회로 3개소(XT, 21AT, 21BT)와 선로전환기 2 틀(21A호, 21B호)등이 강릉차량기지에 포함되어 시공 설치되고 있음에도 강 릉차량기지에 대한 사전점검 결과 검토가 없었으며, 강릉차량기지 공종별 시 험과 사전점검이 「철도 종합시험운행 시행지침」에서 정한 순서와 뒤바뀌 어 시행된 것을 확인하지 못하였다. 분석 한국철도공사 강릉선 청량신호소 구내 KTX열차 탈선사고 - 66 - 2.4.4 신호설비의 유지보수 2.4.4.1 선로전환기 21A/B호 고장 이력 2017년 12월 22일 강릉선 개통 이후 청량신호소 선로전환기 21A/B호 고장 기록은 점검 또는 작업과 관련하여 21A호 5건, 21B호 4건이며, 2018년 7월 13일 21A호 불일치 장애 1건이 있었으나 이번 사고와 관련은 없었다. 2.4.4.2 신호설비의 정기점검 철도공사는 세칙에서 선로전환기와 연동장치, 전선로 등을 일상검사와 정 밀검사로 구분하고 정밀검사는 세밀한 계획표에 따라 시행하도록 정하고 있 으며 ‘연동검사’는 2년에 1회 이상 시행하도록 정하고 있으나 사고 당시 연 동검사 주기는 도래하지 않았다. 평창신호사업소는 2018년 2월 24일 ‘청량신호소 21A호, 21B호 선로전환기 동작 전환시험 및 밀착쇄정 상태 확인’ 일상점검 시 21호 쌍동 선로전환기를 21A호, 21B호를 각각 점검하면서 전환시험 요청 시 강릉역 로컬관제원에게 21A호, 21B호를 각각 구분하지 않고 21호 선로전환기로 통칭하여 전환시험 을 요청하였고 로컬관제원 또한 21A호, 21B호를 구분하지 않고 ‘불일치 또 는 양호’로 통보하여 21A호, 21B호 표시정보가 반대로 표시되는 것을 확인 하지 못한 것으로 조사되었다. 이것은 쌍동선로전환기 표시회로 분리 후 유지보수 매뉴얼과 운전보안장 치 취급 매뉴얼을 개정하지 않은 것과 유지보수자와 운전취급자 교육이 없 었기 때문인 것으로 분석되었다. 평창신호사업소는 2018년 6월 20일 21A/B호 선로전환기 정밀검사를 시행 하였으나 세칙 제109조와 별표1에서 정한 일상점검과 정밀점검을 구분하여 시행하지 않았다. 분석 한국철도공사 강릉선 청량신호소 구내 KTX열차 탈선사고 - 67 - 또한 평창신호제어사업소는 연동장치에 대해 일상검사와 정밀검사를 구분 하지 않고 점검을 시행하였고, 2018년 8월 1일과 11월14일 연동장치 분기 정 밀점검을 시행하였으며 ‘신호기계실 분선반 단자류 배선정비’ 항목을 점검하 였지만 단자대의 선로전환기 21A호와 21B호 배선이 반대로 연결되어 있는 것을 확인하지는 못한 것으로 조사되었다. 평창신호제어사업소는 전선로에 대한 정밀검사를 사고 이후 2018년 12월 26일에 검사주기 3일을 초과하여 시행하였다. 철도공사는 세칙 제109조에서 설비의 기능을 확보하기 위해 소정에 주기 에 의한 검검을 일상검사라 정의하였고 정밀검사는 일상검사로 설비의 기능 을 확보하지 못할 때 시행하는 검사라 구분하여 정의하면서도 주기적으로 검사하도록 세칙 별표1의 기준을 모호하게 정의하였고, 정밀검사시 세밀한 계획표를 수립하여 검사를 시행하여야 한다고 하고 있으나 세칙에서 세밀한 계획표 작성에 대한 구체적인 내용을 확인할 수 없었다. 2.4.5 쌍동 선로전환기 표시회로 분리 개선의 적정성 분석 2.4.5.1 철도공단 KR S-06040 「연동장치 쇄정 방법」적용의 적정성 철도공단의 KR S-06040 「연동장치 쇄정 방법」(2016.12)] 해설 1. 연동장 치의 연쇄42) 3. 연쇄의 기준 3.2 신호기와 선로전환기 간의 연쇄 항목에 ‘신 호기와 선로전환기 사이의 연쇄는 신호기의 진로에 대한 선로전환기를 정당 한 방향으로 전환되고 쇄정할 뿐만 아니라 진로 외의 선로전환기도 다른 열 차 또는 차량이 진입할 우려가 있는 선로전환기는 위험하지 않은 방향으로 신호기와 연쇄관계를 구성하여야 한다.’라고 정하고 있다. 42) 연쇄(Interlocking) : 둘 이상의 신호기, 선로전환기, 궤도회로를 상호간에 쇄정 관계를 갖는 것 분석 한국철도공사 강릉선 청량신호소 구내 KTX열차 탈선사고 - 68 - [그림22] 신호기와 선로전환기의 쇄정(KR S-06040 그림 발췌) 또한 [그림22]의 ‘&lt;그림6&gt;에서 신호기 A는 1번선, 신호기 B는 2번선으로 진입할 수 있는 신호기이다. 22호43) 선로전환기를 정위로 전환하면 진로가 1 번선으로 개통되고 신호기 A의 취급버턴을 반위로 하면 22호 선로전환기는 정위로 쇄정된다.’라고 정하고 있다. 이번 사고구간의 청량신호소 21A호 선로전환기 정위 불일치 발생시 반대 선 3B 신호기가 진행을 현시하도록 표시회로를 개선한 것은 KR S-06040 「연동장치 쇄정 방법」 3.2 신호기와 선로전환기 간의 연쇄 항목 ‘진로 외 의 선로전환기도 다른 열차 또는 차량이 진입할 우려가 있는 선로전환기는 위험하지 않은 방향으로 신호기와 연쇄관계를 구성하여야 한다.’를 충분히 검토하지 않은 것으로 분석되었다. 건넘선 쌍동 A․B호 선로전환기는 열차 운행방향을 서로 마주하는 역방 향으로 A호는 B호에게, B호는 A호에게 이례적 상황에서 무의식적으로 움직 일 수 있는 차량으로부터 운행열차를 보호해 주는 기능을 수행하여야 하나 개선 후 이런 기능을 없애 열차운행의 안전성을 낮춘 것으로 분석되었다. 이렇게 열차운행의 안전을 저해하게 「쌍동 선로전환기 표시회로 개선」 을 추진한 것은 「철도시설의 기술기준(국토교통부고시)」제6절 철도신호제 43) 22호라 함은 22A호, 22B호 모두를 포함 함 분석 한국철도공사 강릉선 청량신호소 구내 KTX열차 탈선사고 - 69 - 어설비 제95조(일반기준)제4항 ‘운영 중인 철도신호제어설비를 변경 또는 신 설하는 경우에는 철도안전에 영향을 주지 아니하여야 한다.’를 반영하지 않 은 것으로 조사되었다. 2.4.5.2 쌍동 선로전환기 표시회로 개선에 대한 분석 철도공사와 철도공단은 [그림23]과 같이 쌍동 선로전환기를 제어방식은 기 존과 같이 변경이 없고, 표시회로는 통합표시에서 분리표시로 개선하였다. [기존] [변경] 동시제어 / 통합표시 동시제어 / 분리표시 [그림23] 쌍동 선로전환기 표시회로 변경 방향 철도공사와 철도공단은 선로전환기 표시회로를 분리하여 A호, B호의 개별 고장 시 위치가 정확히 표출되어 유지보수시간 단축 효과를 기대하였다. 하 지만, 항상 동시에 같은 방향으로 제어되어 같은 표시를 표출할 수밖에 없는 두 개의 A호, B호 표시회로가 초기설치 및 유지보수 과정에서 결선이 서로 바뀔 경우 [그림24]와 같이 평상시에는 정상 동작하는 것처럼 표시되고, 고 장시 바뀌어 표시되는 문제점은 사전에 파악하지 못한 것으로 조사되었다. 분석 한국철도공사 강릉선 청량신호소 구내 KTX열차 탈선사고 - 70 - [그림24] 결선이 바뀔 경우 표시정보가 바뀌는 예시 이에 철도공단은 이러한 문제점을 보완하기 위해 「시공관리절차서-24」 붙임2. 연동검사 시행요령에 ‘표시회로가 분리된 쌍동 이상의 선로전환기는 한쪽만 고장 시 다른 쪽 정상표시 여부 확인’, 붙임3. 연동검사 체크리스트 선로전환기(단독전환 점검)에 ‘표시회로분리’ 항목을 추가하여 관련기준 개정 (안)을 [그림25]와 같이 계획하였다. 그러나, 이 기준 개정(안)이 개정되지 않은 상태에서 철도건설사업44) 설계 를 변경하여 현장시공에 반영케 하여 적정한 시공관리가 이루어지지 않은 것으로 조사되었다. [그림25] 「쌍동 선로전환기 표시회로 개선」 방침 중 시공관리절차서 연동검사 개정(안) 44) 철도공단 [선로전환기 표시회로 개선 알림(신호처-1017, 2016. 2. 26)], 해당사업은 원주~강릉 철도 건설, 포항~삼척 철도건설, 진주~광양 복선화 사업임. 분석 한국철도공사 강릉선 청량신호소 구내 KTX열차 탈선사고 - 71 - 2.4.6 선로전환기 21B호 불일치 원인 및 탈선영향 분석 청량신호소 21A호, 21B호 선로전환기는 2017년 3월20일 납품 전 공장검사 및 전문시험기관에서 실시한 검사에서 ‘합격’판정을 받았으며 [그림26]과 같 이 사고 당일 청량신호소 21B호 선로전환기 불일치45) 장애가 발생한 것에 대한 원인과 탈선사고와의 상관관계를 분석하였다. [그림26] 탈선사고 이후 21B호 선로전환기 불일치 상태 2.4.6.1 선로전환기 21B호 불일치 원인 분석 전기선로전환기(NS-AM형) 21B호의 불일치 원인을 분석하기 위하여 21A 호, 21B호 선로전환기를 제작공장 시험기에 설치하여 장애상황 재현 및 원 인파악을 위한 각종 기능시험을 아래와 같이 실시하였다. 1) 검사장비 연번 시험 및 계측도구 제조사 1 AC/DC DIGITAL CLAMP METER KYORITSU mini 2 VOLTAGE/INSULATION RESISTANCE TESTER KIKUSUI TOS9201 3 MULTIMETER FLUKE 189 4 선로전환기 시험기(제어동력장치, 유압 압력계 구성) 제작사 [표19] 선로전환기 검사장비 45) 선로전환기 텅레일이 기본레일에 밀착되어 정위 또는 반위로 구성되지 않고 중간에 멈춘 고장 분석 한국철도공사 강릉선 청량신호소 구내 KTX열차 탈선사고 - 72 - 2) 시험대상 [그림27] 21A호, 21B호 선로전환기 3) 시험방법 21A호, 21B호 선로전환기를 시험기에 설치 후 제어 및 동력회로를 단자대 에 연결한 후 전환력 측정 등 각종 기능시험을 실시하였다. 압력계 유압장치부하연결회로연결 [그림28] 선로전환기 시험 장면 분석 한국철도공사 강릉선 청량신호소 구내 KTX열차 탈선사고 - 73 - 4) 시험결과 21A호 선로전환기는 각종시험에서 정상 동작하였으나 21B호 선로전환기 는 부하시험 시 정․반위 전환 중 중간위치에서 멈춤 현상이 반복되어 사고 당시 상황과 동일하게 재현되었다. 21B호 선로전환기의 멈춤 원인을 파악하기 위해 [그림29]와 같이 선로전환 기 몸체의 전동기를 신품으로 교체하고 재시험을 하여 정상동작하는 것을 확인하였다. 이것은 기존 전동기의 고장으로 파악되었으며 기존 전동기의 고 장원인을 파악하기 위해 전동기 내부의 콘덴서만 신품으로 교체하고 재시험 을 하여 정상동작하는 것을 확인하였다. 따라서 21B호 선로전환기 불일치 고장원인은 전동기 내부의 콘덴서 고장 에 따른 선로전환기 전동기 전환력 부족으로 확인되었다. ①기존 전동기를 신품 전동기로 교체 ②기존 전동기의 콘덴서를 신품 콘덴서로 교체 [그림29] 전동기 및 콘덴서 신품 교체 장면 2.4.6.2 선로전환기 21B호 고장과 탈선영향 분석 관제 조작반, 연동장치, 케이블, 선로전환기, 신호기의 동작과정을 요약하 면 [표20]과 같다. 분석 한국철도공사 강릉선 청량신호소 구내 KTX열차 탈선사고 - 74 - 관 제 조작반 연동장치 케이블 선로전환기 신호기 신호 취급 ①진로상의 선로전환기를 소정의 방향으로 전환한다. → ② 잠금 해제 ③ 전환 전동기 회전 ④ 잠금 완료 ⑥진로가 구성되었다는 것을 CHECK한다 ← ⑤ 회로 구성 전동기 회전완료 정지 ⑦진로상의 선로전환기를 잠금 처리한다. ⑧충돌경로 신호기가 취급되지 않도록 잠금 처리한다. ⑨진로에 타 열차 또는 차량이 없는 것을 CHECK한다. 신호 현시 ⑩신호기에 진행을 현시한다. 진행 [표20] 신호 동작 과정 요약 관제원이 신호를 취급하면 ① 〜 ⑨과정 동안 신호기는 연동장치에 의해 정지를 현시하고 최종 ⑩단계에서 신호기가 진행 신호를 현시하게 되어 열 차가 정상속도로 운행을 하게 된다. 그러나 청량신호소 21B호 선로전환기는 ‘③ 전환’ 과정에서 전동기 고장으 로 전환 불능상태가 되어 ‘④ 잠금 완료’와 ‘⑤ 회로구성’이 이루어지지 않아 표시전원이 차단되어 선로전환기 케이블이 반대로 연결된 조작표시판 21A호 에 불일치 장애가 표시되었고, 역시 선로전환기 케이블이 반대로 연결되었으나 정상적 회로구성이 된 21A호는 조작표시판에 21B호 선로전환기를 정상으로 표시하여 신호가 진행 으로 현시되었고 탈선사고가 발생하였다. 선로전환기 케이블이 정확히 연결되었으면 21B호 선로전환기가 불일치로 표시되었을 것이고 신호기는 정지신호가 현시 되었을 것이기에 탈선사고의 원인 또는 기여요인으로 볼 수 없다. 분석 한국철도공사 강릉선 청량신호소 구내 KTX열차 탈선사고 - 75 - 2.5 종합분석 본선 작업자는 변경된 도면을 적용하지 않고 최초 설계도면에 따라 21A호 (본선), 21B호(기지) 선로전환기에 대한 현장케이블 설치하였고, 본선 책임감 리원은 21A호와 21B호의 선로전환기가 청량신호소와 강릉차량기지 설계도 면에 서로 다르게 표기되어 있어 회의를 통해 기지방면은 21A호, 본선방면 은 21B호로 정하여 관계자에게 알렸으나, 이후 강릉차량기지 작업자는 회의 결과가 반영된 도면에 따라 21A호와 21B호 선로전환기를 설치하고 케이블 을 연결하였고 본선 작업자는 회의결과를 반영하지 않고 접속함과 기계실 단자대에 케이블을 연결하여 21A호와 21B호 선로전환기 결선이 반대로 연 결되었다. 시공과정에서의 문제점을 찾기 위한 2회(청량신호소 2단계, 강릉차량기지 )의 연동검사과정에서도 연동검사의 기본이 되는 선로전환기 단동시험 등을 소홀히 하여 신호기계실 분선반 단자대 21A호, 21B호 선로전환기 결선이 반 대로 연결된 것을 발견하지 못하였으며, 유지보수과정에서도 쌍동선로전환기 표시회로가 분리된 청량신호소 21A호 와 21B호를 각각 구분하여 점검하지 않아 반대로 연결된 것을 발견하지 못 하였다. 사고 당일 21B호(본선 방면) 선로전환기 첨단이 벌어진 장애가 발생되었 으나 관제 모니터에는 21A호(기지 방면) 선로전환기에 장애가 표시되어 관 계자들이 21A호 선로전환기 장애조치에 집중하던 중, 청량신호소 출발신호 기에 진행신호가 현시되어 진행신호에 따라 운행하던 사고열차가 21B호 선 로전환기 첨단 텅레일의 벌어진 틈으로 선두 동력차의 첫 번째 대차는 서울 방향으로 진행하고 두 번째 대차는 강릉차량기지방향으로 진행하며 모든 차 량이 탈선되었다. 결론 한국철도공사 강릉선 청량신호소 구내 KTX열차 탈선사고 - 76 - 3. 결론(Conclusions) 3.1 조사결과(Findings) 3.1.1 운행기록 분석결과 사고열차는 강릉역 출발 후 사고발생 시점까지 최 대속도는 118km/h였고, 사고지점인 청량신호소 21B호 선로전환기 통과 속도는 101km/h로 허용속도 120km/h 이하로 운행하였으며, 탈선사고 와 동시에 비상제동을 취급하는 등 기장의 운전취급은 적정하였다. 3.1.2 강릉역 로컬관제원은 청량신호소 21A호 선로전환기 장애가 발생하자 21A호와 21B호 선로전환기를 단독으로 정위와 반위로 전환하여 장애 복구를 시도하였으나 장애가 복구되지 않아 평창신호와 철도교통관제 센터에 상황을 통보하였고, 역무팀장과 역무원을 현장으로 출동시키는 등 로컬 관제업무를 적정하게 수행하였다. 3.1.3 평창신호제어사업소 B조 선임 전기장은 혼자 야간근무 중 강릉역 로컬 관제원으로부터 ‘청량신호소 신호장애’ 내용을 통보받고 선로전환기 21A호 장애확인, 사업소 지원요청 및 현장에 출동하여 21A호 선로전환 기의 밀착․쇄정상태를 확인하는 등 관련 업무를 적정하게 수행하였다. 3.1.4 철도교통관제센터 관제사는 청량신호소 선로전환기 장애 상황을 통보 받고 본사 운영상황실 관제사에게 통보한 뒤 강원본부 당직실에 통보 및 강릉역 로컬관제원에게 선로전환기 수동취급과 수신호를 준비하여 초기대응팀을 청량신호소로 출동할 것을 지시하는 등 관제업무를 적정 하게 수행하였다. 3.1.5 사고열차의 차륜치수를 측정한 결과 6번, 7번 및 9번 대차의 차륜 내면 간 거리가 기준을 초과하였고 그 외의 항목은 기준을 만족하는 것으로 확인되었다. 다만, 세 개의 대차에서 차륜 내면간 거리가 초과된 것은 탈선 충격에 기인한 것으로 조사되었다. 결론 한국철도공사 강릉선 청량신호소 구내 KTX열차 탈선사고 - 77 - 3.1.6 사고지점 선로는 「선로유지관리지침」에 따라 관리되고 있었고 사고 지점 전ㆍ후 각 50m 구간의 궤도검측차에 의한 검측결과 모든 항목이 보수기준을 만족하는 것으로 조사되었다. 3.1.7 사고 후 청량신호소 신호기계실 분선반 단자대를 확인한 결과 선로전 환기 21A호, 21B호의 배선이 반대로 연결되어 있는 것을 확인하였다. 3.1.8 사고 당시 전자연동장치 기록 및 재생화면을 확인한 결과 철도교통관 제센터 및 강릉역 관제실 모니터에는 정상상태인 21A호 선로전환기는 장애로 표시되었고 첨단이 벌어져 있던 상태의 21B호 선로전환기는 정 상으로 표시되어 전자연동장치와 현장 선로전환기간 정보가 반대로 표 시되는 것을 확인하였다. 또한 21B호 선로전환기와 연동관계에 있는 청량신호소 출발신호기는 정지신호가 아닌 진행신호가 현시되어 사고 열차는 진행신호에 따라 운행하던 중 탈선되었다. 3.1.9 청량신호소 최초 설계도면의 21A호, 21B호 선로전환기의 위치는 본선 방면은 21A호, 기지방면은 21B호로 설계되었으며, 강릉차량기지 설계 도면은 본선방면이 21B호, 기지방면이 21A호로 청량신호소 설계도면과 서로 다르게 설계되어 있었다. 3.1.10 본선 책임감리원은 선로전환기 21A호와 21B호 설계도면이 서로 달라 관계자 회의를 개최하여 철도공단「연동도표 작성 및 검토기준」에 맞 게 변경하고 변경된 연동도표 1단계와 2단계를 첨부하여 관계자에게 알렸으나, 본선 작업자는 회의결과가 반영되지 않은 최초 도면에 따라 21A호와 21B호 선로전환기 케이블을 접속함과 기계실 단자대에 연결 하여 배선이 뒤바뀌게 되었으며, 강릉차량기지 작업자는 회의결과가 반 영된 도면에 따라 선로전환기를 설치(21A/B호)하고 케이블을 접속함에 연결(21A호) 및 청량신호소 접속함과 기계실 분선반 단자대 현장측 명 찰만 현장 선로전환기와 일치되도록 변경하였다. 결론 한국철도공사 강릉선 청량신호소 구내 KTX열차 탈선사고 - 78 - 3.1.11 본선 감리원은 ‘청량신호소 LDTS 결선 점검, 계전기실 분전반 결선작 업 입회’ 감리업무를 수행하며 ‘청량신호소 21A(기지), 21B(본선) 선로 전환기가 변경’된 회의내용을 작업자에게 정확하게 알리지 않았으며, 변경된 도면에 따라 결선작업을 시행하는지 제대로 확인하지 않는 등 감리업무가 부적절하게 수행하였다. 3.1.12 철도공단 강원본부는 2017년 4월 5일 본선 감리단에서 연동도표 1단 계에 대한 승인요청이 있었으나 청량신호소는 차량기지 및 영동선과 연결이 예정되어 있고 단계별 시공계획이 명확하지 않아 최종적으로 철도공사에게 인계하는 마스터 계획이 있어 그때 승인받으려고 「시공 관리절차서」에 따라 승인을 받지 않았다. 3.1.13 2017년 4월 28일 시행한 청량신호소 1단계 연동검사 결과 체크리스트 는 ‘5A-B, 6A-A 진로(신호기)’에 대한 항목만 〇(정상)으로 표기되어 있었고 ‘연동장치 1식, 선로전환기 3틀, 궤도회로 4개소’에 대한 체크리 스트는 확인할 수 없었으며 1단계 연동검사가 정확하게 시행되었더라 도 21B호 선로전환기가 1개로 단독 전환되었기 때문에 21A호와 21B호 의 동작상태가 서로 바뀌어 표시되는 것을 확인할 수 없었다. 3.1.14 철도공단 강원본부는 청량신호소 2단계 연동검사에 대비하여 2017년 6월 30일 ‘청량신호소에 강릉차량기지 분기부 우선연결 시공’을 위해 청량신호소 연동도표 변경승인을 기술본부(신호처장)에 요청하였으나 승인받지 못하였다. 또한 2017년 9월 17일 시행한 청량신호소 2단계 연 동검사는 철도공사 시설물 검증팀 요구사항「청량신호소 출발신호기 설치 지시」를 반영하기 위한 출발신호기 설치에 따라 「시공관리절차 서」 연동검사 시행요령 6.2항에 의거하여 연동검사를 시행하면서 선로 전환기 단동시험을 생략하고 ‘출발신호기 신호현시계열 및 진로구성 검 사’만 시행되었다. 3.1.15 본선 공사관리관은 2017년 9월 20일부터 9월 21일까지 시행예정인 결론 한국철도공사 강릉선 청량신호소 구내 KTX열차 탈선사고 - 79 - 강릉차량기지연동검사에 ‘청량신호소 21A/B호 선로전환기, 1B 신호기, 궤도회로 3개소’가 포함되어 있어 청량신호소 2단계 연동검사에 철도공 사 입회자를 참석시키지 않았고 2단계 연동검사를 「시공관리절차서」 에 따라 정확하게 시행하지 않아 표시회로가 분리된 21A호, 21B호의 동작상태가 서로 바뀌어 표시되는 것을 확인할 수 없었다. 3.1.16 철도공단 강원본부 강릉차량기지 연동검사시행계획서(2017. 9. 13)의 연동검사 대상설비에 강릉차량기지 전체와 청량신호소 관할 궤도회로 3개소(XT, 21AT, 21BT)와 선로전환기 2틀(21A, 21B) 등이 포함되어 있었으며 강릉차량기지 공사관리관은 강릉차량기지 연동검사를 2일간 (2017. 9. 20~ 9. 21) 시행하고 강릉차량기지 연동도표(최종)에 연동검사 결과에 대한 ‘이상유무 확인’ 기록 없이 검사자와 입회자는 서명하였으 며, 연동검사 결과에 대한 기록을 공란으로 비워두고 참석자는 참석자 명단에 서명하였다. 3.1.17 강릉차량기지 연동검사 시간대 강릉차량기지 전자연동장치 기록에 단 동시험과 궤도단락시험, 쇄정시험, 입환표지에 대한 시험결과를 확인할 수 없었고 청량신호소 전자연동장치 기록에는 제어기록, 이벤트기록 등 이 없어 청량신호소 관할 궤도회로 3개소(XT, 21AT, 21BT)와 선로전 환기 2틀(21A호, 21B호) 등에 대한 연동검사를 시행하지 않은 것으로 조사되었다. 3.1.18 강릉차량기지 연동검사가 예상 소요시간 보다 약 82시간이 부족하였 고 강릉차량기지 연동검사에 포함된 청량신호소 연동검사를 시행하지 않아 ‘청량신호소 21A호, 21B호 쌍동 선로전환기의 정보가 서로 반대 로 표시되는 것과 청량신호소 신호기계실 분선반 단자대 배선이 서로 바뀐 것’을 확인할 기회를 갖지 못한 것으로 조사되었다. 3.1.19 강릉차량기지 연동검사 과정에 21A호, 21B호 선로전환기의 표시정보 가 반대로 표시되는 것을 확인하지 못한 것과 사고당시 21B호 선로전 결론 한국철도공사 강릉선 청량신호소 구내 KTX열차 탈선사고 - 80 - 환기 불일치 장애상태에서 청량신호소 출발신호기에 진행신호가 현시 된 것은 「철도시설의 기술기준」에 따라 연동장치가 안전측으로 검토 되지 않았고 철도사고 관련 위험원 중 선로전환기와 관련된 오류의 확 인 및 관리가 적정하게 이루어지지 않았다. 3.1.20 철도공단이 시행한 청량신호소 공종별 시험 결과에 ‘선로전환기 시험 결과’를 확인할 수 없었고 철도공단과 철도공사가 합동으로 시행한 청 량신호소 사전점검 점검표에 연동장치에 대한 ‘연동검사 결과확인, 연 동장치 설치 및 각부 동작의 적정성’ 항목은 점검하지 않은 것으로 확 인되었다. 3.1.21 철도공단은 강릉차량기지 공종별 시험을 시행한 후 설비의 기능에 이 상이 없으면 사전점검을 시행되어야 함에도 불구하고 공종별 시험 전 에 사전점검을 시행하여 「철도종합시험운행 시행지침」에서 정한 순 서를 뒤바뀌어 수행하였다. 3.1.22 철도공단은 강릉차량기지 신호분야 공종별 시험을 강릉차량기지 전체 신호설비와 청량신호소 관할 ‘궤도회로 3개소(XT, 21AT, 21BT), 선로 전환기 2틀(21A, 21B)’ 등을 포함하여 2일간(12시간24분) 시행하였고 모든 항목에 대해 ‘정상동작’ 합격으로 판정하였으나 청량신호소 연동 장치에 시험 기록이 없어 청량신호소 관할 궤도회로, 선로전환기 등에 대한 공종별 시험은 시행하지 않은 것으로 조사되었다. 3.1.23 철도공단은 강릉차량기지 신호분야 공종별 시험을 연동검사와 함께 시행하였고 공종별 시험결과 모든 신호설비에 대해 합격 판정한 것은 공종별 시험과 연동검사에 소요되는 시간 등을 고려하면 시험과 검사 는 적절하지 않게 시행된 것으로 조사되었다. 3.1.24 교통안전공단은 「원주∼강릉 복선철도 종합시험운행 사전점검 결 과」 검토를 2017년 6월 1일부터 6월 27일까지 18일간 시행하였고 점 결론 한국철도공사 강릉선 청량신호소 구내 KTX열차 탈선사고 - 81 - 검내용은 ‘분야별 시설물 시공(설치) 및 기능 확인, 사전점검 진행현황 확인, 분야별 공종별 시험 세부결과 검토 등’이었으며 ‘공종별시험 및 사전점검 결과, 종합시험운행 시행계획 등에 대한 적정성 검토를 위한 「철도시설의 기술기준」에의 적합여부 검토(2017. 7. 3～7.14)’를 서류 검토 6일, 현장검토 4일 등 총 10일간 시행하였다. 3.1.25 교통안전공단은 사전점검 검토 시 청량신호소 공종별 시험 결과 선 로전환기에 대한 공종별 시험 결과가 없는 것, 청량신호소 사전점검 결 과 사전점검표에 연동장치에 대한 ‘연동검사 결과확인, 연동장치 설치 및 각부 동작의 적정성’ 항목에 대해 점검하지 않은 것을 보완하도록 조치하지 않았다. 3.1.26 교통안전공단이 국토교통부에 보고한 [원주∼강릉 복선철도 「철도시 설의 기술기준」에의 적합여부 검토결과 보고(17.07.17.)] 확인 결과 ‘17. 열차제어시스템 및 중앙집중제어 기능이 안전하게 작동하는지 확인’ 항 목을 점검하고 청량신호소 1단계 연동검사의 ‘연동장치 1식, 선로전환 기 3틀, 궤도회로 4개소’에 대한 체크리스트가 없는 것을 보완하도록 조치하지 않았으며 ‘20. 공종별 시험 및 사전점검 결과의 적정성’ 항목 을 점검한 후 ‘공종별 시험과 사전점검 완료 확인’을 보완하도록 검토 하였으나 이후 보완사항에 대한 점검ㆍ확인은 없었다. 3.1.27 교통안전공단의 사전점검표에 연동장치 연동검사 결과확인 항목에 대한 기록이 없고 평창역에서 강릉역까지 8건(평창∼강릉 5건, 청량신 호소 3건)의 연동검사 중 2건(대관령신호장, 청량신호소 2단계)은 철도 공사 입회자 없이 시행된 연동도표가 공종별 시험결과에 제출된 것을 확인하지 못하였으며 청량신호소 관할 궤도회로 3개소(XT, 21AT, 21BT)와 선로전환기 2틀(21A호, 21B호)등이 강릉차량기지에 포함되어 시공 설치되고 있음에도 불구하고 강릉차량기지에 대한 사전점검 결과 검토가 없었으며 또한, 강릉차량기지 공종별 시험과 사전점검이 「철도 종합시험운행 시행지침」에서 정한 순서와 뒤바뀌어 시행된 것을 확인 결론 한국철도공사 강릉선 청량신호소 구내 KTX열차 탈선사고 - 82 - 하지 못하였다. 3.1.28 강릉선 개통 이후 청량신호소 선로전환기 21A/B호 고장기록은 점검 또는 작업과 관련하여 21A호 5건, 21B호 4건이며, 2018년 7월 13일 21A호 불일치 장애 1건이 있었으나 이번 사고와 관련은 없었다. 3.1.29 철도공사는 「신호제어설비 유지보수 세칙」에 선로전환기와 연동장 치, 전선로 등을 일상검사와 정밀검사로 구분하고 정밀검사는 세밀한 계획표에 따라 시행하도록 정하고 있으며 ‘연동검사’는 2년에 1회 이상 시행하도록 정하고 있으나 사고 당시 연동검사 주기가 도래하지 않아 연동검사는 시행하지 않았다. 3.1.30 철도공사 평창신호사업소는 ‘청량신호소 21A호, 21B호 선로전환기 동 작 전환시험 및 밀착쇄정 상태 확인’ 일상점검 시 점검과정에 강릉역 로컬관제원에게 전환시험 요청 시 21A호, 21B호를 각각 구분하지 않고 21호 선로전환기로 통칭하여 전환시험을 요청하였고 로컬관제원도 21A 호, 21B호를 구분하지 않고 ‘불일치 또는 양호’로 응답하여 21A호, 21B 호 표시정보가 반대로 표시되는 것을 확인할 수 없었던 것으로 조사되 었으며 이것은 쌍동선로전환기 표시회로 분리 후 유지보수 매뉴얼과 운전보안장치 취급 매뉴얼을 개정하지 않은 것과 유지보수자와 운전취 급자 교육이 없어 유지보수가 적절하지 않게 시행한 것으로 분석되었 다. 3.1.31 철도공사 평창신호사업소는 청량신호소 21A/B호 선로전환기 정밀검사 시행 시 세칙 제109조에서 정한 일상검사와 정밀검사를 구분하지 않았 고, 또한 청량신호소 연동장치에 대한 일상검사와 정밀검사를 구분하지 않았으며, 연동장치 분기 정밀점검 시 ‘신호기계실 분선반 단자류 배선 정비’ 항목을 점검하였으나 단자대의 21A호와 21B호 선로전환기 배선 이 반대로 연결되어 있는 것은 확인하지 못한 것으로 조사되었다. 결론 한국철도공사 강릉선 청량신호소 구내 KTX열차 탈선사고 - 83 - 3.1.32 철도공사 평창신호사업소는 청량신호소 전선로 정밀검사를 사고 이후 2018년 12월 26일에 검사주기 3일을 초과하여 시행하였다. 3.1.33 철도공사는 쌍동 선로전환기 표시회로 개선 이후 유지보수에 필요한 매뉴얼과 운전보안장치취급 매뉴얼을 개정하지 않았으며 유지보수 직 원과 운전취급자에 대한 교육을 시행하지 않았다. 3.1.34 철도공단의 「쌍동 선로전환기 표시회로 개선」 방침 내용 중 ‘21A호 정위 불일치 발생시 반대선 3B 신호기가 진행을 현시’하도록 쌍동 선로 전환기 표시회로를 개선한 것은 KR S-06040 「연동장치 쇄정 방법」 3.2 신호기와 선로전환기 간의 연쇄 항목 ‘ 진로 외의 선로전환기도 다 른 열차 또는 차량이 진입할 우려가 있는 선로전환기는 위험하지 않은 방향으로 신호기와 연쇄관계를 구성하여야 한다.’를 안전측으로 검토하 지 않았다. 3.1.35 철도공사와 철도공단이 「쌍동 선로전환기 표시회로 개선」을 열차 운행의 안전을 저해하게 추진한 것은「철도시설의 기술기준」제6절 철 도신호제어설비 제95조(일반기준)제4항 ‘운영 중인 철도신호제어설비를 변경 또는 신설하는 경우에는 철도안전에 영향을 주지 아니하여야 한 다.’를 반영하지 않았다. 3.1.36 철도공단의 「쌍동 선로전환기 표시회로 개선」 방침의 주 내용은 ‘쌍동 선로전환기 한쪽 고장 시 반대선은 정상 신호ㆍ진로를 구성시켜 열차를 정상 운행하겠다는 신호ㆍ진로 체계 또는 신호제어설비의 변경’ 이고 ‘표시회로 개선’은 일부분이며 개선 결과 A호와 B호의 결선이 서 로 바뀔 경우 평상시에는 정상 동작하는 것처럼 표시되고 고장시에는 반대로 표시되는 문제가 있었다. 3.1.37 철도공단은 「시공관리절차서」 붙임2. 연동검사 시행요령에 “표시회 로가 분리된 쌍동 이상의 선로전환기는 한쪽만 고장 시 다른 쪽 정상표 결론 한국철도공사 강릉선 청량신호소 구내 KTX열차 탈선사고 - 84 - 시 여부 확인”, 붙임3. 연동검사 체크리스트 선로전환기(단독전환 점검) 에 “표시회로분리” 항목을 추가하여 관련기준 개정(안)을 마련하였으나 개정(안)이 개정되지 않은 상태에서 표시회로 분리를 철도건설사업 설계 및 현장시공에 반영케 하여 적정한 시공관리 절차가 이루어지지 않았다. 3.1.38 청량신호소 21B호 선로전환기 불일치 장애원인은 선로전환기 전동기 내부의 콘덴서 고장에 의한 전동기의 전환력 부족으로 확인되었으며 이러한 장애가 탈선사고의 원인으로는 작용하지 않았다. 결론 한국철도공사 강릉선 청량신호소 구내 KTX열차 탈선사고 - 85 - 3.2 사고원인(Causes) 이번 한국철도공사 강릉선 청량신호소 구내 KTX열차 탈선사고의 주 원인은 ‘청량신호소 21B호 선로전환기 첨단부가 서울방향으로 밀착되지 못하 고 벌어진 장애 상태에서 청량신호소 출발신호기에 정지신호가 현시되어야 함에도 불구하고 진행신호가 현시되도록 신호기계실내 분선반 단자대의 21A 호, 21B호 선로전환기 배선을 반대로 시공한 것’으로 결정하였다. 또한 이번 사고의 기여요인은 ‘청량신호소 및 강릉차량기지 연동검사 과정 에서 21A호, 21B호 선로전환기가 반대로 표시되는 것을 확인하지 못한 것, 청량신호소 21A호, 21B호 선로전환기를 설계변경하고 설치․시공ㆍ감리 과 정에 변경내용을 정확하게 반영하지 못한 것, 쌍동 선로전환기 표시회로를 분리하도록 변경하고 유지 보수 교육을 시행하지 않고 유지보수 매뉴얼을 개정하지 않아 유지보수를 적절하게 시행하지 못한 것, 종합시험운행 사전점 검 결과 검토가 미흡하게 시행된 것’으로 결정하였다. 안전권고 한국철도공사 강릉선 청량신호소 구내 KTX열차 탈선사고 - 86 - 4. 안전권고(Safety Recommendations) 항공․철도사고조사위원회는 항공․철도사고조사에 관한 법률 제26조(안 전권고 등)에 따라 2018년 12월 8일 한국철도공사 강릉선 청량신호소 구내 에서 발생한 KTX 탈선사고에 대하여 한국철도시설공단과 한국철도공사에 ‘강릉선 전반에 대한 신호계전기실과 현장 신호설비 결선과 관련하여 전자연 동장치 도면과 설치 도면과의 일치상태 및 정상작동 여부에 대한 합동점검 실시’토록 긴급권고(2018.12.10.)하여 ‘이상없음’을 확인(2018.12.21.)하였고 다 음과 같이 권고한다. 4.1 한국철도시설공단에 대하여 4.1.1 다음 사항에 대해 「시공관리절차서」를 개정하여 시행할 것 - 청량신호소 관내 신호설비가 강릉차량기지에서 공사를 시행하는 경우 와 같이 설비관내와 시행처가 다른 경우 신호설비 설치 및 시공, 연동검 사, 종합시험운행 등 그 업무 범위에 대하여 명확하게 정할 것 - 설계도면 변경 시 공사관리관, 감리원, 작업감독자, 작업책임자, 작업 자 등에게 변경내용이 체계적으로 전달되고 기록유지가 되도록 정할 것 4.1.2 「철도신호 연동검사 관리」 프로세스에 따라 연동도표를 승인받고 「철도신호 연동검사 관리」에 연동검사 검사 항목별로 체크리스트를 세분화하도록 개정하고 체크리스트에 따라 연동검사를 시행할 것 4.1.3 「철도신호 연동검사 관리」6.15. ‘기록’ 항목에 연동검사에 참여한 책임 검사자, 감리단장, 관계역장 및 운영부서장 외 신호설비 제작사 및 시 공사 작업책임자를 포함하여 서명 날인하도록 개정할 것 4.1.4 연동검사 후 연동장치 로그 기록을 보관하도록 「철도신호 연동검사 관리」를 개정하고, 연동검사 과정에 특이사항이나 변경내용에 대하여 연동도표 또는 별지에 기록하여 관계자 모두에게 알려줄 것 안전권고 한국철도공사 강릉선 청량신호소 구내 KTX열차 탈선사고 - 87 - 4.1.5 공종별 시험과 사전점검은 「철도종합시험운행 시행지침」에 정한 순 서에 따라 시행하고 사전점검 전 철도공단과 철도공사가 합동으로 연동 검사를 시행하도록 「시공관리절차서」를 개정할 것 4.1.6 신호시스템 변경 시 「철도시설의 기술기준」제6절(철도신호제어설비) 과 「KR S-06040(연동장치 쇄정 방법)」항목 등을 반영하여 열차의 안 전 운행이 우선하도록 내부절차 마련 등 재발방지 대책을 수립하고 시 스템 개선 시 방침서 개정(안)이 개정된 이후에 철도건설사업 설계 및 현장시공에 반영 할 것 4.1.7 「쌍동 선로전환기 표시회로 개선」 방침에 따라 개선 된 쌍동 선로전 환기는 철도공사와 협의하여 진로구성 및 신호현시방법을 차량의 임의 구름 등 이례적인 상황에서도 안전측으로 동작하도록 「철도설계지침 및 편람(신호편)」을 개정하여 보완할 것 4.1.8 표시회로가 분리된 선로전환기는 「철도설계지침」을 개정하여 사용자 및 유지보수자 등이 일반 선로전환기와 구분하여 알 수 있도록 선로전 환기 외함에 표기할 것.(예: 21AD, 21BD) 4.1.9 감리단에서 설계도면 변경 후 작업 관계자에게 명확하게 알리는지, 작 업자가 설계도면에 따라 작업을 정확하게 시행하는지 확인 등의 감리 업무가 정확하게 수행되는지 관리ㆍ감독을 철저히 할 것 4.2 한국철도공사에 대하여 4.2.1 「신호제어설비 유지보수 세칙」 제109조에서 정한 일상검사와 정밀검 사에 대해 명확히 구분할 수 있도록 세칙을 개정하고 신호제어설비 점 검시 유지보수자가 적용할 수 있도록 할 것 4.2.2 「쌍동 선로전환기 표시회로 개선」 방침에 따라 개선 된 쌍동 선로전 안전권고 한국철도공사 강릉선 청량신호소 구내 KTX열차 탈선사고 - 88 - 환기는 철도공단이 「철도설계지침 및 편람(신호편)」을 개정하면 진로 구성 및 신호현시방법을 차량의 임의 구름 등 이례적인 상황에서도 안 전측으로 동작하도록 개선된 기존 설비를 보완할 것 4.2.3 표시회로가 분리된 쌍동 선로전환기에 대한 ‘유지보수 매뉴얼’과 ‘운전 보안장치 취급 매뉴얼’을 개정하고 점검방법, 운전취급방법 등에 대해 관계자 교육을 철저히 시행 할 것 4.2.4 연동검사 시 체크리스트에 따라 검사를 시행하고 연동검사 후 연동장 치 로그 기록을 보관하도록 「신호제어설비 유지보수 세칙」을 개정하 고 연동검사 과정에 특이사항이나 변경내용에 대하여 연동도표 또는 별지에 기록하여 관계자 모두에게 알려줄 것 4.2.5 표시회로가 분리된 선로전환기는 「유지보수 매뉴얼」을 개정하여 사 용자 및 유지보수자 등이 일반 선로전환기와 구분하여 알 수 있도록 선로전환기 외함에 표기할 것.(예: 21AD, 21BD) 4.3 교통안전공단 대하여 4.3.1 종합시험운행 사전점검 결과 검토 시 공종별 시험 결과, 사전점검 결과 등의 확인ㆍ검토 절차를 철도공단 및 철도공사와 협의하여 마련하고 사전점검 결과 검토가 정확하게 이루어지도록 할 것 4.3.2 종합시험운행 단계별 적합성 검토 시 각 항목의 적정성을 정확하게 확 인할 수 있도록 업무매뉴얼과 체크리스트를 작성하여 활용할 것 　이 보고서는 사고조사 과정에서 관계인들로부터 청취한 진술 및 개인정보 등이 포함되어 있어, 　『항공․철도사고조사에 관한 법률』제28조(정보의 공개금지) 및 같은 법 시행령 제8조(공개를 금지할 수 있는 정보의 범위)에 의하여 이 보고서(인쇄본)에 개인정보는 공개하지 않았으며, 국민여러분의 이해를 돕기 위해 전문 철도용어를 쉽게 풀어서 쓴 점을 양해하여 주시기 바랍니다. 자세한 사항은 항공․철도사고조사위원회로 문의하여 주시기 바랍니다. 항공․철도사고조사위원회 http://www .araib.go.kr 전화 : 044-201-5427 E-mail: araib@korea.kr\n",
            " 보고서번호: ARAIB/R 2020 -6 철도사고 조사보고서 한국철도공사 경부선(밀양역 구내, 서울기점 383.622km) 제1001 ITX 새마을열차(6량 1편성) 사상사고 2019년 10월 22일(화) 10시 16분경 항공･철도사고조사위원회 2020. . . 이 조사보고서는 「항공․철도사고조사에 관한 법 률」제2조(정의)에 의거 사고조사가 이루어졌으며, 제 25조(사고조사보고서의 작성 등)에 따라 작성되었다. 같은 법률 제1조(목적)에서 ‘철도사고 조사는 독립적이고 공정한 조사를 통하여 사고 원인을 정확하게 규명함으로써 철 도사고의 예방과 안전 확보에 이바지함’을 목적으로 하고 있다. 또한, 제30조(다른 절차와의 분리)에 따라 ‘사고조사는 민․형사상 책임과 관련된 사법절차, 행정처분절차 또는 행정쟁송절차와 분리․수행’되어야 하고, 제32조(불이익의 금지)에서 ‘위원회에 진술․증언․자료 등의 제출 또는 답변을 한 사람은 이를 이유로 해고․전 보․징계․부당한 대우 또는 그 밖에 신분이나 처우와 관련하여 불이익을 받지 아니한다.’라고 규정하고 있다. 그러므로 이 조사보고서는 철도분야의 안전을 증진시 킬 목적 이외의 용도로 사용되어서는 아니 된다. 차례 한국철도공사 경부선 밀양역구내 사상사고 조사보고서 - i - 차 례 제목 1 개요 2 1. 사실정보 3 1.1 사고의 경위 3 1.2. 피해사항 4 1.3 인적정보 및 업무수행사항 5 1.4 운전정보 11 1.5 선로정보 18 1.6 차량정보 19 1.7 선로보수작업 정보 21 1.8 신호 및 전기정보 28 1.9 기상정보 30 2. 분석 32 2.1 업무수행사항 32 2.2 녹취록 및 CCTV 영상 36 2.3 선로보수작업 적정성 36 2.4 통신방법 적정성 42 2.5 종합분석 44 3. 결론 46 3.1 조사결과 46 3.2 사고원인 51 4. 안전권고 52 4.1 한국철도공사에 대하여 52 제목 한국철도공사 경부선 밀양역구내 사상사고 조사보고서 - 1 - 한국철도공사 경부선 밀양역구내 사상사고  운영기관: 한국철도공사  운행노선: 경부선  발생장소: 밀양역 구내(서울기점 383.622km 지점)  사고열차: 제1001 ITX 새마을열차 (서울06:16→부산10:58) [6량 1편성]  사고유형: 사상사고(직원)  발생일시: 2019년10월22일(화) 10시16분경 [그림1] 사고현장 개요 열차감시원 위치 (밀양강교) 382.760㎞부근) 작업개소 (사고 지점) (383.610㎞부근) 서울쪽 ⇧ ⇩ 부산쪽 밀양역 개요 한국철도공사 경부선 밀양역구내 사상사고 조사보고서 - 2 - 개요(Synopsis) 2019년 10월 22일 서울역을 출발(06:16)하여 부산역(10:58)으로 운행하던 제 1001 ITX 새마을열차가 10:16경 경부선 하선 밀양역 구내 진입 중 서울기점 383.622km 지점에서 작업 중이던 선로보수 작업원을 약 42m 전방에서 발견 하고 기적과 비상제동을 동시 취급하였으나 제동거리가 미치지 못하여 직원 교통사상사고가 발생되었다. 이번 사고로 사망1명, 중상2명의 인명피해가 발생되었으며, 물적 피해는 없었고 운행에 지장을 받은 5개 열차(11분～26분 지연)가 있었다. 이에 항공․철도사고조사위원회는 항공․철도사고조사에 관한 법률 제2 조 및 제18조에 따라 사고조사를 실시하였다. 이번 사고의 주원인을 ‘사고열차가 작업구간 접근 시 열차감시원이 “열 차접근”을 통보하였으나 핸드타이탬퍼를 사용한 작업소음으로 무전기휴 대 작업원이 이를 수신하지 못하여 작업원들이 미리 대피하지 못한 것 과 취약한 작업환경에서 작업원에 대한 안전조치가 미흡했던 것’으로 결정 하였다. 또한 이번 사고의 기여요인은 ‘위험요인이 많은 작업임에도 별도의 작업원 안전대책이 미흡한 상태에서 상례작업을 시행한 것, 취약한 작업환경에 대 하여 열차감시원을 추가 배치하지 않은 것, 열차감시원이 열차접근을 통보 한 후 무전기휴대 작업원의 수신응답을 듣지 못한 것을 열차소음 때문이라고 생각1)하고 후속 안전조치를 하지 않은 것, 작업 시 무전기휴대 작업원은 “열차접근” 통보에 집중하지 않고 작업에 참여한 것’으로 결정하였다. 따라서 한국철도공사에 8건의 안전권고를 발행한다. 1) 열차감시원은 무전기휴대 작업원에게 열차접근을 알려준 후 응답이 없으면 재차 확인하 거나 사고열차 기관사에게 알리는 등의 후속조치가 필요하였으나, 열차감시원은 무전기 휴대 작업원의 응답이 없었던 것을 본인이 듣지 못한 것으로 생각함. 사실정보 한국철도공사 경부선 밀양역구내 사상사고 조사보고서 - 3 - 1. 사실정보(Factual Information) 1.1 사고의 경위 2019년10월22일 6:16분에 경부선 서울역을 출발하여 부산역으로 운행하던 제1001 ITX 새마을열차(이하‘사고열차’라 한다)가 밀양역 구내 진입 중 서울 기점383.550km∼384.660km 구간에서 상례로 면줄맞춤 작업을 시행하던 밀 양시설관리반(이하 ‘밀양시설반’이라 한다) 작업원을 발견하고 비상제동 취급 하였으나 제동거리가 미치지 못하여 10:16경 선로 가운데에서 작업하던 1명, 우측에서 작업하던 2명의 작업원과 부딪히는 사고로 3명의 사상자가 발생하 였다. 작업환경은 곡선반경이 600m 좌곡선의 완화곡선 종점 부근이여서 열차를 확인할 수 있는 거리가 약 100m 정도였고, 작업원들은 [그림2]와 같은 위치 에서 삽, 비터 등 수공구와 작업 시 소음이 심한 핸드타이탬퍼2) 1대, 유압잭 1대로 작업하였다. 열차감시원은 작업개소 869m 전방에서 열차의 접근이 확인되면 휴대용 무 선전화기(이하 ‘휴대용 무전기’라 한다)를 사용하여 작업원에게 “열차접근”이 라고 알려주어 열차를 피하도록 하였다. 그러나 소음이 심한 작업공간에서 작업원 모두가 작업에 열중하였고, 휴대 용 무전기를 가지고 있던 작업원은 열차의 접근 상황을 감시하며 열차감시 원과 무선교신에 집중하여야 하나 큰 소음이 발생하는 작업에 참여하면서 열차감시원의 ‘열차접근’ 통보를 듣지 못하였고 근접하는 열차를 확인하지 못하여 이번 사고가 발생되었다. 2) 핸드타이탬퍼 : 동력을 이용해 인력으로 작동하는 철도선로의 도상다짐을 하는 장비 사실정보 한국철도공사 경부선 밀양역구내 사상사고 조사보고서 - 4 - 서울기점 382.753km 383.510km 383.622km382.859km 작업원1 사망 작업원2 부상 작업원3 부상 작업원4 무전기휴대 곡선반경 600m 제1001 ITX-새마을 밀양강교량 (연장 592m) 선로작업표 하행 장내 작업원5 열차감시원 서울쪽(상선) 부산쪽(하선) 작업현장 서울기점383.622km 밀양역 구내 383.550~384.660km 면맞춤, 줄맞춤 106m 651m 112m 확인거리작업표 위치감시원 위치 하1 폐색 [그림2] 사고당시 현장 약도 1.2. 피해사항 1.2.1 인명피해 이 사고로 사망1명, 중상2명의 인명피해가 발생하였다. 이들은 밀양시설반 소속으로 사망자 ㅇㅇㅇ(남, 48세, 시설관리원, 토목4급)는 현장 사망하였고, 부상자 ㅇㅇㅇ(남, 30세, 시설관리원, 토목5급)는 척추 골절의 중상을 당했으 며, 부상자 ㅇㅇㅇ(남, 31세, 시설관리장, 토목5급)은 얼굴뼈 골절(함몰) 및 왼 팔 골절 등의 인명피해가 있었다. 1.2.2 물적피해 이번 사고로 물적피해는 없었고 운행에 지장을 받은 5개 열차(11분～26분 지연)가 있었다. 사실정보 한국철도공사 경부선 밀양역구내 사상사고 조사보고서 - 5 - 1.3 인적정보 및 업무수행사항 1.3.1 사고열차 기관사 사고열차 기관사 ㅇㅇㅇ(남, 47세)는 1991년 7월 1일 (구)철도청 경주보선사 무소에 보선원으로 신규 임용된 후, 1997년 8월 11일 대구기관차승무사업소 기 관조사로 발령 받았으며, 2015년 11월 29일 기관사로 임용되어 사고당시까지 운전업무에 종사하고 있었다. 사고열차 기관사는 철도안전법 제 10조에 의한 철도차량 운전면허(2006년 7월 디젤차량 운전면허, 제1종 전기차량 운전면허, 2018년 4월 제2종 전기차량 운전면허)를 취득하여 자격을 갖추고 있었다. 사고당일 사고열차 기관사의 승무사업은 사고열차(서울06:16→부산10:58)인 제1001호 열차(10편성현차 6량환산7.7량 기관사 1인 승무)를 동대구역에서 인계받아 부산역까지 운행하는 사업이었으며, 승무 적합성검사 결과는 양호하 였고, 음주측정 결과도 이상이 없었다. 사고열차 기관사는 대구기관차승무사업소에 출근하여 출력한 승무일지와 열 람한 열차운행 관련 정보사항 중 가청역∼경산역간 서행 80Km/h, 삼랑진역∼ 원동역간 서행 80Km/h를 기억하고 있었으며 “선로작업과 관련된 운전명령 등의 특별한 사항은 없었다.”고 하였다. 사고열차 기관사는 “사고 당일 경부선 밀양역 진입 전에 밀양역구내에서 시 행되고 있던 작업에 관한 내용을 사전에 통보받은 사실이 없었으며, 밀양역 접 근 시 밀양강 교량위에 사람이 있어 기적을 울렸고, 선로작업표지 확인 후 재 차 기적을 울렸으며, 밀양역 중계신호기와 장내신호기에 대한 지적확인과 전 도 주시를 하며 제동을 2단 정도 체결한 상태로 진입하다가 약 50m 전방에서 작업원들을 발견하고 기적취급과 동시 비상제동을 취급하였으며, 당시 속도는 약 93Km/h 정도로 생각하며 정차역이어서 감속을 한 상태로 운행하였다.”고 사실정보 한국철도공사 경부선 밀양역구내 사상사고 조사보고서 - 6 - 진술하였다. 사고열차 기관사가 밀양역 작업원들을 발견한 구간은 “R600 좌 곡선으로 수 목(樹木)이 있었고, 작업원들을 발견할 당시 3명으로 기억하며 1명은 선로 중 앙에 등쪽을 보이고 있었으며, 2명은 각각 좌우에 있었던 것으로 기억하며 선 로 자체가 곡선이고 수목이 있어 시야가 좋지 않았고, 열차가 작업원들과 충돌 하기 전에 작업원이 선로 중앙에서 등쪽을 보인 것으로 봐서 열차의 접근을 인 지하지 못했다고 생각한다.”고 진술하였다. 사고열차 기관사는 작업원들과 부딪힌 후 열차무선전화로 119와 경찰에 신 고해 줄 것을 밀양역에 요청하였고 여객전무에게도 사상사고 발생을 통보하였 다. 1.3.2 밀양역 로컬관제원 사고당일 근무자인 밀양역 로컬관제원 ㅇㅇㅇ(남, 42세, 이하‘로컬관제원’이 라 한다)은 2002년 4월 22일(구)철도청 밀양역에 최초 임용되어 삼랑진역부산 역진영역한림정역에 근무하다가 2015년 로컬관제원 교육을 받고 적성검사 신체검사에 합격하여 로컬관제원 자격을 갖춘 후 2016년 7월 진영역, 2018년 9 월부터 밀양역 로컬관제원으로 사고당시까지 근무하고 있었다. 로컬관제원은 3조2교대 근무로 사고당일 1명이 휴가(지정 휴무)를 사용하여 혼자 근무하였고, 열차 운전취급작업협의차단협의밀양역과 미전신호소의 조 작반 감시승객안전 안내방송 등의 업무를 수행하였다. 로컬관제원은 사고당일 08:52경 로컬관제실(운전취급실)에서 시설관리원(운 행안전협의담당자)과 09:30분부터 17:30분까지 밀양역 구내 서울기점 383.550 Km∼384.660Km 구간에서 시행하는 면줄맞춤 작업에 대하여, 열차감시원 배 치 유무작업내용작업시각 등에 관한 철도운행안전협의를 하였고, 철도운행안 전협의 시 평소와 다르거나 특이한 사항은 없었으며 “로컬관제원 혼자(1명) 근 사실정보 한국철도공사 경부선 밀양역구내 사상사고 조사보고서 - 7 - 무하니 안전하게 작업을 해 달라고 요청했다.”고 하였다. 사고당일의 작업은 상례작업3) 이었으며 “상례작업은 열차를 운행하면서 시 행하는 작업이고 차단작업은 야간에 열차가 없을 때 시행한다.”고 설명하였으 며, “상례작업 시에는 운행열차에 대해 작업상황을 통보하는 절차나 지침은 없 지만 당일 하행열차 3개에 대하여 열차감시원에게 통보했다.”고 하였다. 로컬관제원은 사고열차 접근 시 작업현장에서 열차감시원과 작업원간에 무 전기를 통하여 “사고열차가 밀양역 접근 시 열차감시원이 무전기로 ‘열차접근’ 이라고 하는 소리를 2회 들었으나, 작업원들이 이에 대해 응답하는 소리는 듣 지 못했다.”고 하였다. 로컬관제원과 작업현장 간 통신 기능시험은 “작업승인을 받는 경우가 통신 상태를 상태를 확인하는 과정이라 별도의 통신 기능시험은 하지 않았으며, 무 전기로 통화가 안 될 경우는 휴대전화를 사용하여 통화를 한다.”고 하였다. 로컬관제원은 “사고열차 기관사로부터 사고발생 사실을 열차무선전화로 통 보를 받고 사고가 발생한 것을 알았으며, 기관사가 119와 경찰 출동을 요청함 에 따라 로컬관제실(운전취급실) 옆에 있는 역무실에 ‘사상사고 발생‘이라고 큰 소리로 통보하고 구로교통관제센터(이하‘관제센터’라 한다) 관제사에게 보고하 였다.”고 하였다. 이어 로컬관제원은 “상선 열차를 열차무선전화로 호출하여 기외(신호기 외 방)에 정차시켰으며, 하선 후속 열차에 대해서도 역 외방에 정차시켜 줄 것을 관제센터에 요청 하였다.”고 진술하였다. 1.3.3 열차감시원(선임시설관리장) 3) 상례작업 : 철도보호지구 작업 중 차단작업과 열차 사이 차단작업 외에 운전명령 발령 없이 역장(기지 신호취급자를 포함한다)의 승인에 따라 시행하는 작업으로 철도차량 운행 에 지장이 없는 작업을 말한다. 사실정보 한국철도공사 경부선 밀양역구내 사상사고 조사보고서 - 8 - 열차감시 업무를 수행하던 선임시설관리장 ㅇㅇㅇ(42세, 남, 이하 ‘열차감 시원’이라 한다)은 2002년 2월 철도청(구) 마산시설관리사무소 군북분소 남문 산시설반 보선원으로 최초 임용되었으며, 2019년 7월29일 밀양시설반 선임시 설관리장으로 등용되어 사고당시까지 근무하고 있었다. 사고당일 열차감시원은 선로작업표지 설치와 열차감시 업무을 수행하였 다. 선로작업표지는 경부선 상동역∼밀양역 사이 서울기점 382.850km 부근 하선 좌측 전철주에 설치하였고, 열차감시는 선로작업표지 약 100m 전방의 교량위에 있으면서 작업원과 휴대용 무전기를 사용하여 ‘열차접근’을 알려주 는 임무를 수행하고 있었다. 사고당일 밀양시설반의 작업내용은 경부선 상동역∼밀양역 사이 서울기점 383.550km∼384.660km 구간에 대한 면줄맞춤 작업이었으며, 작업조건은 곡 선반경이 R=600m 완화곡선 종점이여서 열차의 접근을 확인할 수 있는 가시 거리가 40∼50m 정도라고 하였다. 열차감시원은 “사고열차 접근 시 작업원에게 휴대용 무전기를 사용하여 ‘열차접근’이라고 통보하였으나 작업원으로부터 확인하였다는 응답은 듣지 못하였고, 사고이전에 무전기 통화상태가 양호하여 자신이 교량 상에 위치하 고 있어서 사고열차 운행 소음으로 상대방 응답을 못 들은 것으로 생각하여 이에 따른 후속조치는 없었다.”고 진술하였다. “작업 출동 전에 선임시설관리장으로서 직원들에 대한 음주측정과 작업 방법 및 안전관련 교육을 시행하였으나 곡선으로 인한 투시불량과 기계의 엔진소음 등으로 위험요인이 상당이 큼에도 불구하고 작업에 필요한 인력이 부족하여 별다른 안전조치를 취하지 않았다.”고 진술하였다. 1.3.4 무전기휴대 작업원 휴대용 무전기를 가지고 있던 시설관리원 ㅇㅇㅇ(55세, 남, 이하 ‘무전기휴 사실정보 한국철도공사 경부선 밀양역구내 사상사고 조사보고서 - 9 - 대 작업원’이라 한다)은 2006년 10월 한국철도공사 구포시설관리사업소 사상 시설반에 계약직으로 입사 하였으며, 2015년부터 밀양시설반 시설관리원으로 사고당시까지 근무하고 있었다. 사고당일 무전기휴대 작업원은 “동료작업원 3명과 함께 사고개소에서 작 업을 시행하면서 열차감시원과 연락을 위하여 휴대용 무전기 1대를 어깨에 차고 있었다. 작업을 시작하여 사고 직전까지 무궁화호 열차 2대가 통과 하 였고, 당시의 무전기 통화상태는 좋았으며, 무궁화호 열차가 지나간 후 10여 분 시간이 있어 급박하게 작업에 임하느라 열차운행시간을 확인 할 틈이 없 었다.”고 진술하였다. 사고당일 “작업현장에서 무전기휴대 작업원과 사망자는 좌,우 레일 안쪽에 서 침목 하부의 자갈 긁어내기 작업을 하였고, 부상자 2명은 우측 레일 밖에 서 핸드타이탬퍼로 기계작업을 시행하고 있었다. 작업 중 본인(무전기휴대 작업원)이 삽을 가지러 선로 좌측 밖으로 이동(작업원과 13m 떨어짐)하던 중 ‘쿵’ 하는 소리와 함께 사고가 발생하였고, 사고열차가 올 때에는 기계의 소 음으로 인하여 열차감시원으로 부터 ‘열차접근’을 알리는 무전기 소리를 확 인하지 못하였다.”고 진술하였다. “사고현장은 곡선반경 R=600m 완화곡선 종점으로 열차를 확인할 수 있는 거리가 매우 짧았고, 분니4)가 심하여 자갈파기가 힘들었으며, 핸드타이탬퍼 의 작업소음 등 위험요인이 상당히 컸으나 별도의 안전조치가 없었다.”고 진 술하였다. 1.3.5 작업책임자 사고당일 선로유지보수작업 시 작업책임자는 시설관리장 ㅇㅇㅇ(31세, 남, 4) 분니(噴泥, pumping of track) : 철도선로에 있어서 노반토 또는 도상내의 혼입토사가 강우 또는 지하수에 의하여 반죽이 되어 열차가 통과할 때 도상의 탄성기능저하, 궤도침하, 침 목도상 등의 재료의 오손 및 부식촉진을 가져오며 건조기에는 도상의 응고현상을 일으 킴. 분니는 노반분니와 도상분니로 구분되며, 물주머니(진흙탕)로 용어 병행사용 사실정보 한국철도공사 경부선 밀양역구내 사상사고 조사보고서 - 10 - 이하 ‘작업책임자’라 한다)는 2014년 12월 한국철도공사 부산시설관리사업소 부산진시설반에 시설관리원으로 입사 하였으며, 2019년 1월부터 밀양시설반 시설관리장으로 사고당시까지 근무하고 있었다. 작업책임자는 “작업의 시작종료, 뒷정리 등 작업에 대하여 지휘를 하며 통상적으로 선임시설관리장이 지정하여 작업책임자의 임무를 수행하였다.”고 진술하였으며, 사고의 휴유증으로 사고당일부터 약 2주간의 기억이 없으나 나중에 다른 사람에게 전해 듣기에는 사고당일 휴대용 무전기는 본인이 가지고 가서 무 전기휴대 작업원에게 주었다고 하였다. 1.3.6 운행안전협의담당자 사고당일 선로유지보수작업을 위한 철도운행안전협의자 시설관리원 ㅇㅇ ㅇ(30세, 남, 이하 ‘운행안전협의담당자5)’라 한다)는 2015년 12월 한국철도공 사 대구지역본부 대구시설관리사업소 청도시설반에 시설관리원으로 입사 하 였으며, 2018년 5월부터 밀양시설반 시설관리원으로 근무하고 있었다. 운행안전협의담당자는 “선로유지보수 작업에 대하여 역장(로컬관제원)과 철도운행안전협의서에 의하여 작업일시, 시간, 장소, 내용, 작업원, 열차감시 원 배치 등에 관련하여 협의한다.”고 진술하였다. 운행안전협의담당자는 2018년 8월경 운행안전협의담당자 교육을 이수하여 철도운행안전협의 자격을 갖추고 있었다. “사고당일 작업 전 정상적인 절차에 의하여 철도운행안전협의를 시행한 후 작업을 시행하였고 선로변에서 작업원들과 대피하고 있을 때 로컬관제원 5) 한국철도공사 직원으로 열차운행선로지장작업 업무세칙 별표3의 자격을 갖추고, 지역본 부장이 발급한 ‘운행안전협의담당자증‘을 소지하며 ’철도운행안전관리자’의 업무를 수행하 는 자를 말한다. 사실정보 한국철도공사 경부선 밀양역구내 사상사고 조사보고서 - 11 - 이 사고열차의 운행상황을 통보한 것으로 기억되며, 사고열차 이전부터 핸드 타이탬퍼를 사용하여 작업을 하였다.”고 진술하였다. 1.4 운전정보 1.4.1 사고열차의 운행기록 사고열차의 열차운행기록장치는 [그림3]과 같이 표준시간보다 40초 느리게 기록되어 보정하였으며, 운행기록에 나타난 결과는 10:16:09경 비상제동 체결 전의 속도는 91Km/h (표1 참조)로서 허용속도인 110Km/h6)(열차운전세칙 별 표16, 곡선속도)를 초과하지 않았다. 비상제동 체결과 동시 기적을 울렸고, 비 상제동체결 후 2초 뒤에 10:16:11경 약 87Km/h 속도로 접촉하였으며, 10:16:31 경 비상제동체결 후 286m를 지나서 정차한 것으로 기록되어 있다. 표준시간 기록시간 표준시간 대비 40초 느림 [그림3] 열차운행기록장치 표준시간 보정 시간 (기록-40초) 속도 (km/h) 거리 (m) 열차상태 비고 10:15:26 107 17,825 2호주 폐색신호기 ATS 지상자 통과 10:15:45 104 18,356 1호주 폐색신호기 ATS 지상자 통과 10:16:06 94 18,938 장내신호기 ATS 지상자 통과 10:16:09 91 19,015 제동3단 ⇒비상제동체결, 기적취급(4초) 비상제동 체결 후 286m 이동 10:16:11 87 19,064 작업원 접촉(추정) 접촉 후 20초뒤 정차 10:16:31 0 19,301 열차 정차 6) 한국철도공사 열차운전세칙 별표16, 곡선속도: 경부 제1본선 고속열차 외 기타 열차의 곡 선반경 600R 제한속도는 110Km/h 이하. 사실정보 한국철도공사 경부선 밀양역구내 사상사고 조사보고서 - 12 - 비상제동 체결 기적 취급 열차 정차 [표1] 사고열차 운행데이터 1.4.2 사고현장 거리측정 사고열차와 작업원이 접촉한 지점을 기준(0)으로 하여 열차에서 작업원이 보 이는 거리 등을 확인하기 위하여 한국철도공사의 선로차단작업 협조를 받아 사고당일의 열차감시원 배치지점선로작업표지 설치지점작업원이 보이는 위 치의 거리와 열차가 비상제동취급 후 작업원과 접촉하고 지나서 정차하기까지 측정한 거리는 아래와 같다. [그림4] ① 열차감시원 배치 위치 : 상동역 쪽으로 869m ② 선로작업표지 설치 위치 : 상동역 쪽으로 763m 사실정보 한국철도공사 경부선 밀양역구내 사상사고 조사보고서 - 13 - ③ 모터카에서 작업원 확인거리 : 상동역 쪽으로 112m ④ 기관사가 비상제동 취급 후 정차하기까지의 거리 : 286m ⑤ 열차가 작업원과 접촉 후 지나서 정차한 거리 : 밀양역 쪽으로 244m ⑥ 작업원 발견 후 비상제동 취급 위치 : 42m(286m-244m=42m) [그림4] 밀양역 사고현장 측정거리 약도 1.4.3 ITX-새마을호 차량 기적음 발생 및 데이터 기록 시험 사고당일 사고열차가 밀양역에 접근할 때 기적취급에 대한 기관사의 진술과 열차운행기록이 다른 점이 있어 기적취급에 관한 기관사 진술의 신뢰성을 확 인하고자 ITX-새마을호 차량의 기적음 발생 및 데이터기록 시험을 한국철도공 사의 관계자 입회하에 ’19.11.5일 10:00∼11:00, 서울차량사업소에서 ITX-새마을 10호 편성(211001호부산방향 운전실)을 대상으로 실시하였으며 그 결과는 다 음과 같다. ITX 새마을호 열차의 기적은 단계별로 울리며 1단계 취급 시는 전자기적 (관제기적管制汽笛, 따르릉, 따르릉)이며, 2단계 취급 시는 공기흐름에 의해 주 (主)기적(빵 ∼)이 울리도록 되어 있다. 시험결과에 의하면 1초 이상 전자기 적/주기적 취급 시에는 기적취급 시간만큼 기록이 되고, 1초미만의 전자기적 취급 시에는 5회 중 4회는 기적이 울렸으나 기적취급이 기록되지 않는 문제 점이 있었다. 시험한 결과를 정리하면 [표2]와 같다. 사실정보 한국철도공사 경부선 밀양역구내 사상사고 조사보고서 - 14 -  ITX 새마을호 열차의 기적은 아래와 같이 단계별로 작동 된다. 1단계 : 전자기적 (관제기적, “따르릉, 따르릉”) → 한 번 누르면 3초간 울림 2단계 : 공기에 의한 주(主) 기적 (“빵∼”) → 누르고 있는 시간만큼 울림  시험결과 1초 이상 전자기적/주(主)기적 취급 시 : 취급시간 만큼 데이터에 기록 1초 미만 전자기적 취급 시 : 5회 중 4회는 기록되지 않음 [표2] ITX-새마을호 차량 기적음 발생 및 데이터 기록시험 결과 1.4.4 열차무선 녹취록 [표3]과 같이 밀양역 로컬관제원과 열차감시원 및 무전기휴대 작업원간 무 전기 녹취록을 확인 한 결과 09:38경 무전기휴대 작업원은 로컬관제원을 호 출하여 09:40분부터 시행되는 작업의 승인(승인번호 3호)을 받았고, ‘상동역～ 밀양역간 하선 하5호주 신호기에 열차가 오면 통보해 줄 것’을 요청하였으며 로컬관제원은 수신했다고 응답하였다. 09:42경 열차감시원은 무전기휴대 작업원에게 “열차감시 정위치 했습니 다.”라고 통보하였고 무전기휴대 작업원도 수신했다고 응답하였다. 09:42경 제1355열차7) 운행 시 무전기휴대 작업원은 로컬관제원에게 “하선 에 열차 언제쯤 있습니까?”라고 문의하자 로컬관제원은 “09:53분 밀양 도착 있습니다.”라고 통보하였고 무전기휴대 작업원은 “네 53분 도착!”이라고 응 답하였다. 09:50경 로컬관제원은 “휴대 6238, 휴대 6238 하선 열차! 휴대 6238 하선 열차!”라고 통보하자 열차감시원은 “휴대 6238 하선 열차 접근 수신!”이라고 응답하였다. 09:51경 열차감시원은 “휴대 6238 하선 열차접근 밀양강교 북쪽 통과!”라 고 통보하였으나 무전기휴대 작업원은 응답이 없었다. 7) 제1355열차(무궁화, 대전→부산, 밀양역 09:53 도착) 사실정보 한국철도공사 경부선 밀양역구내 사상사고 조사보고서 - 15 - 09:52경 제1355열차 통과 후 무전기휴대 작업원은 로컬관제원에게 “후속열 차 언제쯤 있습니까?”라고 문의하자 로컬관제원은 “지금 청도 통과 중 이구 요. 10:06분 밀양 도착 예정입니다.”라고 통보하였고 무전기휴대 작업원은 “10:06분!”이라고 응답하였다. 10:04경 로컬관제원은 “휴대 6238, 휴대 6238 하선 열차!”라고 통보하자 열 차감시원은 “네 하선 열차 수신! 휴대 6238 하선 열차 접근!”이라고 응답 및 통보를 하자 무전기휴대 작업원은 “수신 이상!”이라고 응답하였다. 10:06경 제1903열차8) 통과 후 무전기휴대 작업원은 로컬관제원에게 “지금 들어온 열차 후속열차는 언제쯤 있습니까?”라고 문의하자 로컬관제원은 “지 금 청도 출발하고 있고요. 10:16분 밀양 도착 예정입니다.”라고 통보하였고 무전기휴대 작업원은 “예. 10:16분 도착 수신 이상!”이라고 응답하였다. 10:15:40경 로컬관제원이 사고열차 접근을 통보하지 않은 상태에서 열차감 시원이 “휴대 6238 하선 열차 접근”이라고 통보하였으나 무전기휴대 작업원 은 응답이 없었다. 약 1분 뒤 10:16경 무전기휴대 작업원은 “열차감시!”라고 소리치고 2초 뒤 기관사는 “1001전무님! 사상사고 비상정차 했습니다.”라고 교신하였다. 8) 제1903열차(무궁화, 동대구→마산, 밀양역 10:06 도착) 시 간 (보 정) 밀양역 로컬관제원 열차감시원 무전기휴대 작업원 비고 9:38:30 철도 밀양 휴대 6238 이상! 9:38:33 밀양입니다. 9:38:35 네 저희 40분부로 작 업 시작하겠습니다. 9:38:43 네 승인 드릴게요. 이고요, 밀양역 3 호입니다. 9:38:50 네 밀양 3호, 그리고 하선 상동에서, 상동～ 밀양간 하선 하5호주 오면 통보 좀 부탁드리 겠습니다. 9:38:57 하5호주 통보. 수신! 사실정보 한국철도공사 경부선 밀양역구내 사상사고 조사보고서 - 16 - 시 간 (보 정) 밀양역 로컬관제원 열차감시원 무전기휴대 작업원 비고 9:42:29 휴대 6238 열차감시자 입니다. 이상! 9:42:32 예. 6238 이상! 9:42:36 열차감시 정위치 했습니 다. 이상! 9:42:37 수신! 9:42:45 밀양 휴대 6238 이상! 9:42:47 밀양입니다. 9:42:49 하선에 열차 언제쯤 있습니까? 9:42:51 네, 잠시만요! 9:43:15 휴대 6238 밀양역 이상! 9:43:18 네 6238 이상! 9:43:19 09:53분 밀양도착 있습 니다. 9:43:22 네 53분 도착! 9:50:32 휴대 6238, 휴대 6238 하선 열차! 휴대 6238 하선 열차! 9:50:38 휴대 6238 하선 열차 접근 수신! 9:51:17 휴대 6238 하선 열차접 근 밀양강교 북쪽 통과! 9:52:52 철도 밀양 휴대 6238 이상! 9:52:55 밀양 이상! 9:52:57 예, 후속열차 언제쯤 있 습니까? 9:53:03 예. 지금 청도 통과 중 이구요. 10:06분 밀양 도착 예정입니다. 9:53:11 10:06분! 10:04:17 휴대 6238, 휴대 6238 하선 열차! 10:04:22 네 하선 열차 수신! 10:04:55 휴대 6238 하선 열차 접근! 10:05:00 수신 이상! 10:06:23 밀양 휴대 6238 이상! 10:06:26 밀양입니다. 10:06:27 지금 들어온 열차 후속 열차는 언제쯤 있습니 까? 10:06:30 지금 청도 출발하고 있고요. 10:16분 밀양 도착 예정입니다. 사고 열차 10:06:36 예. 10:16분 도착 수신 이상! 〃 10:15:40 휴대 6238 하선 열차 접근! 〃 10:16:36 열차감시! 사고후 사실정보 한국철도공사 경부선 밀양역구내 사상사고 조사보고서 - 17 - 1.4.5 CCTV 녹화 영상 확인 [그림5]와 같이 사고열차의 운전실에 설치된 CCTV 녹화 영상을 확인한 결 과 작업구간 전 밀양강교 중간부분에 서 있던 열차감시원이 확인되었고 밀 양강교 끝부분에 선로작업표지가 설치된 것이 확인되었다. 사고당시 작업원은 4명으로 확인되었고 선로 중앙에 1명(사망), 선로 우측 에 2명(부상), 선로 밖 좌측에 1명9)이 있었으며 선로 내 작업원 3명은 사고 순간까지 열차가 오는 것을 알지 못하고 작업에 열중하고 있었다. 9) 무전기휴대 작업원으로 무전 교신을 담당하고 있었고 선로 밖 삽을 가지러 이동하고 있 던 중 시 간 (보 정) 밀양역 로컬관제원 열차감시원 무전기휴대 작업원 비고 10:16:38 (기관사) 1001전무님! 사상사고 비상정차 했 습니다. [표3] 열차무선 녹취록 ① 열차감시원(밀양강교 중간부분) ② 선로작업표지(밀양강교 끝부분) 무전기휴대 작업원 작업원 3명 ③ 작업원(부딪히기 직전) ④ 작업원(부딪히는 순간) [그림5] CCTV 화면 사실정보 한국철도공사 경부선 밀양역구내 사상사고 조사보고서 - 18 - 1.5 선로정보 1.5.1 사고현장의 선로 경부선 상동역∼밀양역 간은 1905년 단선철도로 개통하여 운행하다가 1945년 3월 1일 상선과 하선을 구분하여 운행하는 복선철도로 개통되었다. 사고구간 은 경부선 상동역∼밀양역 간 하선 서울기점 383.622km 부근이며, 평면 선 형은 [그림6]과 같이 열차진행방향으로 곡선반경 600m의 좌 곡선이면서 부 산쪽(곡선 종점쪽) 완화곡선10) 부분으로 종단선형은 평탄한 선로구간이었다. 사고개소의 궤도구조는 60kg 장대레일에 자갈도상으로 콘크리트침목과 코 일스프링 클립 형식의 체결장치가 설치되어 있었다. 또한 사고구간 곡선의 서울쪽(곡선 시점쪽)에는 밀양강교량이 있으며, 이 교량은 상선과 하선이 각각 단선으로 분리되어 직선선로에 위치해 있는 판 형교량11)으로 하선 교량은 서울기점 382.254km에 위치하고 길이는 593m이 고, 상선 교량은 서울기점 382.011km에 위치하고 길이는 596m이다. [그림6] 사고현장의 선형 약도 10) 완화곡선(緩和曲線, transition curve) : 직선과 곡선의 접속점에 있어서 곡선의 반경은 무 한대로 부터 일정치로 급히 변화하므로 주행 차량에 큰 충격이나 동요를 주게 되는 데 이를 완화시키기 위하여 직선에서 원곡선의 반경까지 점차 변화해 가는 특수곡선을 삽입 하게 되는 데 이 특수곡선을 완화곡선이라고 함. 11) 판형교량 : 플레이트 거더(plate girder) 위에 교랑침목과 레일만 설치하고 도상자갈이 없 는 교량 사실정보 한국철도공사 경부선 밀양역구내 사상사고 조사보고서 - 19 - 1.5.2 사고구간 선로유지관리 현황 사고구간의 궤도검측차에 의한 점검은 한국철도시설공단 선로 유지관리 지침 제170조(궤도검측차 점검) 중 일반철도는 분기 1회에 해당하여 그에 따라 2019년 6월 27일 및 2019년 8월 27일에 시행한 것으로 확인되었다. 궤도검측 결과 사고지점은 유지보수기준을 초과하지는 않았으나 열차안전 운행에 지장을 주는 분니개소가 있었고, 2019년도 사고구간에 대한 선로유지 보수는 장대레일 재설정 1회 및 면ㆍ줄맞춤 작업을 4회, 레일교환 작업을 1 회 시행하였다. 1.6 차량정보 1.6.1 사고열차 편성 사고열차는 ITX 새마을(10편성)으로 [그림7]과 같이 6량(Tc+M’+M +T +M’+Tc)으로 조성되어 있었다. 열차 진행방향 ⇒ 211009호 211055호 211004호 211053호 211052호 211001호 [그림7] 사고열차 편성 1.6.2 사고열차 주요 제원 사고열차의 주요 제원은 [표4]와 같다. 구 분 주 요 제 원 차량형식 간선형 전기동차(ITX-새마을) 차량제작 현대로템(주) 차량도입 2014. 03. 21 일반 최고운행속도 (설계속도) 150Km/h(165Km/h) 감속도 상용 : 3Km/s 비상 : 4Km/s 편 성 3M3T 열차치수 편성 길이 143.7m 전두차(L×W×H) 24,860×3,150×3,750mm 중간차(L×W×H) 23,500×3,150×3,750mm 사실정보 한국철도공사 경부선 밀양역구내 사상사고 조사보고서 - 20 - 1.6.3 사고열차 검수 현황 사고열차는 2014년 03월 21일 차량도입 이후 사고 일까지 약 1,300,000km 를 운행하였고 [표5]과 같이 기본검수(ES) 및 주기검수를 실시하였다. 검사종류 검사일자 주요 검사항목(운전실) 기본검수(ES) 2019.10.22 - 전자경보기 발판동작상태 및 공기압이상 유무점검 - 전자기적, 공기기적(주기적) 취급상태 확인 - 멀티 부저 외관 및 동작상태 - 전조등 및 후미등 외관 및 LED 상태 주기 검수 GI-6 2019.07.20 - 전기기적 케이블 점검 - 컨버터 점검 및 커넥터 접속상태(전조등 및 후미등) - 전자경보기 발판동작상태 및 공기압 이상유무 점검 - 전자기적, 공기기적(주기적) 취급상태 확인 - 멀티부져 외관 및 동작상태 - 전조등 및 후미등 외관 및 LED 상태 LI-4 2019.03.15 2018.10.31 [표5] 사고열차 기본검수 및 주기검수 현황 차체 재질 (객차) 알루미늄 압출재 동 력 견인 동력 3,000KW(12대×250KW) 최대견인력 266KN 주요 장치 전차선전압 정 격 AC25KV, 60Hz 팬타그래프 동작방식 상승 공기 하강 자중 작동압력 5 ~ 8bar 견인전동기 유도전동기(3상 4극) 주전력소자 IGBT 제동장치 제어방식 전기지령 제동방식 회생제동병용 공기제동 제동거리(비상) 900m 이내 보안장치 신호시스템 ATP, ATS 열차방호장치 설치 객실화재감지장치 객실당 2개 대차 대차종류 구동대차 6대/편성 객차대차 6대/편성 고정축거 2,500mm 차체 설비 화 장 실 용 량 오물탱크 : 400L, 물 탱 크 : 400L 수 량 6개소(장애인용 1) 좌 석 376석(Tc : 58, M’ : 74, M : 62, T : 50) [표4] 사고열차 주요제원 사실정보 한국철도공사 경부선 밀양역구내 사상사고 조사보고서 - 21 - 1.6.4 사고열차의 기적장치 작동상태 사고열차 운전실에는 필요시 기적울림을 위한 발판(Foot Pedal)이 설치되 어 있고, 기적장치(전자기적/주기적) 작동상태는 사고 직전인 2019년 10월 22일 실시한 기본검수(ES)에서 정상으로 확인되었다. 1.7 선로보수작업 정보 밀양시설반의 담당구역은 경부선 서울기점 380.000km에서 389.000km까지 이고 6명이 반원으로 구성되어 선로유지보수 업무을 수행하고 있었다. 사고당일의 상례작업은 09:30분부터 17:30분까지 밀양역 구내 서울기점 383.550 Km∼384.660Km 구간에서 시행하는 면줄맞춤 작업으로 개인별 담 당업무는 [표6]과 같이 작업책임자는 시설관리장이 수행하였고, 운행안전협의 담당자는 자격이 있는 시설관리원 J가 로컬관제원과 작업시간 이전인 08:52경 철도운행안전협의를 시행한 것으로 확인되었으며, 관리감독자인 선임시설관리 장이 작업계획서에 따라 09시부터 09시20분까지 20분간 당일작업에 대한 안 전교육을 시행하였다. 소 속 직 위 성 명 업무내용 비 고 마산시설사업소 밀양시설반 선임 시설관리장 ㅇㅇㅇ 열차감시원 관리감독자 시설관리장 ㅇㅇㅇ 작업책임자 (핸드타이탬퍼 취급) 부상 시설관리원 ㅇㅇㅇ 운행안전협의담당자 면맞춤, 줄맞춤작업 (핸드타이탬퍼 취급) 부상 시설관리원 ㅇㅇㅇ 면맞춤, 줄맞춤작업 (유압잭 취급) 사망 시설관리원 ㅇㅇㅇ 무전기휴대 작업원 면맞춤, 줄맞춤작업 (도상자갈 보충) 시설관리원 ㅇㅇㅇ 모터카 운행지원 출장 [표6] 밀양시설반 현원 및 사고당일 작업원별 임무 사실정보 한국철도공사 경부선 밀양역구내 사상사고 조사보고서 - 22 - 1.7.1 작업 위험성 평가 [표7]과 같이 마산시설사업소 삼랑진 시섵팀의 ‘면맞춤, 줄맞춤 작업’에 대 한 2019년도 위험성평가표 를 살펴본 결과 유해 위험요인 및 재해형태로는 ‘급곡선부, 교량, 터널, 도로인접구간 작업 시 시야확보 불량, 대피공간 부족, 차량 소음 등으로 열차접촉의 우려가 있다.’라고 정해져 있고, 현재 안전조치 사항으로 ‘대피장소 사전 확인 및 열차감시원 배치’토록 되어 있었으며, 현재 위험성이 8(빈도2×강도4)로 평가되어 감소대책은 없었다. 분류번호 삼랑진시설-A-17 위 험 성 평 가 표 소속명 삼랑진 시설팀 평가대상 공정명 궤도보수 및 교환(A) 작성일시 2019.04.04 단위 작업 내용 유해 위험요인 및 재해형태 현재안전조치 현재위험성 감소 대책빈도 강도 위험 성 면맞춤, 줄맞춤 작업 급곡선부, 교량, 터널, 도로인접구간 작업 시 시야확보불량, 대피공간부족, 차량 소 음등으로 열차접촉의 우려가 있다. 대피장소 사전 확인 및 열차 감시원 배치 2 4 8 - [표7] 위험성평가표 일부 발췌 1.7.2 철도운행안전협의서 [표8]와 같이 운행안전협의담당자와 로컬관제원간 시행한 철도운행안전협 의서를 확인한 결과 협의일시는 2019년 10월 22일 08:52경 이었고 작업협의 내용은 ‘작업명령은 상례작업, 작업시간은 당일 09:30~17:30, 작업장소는 서 울기점 383.550～384.660km, 사유 및 시행사항은 면줄 맞춤 작업’이였다. [표8] 밀양역 철도운행안전협의서 일부 발췌 사실정보 한국철도공사 경부선 밀양역구내 사상사고 조사보고서 - 23 - 1.7.3 작업계획서 [표9]와 같이 작업계획서를 확인 한 결과 관리감독자(선임시설관리장)가 밀 양시설반에서 작업책임자, 시설관리원을 대상으로 ‘면맞춤(100m), 줄맞춤 (50m) 작업’에 대한 교육을 20분간(09:00～09:20) 시행하였다. 작업의 위험등급은 ‘C 등급’이고 작업순서는 ‘①관계역 운전협의 ②작업원 안전교육 ③작업계획서 작성 및 개인임무 부여 ④선로작업표지 건식 및 열 차감시원 배치 ⑤준비작업 및 본작업, 뒷정리 ⑥작업종료 후 이상유무 확인’ 이였으며 작업방법은 작업순서에 따라 정하고 있었다. [표9]의 점선부분과 같이 위험요인에 대한 안전조치방법 중 ‘열차감시자 임무 및 임시신호기 설치 시 위험요인’란의 위험요인 ‘3. 작업표가 작업장소 와 가깝게 설치되거나 곡선부 등 시야가 확보되지 않는 곳에는 기관사가 대 응할 시간이 부족하다’에 대한 안전조치 방법은 ‘작업표 정위치에 건식 및 작업 상황에 맞게 열차감시자 추가 배치 할 것’으로 정하고 있고 휴대품(무 전기, 호루라기, 수신호기, 확성기, 열차시각표)은 반드시 소지하도록 정하고 있었다. [표9] 사고 당일의 밀양시설반 작업계획서 일부 사실정보 한국철도공사 경부선 밀양역구내 사상사고 조사보고서 - 24 - 1.7.4 운전시행전달부 [표10]과 같이 선로일시사용중지 및 각 열차 사이 차단작업 등을 사고열차 기관사에게 알리는 대구기관사승무사업소의 ‘운전시행전달부’를 확인한 결과 사고구간에 선로차단작업이 없어 기관사에게 당일의 상례작업은 전달되지 않은 것으로 확인되었다. [표10] 사고구간 운전시행전달부 일부 1.7.5 열차감시원 배치 열차감시원은 열차운행 선로 상에서 작업을 위하여 일정구간 전방에 위치 하여 열차접근을 작업원들에게 알려 열차가 작업구간에 다다르기 전에 미리 대피하기 위한 목적으로 배치되는 인력으로 사고당시 열차감시원은 사고개 소인 서울기점 383.622km로 부터 열차진행 방향의 마주보는 방향의 전방 869m 떨어진 지점인 서울기점 382.753km 부근에서 열차감시업무를 수행한 것을 사고열차 기관사의 진술과 사고열차의 CCTV 녹화기록을 통해 확인하 였고, 또한 사고당시 작업구간은 열차확인이 불량한 개소임에도 열차감시원 1명 만 배치되어 휴대용 무전기를 사용하여 열차접근을 작업원에 알려 주었다. 사실정보 한국철도공사 경부선 밀양역구내 사상사고 조사보고서 - 25 - 1.7.6 선로작업표지 설치 선로작업표지는 선로 변에 설치하여 운행선로의 전방에 선로유지보수 작 업이 시행되고 있다는 것을 기관사에게 알려주는 표지로 사고당일 선로작업 표지는 사고개소인 서울기점 383.622km 전방 763m 떨어진 지점인 서울기점 382.859km 부근의 하선 좌측 전철주에 설치된 것을 사고열차 기관사의 진술 과 사고열차 CCTV 영상을 통하여 확인 하였다. 1.7.7 작업책임자 지정 사고당일 작업내용은 궤도 분니개소의 궤도틀림(고저 및 방향)에 대한 선 형보수 작업으로 위험등급 ‘C등급’에 해당하여 선임시설관리장이 시설관리장 을 작업책임자로 지정한 것으로 확인되었다. 사고당일 작업책임자는 2014년 12월 부산시설관리사업소 시설관리원 발령 부터 사고일 까지 4년 10개월의 현장 근무경력이 있으며, 18.12.31부터 시설 관리장으로 지정되어 업무를 수행한 것으로 확인되었다. 또한 선임시설관리장은 작업책임자의 역할을 하지 않고 당일 작업에서 열 차감시원의 임무를 수행하였다. 1.7.8 직무사상사고 우려개소 관리 한국철도공사에서는 선로보수 작업 시 직무사고 우려가 있는 급곡선부, 터 널, 교량, 노반 폭 부족개소 등 1,687개소에 대하여 ‘주의할 곳’을 각 지역본 부별로 [표11]과 같이 지정하여 작업 시 대피방법, 안전작업 방법 등에 관한 방안을 수립하여 시행하고 있었으나, 사고가 발생한 경부선 상동～밀양 간 하 선 서울기점 383km650 부근은 곡선구간(R=600m)으로 열차확인 거리가 짧아 위험요인이 있음에도 불구하고 ‘주의할 곳’으로 지정되어 있지 않았다. 사실정보 한국철도공사 경부선 밀양역구내 사상사고 조사보고서 - 26 - 1.7.9 휴대용 무전기와 열차접근경보 앱 밀양시설반은 작업 및 열차상황을 파악하고 전달하기 위하여 휴대용 무전 기를 [표12]와 같이 6대를 보유하고 있었고, 사고당일은 열차감시원이 1대, 무전기휴대 작업원이 1대를 사용하였다. NO 배치소속 일련 번호 취득 년도 경과 년수 형식 비고 본부 사업소 팀 시설반 1321 부산경남 마산 삼랑진 밀양 07740 2015 4 VHF 1322 부산경남 마산 삼랑진 밀양 07735 2015 4 VHF 1323 부산경남 마산 삼랑진 밀양 07739 2015 4 VHF 1324 부산경남 마산 삼랑진 밀양 002687 2012 7 VHF 1325 부산경남 마산 삼랑진 밀양 07832 2017 2 VHF 1326 부산경남 마산 삼랑진 밀양 7592 2015 4 VHF [표12] 밀양시설반 무전기 보유현황 소속 합계 터널 교량 선로취약 개소 기타 합계 1,687 350 689 621 27 서울 74 14 17 42 1 서부 8 3 3 2 - 동부 99 25 22 41 11 강원 109 27 30 52 - 충북 284 65 124 95 - 대전중남 142 33 57 49 3 전북 81 41 19 12 9 광주 232 19 166 47 - 전남 209 62 55 92 - 경북 68 8 24 36 - 대구 319 41 170 108 - 부산경남 21 12 2 7 - 오송고속 21 - - 18 3 경주고속 19 - - 19 - 정읍고속 1 - - 1 - [표11] 한국철도공사 주의할 곳 현황 사실정보 한국철도공사 경부선 밀양역구내 사상사고 조사보고서 - 27 - 또한, 한국철도공사에서는 2018년 6월경 열차접근을 확인할 수 있는 보조 수단으로 열차접근경보 앱이 설치된 단말기를 [표13]과 같이 시설반당 1대씩 지급하였고, 사고당일 열차접근경보 앱이 설치된 단말기를 열차감시원이 휴 대하였으나 사용은 하지 않은 것으로 확인되었다. 1.7.10 소음측정 핸드타이탬퍼의 사용으로 소음이 많이 발생하는 작업시행 시 휴대용 무전 기를 사용하여 ‘열차접근’을 작업원에 통보하는 것이 적정한 방법인지를 확 인하기 위하여 한국철도공사와 합동으로 2019년 12월 9일 10시에서 12시까 지 사고개소에서 소음측정을 실시한 결과는 아래와 같다.[그림8 참조] ① 핸드타이탬퍼 공회전시 78∼83dB ② 무전기 : 휴대용⇒휴대용 68∼73, 역용⇒휴대용 73∼78dB ③ 열차접근 경보앱 단말기 70∼75dB ④ ITX 열차 68∼83dB ⑤ 핸드타이탬퍼 작업 시 2m 위치에서 측정 94∼100dB ⑥ 핸드 타이템퍼 작업시 1m 위치에서 측정 102∼107dB ※ 교량 위 열차감시원 위치 소음 측정 100∼114dB ⋅ 1단계 : 183대 지급 (열차접근경보 앱 모니터링용 142대 + 업무용 41대) - 시설사업소(3급) 및 시설팀 2대 기준 142대(앱 모니터링 및 업무용) - 타운영사 운행구간 시설반 및 고속선 사업소 41대(업무용) ⋅ 2단계 : 375대 지급 - 시설반 237대(시설반 각 1대) : 2018년 6월경 - 지역본부 시설처 팀 당 1대 등 138대 : 시설사업소(팀) 및 건축사업소(2급) 당 1대, 기 계관리반 및 검측반 당 1대, 장비(MTT, STT) 당 1대, 건축사업소(3급, 팀) 당 2대 등 ⋅ 3단계 : 121대 지급 - 최근(9주～12주차) 평균 작동률이 전체 시설반 12주차 작동률(69.9%)을 초과한 시설반당 1대 [표13] 한국철도공사 열차접근경보 앱용 단말기 지급 현황 사실정보 한국철도공사 경부선 밀양역구내 사상사고 조사보고서 - 28 - 1 2 3 5 64열차, 시험 [그림8] 소음측정기로 측정한 음량 그래프 또한 핸드타이탬퍼로 작업하는 도중 휴대용 무전기 소리를 청취할 수 있 는지를 시험한 결과 핸드타이탬퍼와 작업원이 1~2m 이격된 위치에서는 핸 드타이탬퍼의 작업소음으로 인하여 휴대용 무전기 소리를 듣기는 어려웠다. 1.8 신호 및 전기정보 1.8.1 신호정보 사고구간의 신호설비는 [표14]과 같이 전자연동장치, 선로전환기, AF 궤도 회로, ATS, ATP 방식으로 구성되어 있었다. 설비구분 연동장치 선로전환기 궤도회로 열차제어 설비방식 전자 연동장치 NS-AM 및 NS형 AF 궤도회로장치 ATS 속도조사식 ATP 설치년도 2002년 AM 2015-6 : 12대 NS 2001-2 : 3대 2003년 2003년 2005년 [표14] 사고구간 신호설비 구성 전자연동장치 유지보수부 화면기록은 로그기록보다 1초 느리게 표시되어 정확도가 높은 로그기록을 기준으로 하였다. 그림[9] ①과 같이 열차감시원이 있던 밀양강교에 10시15분22초경 진입하였고, ②와 같이 정상적인 하장내신 사실정보 한국철도공사 경부선 밀양역구내 사상사고 조사보고서 - 29 - 호기의 신호와 진로에 의해 10시16분02초에 하장내신호기 구간에 진입 시 작업원들을 발견하고 비상제동을 체결하여 286m이동 후 ③과 같은 시각에 정차되었다. 신호시스템의 기록으로 사고열차는 밀양역 하본선으로 진입할 때 신호와 진로는 모두 양호한 상태였다. 1001 ① 2019.10.22. 10:15:22경 사고열차 밀양강교 통과 중 ② 2019.10.22. 10:16:02경 사고열차 사고구간 진입(장내진입) ③ 2019.10.22. 10:16:36경 사고열차는 비상제동 후 286m 이동 정차 [그림9] 경부선 상동-밀양간 사고열차 운행 전자연동장치 화면 기록 사실정보 한국철도공사 경부선 밀양역구내 사상사고 조사보고서 - 30 - 전자연동장치 유지보수부 로그기록에 나타난 사고열차의 운행속도는 [표 15]와 같이 제한속도를 초과하지 않았고 10:16:02초 밀양역 장내신호기 진입 (서울기점 383.580km)시 작업원들을 발견하고 비상제동을 체결하였고 약 2초 후 10:16:04경 작업원들과 접촉하여 사고가 발생된 것 추정된다. 1.8.2 전차선 정보 사고구간은 AT방식의 복선 전철구간으로 이번 사고와 관련이 없다. 1.9 기상정보 기상청 자료에 따르면 경남 밀양시 내이동의 사고 당시 날씨는 맑았고, 기 경부하선 궤도회로 구성 열차 진행방향 ⇒ B3162T B3164T B3166T XT 22AT 5T24T 밀양강교량 사고지점 383.622 제동지점 383.580 궤도회로명칭 B3162T B3164T B3166T XT 22AT 24T 5T 서울기점 km 381.769 382.421 382.969 383.583 383.685 383.740 383.805 - 궤도회로 길이(m) 652 548 614 102 55 65 560 해당궤도회로 최초점유시간 10:15:00. 20 10:15:22. 00 10:15:41. 40 10:16:02. 80 10:16:0 7.20 10:16:10 .60 10:16:15 .80 궤도회로 점유시간(초) 21.8 18.6 21.4 4.4 3.4 5.2 - 평균 속도 초속 (m/s) 29.90 29.46 28.69 23.18 16.17 12.50 - 시속 (km/h) 107.6 106.0 103.2 83.4 58.2 45,0 - - 전자연동장치 유지보수부 로그기록으로 사고시간을 추정하면 10:16:04경으로 추정됨 - 유지보수부 로그기록은 매일 03시 관제센터의 GPS 시간으로 설정되므로 가장 정확함 - 열차운행기록장치의 사고 후 정차시각은 10:16:31경으로 신호시스템을 기준으로 하면 10:16:22~23초경으로 추정된다. [표15] 사고열차 궤도회로별 운행시간 및 추정속도 사실정보 한국철도공사 경부선 밀양역구내 사상사고 조사보고서 - 31 - 온은 20.1℃, 습도는 56%, 풍속은 8.6km/h인 것으로 확인되어 기상상태가 사 고에 영향을 미칠 정도의 특이한 것은 없었다. 분석 한국철도공사 경부선 밀양역구내 사상사고 조사보고서 - 32 - 2. 분석 2.1 업무수행사항 2.1.1 사고열차 기관사 열차운행기록에 의하면 사고열차는 약 91km/h의 속도로 운행 중 약 42m 전방에서 비상제동취급과 기적취급을 하였으며, 작업원들과 부딪힌 후 약 244m를 지나서 정차한 것(비상제동 취급 후 286m를 이동)으로 나타나 있다. 열차는 제한속도 110Km/h 구간에서 91km/h 의 속도로 운행하였음으로 제 한속도를 초과하지 않았다. 사고당시 열차의 속도는 91km/h로 실측에서 나타난 위험요인인 작업원을 확인할 수 있는 거리를 112m로 하였을 때 실제 비상제동을 체결한 개소와는 70m, 시간상 약 2.8초 정도 차이가 있었다. 하지만 이것은 하나의 목표물(작 업원)에 집중하여 주시하다가 위험요인 발견 즉시 비상제동을 체결하였다는 가정 하에 가능한 수치적 결과이고, 기관사가 실제 주행 중인 열차에서 운전 정보를 얻기 위해 신호진로표지 등 전방 선로상태를 주시하고 운전실내의 계기판을 수시로 확인하면서 운행하다가 위험요인 발견 시 대상물의 상태를 판단한 후 기기취급(비상제동)을 하여야 한다는 것을 감안하면 사고열차 기 관사가 전방을 제대로 확인하지 않았다고 할 수는 없다. 또한, 사고열차 기관사가 112m 전방에서 작업원들을 발견하고 비상제동을 하였다 하더라도, 사고열차가 비상제동을 취급한 후 정차한 거리가 286m로 비상제동거리의 약 39.2% 이내이므로 사고열차 기관사의 조치가 잘못되었다 고 할 수는 없을 것으로 판단된다. 한국철도공사 운전취급규정 에는 [표16]과 같이 정하고 있다. 제246조(선로작업표지) ③ 기관사는 선로작업표지를 확인하였을 때는 주의기적을 울려 서 열차가 접근함을 알려야 한다. [표16] 한국철도공사 운전취급규정 제246조 발췌 분석 한국철도공사 경부선 밀양역구내 사상사고 조사보고서 - 33 - 사고열차 기관사는 밀양역 접근 시 밀양강 교량 우측에 있던 열차감시원 을 확인한 후, 교량 끝 지점 좌측에 설치되어 있는 선로작업표지를 확인한 후 기적을 울렸다고 진술하였으나 열차운행기록에는 기적을 취급한 기록이 나타나지 않아 사고열차에 대하여 한국철도공사에서 기적취급 시 기록되는 지 시험한 결과로 추정하면 운행기록에 나타나지 않은 것만으로 사고열차 기관사가 기적취급을 하지 않았다고 단정할 수 없고, 또한 열차감시원과 선 로작업표지를 확인한 후 사고열차 기관사가 취급한 기적취급을 작업원이 확 인할 수 있는지 시험(2019년 12월 9일, 동종의 열차)에서도 전자기적의 울림 을 작업원들은 알기 어려웠을 것으로 확인되었다. 2.1.2 로컬관제원 로컬관제원은 사고당일 08:52경 로컬관제실(운전취급실)에서 운행안전협 의담당자와 밀양역 구내 서울기점 383.550Km∼384.660Km 구간에서 09:30 분부터 17:30분까지 시행하는 면줄맞춤 작업에 대하여 열차감시원 배치 유 무, 작업내용, 작업시간 등에 대하여 철도운행안전협의를 시행하였으며, 그 외 당일의 철도운행안전협의 내용에서 특별한 사항은 없었다. 작업승인 시 무전기휴대 작업원으로 부터 ‘상동역~밀양역 간 하선 하5호 주 신호기에 열차가 오면 통보해 줄 것’을 요청받아, 사고열차 이전 09:50경 제1355열차, 10:04경 제1903열차에 대하여는 무선통보를 하였고 사고열차 에 대해서는 청도역을 출발할 때 10:16경 도착예정이라고 통보하였기에 로 컬관제원의 업무수행에 잘못은 없는 것으로 조사되었다. 또한 사고열차의 기관사로부터 열차무선전화로 사상사고 발생 사실과 119와 경찰 출동을 요청받은 로컬관제원은 운전취급실 옆에 있는 역무실에 “사상사고 발생”이라고 큰소리로 알린 후 관제센터에 즉시 보고하였고, 상선 열차를 열차무선전화로 호출하여 정거장으로 진입하지 않도록 신호기(정거 장) 외방에 정차시켰으며, 하선 후속 열차가 정거장 외방에 정차하도록 관제 센터에 정차 요청을 한 사항 등의 후속조치는 적정하였다. 분석 한국철도공사 경부선 밀양역구내 사상사고 조사보고서 - 34 - 2.1.3 열차감시원 열차감시원과 관련하여 한국철도공사 열차운행선로 지장작업 업무세칙 (개정 2018.09.28) 및 한국철도시설공단 선로유지관리지침 (개정 2018.12.31.) 에는 [표17]과 같이 정하고 있다. 사고당일 열차감시원 업무는 선임시설관리장이 수행하였고, 규정에 정한 장소에서 업무수행 시 필요한 물품을 휴대하고 업무를 수행하였고 ‘열차접 근’ 통보는 휴대용 무전기를 사용한 것으로 확인 되었다. 열차감시원은 작업장소가 밀양역 하선 서울기점 383.622km 부근으로 곡선 반경 600m의 좌곡선 이어서 열차접근을 확인하기에 어려움이 있어 작업장소 한국철도공사 열차운행선로 지장작업 업무 세칙 일부 발췌 제10조(작업 중 안전관리) 작업책임자는 작업을 시행할 때 다음 각 호의 사항을 관리하 여야 한다. &lt;개정 2018.09.28.&gt; 1. 작업원 또는 장비 등이 철도차량과 접촉할 우려가 있는 작업 시 열차감시원 배치 제13조(열차감시원 배치) ① 작업책임자는 철도차량과 접촉의 우려가 있는 작업을 시행 하는 경우 열차감시원을 배치하여야 하며, 철도운행안전관리자는 배치의 적정유무를 점검하여야 한다. ② 열차감시가 불량한 급곡선부 등의 장소에서는 열차감시원을 열차감시가 가능한 장소부터 작업구간까지 순차적으로 2명 이상 배치시켜야 하며 ④ 열차감시원은 철도차량이 접근 할 때 작업원에게 신속히 경보하고 ⑤ 열차감시원은 열차감시 중에 다른 업무에 종사할 수 없으며 다음 각 호의 보호구 와 휴대품을 휴대한다. 2. 인접 정거장과 무선통화가 가능한 무선전화기 3. 작업시간대 작업구간을 운행 예정인 열차의 운전시각표 4. 확성기경보기 등 작업원 대피를 위한 경보설비 한국철도시설공단 선로유지관리지침 일부 발췌 제147조 (선로작업의 시행) 유지보수 작업 시 안전대책은 다음 각 호에 따른다. 3. 열차감시원은 휴대무전기를 소지하고 작업원에게 열차접근을 알릴 수 있는 확성기 또는 호각 등 적절한 경보장치를 휴대하여야 한다. 4. 열차감시원은 열차접근을 인식하여 작업원에게 용이하게 알릴 수 있는 적정한 위 치에 있어야 한다. [표17] 열차감시 관련 규정 일부 분석 한국철도공사 경부선 밀양역구내 사상사고 조사보고서 - 35 - 와 약 869m 전방의 열차가 잘 보이는 밀양강 교량 상에서 열차감시 업무를 수행하였고, 이 위치는 확성기ㆍ경보기에 의한 ‘열차접근’ 통보가 불가능함에 따라 휴대용 무전기를 사용하여 작업현장에 ‘열차접근’을 통보한 사실이 무 선통화 기록에서 확인되었다. 그러나 10:15:40경 사고열차 운행 시 열차감시원은 무전기휴대 작업원에게 ‘열차접근’을 알려주었으나 무전기휴대 작업원이 수신하였다는 응답을 듣지 못하고 교량을 통과하는 사고열차의 소음으로 무전기휴대 작업원의 응답을 본인이 듣지 못한 것으로 생각하여 무전기휴대 작업원의 응답을 재차 확인 하는 등의 후속조치를 하지 않은 것으로 조사되었다. 2.1.4 무전기휴대 작업원 사고개소의 작업원은 전체 4명으로 휴대용 무전기는 작업원 1인에 1대 지 급되어 있었으나 사고당일은 무전기휴대 작업원만 무전기를 어깨에 차고 무 전교신 업무를 수행하였다. 사고열차 이전 제1355, 제1903 2대의 무궁화열차 통과 시에는 열차감시원과 로컬관제원의 ‘열차접근’ 통보를 받고 작업원들이 대피하였다. 무전기휴대 작업원은 10:06:30경 로컬관제원으로부터 사고열차가 “지금 청 도 출발하고 있고요. 10:16분 밀양 도착 예정입니다.”라고 하는 로컬관제원의 통 보를 경부선 하선 좌측 선로 밖에서 작업대기 중에 작업원들과 함께 수신하였고, 작업책임자에게도 알려준 것으로 조사되었다. 그러나 사고열차 접근 시는 큰 소음이 발생되는 핸드타이탬퍼를 사용한 작업임에도 작업원 K(사망자)와 함께 양쪽 레일 안쪽의 자갈을 긁어내는 작업 에 참여하면서 열차감시원과 무선교신을 소홀히 하여 열차감시원의 ‘열차접 근’ 통보를 듣지 못하여 사고가 발생된 것으로 분석되었다. 2.2 녹취록 및 CCTV 영상 분석 한국철도공사 경부선 밀양역구내 사상사고 조사보고서 - 36 - 열차무선 녹취록을 확인 한 결과 사고 전 무전기휴대 작업원은 매 열차 도착시간 전에 로컬관제원을 호출하여 열차도착 시간을 확인하였고, 열차감 시원은 ‘열차접근’을 통보하고 있었다. 10:06경 로컬관제원은 무전기휴대 작업원이 사고열차 운행상황을 물어오자 “지금 청도 출발하고 있고요. 10:16분 밀양 도착 예정입니다.”라고 통보하였 고 무전기휴대 작업원은 “예. 10:16분 도착 수신 이상!”이라고 응답하며 사고 열차의 도착시간을 상호 인지하였다. 그러나 사고 직전인 10:15경 로컬관제원이 사고열차 접근을 통보하지 않은 상태에서 열차감시원은 “휴대 6238 하선 열차 접근”이라고 통보하자 무전기 휴대 작업원은 응답이 없던 것으로 보아 열차감시원의 ‘열차접근’ 통보를 듣 지 못하였던 것으로 조사되었다. 사고열차의 운전실에 설치된 CCTV 녹화 영상을 확인한 결과 선로 내 작 업원 3명은 사고 순간까지 열차가 오는 것을 인지하지 못하고 작업에 열중 하였던 것으로 확인되었다. 2.3 선로보수작업의 적정성 2.3.1 작업절차의 적정성 2019년도 마산시설사업소 삼랑진시설팀 위험성평가표 를 살펴본 결과 ‘면 맞춤, 줄맞춤 작업’에 대해 현재 위험성을 8(빈도2×강도4)로 평가된 것은 [표 18]의 ‘위험요인의 위험성 판단 및 활동기준’에 따라 빈도는 ‘3년 1회 정도 발생할 경우, 가능성 낮음, 수준 2’로 정한 것을 확인하였고, 조사결과 최근 3년간 마산시설사업소 관내에서 ‘면맞춤 및 줄맞춤 작업’ 중 열차 충돌 사고 또는 유사 사례가 없어 빈도 결정에 문제점은 없었다. 또한 강도 결정시 ‘사망 또는 노동력 상실재해를 가져오는 치명적인 재해, 중대재해, 중대성 판단 수준 4’로 최고 높은 수준으로 정하여 위험성평가 분석 한국철도공사 경부선 밀양역구내 사상사고 조사보고서 - 37 - 의 위험요인 판단에는 문제점이 없는 것으로 조사되었다. [표18] 위험성평가 계획 실시계획 중 위험요인의 판단 및 활동기준 운행안전협의담당자와 로컬관제원간 작업관련 철도운행안전협의 는 작 업 전(08:52)에 실시하였으나, 관리감독자(선임시설관리장)는 작업계획서 에 따라 위험요인 ‘3. 작업표가 작업장소와 가깝게 설치되거나 곡선부 등 시야가 확보되지 않는 곳에는 기 관사가 대응할 시간이 부족하다’에 대한 안전조치방법으로 ‘작업표 정위치에 건식 및 작업 상황에 맞게 열차감시자 추가 배치 할 것’으로 정하고 있었으 나 열차감시원을 추가 배치하지 않은 것이 사고에 기여한 것으로 조사 되었 다. 2.3.2 작업방법의 적정성 사고당일의 선로유지보수 작업은 한국철도시설공단 선로유지관리지침 에 서 정한 궤도 면맞춤 작업으로 한쪽 레일의 길이방향 높이차를 보수하는 작 업이며, 작업 성격상 열차가 운행하는 선로 내에서 시행하게 된다. 한국철도 공사 사규 열차운행선로 지장작업 업무세칙 에는 운전명령에 따라 관제승 분석 한국철도공사 경부선 밀양역구내 사상사고 조사보고서 - 38 - 인으로 열차운행을 중지하고 시행하는 차단작업과 열차 운행 사이 열차가 없는 시간에 시행하는 각 열차사이 차단작업을 선로작업으로 정의하고 있으 며, 운전명령 없이 역장승인으로 열차운행에 지장이 없도록 시행하는 보수작 업을 ‘상례작업’이라 하고 있다. 상례작업은 열차운행에 따라 궤도틀림이 수시로 발생되므로 이를 유지보 수하기 위하여 역장(로컬관제원)과 작업협의 후 간단한 공구로 인력에 의해 선로를 보수하다가 열차 접근 시 대피하며 시행하는 작업방법으로 작업원들 이 열차가 운행하는 사이에 스스로 안전을 확보해 가면서 작업하여야 하므 로 작업도중 운행하는 열차에 접촉할 수 있는 위험요인을 가지고 있다. 사고당일 밀양역 구내 선로보수작업인 면맞춤, 줄맞춤 작업을 시행하기 위하여 운행안전협의담당자가 로컬관제원과 작업에 관하여 ‘철도운행안전협 의’ 절차에 의하여 상례작업 협의를 하였으나 위험요인이 많은 작업개소환 경임에도 별도의 작업원 안전대책이 미흡한 상태로 상례작업을 시행한 것이 사고에 영향을 미친 것으로 분석되었다. 따라서 한국철도공사 선로보수직원 대부분12)이 열차가 운행하는 주간에만 근무를 하고 있어 모든 작업을 열차가 없는 야간 차단작업으로 시행하는 것 은 어렵더라도 열차를 확인하기 어렵거나 위험한 개소, 대피에 상당시간이 필요할 경우 등 에는 동종의 사고를 예방하기 위해서 상례작업이 아닌 각 열차 사이 차단작업, 기계화 작업 등 작업방법의 변경이 필요할 것으로 판단 된다. 2.3.3 선로작업표지 적정성 선로작업표지는 한국철도공단 선로유지관리지침 (개정 2018.12.31.) 제141 조에 [표19]과 같이 정하고 있다. 12) 한국철도공사 시설관리반 전체 1,837명 중 주간근무자는 1,577명으로 85.8% 차지함 분석 한국철도공사 경부선 밀양역구내 사상사고 조사보고서 - 39 - 사고개소는 열차속도 130km/h 이상의 운행선구로 400m 이상의 거리에 선로작업표지를 세워야 하며, 곡선구간의 지형 여건상 기관사가 400m 이상 거리에서 알아보기 어려운 때에는 400m 이상의 알아보기 쉬운 적당한 위치 에 세워야 하는 것에 해당된다. 사고당시 선로작업표지는 사고개소인 서울기 점 383.622km로 부터 열차진행 방향의 마주보는 방향의 전방 763m 떨어진 지점인 서울기점 382.859km 부근의 하선 좌측 전철주에 설치한 것이 확인되 어 이는 지침을 준수하여 선로작업표지를 설치하였던 것으로 조사되었다. 2.3.4 작업책임자의 적정성 작업책임자는 철도안전법 제2조(정의) 10호 마목 및 제40조의2 ③항에 따 라 철도차량의 운행선로 또는 그 인근에서 철도시설의 건설 또는 관리와 관 련된 작업의 협의․지휘․감독․안전관리 등의 업무에 종사할 때 철도운영 자 또는 철도시설관리자가 지정하도록 되어 있으며, 한국철도공사 사규인 열차운행선로 지장작업 업무세칙 제3조 22호에는 철도시설의 유지보수 작 제141조 (선로작업표 등 설치) 선로작업표와 공사알림판은 다음 각 호에 따라 설치하여 야 한다. 1. 선로작업표 : 운행선인 선로작업개소에는 별표 13에 따라 제작한 선로작업표를 열 차진행 방향에 대향으로 다음 기준이상의 거리에 세워야 한다. 가. 130 km/h 이상 선구 : 400 m 나. 130 km/h 미만 - 100 km/h까지 : 300 m 다. 100 km/h 미만선구 : 200 m다만, 이 작업표를 지형여건상 기관사가 400 m 이상 거리에서 알아보기 어려운 때에는 위 거리 이상의 알아보기 쉬운 적당한 위치에 세워야 한다. [표19] 선로유지관리지침 선로작업표 설치 기준 일부 분석 한국철도공사 경부선 밀양역구내 사상사고 조사보고서 - 40 - 업의 경우 작업책임자를 ‘시행부서장이 지정한 자’로 정하고 있다. [표20]과 같이 철도차량의 운행선로에서 선로보수작업을 시행할 경우 작업 책임자를 지정하도록 하고 있지만, 작업책임자의 지정기준(자격요건 등)에 관 하여는 관련 법 및 한국철도공사 사규에 명시되어 있지 않으며, 다만 한국철 도공사 시설기술단 내부 방침(선로관리처-4660호, `11.07.13.)에 따라 유지보수 작업의 위험등급별(A, B, C등급)로 작업관리자(직명) 지정에 관하여 [표21]과 같이 시범운영한 후, 제3조(정의) 이 세칙에서 사용하는 용어의 뜻은 다음 각 호와 같다. 22. “작업책임자”란 철도보호지구에서 작업을 시행함에 있어 시행부서장이 작업의 협 의지휘감독안전관리 등의 업무에 종사하도록 지정한 자를 말하며, 다음 각 목 과 같다. 가. 철도시설의 유지보수 작업(시험설치, 역사 청소, 광고물 설치 등을 포함 한다): 시행부서장이 지정한 자 [표20] 열차운행선로 지장작업 업무세칙 3조 발췌 분석 한국철도공사 경부선 밀양역구내 사상사고 조사보고서 - 41 - 시설기술단 선로관리처-5605호(`12.12.07.)에 따라 위험등급별 작업관리방안 잠정지시로 위험등급 분류기준 B등급 이상의 작업만 현장상태를 점검한 후 ‘안전작업계획서’에 확인(서명)하여 작업관리 하도록 [표22]와 같이 공문 지시 하였다. 이에 따라 사고당일의 작업은 면줄맞춤 작업으로 위험등급이 ‘C’등 급에 해당하여 시설관리장을 작업책임자로 지정한 것으로 조사되었다. 시설관리장 제도는 선임시설관리장 부재 시 그 역할을 할 수 있는 직원으 로 선정하여 업무의 원활을 도모하기 위한 제도지만 등용․자격직이 아니라 서 직위 지정에 대한 기준이 마련되어 있지 않다. 이로 인하여 시설관리장 지정 시 근무 경력이 많지 않은 유지보수자가 위험요인이 많은 운행선 선로 보수작업의 작업책임자13)의 직무를 수행할 수밖에 없는 경우도 발생할 수 [표22] 위험등급별 작업관리 방안 잠정지시 공문 일부 발췌 [표21] 한국철도공사 위험등급별 작업관리자 시범운영 선로관리처-4660호 공문 일부 분석 한국철도공사 경부선 밀양역구내 사상사고 조사보고서 - 42 - 있으며, 또한 사고당일 시설관리장을 작업책임자로 지정하고 선임시설관리장이 열 차감시원의 임무를 수행한 것은 작업별 작업책임자 등급 기준이 마련되어 있었더라도 작업현장 안전관리 및 적절한 작업통제를 위해 시설관리장 선정 방법 또는 작업책임자 지정방법을 개선할 필요가 있을 것으로 판단된다. 2.3.5 직무사고 우려개소 관리 적정성 한국철도공사에서는 철도안전관리시행세칙 제75조(주의할 곳 지정관리) 에 따라 위험요인이 있는 터널, 교량, 급곡선 등의 개소를 ‘주의할 곳’으로 지정하고 작업원 대피방법, 대처방안, 해소방안 등 안전대책을 마련하여 직 원 직무사고 발생을 줄이기 위해 노력하고 있었으나 이번 사고개소는 열차 를 확인할 수 있는 거리가 짧은 환경적 위험요인이 있었음에도 ‘주의할 곳’ 으로 지정되어 있지 않았고, 소음이 심한 작업용 기계기구의 사용으로 인한 작업특성상 위험요인이 있었음에도 세부적인 관리계획이 수립되지 않은 것 도 이번 사고와 무관하지 않은 것으로 확인되어 직무사고 예방을 위한 ‘주의 할 곳’을 재지정하고 위험요소별 대처 방안을 정하여야 할 것으로 조사되었 다. 2.4 통신방법의 적정성 2.4.1 휴대용 무전기 휴대기준 사고당일 선로보수작업 시 휴대용 무전기는 열차감시원이 1대, 무전기휴대 작업원이 1대를 사용하였다. 열차운행선로 지장작업 업무세칙 제13조 및 선로유지관리지침 제147조에 따라 열차감시원의 휴대용품으로 휴대용 무전 기가 지정되어 있으나 작업원에 대한 휴대용 무전기 휴대기준은 없었다. 하지만, 휴대용 무전기는 개인별로 1대씩 휴대할 수 있도록 지급되어 있었 13) 5년이하 시설관리장(작업책임자)은 전체 481명 중 74명을 15.4%를 차지함 분석 한국철도공사 경부선 밀양역구내 사상사고 조사보고서 - 43 - 고, 운행하는 선로에서 업무를 수행할 경우에 한 장소에서 작업하는 경우도 있지만 이동 및 분산작업 등 작업여건이 항상 일정하다 할 수 없으므로 개 인별로 휴대용 무전기를 휴대하여 작업할 수 있도록 휴대기준을 정하여 작 업원 안전을 확보할 할 필요가 있을 것으로 판단된다. 2.4.2 열차접근 경보앱을 사용한 방법의 적정성 사고당일 열차접근 경보앱이 설치된 모바일 단말기는 열차감시원이 휴대 하고 있었으나 사용하지 않았고 음량측정에서도 70∼75dB로 휴대용 무전기 와 차이가 없어 열차상황을 확인하는 보조적 목적으로 사용 할 수 있으나 소음이 심한 장비를 사용하여 작업을 시행할 경우 열차의 접근을 확인하는 방법으로는 적정하지 않은 것으로 분석되었다. 2.4.3 열차감시원과 작업원 간의 통신방법 사고당시 휴대용 무전기를 사용한 통신방법이 적정한가를 알아보기 위하 여 시행한 작업현장의 소음 측정시험에서 열차의 운행을 알려주기 위한 휴 대용 무전기의 소리세기는 75dB 정도였고 핸드타이탬퍼의 작업 시 소리의 세기는 100dB 정도였다. 두 기기의 차이인 25dB 소리세기는 [표23]에 나타난 것과 같이 음량인식 기준으로 5배 이상의 큰 차이가 있으며, - 음량 인식 : 약 5.6배 차이(20dB는 4배, 5dB≒1.4배, 4×1.4) - 음압 크기 : 약 17.78배 차이(10×1.778) - 에너지 크기 : 약 316배 차이(100×3.16) 분석 한국철도공사 경부선 밀양역구내 사상사고 조사보고서 - 44 - [표23] 소리세기와 음량크기 관계 사고당시와 동일한 작업환경에서 휴대용 무전기를 사용해서 열차 접근여 부를 확인하는 방법이 적정한가를 확인하기 위하여 휴대용 무전기를 1대∼4 대까지 증가시키면서 현장에서 무전기 수신이 가능한지를 시험한 결과에서 도 휴대용 무전기와 핸드타이탬퍼의 음량에 큰 차이가 있어서 핸드타이탬퍼 작업 시에는 휴대용 무전기의 소리를 알아들을 수 없어 휴대용 무전기만 사 용하여 열차감시를 한 것은 부적절하였고 이번 사고의 원인이 된 것으로 분 석되었다. 2.5 종합 분석 사고구간의 작업환경은 곡선반경 600m의 좌곡선으로 되어 있고, 주변 수 목으로 인하여 열차와 작업원을 확인할 수 있는 거리는 100여m 정도였으나 열차감시원의 추가 배치는 없었으며, 열차의 접근을 알려주기 위해 사용한 휴대용 무전기의 소음 측정치는 75dB 정도 였으나 선로 면맞춤을 위하여 선 로다짐 작업에 사용하던 핸드 타이템퍼는 100dB 이상의 소음이 발생되어 휴대용 무전기 보다 5배 이상 큰 소리로 인하여 휴대용 무전기 소리를 듣지 못하여 사고가 발생된 것으로 분석되었다. 무전기휴대 작업원은 핸드타이탬퍼를 사용한 소음이 심한 작업환경에서 분석 한국철도공사 경부선 밀양역구내 사상사고 조사보고서 - 45 - 열차감시원의 “열차접근” 통보에 집중하여야 했으나 작업에 참여하면서 이 를 듣지 못하여 사고에 기여한 것으로 조사되었다. 10:15경 사고열차가 밀양강교 진입 전 열차감시원은 열차를 확인하고 무전 기휴대 작업원에게 “열차접근”이라고 통보하였으나 무전기휴대 작업원의 수 신 응답이 없었음에도 ‘본인이 듣지 못한 것’이라고 생각하고 재확인 등 후 속조치를 하지 않은 것으로 조사되었다. 사고당일 면맞춤, 줄맞춤 작업을 시행하기 위하여 운행안전협의담당자가 로컬관제원과 작업에 관하여 ‘철도운행안전협의’ 절차에 의하여 상례작업 협 의를 하였으나 위험요인이 많은 작업개소환경임에도 별도의 작업원 안전대 책이 미흡한 상태에서 상례작업을 시행한 것이 사고에 영향을 미친 것으로 분석되었다. 또한 사고당일 선임시설관리장이 작업현장에 있었음에도 시설관리장이 작 업책임자의 임무를 수행한 것은 작업 관리방법을 개선하여야 할 것으로 조 사되었다. 사고열차가 청도역 출발 시 로컬관제원은 10:16경 사고열차가 밀양역에 도 착예정이라고 통보하였고, 무전기휴대 작업원도 수신하였으며 작업책임자와 작업원들에게 통보되었던 것으로 조사되었다. 사고열차 기관사는 정상적인 신호에 따라 밀양역 하장내신호기 구간을 91Km/h의 속도로 진입 중 약 42m 전방에서 작업원들을 발견하고 기적취급 과 비상제동을 체결하였으나 제동거리가 미치지 못하여 작업에 열중하던 작 업원과 접촉하였다. 이 사고로 선로 안쪽에서 작업하던 3명이 사고열차에 부딪치면서 사망 1 명, 중상 2명의 인명피해가 발생되었다. 결론 한국철도공사 경부선 밀양역구내 사상사고 조사보고서 - 46 - 3. 결론 3.1 조사 결과 3.1.1 사고열차 기관사는 약 42m 전방에서 작업원들을 발견하고 비상제동과 기적을 취급하였으나 제동거리 부족(제동거리 286m의 14.7%)으로 작업 원들과 접촉하고 244m를 지나서 정차한 것으로 확인되었다. 3.1.2 사고발생구간의 허용속도는 110Km/h 이고 사고열차가 비상제동을 체 결 할 당시의 운행속도는 91Km/h 였으므로 제한속도를 초과하지 않은 것으로 확인되었다. 3.1.3 사고 후 거리실측에서 작업원을 확인할 수 있는 거리가 112m로 나타 나 실제 비상제동을 체결한 개소와는 70m, 시간상 약 2.8초 정도 차이 가 있으나 기관사가 실제 주행 중인 열차에서 운전정보를 얻기 위해 신호진로표지 등 전방 선로상태를 주시하고 운전실내의 계기판을 수 시로 확인하면서 운행하다가 위험요인 발견 시 대상물의 상태를 판단 한 후 기기취급(비상제동)을 하여야 한다는 것을 감안하면 사고열차 기 관사가 전방을 제대로 확인하지 않았다고 할 수는 없다. 3.1.4 사고열차인 ITX-새마을 열차의 차량 기적음 발생 및 데이터 기록사항을 시험한 결과, 1초 이상 전자기적/주기적 취급 시에는 취급시간만큼 시간이 기록되나, 1초미만의 전자기적 취급 시에는 5회 중 4회는 기록되지 않 아 사고열차 기관사가 열차감시원과 선로작업표지 확인 시에 기적취급 을 하지 않았다고 단정할 수는 없고 사고열차의 경우 1초미만의 전자 기적을 취급한 기록이 되지 않는 경우가 발생되는 문제점이 확인되었 으므로 모든 기적취급이 열차운행기록장치에 기록될 수 있도록 개선할 필요가 있을 것으로 조사되었다. 3.1.5 로컬관제원은 운행안전협의담당자와 상례작업을 위한 철도운행안전협 결론 한국철도공사 경부선 밀양역구내 사상사고 조사보고서 - 47 - 의를 정상적으로 시행하였고 09:38경 작업승인(밀양역 승인3호)을 하였 으며, 작업승인 시 무전기휴대 작업원으로부터 ‘상동역~밀양역 간 하선 하5호주 신호기에 열차가 오면 통보해 줄 것’을 요청받아, 사고열차 이 전 09:50경 제1355열차, 10:04경 제1903열차에 대하여 무선통보를 하였 고, 사고열차에 대해서는 사고열차가 청도역을 출발할 때 10:16경 도착 예정이라고 통보한 것으로 확인되었다. 3.1.6 로컬관제원은 사고발생 후 사고열차 기관사로부터 사상사고 통보와 함 께 119와 경찰 출동을 요청하여 운전취급실 옆에 있는 역무실에 “사상 사고 발생”이라고 큰소리로 알린 후 관제센터에 사고 발생 사실을 즉 시 보고하고, 상선 운행 열차가 정거장에 진입하지 않도록 신호기 외방 에 정차시켰으며, 하선 후속 열차가 정거장 외방에 정차하도록 관제센 터에 요청한 것 등 2차 사고예방을 위한 조치는 적절하였던 것으로 확 인되었다. 3.1.7 열차감시원은 작업이 승인된 후 09:42경부터 휴대하여야 할 물품을 가 지고 정위치에서 업무를 수행하면서 09:51경, 10:04경 운행했던 2개 열 차에 대하여 무전기휴대 작업원에게 ‘열차접근’을 통보하여 작업원들이 대피하도록 하였다. 3.1.8 10:15:40경 열차감시원은 사고열차가 밀양강교 전방에 진입하는 것을 발견하고 “열차접근”이라고 무전기휴대 작업원에게 통보하였으나 무전 기휴대 작업원의 수신 응답을 듣지 못하였다. 그 후 상대방의 응답을 재차 확인하지 않고 교량을 통과하는 사고열차의 소음으로 무전기휴대 작업원의 응답을 ‘본인이 듣지 못한 것’으로 생각하고 후속조치를 하지 않은 것으로 조사되었다. 3.1.9 무전기휴대 작업원은 휴대용 무전기를 어깨에 차고 작업원K(사망자)와 함께 선로보수를 위하여 선로 가운데 부분의 자갈을 긁어내는 작업과 열차 감시원과 무전기 교신 업무를 병행하였다. 결론 한국철도공사 경부선 밀양역구내 사상사고 조사보고서 - 48 - 3.1.10 무전기휴대 작업원은 10:06:30경 선로 밖에서 대피하고 있던 중 사고열 차가 “지금 청도 출발하고 있고요. 10:16분 밀양 도착 예정입니다.”라고 하 는 로컬관제원의 통보를 작업원들과 수신하고 작업책임자에게 알려주었으 나, 사고열차 접근 시 핸드타이탬퍼의 사용으로 큰 소음이 발생되는 작 업환경에서 작업에 참여하면서 열차감시원의 ‘열차접근’ 통보를 듣지 못하여 사고가 발생된 것으로 분석되었다. 3.1.11 사고열차의 운전실에 설치된 CCTV 녹화 영상을 확인한 결과 선로 내 에서 작업 중이던 3명의 작업원은 사고 순간까지 선로보수작업에 열중 하여 열차가 오는 것을 알지 못하였고, 무전기휴대 작업원은 공구를 가 지러 선로 좌측으로 이동해 있던 중 사고가 발생하였다. 3.1.12 작업계획서의 위험요인 ‘3. 작업표가 작업장소와 가깝게 설치되거나 곡선부 등 시야가 확보되지 않는 곳에는 기관사가 대응할 시간이 부족 하다’에 대한 안전조치방법으로 ‘작업표 정위치에 건식 및 작업상황에 맞게 열차감시자 추가 배치 할 것’으로 정하고 있었으나 당일작업 시 열 차감시원을 추가 배치하지 않은 것이 사고에 기여한 것으로 조사 되었 다. 3.1.13 열차운행선로 지장작업 업무세칙 제13조(열차감시원 배치)에 정한 열차감시가 불량한 급곡선부 등의 장소에서는 열차감시원을 열차감시 가 가능한 장소부터 작업구간까지 순차적으로 2인 이상 배치해야 하나 이를 이행하지 않은 것으로 조사되었고, 동 조항에서 정한 급곡선부의 정의가 명확하지 않아 규정을 개정할 필요가 있을 것으로 분석되었다. 3.1.14 사고구간의 ‘면맞춤ㆍ줄맞춤’ 작업은 상례작업으로 시행하였기에 ‘선로 일시사용중지 및 각 열차 사이 차단작업’에 해당되지 않아 사전에 사고 열차 기관사에게 작업사항이 전달되지 않은 것으로 확인되었다. 3.1.15 사고구간의 작업환경은 직무사고 발생 우려가 있는 곡선구간으로 투 결론 한국철도공사 경부선 밀양역구내 사상사고 조사보고서 - 49 - 시가 불량하고 작업시 발생하는 기계의 소음 등으로 취약한 작업개소 환경 임에도 별도의 작업원 안전대책이 미흡한 상태에서 상례작업을 시행한 것도 사고에 영향을 미친 것으로 분석되었다. 3.1.16 사고당시 선로작업표지는 사고개소인 서울기점 383.622km로 부터 열 차진행 방향의 마주보는 방향의 전방 763m 떨어진 지점인 서울기점 382.859km 부근의 하선 좌측 전철주에 설치한 것을 사고열차의 CCTV 및 사고열차 기관사의 진술에 의해 확인되어 이는 지침을 준수하여 선 로작업표지를 설치하였던 것으로 확인되었다. 3.1.17 유지보수 경력이 많지 않은 시설관리장이 위험요인이 많은 운행선 선 로보수작업에 작업책임자의 직무를 수행한 것은 작업장 안전관리에 불 안전 요인이 되므로 시설관리장 지정 또는 작업책임자 지정방법을 개 선할 필요가 있을 것으로 판단된다. 3.1.18 또한 사고당일 시설관리장을 작업책임자로 지정하고 선임시설관리장 이 열차감시원의 임무를 수행한 것은 작업별 작업책임자 등급 기준이 마련되어 있었더라도 작업현장 안전관리 및 적절한 작업통제를 위해 시설관리장 선정방법 또는 작업책임자 지정방법을 개선할 필요가 있어 선로유지보수작업 표준 매뉴얼 에 작업책임자 지정을 구체적으로 정 하여 유지보수작업에 적용해야 할 것으로 판단된다. 3.1.19 이번 사고와 같은 상례작업은 작업도중 운행하는 열차에 접촉할 수 있는 위험요인을 가지고 있으므로 열차를 확인하기 어렵거나 위험한 개소, 대피에 상당시간이 필요한 경우, 작업특성상 큰 소음이 발생할 경우 등에는 동종의 사고를 예방하기 위해서 상례작업이 아닌 각 열차 사이 차단작업, 기계화 작업 등 작업방법을 변경할 필요가 있을 것으로 판단된다. 3.1.20 한국철도공사에서는 터널, 교량, 급곡선 등 안전작업 위해요인이 있는 결론 한국철도공사 경부선 밀양역구내 사상사고 조사보고서 - 50 - 개소에 대하여 ‘주의할 곳’으로 지정하고 안전대책을 마련하여 직무사 상사고 발생을 줄이기 위해 노력하고 있으나 이번 사고개소는 열차를 확인할 수 있는 거리가 짧았으나 ‘주의할 곳‘으로 지정되어 있지 않았 고, 소음이 심한 작업용 기계의 사용으로 작업특성상 위험요인이 있음 에도 세부적인 안전대책이 수립되지 않아 사고가 발생한 것으로 확인 되어 직무사고 예방을 위한 ’주의할 곳‘을 재지정하고 위험요소별 대처 방안을 정할 필요가 있을 것으로 조사되었다. 3.1.21 밀양시설반에서는 휴대용 무전기 6대를 보유하고 있었으나 사고당일 작업 시에는 열차감시원과 무전기휴대 작업원만 무전기를 휴대하여 무선통신을 시행한 것으로 조사되어 선로에서 유지보수하는 작업원 들의 무전기 휴대기준을 마련할 필요가 있을 것으로 판단된다. 3.1.22 모바일 단말기를 사용한 열차접근 경보앱의 경우에도 음량은 70∼ 75dB로 휴대용 무전기와 차이가 없어 소음이 심한 장비를 사용하여 작 업을 시행할 경우 열차의 접근을 확인하는 방법으로는 적정하지 않은 것으로 확인되었다. 3.1.23 사고당시 휴대용 무전기만을 사용한 통신방법이 적정한가를 알아보기 위하여 시행한 작업현장의 소음 측정시험에서 열차의 운행을 알려주기 위한 휴대용 무전기의 소음측정치는 75dB 정도였고 핸드타이탬퍼의 작 업 시 소음측정치는 100dB 정도였다. 두 기기의 소리세기 차이인 25dB 는 음량인식 기준으로 5배 이상의 큰 차이가 있어 휴대용 무전기에 의 지한 통신방법은 적정하지 않은 것으로 확인되어 통신수단을 강화하거 나 작업방법의 개선이 필요한 것으로 분석되었다. 3.1.24 사고이전에 실시한 사고 열차의 검수이력을 조사한 결과 정비주기 초 과 등의 문제는 발견되지 않았다. 3.1.25 사고열차의 밀양역 운행시 신호와 진로, APT 속도제어는 정상이었고 안전권고 한국철도공사 경부선 밀양역구내 직원교통사상사고 조사보고서 - 51 - 이번 사고에 영향을 주지 않았다. 3.2 사고원인(Causes) 이번 사고의 주원인을 ‘사고열차가 작업구간 접근 시 열차감시원이 “열 차접근”을 통보하였으나 핸드타이탬퍼를 사용한 작업소음으로 무전기휴 대 작업원이 이를 수신하지 못하여 작업원들이 미리 대피하지 못한 것 과 취약한 작업환경에서 작업원에 대한 안전조치가 미흡했던 것’으로 결정 하였다. 또한 이번 사고의 기여요인은 ‘위험요인이 많은 작업임에도 별도의 작업원 안전대책이 미흡한 상태에서 상례작업을 시행한 것, 취약한 작업환경에 대 하여 열차감시원을 추가 배치하지 않은 것, 열차감시원이 열차접근을 통보 한 후 무전기휴대 작업원의 수신응답을 듣지 못한 것을 열차소음 때문이라고 생각하고 후속 안전조치를 하지 않은 것, 작업 시 무전기휴대 작업원은 “열차접근” 통보에 집중하지 않고 작업에 참여한 것’으로 결정하였다. 안전권고 한국철도공사 경부선 밀양역구내 사상사고 조사보고서 - 52 - 4. 안전권고 4.1 한국철도공사에 대하여 4.1.1 열차를 확인하기 어렵거나 위험한 개소, 대피에 상당시간이 필요할 경 우 작업소음이 큰 경우 등에는 동종의 사고를 예방하기 위해서 상례작 업이 아닌 각 열차사이 차단작업, 기계화 작업 등 작업방법을 변경하여 시행하도록 기준을 마련하고 부득이 시행하는 상례작업 시에는 시스템 적(단락동선의 사용 등)으로 작업원 안전을 확보할 수 있도록 할 것. 4.1.2 곡선이나 장애물 등으로 인하여 투시가 불량하거나 기계 또는 외부 소음 등으로 인하여 위험요인이 있는 작업 시에는 열차감시를 적절 하게 할 수 있도록 열차감시원 추가 배치 등의 기준을 일반철도 선 로유지보수작업 표준 매뉴얼 에 명확하게 정하여 시행할 것. 4.1.3 열차운행선로 지장작업 업무세칙 제13조(열차감시원 배치) ②항의 ‘열차감시가 불량한 급곡선 등의 장소’에서 급곡선의 기준이 명확하지 않아 현장작업원들이 적용하기 어려움이 있으므로 ‘곡선이나 장애물 등 으로 인해 열차감시가 어려운 장소’에 대하여 열차를 확인할 수 있는 거리를 기준으로 조문의 취지가 명확히 표현될 수 있도록 규정을 개정 할 것. 4.1.4 위험요인이 많은 운행선 선로보수작업 시 적합한 작업책임자가 지정되 어 안전한 작업이 되도록 ‘작업별 직무분석’ 등을 통하여 시설관리장 지정 또는 작업책임자 지정 방법을 개선할 것. 4.1.5 열차를 확인할 수 있는 거리가 짧고 작업용 기계의 사용으로 소음이 심할 때 등 외부적 환경요인 외 작업특성 요인에 의한 세부적인 관리 계획이 수립되지 않아 사고가 발생한 것으로 확인되어 직무사고 예방 을 위한 철도안전관리시행세칙 제75조(주의할 곳 지정관리)에 따라 안전권고 한국철도공사 경부선 밀양역구내 사상사고 조사보고서 - 53 - ‘주의할 곳’을 재지정하여 위험요소별 대처 방안을 마련하고, 위험성 평 가방법도 빈도, 강도 외 작업 및 환경여건까지 고려하여 재정립하고 위 험요인 감소대책(장애요인 제거)을 마련하여 적절히 대응할 것. 4.1.6 소음 등으로 인한 취약한 작업외부환경에서도 열차감시원과 작업원 이 원활하게 소통할 수 있도록 통신수단을 강화하고, 운행선 내 작업 시 시청각 등을 사용한 경보장치를 마련하여 작업원 전체가 열차의 접근 확인이 가능하도록 할 것. 4.1.7 선로에서 유지보수작업을 하는 작업원에 대하여 작업 시 휴대하여야 할 휴대용 무전기 휴대기준과 무전기를 휴대한 작업원에 대한 업무기 준을 명확하게 정할 것. 4.1.8 사고열차가 전자기적이 작동되었음에도 1초미만 취급 시에는 열차운행 기록장치에 기록되지 않은 경우가 발생되는 것으로 확인되었으므로 기 적취급 시 취급기록이 되도록 개선할 것. - 54 - 　　이 보고서는 사고조사 과정에서 관계인들로부터 청취한 진 술 및 개인정보 등이 포함되어 있어, 　『항공․철도사고조사에 관한 법률』제28조(정보의 공개금지) 및 같은 법 시행령 제8조(공개를 금지할 수 있는 정보의 범위)에 의 하여 이 보고서(인쇄본)에 개인정보는 공개하지 않았으며, 국민여러분의 이해를 돕기 위해 전문 철도용어를 쉽게 풀어서 쓴 점을 양해하여 주시기 바랍니다. 자세한 사항은 항공․철도사고조사위원회로 문의하여 주시기 바랍니다. 항공․철도사고조사위원회 http://www.araib.go.kr 전화 : 044-201-5443 E-mail: mrlee56@korea.kr\n",
            " 보고서 번호: ARAIB/R 2021 - 1 철도사고조사보고서 서울교통공사 3호선 지축차량기지 구내(302A호 선로전환기) 제3906전동열차(313편성, 10량) 열차탈선 2020년 2월 26일(수) 09시 35분경 2021. 4. 27. 항공･철도사고조사위원회 이 조사보고서는 「항공․철도사고조사에 관한 법률」 제2조(정의)에 의거 사고조사가 이루어졌으며, 제25조 (사고조사보고서의 작성 등)에 따라 작성되었다. 같은 법률 제1조(목적)에서‘철도사고 조사는 독립적이 고 공정한 조사를 통하여 사고 원인을 정확하게 규명함 으로써 철도사고의 예방과 안전 확보에 이바지함’을 목 적으로 하고 있다. 또한, 제30조(다른 절차와의 분리)에 따라 ‘사고조사는 민 ․ 형사상 책임과 관련된 사법절차, 행정처분 절차 또 는 행정쟁송절차와 분리 ․ 수행’되어야 하고, 제32조(불이익의 금지)에서‘위원회에 진술 ․ 증언 ․ 자료 등의 제출 또는 답변을 한 사람은 이를 이유로 해고 ․ 전보 ․ 징계 ․ 부당한 대우 또는 그 밖에 신분이나 처우 와 관련하여 불이익을 받지 아니한다.’라고 규정하고 있다. 그러므로 이 조사보고서는 철도분야의 안전을 증진시킬 목적 이외의 용도로 사용되어서는 아니 된다. 차례 서울3호선 지축차량기지 구내 전동열차 탈선사고 조사보고서 - i - 차 례 제목 1 개요 2 1. 사실 정보 4 1.1 사고의 경위 4 1.2. 피해사항 5 1.3 관계자 인적정보 및 업무수행사항 7 1.4 선로정보 20 1.5 차량정보 22 1.6 신호전기정보 24 1.7 기상정보 29 2. 분석 30 2.1 관계자 업무수행사항 분석 30 2.2 선로분석 34 2.3 차량분석 34 2.4 신호분석 34 2.5 종합분석 35 3. 결론 36 3.1 조사결과 36 3.2 사고원인 38 4. 안전 권고 39 4.1 서울교통공사에 대하여 39 제목 서울3호선 지축차량기지 구내 전동열차 탈선사고 조사보고서 - 1 - 서울 3호선 지축차량기지 구내 전동열차 탈선사고  운영기관 : 서울교통공사  운행노선 : 3호선  발생장소 : 지축차량기지 구내 (302A호 선로전환기)  사고열차 : 제3906 전동열차 (313편성, 10량)  사고유형 : 열차탈선  발생일시 : 2020년 2월 26일(수) 09시 35분경 [그림1] 사고현장 개요 개요 서울3호선 지축차량기지 구내 전동열차 탈선사고 조사보고서 - 2 - 개요 2020년 2월 26일 09:35분경 서울교통공사 3호선에서 영업운전을 종료하고 지축차량기지(이하 ’기지’ 라 한다)로 입고 중인 제3906열차(313편성, 10량, 이하 ’사고열차‘ 라 한다)의 기관사는 정지신호가 현시되어 있는 입고신호기 (2번) 앞에 일단 정차하였다. 사고열차의 기관사(이하 ‘기관사’ 라 한다)는 구내운전모드(25Km/h 속도코 드)가 수신되지 않은 상태에서, 임의로 ‘15Km/h스위치’1)를 취급한 후 정지 신호를 무시하고 진입하여 ‘302A호 선로전환기’를 할출(割出)2) 하였다. 선로전환기를 할출한 기관사는 앞쪽의 10번 정지신호도 무시하고 진입하 였으나, 기지관제실 열차운행표시반에서 확인한 기지관제원(이하 ‘관제원’ 이 라 한다)이 정차지시를 하여 정차하였다. 사고열차를 정차시킨 관제원은 선로전환기 할출 현장을 확인하지 않은 상 태에서 기관사에게 되돌이 운전을 지시하였다. 기관사는 관제원의 지시를 받고 사고열차의 선로전환기 등 선로의 후부 상태를 확인하지 않은 상태에서 되돌이 운전을 실시하였다. 사고열차의 차량은 할출로 인해 선로전환기의 첨단이 벌어진 틈새로 진입 [할입(割入)3)]하여, [그림2]와 같이 5번째 차량(3513호) 앞 대차가 선로 우측으 로 탈선하였다. 이 사고로 인명피해는 발생하지 않았으며, 사고열차의 차륜 4개가 탈선되 었고 차량 일부와 선로전환기 부품이 파손되었다. 1) 15Km/h스위치 : 정지신호(Ro) 현시구간을 넘어서 운전할 경우에 승인을 받고 취급하는 스위치 2) 할출(割出) : 선로전환기가 정당한 방향으로 개통되지 않았음에도 열차가 분기기의 배향 쪽에서 진 행하여 분기기를 파손하면서 지나간 상태 3) 할입(割入) : 열차가 선로전환기의 벌어진 틈새로 재진입하여 들어오는 것 → 탈선으로 이어짐 개요 서울3호선 지축차량기지 구내 전동열차 탈선사고 조사보고서 - 3 - 신호무시 진입 되돌이 운전 [그림2] 사고열차 탈선 상황도 항공철도사고조사위원회는「항공철도사고조사에 관한 법률」제2조(정의) 및 제18조(사고조사의 개시)에 따라 사고조사를 실시하였으며, 이번 사고의 주원인을 ‘기관사가 정지신호를 무시하고 운행하다가 선로전 환기를 할출한 후 관제원의 되돌이 운전 지시를 받고, 선로전환기 상태를 확 인하지 않고 되돌이 운전을 시행한 것’으로 결정하였다. 또한 이번 사고의 기여요인을 ‘기지관제원이 선로전환기 할출 및 할입 사 고에 대한 업무 매뉴얼을 적용하지 않는 것’ , ‘기지구내 선로의 선형이 입 환 작업시 출입고 열차의 진로를 지장 하는 구조로 되어 있는 것’으로 결정 하였다. 이에 항공ㆍ철도사고조사위원회는 서울교통공사에 5건의 안전권고를 발행 한다. 사실 정보 서울3호선 지축차량기지 구내 전동열차 탈선사고 조사보고서 - 4 - 1. 사실 정보 1.1 사고의 경위 2020년 2월 26일 서울교통공사 3호선에서 사고열차가 영업 운행을 마치고 기지로 입고하기 위해 구파발역을 출발(09:28경)하여 기지 방향으로 운행 중 관제원에게 입고하겠다고 보고하였다. 관제원은 기관사에게 ‘313편성은 검수고에서 입환중이니 신호에 따라 움직 이라’는 지시를 하였고, 기관사는 기지 외방에 설치되어있는 ‘일단정지표지’ 앞에 일단정지(09:31경) 하였다. 기관사는 [그림3]과 같이 입고신호기(2번)에 정지신호가 현시된 상태에서 ‘15Km/h스위치’를 임의로 취급(09:31:20)한 후, 정지신호를 모진4)하여 ‘302A 호 선로전환기’를 할출한 다음, 앞쪽 10번 신호기의 정지신호도 무시하고 운 행하였다. [그림3] 지축기지 2번 신호기 4) 신호모진 : 정지를 현시한 신호기 안쪽으로 승인을 받지 않고 무단으로 운행하는 위반운전 사실 정보 서울3호선 지축차량기지 구내 전동열차 탈선사고 조사보고서 - 5 - 09:33경 관제원은 기지관제실 열차운행표시반에 정지신호가 현시된 2번 및 10번 신호기 안쪽으로 열차가 진입하는 것을 확인하고 기관사에게 정지할 것을 지시하여 사고열차를 정차시켰다. 관제원은 302A호 선로전환기의 현장상태 확인절차 없이 ‘2번 신호기 방향 으로 되돌이 운전 하라’ 고 지시하였다. 09:35경 기관사가 되돌이 운전 지시를 받고 후부 차량의 차장(車掌)에게 ‘되돌이 운전을 하니 후부를 감시 해 달라’고 통보한 후, 역전기(방향 전환용 기기)를 ’후진’ 위치로 전환하여 되돌이 운전을 하였다. 이때 구내기관사가 기지 출고선에서 입환(k381편성) 운전 중 선로에서 이탈 하고 있는 사고열차를 발견하고 관제원에게 무선 보고 하였다. 관제원이 선로 이탈 상황을 보고 받고 기관사에게 정차할 것을 지시하였 고, 사고열차의 5번째 차량(3513호)의 앞 대차가 선로 우측으로 탈선하였다. 1.2. 피해 사항 1.2.1 인명피해 이 사고로 인명피해는 발생하지 않았다. 1.2.2 물적 피해 이번 사고로 전동차 1량이 탈선하여 [그림4]와 같이 객실통로 문 및 발판 이 손상되고, 공기스프링 및 디스크 제동장치, 레벨링 밸브 등이 파손되어 차량분야 약 2,150만원, 신호분야의 선로전환기 간류 일부가 파손되어 약 49 만원 등 총 2,199만원의 물적 피해가 발생하였다. 사실 정보 서울3호선 지축차량기지 구내 전동열차 탈선사고 조사보고서 - 6 - 그림4] 파손된 차량 부품 및 302A호 선로전환기 밀착조절간 사실 정보 서울3호선 지축차량기지 구내 전동열차 탈선사고 조사보고서 - 7 - 1.3 관계자 인적정보 및 업무수행사항 1.3.1 기관사 기관사(53세, 남)는 1995년 1월 25일 서울교통공사(구. 서울메트로)에 차장 으로 입사하여, 2011년 11월 기관사 발령 이후 2012년 8월 지축승무사업소에 전입하여 사고 당일까지 근무 중이었으며, 2009년「철도안전법」제10조에 의 한 ‘제2종 전기차량운전면허’를 취득하여 보유하고 있었다. 기관사의 출근 전 3일간의 행적은 2월24일 야간근무(승무사업 43다이아5)), 2월25일 비번, 2월26일은 휴무일이었으나 대체근무를 하게 되어 06:26경에 출근하였다. 출근 전 휴식은 충분히 하였으며「승무원지도운용규정 제46조」에 의한 승무시작 전 승무적합성검사에서 [그림5]와 같이 적합판정을 받았다. [그림5] 승무 시작 전 적합성 검사 결과 기관사가 3호선에서 영업운행을 마치고 기지로 입고하기 위해 구파발역에 서 기지 외방까지 회송운전을 한 후 관제원에게 입고상황을 보고하였다. 관제원은 “313편성은 검수고에서 입환 중이니 신호에 따라 움직이라”, “입 5) 승무사업 다이아 : 기관사  차장 등 승무원의 열차승무 일정표 사실 정보 서울3호선 지축차량기지 구내 전동열차 탈선사고 조사보고서 - 8 - 환차가 있으니 신호에 따라 이동하라”는 지시를 하였고 기관사는 지시에 따라 ‘일단정지표지‘ 앞에 일단 정차하였다. 일단 정차한 기관사는 기지구내 속도코드(25Km/h)를 수신되지 않은 상태 에서 관제원에게 승인을 받지 않고 임의로 ‘15Km/h스위치’를 취급하였다. 기관사는 ‘15Km/h스위치’를 취급한 상태에서 입고신호기(2번)의 정지신호 를 무시하고 진입하여, 반위 상태의 ‘302A호 선로전환기’를 할출한 후 앞쪽 의 10번 신호기 정지신호도 지나 운전하였다. 이를 확인한 관제원이 기관사에게 “신호를 모진하였으니 정차하라”고 지 시하였으며, 기관사는 운행속도 10Km/h 이하에서 제동 3스텝 정도로 취급 하여 열차를 정차시켰다. 기관사는 “신호를 모진한 것 같으니 되돌이 운전하라”는 관제원 지시를 받고(2회 정도) 후부 차장(車掌)에게 후진한다고 통보한 다음 역전기를 ‘후진’ 위치로 선택하여 약 3∼5Km/h의 속도로 되돌이 운전을 하였다. 이 과정에서 기관사는 TCMS6) 화면에 고장 경고음이 발생하였으나 “고장 내용에 대해 정확한 기억은 없으며 충격도 느끼지 못하였다”고 진술하였고, 잠시 후 수습 관제원과 차량직원이 현장으로 출동하는 것을 확인하고 운전 실 밖으로 내려가 차량이 탈선한 것을 확인하였다고 진술하였다. 기관사는 ‘관제원의 승인 없이 15Km/h스위치를 취급한 이유’와 ‘2번과 10번 신호기가 정지신호를 현시하고 있는데도 정지신호를 무시하고 진입한 사유’에 대해 “왜 그랬는지 모르겠다”고 진술하였고, “지적확인 환호를 하긴 했는데 무의식적으로 한 것 같다”고 답변하였다. 이와 같이 열차운전에 집중하지 못한 사유가 있는지를 알아보기 위해, 기 6)TCMS(Train Control Monitoring System) : 열차제어용 컴퓨터에 의해 차량의 운전제어 및 기기 작동상태와 고장상태 등을 표시하여 주는 장치. 사실 정보 서울3호선 지축차량기지 구내 전동열차 탈선사고 조사보고서 - 9 - 관사 본인의 동의를 얻어 이동전화 통화내역(09:20∼10:00)을 소속장을 통해 제출받아 확인하였으나 [그림6]과 같이 이동전화로 통화한 기록은 없었다. [그림6] 이동전화 통화내역 1.3.2 관제원 관제원(53세, 남)은 1993년 10월 22일 서울교통공사(구. 서울메트로) 성수승 무사업소에 차장으로 입사 후 2005년부터 기관사로 근무하였으며, 2014년 신 체검사와 적성검사에 합격한 후 관제원 교육을 받고, 2015년 1월 신정차량기 지 관제원, 2015년 6월부터 지축기지 관제원으로 근무 중이었다. 근무형태는 4조2교대 근무로서 비번, 휴무일 후 주간근무 중이었으며, 사 고 당일 4명의 근무자 중 1명은 임금피크제 휴가, 1명은 2020년 2월 21일자 로 관제원으로 발령되어 수습근무 중이어서 2명이 근무하고 있었다. 사고열차 진입 전 기지구내는 k381편성이 검수고 I-8번선에서 구파발역 방 향 출고선으로 진로를 구성하여 입환을 하고 있는 상황이었다. 관제원은 사고열차로부터 기지로 입고하겠다는 무선통보를 받은 후, “지 금 검수고 입환 중에 있으니 신호에 따라 움직이면 된다”라고 지시한 다음 입고열차 정보(열차 및 편성번호, 입고시간)를 수작업으로 기록하고 있었다. 입고열차 정보는 RIMS(차량정보화시스템)에 의하여 자동으로 기록되고 있 었으나 사고 당일은 시스템 장애로 인해 수작업으로 기록하고 있었다. 관제 원은 수작업으로 기록 중 열차운행표시반에 사고열차가 2번과 10번 신호기 의 궤도회로를 점유한 것을 발견하였다. 사실 정보 서울3호선 지축차량기지 구내 전동열차 탈선사고 조사보고서 - 10 - 이에, 관제원은 사고열차가 2번 신호기만 모진한 것으로 판단하였고, 10번 신호기는 입환 중인 k381편성의 후부가 점유한 것으로 오인하였으며, 기관사 에게 ‘차장과 협의하여 되돌이 운전할 것’ 을 지시하였다. 관제원은 ”이런 경우에 직접 현장을 확인한 후 후속 조치를 해야 했으나, 확인 조치를 결여했다”고 진술하였으며, 10번 신호기 모진을 오인한 것은 “장애가 발생한 RIMS에 관심이 분산되어 판단을 제대로 못 한 것 같다”고 진술하였다. 사고를 인지한 후 관제원 1명과 수습 관제원을 현장으로 출동시켜 사고열 차 중간 부분이 ‘302A호 선로전환기’에서 탈선된 것을 확인하였으며, 탈선 상황을 운전관제, 삼송기지관제실, 승무운용, 검수사무, 신호에 통보하였다. 기관사에게 되돌이 운전을 지시한 사유에 대해 “선로전환기가 배향7)인 상 태에서 열차가 진행했으므로, 그대로 되돌아오면 될 것으로 생각했다”, 또한 “신호 모진을 확인하고도 규정대로 시행하지 않고 임의로 되돌이 운전을 지 시한 것은 변명의 여지가 없다”고 답변하였다. 1.3.3 차장(車掌) 차장(26세, 남)은 2019년 11월 18일 서울교통공사에 차장으로 임용되어 사 고 당일까지 지축승무사업소에 근무 중이었으며, 2018년「철도안전법」제10 조에 의한 ‘제2종 전기차량운전면허’를 취득하여 보유하고 있었으며, 충분한 휴식 후 출근하였고 사고 당일의 승무적합성검사 결과는 이상이 없었다. 사고 당일 특이사항 없이 영업 운행을 하였고, 기지 입고 중 열차가 기지 외방에 일단 정차하는 것을 인지하였으며, 기지관제실에서 기관사에게 열차 무선으로 ‘신호 모진했느냐?’고 묻는 것을 들었지만, 후부에 있었기 때문에 앞쪽 운전실의 상황은 정확히 알 수 없었으며 충격이나 진동은 느끼지 못하 7) 선로전환기 배향 : 열차가 분기기 후단으로부터 전단으로 진행하여 분기기가 합쳐지는 방향 사실 정보 서울3호선 지축차량기지 구내 전동열차 탈선사고 조사보고서 - 11 - 였다고 진술하였다. 사고열차가 기지 내에서 진행하다가 정차한 후, 관제원이 기관사에게 되돌 이 운전을 하라는 열차무전을 들었다고 진술하였다. 이후 기관사로부터 “되돌이 운전을 하니 후부를 감시해 달라”는 통보를 받고, 되돌이 운전을 시작한지 얼마 지나지 않아 열차가 정차하였다고 진술 하였다. 1.3.4 사고열차의 운행기록 사고열차 운행기록은 [표1], [그림7]과 같다. 번호 시간 허용속도 주행속도 운행기록 비고 ① 09:31:20 15Km/h 0 Km/h 15Km/h 스위치 취급 미승인 ② 09:31:25 15Km/h 15 Km/h이하 출발 ③ 09:33:36 15Km/h 15 Km/h이하 2번신호기 모진, 302A 선로전환기 할 출, 10번신호기 모진 후 정차 출발 후 498m진행 ④ 09:33:51 15Km/h 0 Km/h 역전기 후진 위치 ⑤ 06:33:56 15Km/h 2 Km/h이하 되돌이운전 ⑥ 09:34:00 15Km/h 4 Km/h이하 되돌이운전 후 정차 (4미터 이동)) ⑦ 09:34:10 15Km/h 4 Km/h이하 되돌이운전 후 정차(9미터 이동) ⑧ 09:34:49 15Km/h 7 Km/h이하 되돌이운전 ⑨ 09:35:16 15Km/h 0 Km/h 47미터 되돌이운전 중 탈선 후 정차 [표1] 열차운행기록 분석 1 2 3 4 5 6 7 8 9 [그림7] 사고열차 운행기록 사실 정보 서울3호선 지축차량기지 구내 전동열차 탈선사고 조사보고서 - 12 - 사고열차는 09:31:25에 ‘15Km/h스위치’를 취급하고 출발하여 지축기지 2번 신호기 정지신호를 지나 ‘302A호 선로전환기’를 할출 한 후, 전방 10번 신호 기를 지나 약 498m를 진행하여 09:33:36에 정차하였다. 이후 관제원의 지시에 따라 약 60m를 되돌이 운전을 하여 09:35:16에 302A호 선로전환기에서 탈선 후 정차하였다. 1.3.5 열차무선 녹취록 [표2]에 보이는 것과 같이 관제원, 기관사 및 인접 차량 기관사간 무전기 녹취록을 확인 한 결과, 09:30경 기관사가 관제원에게 제3906열차 313편성이 입고하고 있음을 보고하자 관제원은 ‘검수고 입환 중에 있으니 신호에 따라 운행할 것’을 지시하였다. 09:33경 출고선으로 입환 중인 인접 차량의 기관사가 관제원을 호출하자 ‘잠시만 기다려 주세요’라고 응답하였다. 09:33경 관제원은 기관사를 호출하여 “신호기 밟았지요?”라며 2번 신호기 를 지나간 것을 확인 후, 맨 뒤 차량에 차장이 승차한 것을 확인한 다음 2번 신호기 뒤로 운행해야 하는 것을 사전 고지하자, 기관사도 “예. 알겠습니다” 라고 응답하였다. 09:34경 관제원이 기관사에게 차장과 협의해서 2번 신호기 외방으로 운행 할 것을 지시하자 기관사도 “예. 알겠습니다”라고 응답하였다. 09:35경 인접차량의 기관사가 “기지! 기지! 하지마세요. 하지마! 기지. 기 지”라고 통보하자, 관제원은 “313 기지 이상!”이라고 기관사를 호출하는 과 정에 입환 중인 인접 차량의 기관사가 “기지! 기지! 할출 했어”라고 열차의 탈선 사실을 급히 통보하였다. 사실 정보 서울3호선 지축차량기지 구내 전동열차 탈선사고 조사보고서 - 13 - [표2] 열차무선 녹취록 시 간 기지관제원 사고열차 기관사 313편성(입고선) 인접차량 기관사 381편성(출고선) 09:30:38 기지관제 나오세요. 3906열차 이상! 예. 기지 이상! 3906 말씀하세요. 313편성 사업 마치고 입고합 니다. 예. 313편성 수고하셨습니다. 지금 검수고 입환 중에 있습 니다. 신호 따라 움직이시면 됩니다. 알겠습니다. 수고하십시오. 09:33:06 기지 출고선 381 이상! 예. 출고선 381 기지 이상! 잠시만 기다려 주세요. 09:33:20 313 기지 이상! 아, 예. 아, 거 신호기 밟았지요? 네. 아, ~ 거 뒤에 차장 있죠? 네. 네. 2번 신호기 뒤로 좀 나오셔 야 됩니다. 아, 예. 알겠습니다. 09:34:01 예, 313 기지 이상! 예. 네 말씀하십시오. 313이요. 09:34:18 예. 313 네 네 차장과 협의해서 2번 신호기 외방으로 좀～ 예. 알겠습니다. 저～ 운전해주세요. 09:35:01 기지 기지! 하지마세요. 하지마. 기지, 기지 313 기지 이상! 기지 기지! 할출했어. 사실 정보 서울3호선 지축차량기지 구내 전동열차 탈선사고 조사보고서 - 14 - 1.3.6 기지 입출고선로 상태 지축기지의 선로배선은 검수고에서 유치선으로 또는 유치선에서 검수고로 차량을 입환 할 때 입고선 또는 출고선을 지장해야 하는 구조로 되어 있다. 사고 당일에도 검수고 I-8번선에서 입고선을 경유하여 출고선으로 이동하 는 입환 진로가 구성됨으로 인해 사고열차의 입고진로(2번 신호기)에 정지신 호가 현시되어 있었다. 입환 차량에 의한 입고진로 지장으로 인해 입고열차의 진입에 지장을 주 면 이번 사고처럼 입고열차가 신호를 모진할 경우에는, [그림8]과 같이 입고 열차와 입환 차량 간 접촉 등이 발생할 수 있는 우려가 있었다. [그림8] 지축기지 입출고선로 지장입환 예시 [표3]과 같이 지축기지 검수고에서 입환을 위해 입고선의 302A호, 302B호 선로전환기를 경유하는 운행 횟수는 일일평균 22회로 확인되었다. 선로명 회수 합계 I3 I4 I5 I6 I7 I8 I9 I10 C1 C2 C3 3월운행횟수 667 77 81 81 71 62 61 53 62 53 39 27 일평균운행 일일 평균 : 약 22회(667회/월) / 기간: 2020. 3. 1.∼3. 31 [표3] 검수고에서 입고선 지장 일일 입환횟수 사실 정보 서울3호선 지축차량기지 구내 전동열차 탈선사고 조사보고서 - 15 - [표4]와 같이 서울교통공사의 11개 차량기지 중 6개 기지가 입환을 할 때 입고선 또는 출고선을 지장하는 선형 구조인 것으로 확인되었다. 연번 차량기지 차량 입환 사용 선로 1 군자기지 북부검수고와 주공장, K선 , X선간 입환 시 1호선 출고선 사용 2 신정기지 검수고와 유치선 입환 시 입출고선 사용 3 지축기지 입출고선 사용 4 수서기지 수서 출고선 및 오금 출고선 사용 5 창동기지 노원 출고선 사용 6 방화기지 출고선 사용 [표4] 입출고선 지장입환 선형 구조의 6개 차량기지 1.3.7 관제원 선발 및 교육 기지관제원은「철도안전법」제21의5(관제자격증명의 신체검사), 제21조의 6(관제적성검사)에서 정하는 신체검사와 적성검사에 합격하고, 서울교통공사 에서 시행하는 기지관제 교육을 받으면 관제원 자격요건을 갖출 수 있도록 되어 있었다. 관제원의 선발 절차는 [표5]와 같으며 업무역량, 근무기간, 징계여부, 근무 평정 등을 종합적으로 고려하여 선발하며, 1~4호선과 5~8호선의 심의 주체 가 다르게 운용되고 있었다. 구분 공 고 심 의 발 령 1~4호선 희망자 파악 승무본부 심의위원회 해당 사업소로 심의결과 통보 기지관제업무 부여 5~8호선 희망자 파악 승무사업소 심의위원회 기지관제업무 부여 [표5] 기지관제원 선발 절차 서울교통공사「승무원지도운용내규」제31조(교육기간)에서는 기지관제업무 수행을 위한 교육 이수시간 및 교육내용을 [표6], [표7]와 같이 정하고 있으 사실 정보 서울3호선 지축차량기지 구내 전동열차 탈선사고 조사보고서 - 16 - 며, 신규 관제원으로 임용된 직원에 대하여 보완교육 및 실무수습을 5일 이상, 타 소속으로부터 전입된 직원에 대해서는 3일 이상 시행하고 있었다. 1∼4호선은 기지구내 운전을 담당하는 구내기관사와 신호를 취급하는 관 제원으로 분리되어 있었으며 열차운전 경력이 없는 인력도 포함되어 있었다. 5∼8호선은 관제원 전원이 열차운전 경력자로 구성되어 있었고 시험선 운전과 신호 취급을 같이 수행하고 있었으며 시험선 이외의 구내운전은 차 량직 구내기관사가 담당하고 있었다. 호선 교 육 기 간 비고 1~4호선 ∘ 실무수습 교육 (교통안전공단 별도 인증 없음) - 신규자: 보완 및 실무수습 5일이상 - 전입자: 보완 및 실무수습 3일이상 5~8호선 ∘ 실무수습 교육 (교통안전공단 별도 인증 없음) - 신규자: 보완 및 실무수습 5일이상 - 전입자: 보완 및 실무수습 3일이상 ∘ 입환 기관차 교육(교통안전공단 “차량인증” 필요) - 30시간 또는 600km 이상 ※ 1~4호선의 경우 구내기관사가 입환 기관차 운행 담당 [표6] 기지관제원 업무수행을 위한 교육 이수 시간 주요내용 이론교육(8h) 실습교육Ⅰ(16h) 실습교육Ⅱ(16h) ◦안전교육(MSDS포함) ◦신호취급 관련 규정 ◦기지관제실 기초실무 ◦업무처리 절차 ◦전산시스템 활용등 ◦운전취급 및 감시 ◦수신호의 취급 ◦선로전환기 상판청소 및 수동취급 ◦차량기지 신호취급 ◦기지구내 운전 협의 및 선로작업 통제 ◦차량기지 신호 취급 ◦고장시응급조치방법 ◦기타 운전취급방법등 [표7] 기지관제원 실무수습 교육내용 관제원에 대한 정기교육은「2020년 교육훈련 및 안전운행 승무분야 주요 사업 추진계획」에 의하여 철도안전교육, 일일교육, 운행장애 사례교육, 열차 운행 및 신호취급 기록부 분석교육, 지적확인환호 훈련, 기지기지관제실 비 상대응훈련, 입환기관차 훈련을 실시하고 있었다. 사실 정보 서울3호선 지축차량기지 구내 전동열차 탈선사고 조사보고서 - 17 - 교육내용 대부분은 승무원(기관사, 차장)과 유사한 교육이었으며, 비상대응 훈련, 사고복구훈련은 매분기 별도로 시행하고 있었다. 1.3.8 열차운행표시반 경보설비 상태 사고열차가 301AT를 점유하였을 때 기지관제실 열차운행표시반에 302AT 궤도회로 점유 표시가 [그림9]과 같이, 정위  반위 쪽 모두가 적색으로 표시 되어 사고열차가 정상적인 진로로 진입하지 않았음을 표시하고 있었다. 진입방향과 선로전환기 표시가 다를 때 표시(궤도점유 표시가 양쪽으로 표시) 선로전환기 개통 방향 사고열차 진행 방향 [그림9] 사고열차 302AT 점유시 열차운행표시반 화면표시 그러나 할출된 선로전환기에 대한 불일치가 표시되지 않았고, 메시지창에 는 [그림10]과 같이 열차운행표시반 화면표시와 동일한 시간인 09:33:03에 302AT 궤도회로 장애만 표시되었다. [그림10] 사고열차 지축기지 구내 운행상황 및 상태 메시지 사실 정보 서울3호선 지축차량기지 구내 전동열차 탈선사고 조사보고서 - 18 - 또한 기관사가 정지신호인 상태에서 2번 신호기를 넘어 진입하였음에도 경보음 등을 통하여 즉시 관제원에게 알리는 설비가 없었다. 할출 과정에서 [그림11]과 같이 차륜의 후랜지에 의해 기본레일과 첨단레 일의 간격이(약 50mm) 벌어져 있었으나, 열차운행표시반에는 302A호 선로 전환기 불일치가 표시되지 않아 관제원이 위험요인을 인지하지 못하였다. 차륜 후랜지 두께보다 넓게 벌어짐 (약50mm) (차륜 후랜지 두께 23~34mm) [그림11] 302A호 선로전환기 첨단레일이 벌어진 상태 1.3.9 인적오류 예방을 위한 교육 및 시설물 개선 실태 승무원 교육은 신호모진과 선로전환기 할출, 할출 후 할입으로 인한 탈선 사고 등을 예방하기 위해 사고사례교육과 지축기지 위험도 분석 등을 통하 여 시행하고 있었다. 관제원 교육은 ‘입환차량 구분진로 취급 최소화 교육’ 등과 일일 교육 시 ‘구내입환 표준업무 처리 절차서’에 따른 도상훈련을 실시하고 있었다. 기관사의 교육은 승무사업소에서「지축기지 구파발입고 자체교육 매뉴 얼」을 정하여, 세척고 앞 2번 신호기에 정지신호가 현시되었을 때, 부득이 한 경우 기지관제원의 승인을 받은 후에 ‘15Km/h스위치’를 취급하도록 교육 하고 있었다. 특히 2번 신호기의 정지신호 모진 사례를 확인한 결과, 2003년3월 24일 09:20분경 입고열차가 정지신호를 위반하여 301A호 선로전환기에 정차한 사실 정보 서울3호선 지축차량기지 구내 전동열차 탈선사고 조사보고서 - 19 - 사례 등 총 4건의 모진 사례가 발생한 것으로 확인되었다. 기관사가 검수고, 유치선 등에 진입할 때 인접선로의 신호를 오인하는 것 을 예방하기 위해 승무분야와 신호분야가 협력하여, [그림12]와 같이 해당 선 로의 중앙에 ‘궤도밀착신호기’를 설치하여 시인성과 판별성 향상을 위한 시 설물 보완조치를 하고 있었다. 또한 도착선 진로표시의 시인성 향상을 위해 [그림13]과 같이 ‘화살표’로만 표시되던 입고신호기 진로표시에 ‘글자표시가 추가 현시’되도록 하여 기관사 가 도착선 진로를 오인하지 않도록 하는 등 다 각도로 위험요인에 대하여 예방대책을 마련하고 있었다. [그림12] 궤도밀착신호기 [그림13] 도착진로 표시를 글자(검수)로 표기 사실 정보 서울3호선 지축차량기지 구내 전동열차 탈선사고 조사보고서 - 20 - 1.4 선로정보 사고 지점이 위치한 지축차량기지는 서울교통공사 3호선의 열차의 입출고 및 전동차 정비를 담당하는 곳으로 1985년 5월에 준공되었으며 기지 내 궤 도 연장은 20,925m이다. 사고 현장은 [그림14]와 같이 입고선 시점의 선로 기울기는 하향 30‰에서 변화하여 사고 지점인 302A호 선로전환기는 선로 기울기가 없는 수평 구간 이며, 사고 위치의 선로전환기는 자갈 도상 및 목(木)침목 형태의 SCO 선로 전환기8) 이다. [그림14] 탈선현장의 선형약도 8) SCO선로전환기(交線크로싱, scissors crossover, double crossover ) : 2조의 건넘선을 교차하여 중복 시킨 것으로 4조의 선로전환기와 1조의 다이아몬드 크로싱을 조합한 구조이다. 사실 정보 서울3호선 지축차량기지 구내 전동열차 탈선사고 조사보고서 - 21 - 1.4.1 선로에서의 탈선 흔적 [그림15]에 보이는 것과 같이 사고열차는 기지 입고선 시점부를 지나 되돌 이 운전으로 선로전환기(301A/B호, 302A/B호)를 통과하던 중, 302A호 선로 전환기 크로싱9) 후단 0.7m 지점에서 궤도를 이탈하였고, 침목과 체결구 등 에 흔적을 남기며 2.2m 진행 후 크로싱 노즈 부분 궤간 외측으로 5호차 앞 대차가 탈선되었다. [그림15] 탈선현장 약도 9) 크로싱: 선로전환기 궤간선이 교차하는 부분의 V자형 노즈레일(nose rail)과 X자형의 윙레일(wing rail)로 구성 사실 정보 서울3호선 지축차량기지 구내 전동열차 탈선사고 조사보고서 - 22 - 1.4.2 선로 유지관리 현황 서울교통공사 선로검사내규 (2018. 4. 19. 개정 제62호)에 따라 선로전환 기 인력 궤도틀림 검사 년1회, 도보 순회점검 2일 1회 이상 시행하였으며, 사고구간 302A호 선로전환기의 최근 2년간 실적은 [표8]과 같다. 일자 구분 작업위치 작업내용 작업량 2018.10.08. 지축기지 302A 이음매 해체점검 13개소 2018.10.05. 지축기지 301A/B, 302A/B분기 고저정정, 총 다지기 120개, 50개 2018.11.13. 지축기지 301A/B, 302A/B 총 다지기 50개 [표8] 사고개소 유지보수작업 현황 1.5 차량정보 1.5.1 사고열차의 조성과 주요 제원 사고열차는 VVVF 인버터 제어 전동차(313편성)로서 [그림16]과 같이 10량 (Tc1+M1+M2+T1+M2+T2+T1'+M1+M2+Tc2)으로 조성되어 있다. ⇦ (처음 진행방향) (되돌이운전 진행방향) ⇨ Tc1 M1 M2 T1 M2 T2 T1' M1 M2 Tc2 (3013) (3113) (3213) (3313) (3413) (3513) (3613) (3713) (3813) (3913) [그림16] 사고열차 편성 사고열차의 주요 제원은 다음 [표9]와 같다. 번호 항 목 사 양 1. 선로조건 1) 궤 간 2) 최대축중 3) 최대구배 4) 최소곡선반경 1,435mm 16ton 본선 : 35‰ 측선 : 45‰ 본선 : 140m 측선 : 100m 사실 정보 서울3호선 지축차량기지 구내 전동열차 탈선사고 조사보고서 - 23 - [표9] 사고열차의 주요 제원 1.5.2 사고열차 검수 현황 사고열차는 2009년 10월 현대로템(주)에서 제작하여 같은 달 30일에 영업에 투입한 전동차량으로서, 전동차 관리규정(서울교통공사 규정 제66호, 2017년 5월 31일 제정)에 따라 [표10]과 같이 종별 검수를 실시하였고 사고에 영향을 줄만한 사항은 발견되지 않았다. 2. 전기방식 1) 가선공칭전압 2) 전압변동 범위 3) 전차선 시스템 DC 1,500V DC 900V～ 1,800V 지상(카테나리식), 지하(강체가선) 3. 자중 및 차장 1) 자중(Ton) 2) 차장(m) 구분 M1 M2 T1 T2 TC 차중(t) 35.0 36.9 29.5 33.4 35.7 차장(m) 20.0 20.0 20.0 20.0 20.35 6. 열차성능 6.1 열차성능계산조건 1) 가선전압 견 인 회생제동 2) 차 륜 경 DC 1,500V DC 1,650V 820mm(성능계산) 6.2 열차성능 1) 설계 최고 속도 2) 최고 운행 속도 3) 가속도 4) 감속도(최대) - 상 용 - 비 상 5) 표정속도 6) 져크 한계 100km/h 80km/h 3.0km/h/s〔하중 200ton까지 일정〕 3.5km/h/s〔하중 200ton까지 일정〕 4.5km/h/s〔하중 200ton까지 일정〕 34.0km/h 이상 0.8m/sec3 이하 7. 전기적 시스템 1) 견인제어장치 2) 제어전압 3) 제어공기압 VVVF 인버터에 의한 제어 DC 100V〔70V~110V〕 AC380V, 60Hz 5kg/cm2±1kg/cm2 8. 속도제어방식 회생제동병용, 가변전압가변주파수(VVVF) 인버터에 의한 가/감속 제어(응하중부) 9. 제동방식 회생제동 병용, 전기지령식 공기제동(응하중부) 사실 정보 서울3호선 지축차량기지 구내 전동열차 탈선사고 조사보고서 - 24 - 검수 종류 (주기) 검수 일자 주요 검수 항목 일상검수 (3일 또는 72시간) '20.02.17 ‘20.02.20 ‘20.02.23 대차 및 차륜 외관검사 등 월상검수 (3개월, 5만km) ‘19.04.08 ‘19.08.26 ‘19.11.25 축상높이 및 차륜경 측정 등 중간검수 (3년, 50만km) ‘16.03.10 (전반검사하위검종으로시행) ‘19.06.03 대차 및 차축 비파괴검사 등 전반검수 (6년, 100만km) ‘16.03.10 [표10] 사고열차의 검수현황 1.6 신호 및 전기정보 1.6.1 신호정보 사고구간의 신호설비는 [표11]와 같이 전자연동장치, 차상신호, AF 및 PF 궤도회로, ATC 방식으로 구성되어 있다. 구 분 3호선 지축기지 제어방식 ATC (속도중심제어) 신호방식 차상 정위치 정차 수동 출입문 개폐 수동 차상속도제어 수동 ATO기능 불가 무인운전 불가 연동장치 방식 전자연동 제조사 유경제어(주) 설치연도 2012년 궤도회로 방식 유절연(임피던스본드) 무절연(임피던스본드) 종류 PF AF 제조사 유경제어(주) 설치연도 2012년 선로전환기 규격 NS-AM(국내표준) 제 조 사 ㈜삼삼 설치연도 2011년 [표11] 사고구간 신호설비 구성 사실 정보 서울3호선 지축차량기지 구내 전동열차 탈선사고 조사보고서 - 25 - [그림17]과 같이 전자연동장치의 기록이 표준시간 대비 11초 느리게 기록 되어 있어 이를 보정 하였다. [그림17] 전자연동장치 표준시간 비교 사진(표준시간 대비 11초 느림) 전자연동장치 기록 [그림18] ①∼⑩에서 보이는 것과 같이 기관사는 지축기 지에 입고하는 과정에서, 2번 신호기가 정지신호를 현시한 상태에서 신호를 무 시하고 신호기 안쪽으로 진입하여 ‘302A호 선로전환기’를 할출한 것으로 확인 되었다. 사고열차가 지축기지에 입고할 당시의 기지구내 입환 상황과 신호모진→ 되 돌이운전→ 탈선과정을 아래 [그림18] ①∼⑩ 으로 표시하였다. 사고열차가 되돌이 운전 중 5번째 전동차(입고방향) 앞 대차가 탈선하였고, 사고열차의 할출로 인하여 302A호 선로전환기 간류 및 기억쇠 일부가 파손되 었다. ① 09:24:28경 입환차량(K378편성) 4번 신호기-검수고 I4번 신호현시 사실 정보 서울3호선 지축차량기지 구내 전동열차 탈선사고 조사보고서 - 26 - ② 09:28:18경 입환차량(K378편성) 4번 신호기 내방으로 진입(302BT 점유) ③ 09:29:15경 입환차량(K378편성) 검수고 I4번선으로 진입(I4T 점유) ④ 09:30:22경 입환차량(K381편성) 검수고 I9번-4번 신호기 방향 신호현시(I9번 및 8번 신호현시) 사실 정보 서울3호선 지축차량기지 구내 전동열차 탈선사고 조사보고서 - 27 - ⑤ 09:31:01경 입환차량(K381편성) 검수고 I9번 신호기 내방으로 진입(312T 점유) ⑥ 09:32:19경 입환차량(K381편성) 8번 신호기 내방으로 진입(302AT, 302BT 점유) 사고열차 2번 신호기 외방 진입(Y3N-584T 점유) 302AT 3 0 1 A T ⑦ 09:32:56경 입환차량(K381편성) 302AT구간 점유, 302BT 점유 사고열차 2번 신호기 정지상태에서 진입하여 301AT 점유 사실 정보 서울3호선 지축차량기지 구내 전동열차 탈선사고 조사보고서 - 28 - ⑧ 09:33:03경 입환차량(K381편성) 302AT구간 벗어남(302BT 점유) 사고열차 2번 신호기 정지상태에서 진입하여 302AT 점유 ⑨ 09:33:11경 사고열차 302B 선로전환기 반위, 10번 신호기 정지 상태에서 진입(303T 점유) ⑩ 09:34:57경 사고열차 할출 후 되돌이 운전으로 크로싱부 궤도점유 표시(탈선추정) [그림18] 사고열차 지축기지 구내 운행상황 사실 정보 서울3호선 지축차량기지 구내 전동열차 탈선사고 조사보고서 - 29 - 1.6.2 전기 정보 사고구간은 지상 차량기지구내로서 전차선은 카테나리 형식이고 직류 1,500V 전기를 전동차에 공급하고 있었으며, 사고발생 전 해당 구간의 전기 관련 이벤트 기록은 없는 것으로 조사되었다. 1.7 기상정보 사고 당일 지축차량기지의 평균기온은 6.4℃, 습도는 59.6%, 흐린 날씨로 열차의 탈선사고에 영향을 끼치지 않았다. 분석 서울3호선 지축차량기지 구내 전동열차 탈선사고 조사보고서 - 30 - 2. 분석 2.1 관계자 업무수행사항 2.1.1 기관사 기관사는 승무 전 승무적합성검사에서 적합판정을 받았고, 교육 등의 제도 적 측면과 건강상태 등에서 사고를 일으킬 만한 요소는 발견되지 않았다. 그러나 문답 조사과정에서 나타난 사항을 검토해 보면 인적오류에 의해 발생한 사고라는 결론을 얻을 수 있었으며 오류를 분석해 보면 다음과 같다. 첫째, 기관사는 기지 외방의 일단정지표지에 정차한 것을 정확히 기억하지 못하고, 다만 ’15Km/h스위치를 취급하였으므로 정차한 것 같다’ 고 진술하 였다. 열차를 정차시키기는 했지만 확실한 의지로 한 것은 아니라는 의미로 서 순간적인 망각 상태였던 것으로 분석되었다. 또한 망각 상태였으므로「차량기지운전취급내규」74조에 의해 ’15Km/h스 위치를 취급하기 전 관제원의 승인을 받아야 하는 사항’도 실행하지 않은 것 으로 분석되었다. 둘째, 기관사가 지축기지 2번, 10번 신호기가 붉은색으로 정지신호가 현시 되어 주목성이 강함에도 이를 인식하지 못한 사유에 대해, ’지적확인을 하기 는 했는데 무의식적으로 한 것 같다’ 고 진술하였다. 이것은 인간의 의식 중에 순간적으로 깜박하거나 해야 할 행동을 망각하 고 실행하지 않는 인적 오류인 랩스(Lapse)10)가 발생하여, 지적확인환호11)의 시행을 무의식적으로 한 것으로 분석되었다. 10) 랩스(Lapse) : 연계적으로 일어나는 과정에서 해야할 행동을 망각하고 실행을 하지 않는 인적오류. 11) 「운전관계직원업무내규」제 29조 신호, 진로 등 확인 시 지적확인 환호 시행 분석 서울3호선 지축차량기지 구내 전동열차 탈선사고 조사보고서 - 31 - 셋째, 기관사는 관제원으로부터 되돌이 운전 지시를 받았을 때, 관제원에 게 후진할 경우 이상이 없는지를 확인한 다음 되돌이 운전을 해야 했으나 확인과정 없이 관제원의 지시에 따른 것으로 분석되었다. 사고 이후 승무사업소의 ‘기관사 응급조치 매뉴얼’ 을 확인한 결과 「선로 전환기 할출시 조치」에 관한 내용은 없는 것으로 조사되었다. 2.1.2 관제원 관제원은 [그림16]에 보이는「기지관제원 업무매뉴얼」의 ‘선로전환기 할출 및 할입 사고시 조치’에서 정하고 있는 ‘① 관제 및 신호 직원에게 사고 상 황을 알린 후 현장에 출동하여 상황을 보고받고, ② 출동한 직원은 기지관제 실에 연락하고, ③ 신호관리소는 복구작업에 착수하고, ④ 차량편성 조정, ⑤ 선로전환기 수동취급 및 수신호로 열차를 입ㆍ출고 시킨다’라는 점검ㆍ조치 사항을 지키지 않은 것으로 분석되었다. 관제원이 사고열차가 신호를 모진한 것을 확인한 후, 현장 확인 없이 기관 사에게 ‘차장과 협의해서 2번 신호기 외방으로 되돌이 운전할 것’을 임의로 지시하여 열차가 탈선하는 원인을 제공한 것으로 분석되었다. [그림16] 기지관제원 업무매뉴얼 분석 서울3호선 지축차량기지 구내 전동열차 탈선사고 조사보고서 - 32 - 관제원의 운전취급 과정에 대한 문답조사 내용 분석에서 인적오류 측면의 사고원인을 찾을 수 있었다. 첫째, 관제원은 RIMS의 장애가 있었기 때문에 당시의 상황에서 열차감시 를 우선적으로 시행해야 했으나, 열차안전운행에 있어서 후순위인 입고열차 정보를 수기로 기록함으로 인해 열차운행표시반 감시가 소홀해져 상황 판단 을 제대로 하지 못한 것으로 분석되었다. 둘째, 신호를 모진하여 선로전환기를 할출한 열차에 대하여 「기지관제원 업무 매뉴얼」의 ‘선로전환기 할입 및 할출사고시 조치’에 따라, 되돌이운전 을 지시하기 전에 현장 상태를 확인해야 하는 절차를 빠트리는 오류를 범한 것으로 분석되었다. 셋째, 사고열차가 302A호 선로전환기를 할출 하였으므로 되돌이 운전을 할 경우, 할입에 의해 반드시 탈선한다는 기본적인 개념을 알지 못하여 되돌 이 운전 지시라는 옳지 못한 결정을 내리게 된 것으로 분석되었다. 2.1.3 차장(車掌) 차장은 사고열차가 되돌이 운전을 할 때 기관사의 지시에 따라 후부를 감 시하였으므로 위반 사항이 없는 것으로 분석되었다. 2.1.4 관제원 선발과 교육 관제원은 1∼4호선과 5∼8호선이 통합되기 이전의 인력 운영방식으로 인 해 서로 다른 기준과 절차로 선발하고 있지만, 앞으로는 선발 기준과 절차를 통일할 필요가 있다고 분석되었다. 관제원에 대한 교육은 법정교육과 공사 자체교육계획에 따라 정기 또는 수시로 실시하고 있었으나, 승무원과 직무교육을 병행하여 실시하고 있었으 분석 서울3호선 지축차량기지 구내 전동열차 탈선사고 조사보고서 - 33 - 며 비상대응훈련과 사고복구훈련을 매분기 실습시설이 없는 상태에서 시 행하는 것으로 조사되었다. 사고복구 실습시설이 없는 상태에서 시행하는 교육으로 인해 체계적인 교 육이 부족하고 사고발생시 대처가 미흡하므로, 사고처리역량 강화를 위해, 사고복구 실습 시설이 갖추어질 때 까지, 사용빈도가 낮거나 사용하지 않는 선로전환 설비 등을 활용하여 사고복구 실습훈련을 실시할 필요가 있다고 분석되었다. 또한 일부 노선의 경우 열차운전 경험이 없는 인력이 관제원에 포함되어 있으므로 신호분야 등의 협조를 받아 전문성을 높이는 방안이 필요하다고 분석되었다. 지축기지 구내배선의 특성에 따른 지축기지의 ‘2번 신호기’ 모진 위험성에 대비해, ‘15Km/h스위치’를 승인 없이 임의로 취급하는 행위를 위험요소로 지정한 것은 적정한 것으로 분석되었다. 2.1.5 열차운행표시반 경보설비 사고열차가 ‘302A호 선로전환기’를 할출하였을 때 열차운행표시반에는 할 출된 선로전환기에 대한 ‘불일치’가 표시되지 않았으며, 메시지창에는 열차운 행표시반 화면표시와 동일한 ‘302AT 궤도회로 장애’만 표시되었다. 따라서 선로전환기가 훼손되어 기본레일과 첨단레일의 간격이 일정간격 이상 벌어졌을 때, 선로전환기 밀착을 검지할 수 있는 설비를 설치하고 선로 전환기 불일치 상태를 열차운행표시반에 표시하고, 열차가 신호를 모진하고 진입할 때 경보음을 발생시키는 등의 설비개선이 필요한 것으로 분석되었다. 2.1.6 선로 배선 분석 서울3호선 지축차량기지 구내 전동열차 탈선사고 조사보고서 - 34 - 서울교통공사의 11개 차량기지 중 6개 기지는 입환 작업을 할 때 출고선 이나 입고선을 경유해야 하는 선형으로 되어 있는 것으로 조사되었다. 지축기지에는 1985년 개통 당시 입환을 위한 남부 인상선이 부설되어 있 었으나, 이후 1996년 1월 30일 기존의 3호선과 일산선을 연결하기 위해 지축 기지에서 일산선(삼송 방향)으로 차량 출입고를 위한 삼송 출입고선을 추가 건설하는 과정에서, 기존의 남부인상선 철거 및 시험선의 모양이 변경되면서 별도의 인상선 없는 구조로 바뀐 것으로 파악되었다. 이와 같이 지축기지는 별도의 인상선이 없어 입고선을 경유하는 입환(선로 전환기 302A호, 302B호 경유)을 하루 평균 22회 시행함으로서, 2번 신호기에 정지신호가 현시되는 상황이 발생함에 따라 신호모진으로 인한 사고발생이 우려되므로, 사고의 개연성을 근본적으로 차단할 수 있는 선형 변경이 필요 한 것으로 분석되었다. 또한 입출고선을 경유하는 입환으로 인해 입출고열차가 지장을 받는 상황 이 발생하면 구내입환 보다 입출고열차를 우선 취급하는 운전취급이 필요한 것으로 분석 되었다. 2.2 선로분석 서울교통공사「선로검사내규」제8조에 따라 선로전환기 궤도틀림 인력 검 사, 도보 순회점검 등은 규정에 따라 시행하고 있었다. 2.3 차량분석 사고열차는 서울교통공사의 검수기준인「전동차관리규정 및 2,3호선 VVVF 인버터 전동차 유지보수 시행예규」에 의하여 정기적으로 검수되고 있었으며 탈선에 영향을 줄만 한 특이한 사항은 없었다. 2.4 신호분석 분석 서울교통공사 3호선 지축차량기지 전동열차 탈선사고 - 35 - 사고열차와 관련하여 2020년2월26일 09:00∼09:30까지 전자연동장치에 남 아있는 신호취급 및 동작기록을 분석한 결과, 기관사는 09:32:56에 지축기지 2번 신호기의 정지신호를 무시하고 진입하여 09:33:03에 302A호 선로전환기 가 포함된 302AT 궤도회로를 점유하였다. 궤도점유 약 6~7초 후 당시 반위로 전환되어 있던 302A호 선로전환기를 할출하였으며, 관제원의 지시에 의해 09:34:57에 되돌이 운전 중 첨단레일이 기본레일과 벌어져 있던 302A호 선로전환기에서 사고열차 5호차(입고방향) 앞 대차가 탈선된 것으로 분석되었다. 2.5 종합 분석 기관사는 관제원의 승인 없이 ‘15Km/h스위치’를 임의로 취급하여 정지신 호가 현시되어 있는 2번 및 10번 신호기 내방으로 열차를 운행하여 ‘302A호 선로전환기’를 할출 하였다. 관제원은 열차 통제시 열차운행표시반을 지속적으로 감시하여야 하나, RIMS의 장애로 인해 수작업으로 입고열차 정보를 기록하느라 주의력이 분 산되어 입고 열차와 입환 차량을 혼동하였다. 관제원은 「기지관제원 업무매뉴얼」에 따라 선로전환기를 할출한 현장 상 태를 확인해야 했으나, 이를 행하지 않고 기관사에게 되돌이 운전할 것을 지 시하였다. 기관사는 관제원으로부터 되돌이 운전 지시를 받았을 때 선로전환기 개통 방향 등 후부 선로상태를 확인해야 했으나, 후부 상태를 확인하지 않은 상태 에서 되돌이 운전을 실시하여 302A호 선로전환기에서 열차가 탈선하였다. 결과적으로, 기관사는 정지신호를 무시하고 운행하다가 선로전환기를 할출 하였으며, 관제원은 현장 상태를 확인하지 않고 되돌이 운전 지시를 하였고, 결론 서울3호선 지축차량기지 구내 전동열차 탈선사고 조사보고서 - 36 - 지시를 받은 기관사는 선로전환기의 개통 방향 등 후부의 선로상태를 확인 하지 않은 상태에서 되돌이 운전을 한 것이 이번 탈선사고의 주요 원인으로 분석되었다. 3. 결론 3.1 조사 결과 3.1.1 기관사는 지축기지 입고 2번 신호기의 정지신호 현시를 확인하고 일단 정지표지 앞에 일단 정차하였으나 인적오류 랩스(Lapse)가 발생하여 정 차했던 사실을 기억하지 못하고 있는 것으로 조사되었다. 3.1.2 기관사는 기지 외방의 ‘일단정지표지’ 위치에 정차한 후 관제원의 승인 을 받지 않고 ‘15Km/h스위치’를 임의로 취급한 것으로 확인되었으며, 규정위반(Violation)의 인적오류를 범한 것으로 조사되었다. 3.1.3 기관사는 지적확인환호를 무의식적으로 시행하고 2번신호기 정지신호 를 인지하지 못한 상태로 진입하여, 다른 방향으로 진로가 구성되어 있 는 ‘302A호 선로전환기’를 할출 하였다. 이후 할출을 인지하지 못한 상 태에서 앞쪽의 10번신호기 정지신호를 넘어 진행한 것으로 조사되었다. 3.1.4 관제원은 입고 열차와 입환중인 차량의 운행상황을 지속적으로 감시 하지 못하였다. 이는 RIMS의 장애로 입고열차 번호 등을 수기 기록하 느라 주의력이 분산되었고 자신이 지시한 사항에 대한 기억실패(Slip)에 의한 것으로 분석되었다. 3.1.5 관제원은 사고열차가 2번 신호기를 모진하고 302A호 선로전환기를 할 출한 상황을 뒤늦게 발견하고 정차할 것을 지시하였다. 이후 10번 신호 기 모진을 사고열차 진입 이전에 시행했던 입환 차량이 점유하고 있는 것으로 잘못 알고 있었던 것으로 조사되었다. 결론 서울3호선 지축차량기지 구내 전동열차 탈선사고 조사보고서 - 37 - 3.1.6 관제원은 열차 또는 차량이 선로전환기를 할출 후 할입 하였을 때는 반드시 탈선한다는 개념을 알지 못하여, 사고열차가 302A호 선로전환 기를 배향에서 진입하였으므로 퇴행하면 문제가 없을 것으로 판단한 것으로 조사되었다. 3.1.7 관제원은 선로전환기 할출 사고 발생시 현장에 출동하여 상황을 파악 해야 하는 「기지관제원 업무매뉴얼」에 따르지 않고 기관사에게 되돌 이 운전을 지시하였다. 3.1.8 기관사는 관제원으로부터 되돌이 운전 지시를 받은 후 후부의 이상 유 무를 확인하지 않고 되돌이 운전을 시행하였으며,「기관사 응급조치 매 뉴얼」에는 ‘선로전환기 할출시 조치’ 내용이 없는 것으로 조사되었다. 3.1.9 지축기지는 선로 배선 구조상 302A호302B호 선로전환기를 경유하여 입출고 선로를 지장하는 차량 입환이 하루 평균 22회 시행하고 있었으 며, 그때 입고열차가 있을 경우 2번 신호기에 정지신호가 현시되므로 신호모진으로 인한 위험요인이 있는 것으로 조사되었다. 3.1.10 사고열차의 전동차는「전동차관리규정」에 의하여 정기적으로 검수되 고 있었으며 탈선에 영향을 준 사항은 없는 것으로 조사되었다. 3.1.11 신호의 취급과 현시와 진로설정 등이 이번 탈선사고에 영향을 미치지 않았으나, 선로전환기 할출 등으로 인하여 기본레일과 첨단레일이 일정 간격 이상 벌어질 경우, 선로전환기 밀착을 검지하는 설비를 설치하여 불일치 상태를 열차운행표시반판에 표시하고 경보음을 발생시키는 등 의 시청각적 설비개선이 필요한 것으로 조사되었다. 결론 서울3호선 지축차량기지 구내 전동열차 탈선사고 조사보고서 - 38 - 3.2 사고 원인 항공철도사고조사위원회는 이번 사고의 주원인을 ‘기관사가 정지신호를 무시하고 운행하다가 선로전환기를 할출한 후 관제원의 되돌이 운전 지시를 받고, 선로전환기 상태를 확인하지 않고 되돌이 운전을 시행한 것’으로 결정 하였다. 또한 이번 사고의 기여요인을 ‘기지관제원이 선로전환기 할출 및 할입 사 고에 대한 업무 매뉴얼을 적용하지 않는 것’ , ‘기지구내 선로의 선형이 입 환 작업시 출입고 열차의 진로를 지장 하는 구조로 되어 있는 것’으로 결정 하였다. 안전권고 서울3호선 지축차량기지 구내 전동열차 탈선사고 조사보고서 - 39 - 4. 안전 권고 항공ㆍ철도사고조사위원회는「항공ㆍ철도사고조사에 관한 법률」제26조(안 전권고 등)에 따라 2020년 2월 26일 서울 3호선 지축차량기지에서 발생한 전 동열차 탈선사고에 대하여 다음과 같이 권고한다. 4.1 서울교통공사에 대하여 4.1.1 다음 사항을 포함하여 인적오류로 인한 사고를 예방하기 위한 종합대 책을 마련하여 시행할 것 - 기관사가 관제원 승인 없이 15Km/h스위치를 취급한 것, 정지신호를 무시하고 운행한 것. - 관제원이 「기지관제원 업무매뉴얼」을 확인하지 않고 기관사에게 되 돌이 운전을 지시한 것. ※ 관제원은 이례상황 발생시 업무매뉴얼에 의하여 관계자에게 지시할 수 있 도록 시행절차를 개선할 것. 4.1.2 기관사에 대해 다음 사항을 개선하여 시행할 것. - 관제사 및 관제원 승인사항 및 지적확인환호의 명확한 시행 등에 대하 여 지도교육점검을 지속적으로 실시하고 그 결과를 기록 유지할 것. -「응급조치매뉴얼」에 ‘선로전환기 할출시 조치’ 내용을 추가하여 교육을 철저히 시행할 것. 4.1.3 기지관제원에 대해 다음 사항을 개선하여 시행할 것. - 모든 차량기지에서 신호ㆍ진로 설정시 입출고 열차와 차량 입환이 경 합될 때는 입출고 열차에 대한 신호ㆍ진로를 먼저 취급하도록 구내운 전 취급절차(운전취급 우선순위)에 의할 것. - 사고처리 역량 향상을 위한 현장실습 시설이 갖추어질 때까지 사용빈 도가 낮거나 사용하지 않는 선로전환기 등의 시설물을 활용하여 전문 교육을 시행할 것. 안전권고 서울3호선 지축차량기지 구내 전동열차 탈선사고 조사보고서 - 40 - 4.1.4 차량기지에서 입출고선 등 열차운행차량입환 등으로 인하여 사용빈도 가 높은 개소의 선로전환기가 할출 등으로 기본레일과 첨단레일 간격 이 벌어지면 이를 검지하여 열차운행표시반에 표시할 수 있도록 설비 를 개선할 것. 4.1.5 기관사가 정지신호를 무시하고 열차ㆍ차량을 운행할 경우 기지관제실 열차운행표시반에 경고음과 메시지 등 시청각적으로 인지될 수 있도록 개선 방안을 강구할 것. - 41 - 이 보고서는 사고조사 과정에서 관계인들로부터 청취한 진술 및 개인정보 등이 포함되어 있어, 　『항공ᆞ철도사고조사에 관한 법률』제28조(정보의 공개금지) 및 같은 법 시행령 제8조(공개를 금지할 수 있는 정보의 범위)에 의하여 이 보고서(인쇄본)에 개인정보는 공개하지 않았으며, 국민 여러분의 이해를 돕기 위해 전문 철도 용어를 쉽게 풀어서 쓴 점을 양해하여 주시기 바랍니다. 자세한 사항은 항공ᆞ철도사고조사위원회로 문의하여 주시기 바랍니다.\n",
            " 보고서번호: ARAIB/R 2019-6 철 도 사 고 조 사 보 고 서 한국철도공사 태백선 고한역 구내 53 A/B 분기기(제천역 기점 80.468㎞ 지점) 제3381화물열차(16량) 열차 탈선 2018년 8월 18일(토) 10시 25분경 2019. 12. 23. 항공･철도사고조사위원회 이 조사보고서는 「항공․철도사고조사에 관한 법률」제2 조(정의)에 의거 사고조사가 이루어졌으며, 제25조(사고 조사보고서의 작성 등)에 따라 작성되었다. 같은 법률 제1조(목적)에서 ‘철도사고 조사는 독립적이고 공정한 조사를 통하여 사고 원인을 정확하게 규명함으로써 철 도사고의 예방과 안전 확보에 이바지함’을 목적으로 하고 있다. 또한, 제30조(다른 절차와의 분리)에 따라 ‘사고조사는 민․형사상 책임과 관련된 사법절차, 행정처분절차 또는 행정쟁송절차와 분리․수행’되어야 하고, 제32조(불이익의 금지)에서 ‘위원회에 진술․증언․자료 등의 제출 또는 답변을 한 사람은 이를 이유로 해고․전 보․징계․부당한 대우 또는 그 밖에 신분이나 처우와 관련하여 불이익을 받지 아니한다.’라고 규정하고 있다. 그러므로 이 조사보고서는 철도분야의 안전을 증진시 킬 목적 이외의 용도로 사용되어서는 아니 된다. 차 례 한국철도공사 태백선 고한역구내 화물열차 탈선사고 - I - 차 례 제목 1 개요 2 1. 사실정보 4 1.1 사고의 경위 4 1.2 피해사항 5 1.3 인적정보 및 업무수행사항 5 1.4 현장정보 9 1.5 차량정보 12 1.6 기상정보 13 2. 분석 14 2.1 업무수행사항 분석 14 2.2 화물의 적재 분석 14 2.3 선로상태 분석 19 2.4 차량 분석 24 2.5 종합 분석 32 3. 결론 33 3.1 조사결과 33 3.2 사고원인 36 4. 안전권고 37 4.1 한국철도공사에 대하여 37 제목 한국철도공사 태백선 고한역구내 화물열차 탈선사고 - 1 - 한국철도공사 태백선 고한역 구내 화물열차 탈선사고  운영기관 : 한국철도공사  운행노선 : 태백선  발생장소 : 고한역구내 53 A/B 분기기(제천역 기점 80.468㎞ 지점)  사고열차 : 제3381 화물열차(16량)  사고유형 : 열차탈선  발생일시 : 2018년 8월 18일(토) 10시 25분경 [그림1] 탈선사고 약도 제목 한국철도공사 태백선 고한역구내 화물열차 탈선사고 - 2 - 개요(Synopsis) 2018년 8월 18일 09시37분경 제3381화물열차(16량)가 예미역에서 철광석을 싣고 고한역에 10시 19분경 도착하여 무궁화호 열차와 교행하고 출발하는 과정에 10시 25분경 열차의 맨 후부가 53A/B호 분기기를 지날 때 마지막 차 량 후부대차 4축 우측 차륜이 레일위로 타고 오른 후 우측으로 탈선되어 다 른 차량과 분리되면서 우측으로 전도되었다. [그림2] 탈선사고 사진 이번 사고로 인명피해는 발생하지 않았으며, 탈선 화차의 대차 프레임 및 차륜 등이 손상되어 차량분야에서 약 4,100만원의 물적피해가 발생하였다. 항공․철도사고조사위원회는 항공․철도사고조사에 관한 법률 제2조(정 의) 및 제18조(사고조사의 개시)에 따라 사고조사를 실시하였다. 이번 사고의 주 원인은 ‘건넘선 부상지점에 들뜬 침목이 있는 것과 화물 적재시 철광석을 편적한 것, 사고 화차의 축상고가 기준보다 낮은 것이 복합 적으로 작용하여 탈선한 것’으로 결정하였다. - 3 - 또한 이번 사고의 기여요인은 ‘53A/B호 분기기간 건넘선의 길이가 시공기 준 보다 짧은 것, 궤도의 수평 및 뒤틀림이 보수기준을 초과한 것, 53A/B 분 기기 부분의 도상 두께가 부족하고 토사혼입율이 기준을 초과한 것, 화차 일 부 축상의 모서리가 접촉판보다 높게 제작된 것’으로 결정하였다. 따라서 항공․철도사고조사위원회는 사고조사 결과에 따라 한국철도공사 에 7건의 안전권고를 발행한다. 사실정보 한국철도공사 태백선 고한역 구내 화물열차 탈선사고 - 4 - 1. 사실정보 1.1 사고의 경위 제3381열차(이하 “사고열차”라 한다)는 2018년 8월 18일 09시37분경 태백 선 예미역에서 전기기관차 2량과 철광석 16량을 실은 화차와 연결한 뒤 제 동시험을 이상없이 완료하고 출발하였다. 사고열차는 자미원역, 민둥산역, 사북역을 통과하고 고한역에서 무궁화호 열차와 교행하기 위해 고한역 4번선에 10시 19분경 도착하였다. [그림3] 같이 사고열차는 10시 23경 고한역 4번선에서 출발하여 10시 25분 경 33km/h 속도로 운행 중 열차의 맨 후부가 53A/B호 분기기를 지날 때 마지 막 차량 후부대차 4축 우측 차륜이 탈선되어 다른 차량과 분리되면서 우측 으로 전도되었다. [그림3] 탈선 상황도 사실정보 한국철도공사 태백선 고한역 구내 화물열차 탈선사고 - 5 - 1.2. 피해사항 1.2.1 인명 피해 이번 사고로 인명 피해는 발생하지 않았다. 1.2.2 물적 피해 이번 사고로 물적 피해는 탈선 화차의 대차 프레임, 마모판, 윤축, 스프링 등이 파손되어 차량분야에서 약 4,164만원, 레일 굴곡, 침목 파손, 선로전환 기 첨단간 기억쇠 등이 파손되어 선로분야에서 약 261만원이 발생되었다. 1.3 인적정보 및 업무수행사항 1.3.1 사고열차 기관사 사고열차의 기관사(56세, 남, 이하 사고열차 기관사라 한다.)는 1987년 9월 11일 (구)철도청 제천기관차사무소 기관조사로 임용된 후 1995년 7월 8 일 제천기관차승무사무소 기관사로 임용되었으며, 2006년 7월 1일 디젤과 전 기 1종 철도차량 운전면허를 취득하여 사고 당시까지 운전업무에 종사하고 있었다. 사고열차 기관사는 사고 당일 6시경 출근하여 측정한 음주테스트 결과는 양호하였다. 사고열차 기관사는 사고 당일 조차장역에서 화차를 연결하여 입석역까지 운행한 뒤 화차를 분리하고 단행기관차로 예미역까지 운행한 뒤 예미역에서 철광석을 실은 화차 16량을 연결하여 운행하였으며 태백역에서 승무 교대할 예정이었다. 사고열차 기관사는 예미역 출발 후 약 20km/h에서 제동시험을 하여 10km/h에서 완해하였다. 이후 자미원역은 40km/h 이하 타력으로 진입하여 사실정보 한국철도공사 태백선 고한역 구내 화물열차 탈선사고 - 6 - 진출하면서 제동 취급하여 30km/h 이하에서 제동을 해방한 뒤 회생제동으로 민둥산역까지 운행하였다. 민둥산역 출발 시 25km/h 속도로 진출하여 절연구간을 통과하였으며 견인 운전으로 사북역까지 운행, 이후 사북역에서 고한역까지는 상구배 운전으로 주간제어기로 속도를 제어하였다고 진술하였다. 사고열차 기관사는 고한역 4번선에서 무궁화열차와 교행 한 뒤 사고열차 를 출발하기 위해 제동을 완해하고 주간제어기로 전압게이지 눈금이 파란색 부분 최소위치에서 견인을 시작 인장 상태로 공전을 방지하면서 속도가 35km/h가 넘지 않도록 주간제어기를 상승(40에서 50퍼센트 사이)시키며 운 전하던 중 비상제동이 체결되어 순간적으로 제동관 압력이 강하하는 것을 볼 수 있었고 자연 정차되어 처음엔 정차된 사유를 공기호스가 파열된 것으 로 짐작하였으며 전기와 공기제동변은 사용하지 않았다고 진술하였다. 1.3.2 사고열차(EL8537호) 운행기록 [그림4]와 같이 사고열차의 운행기록을 분석해 본 결과 10:23:39에 고한역 을 출발하여 견인력을 40%이하로 증가시켜 10:25:00경 약33km/h속도로 운행 중 제동관 압력이 급감하며, 10:25:04경 견인력이 차단되고 비상제동이 체결 되며 10:25:16경 열차가 정차하였다. 사실정보 한국철도공사 태백선 고한역 구내 화물열차 탈선사고 - 7 - ① ② ③ ④ ⑤ ⑥ 구분 시 간 속도 견인력 차 량 상 태 비 고 ① 10:18:14 0 0 열차 정차 ② 10:22:42 0 0 공기제동 완해 ③ 10:23:39 0 12% 열차 출발 478.6m 이동 ④ 10:25:00 33 39% 제동관 압력 급감(화차탈선 추정) ⑤ 10:25:04 26 40% 견인력 차단, 비상제동 체결 ⑥ 10:25:16 0 0 열차 정차 [그림4] 사고열차의 운행기록 정보 1.3.3 예미역 로컬관제원 예미역 로컬관제원(50세, 남, 이하 “로컬관제원”이라 한다)는 1996년 8월 1 일 (구)서울지방철도청 서울객화차사무소 검수원으로 최초 임용되었으며, 2011년 6월 7일 충북본부 역무원으로 환직하여 2017년 12월 31일 민둥산역 역무팀장으로 발령받았고, 사고 당시에는 예미역 로컬관제원의 지정휴무로 대체 근무를 하고 있었다. 로컬관제원은 8시 55경 예미역 5번 선로에 도착한 사고열차의 기관차를 이용하여 화물열차와 연결하는 작업을 시행하였으며, 기관차를 9번 선로로 사실정보 한국철도공사 태백선 고한역 구내 화물열차 탈선사고 - 8 - 진입시켜 16량의 화차와 연결하여 5번 선로로 이동시킨 후 차량의 관통 등 열차로 조성한 후 제동시험을 실시하여 9:37경 출발신호기를 조작하여 열차 를 출발시켰다. 1.3.4 고한역 로컬관제원 고한역 로컬관제원(51세, 남, 이하 “로컬관제원”이라 한다)는 1993년 2월 5 일 (구)철도청 영주지방철도청 추전역 구내원으로 최초 임용되었으며, 2018 년 6월 30일 고한역에 발령받아 사고당일 8시 50분경 출근하여 부역장의 지 정 휴무로 부역장 대체 근무를 하고 있었다. 로컬관제원은 센터관제사의 지시로 하행 사고열차와 상행 제1636호 무궁 화 열차와 고한역에서 교행시키기 위하여 10시 3분경 사고열차를 4번선에 진입시키기 위하여 하 장내신호를 취급하고 사고열차 기관사에게 무선으로 고한역의 착선을 통보하였으며, 10시 19경 사고열차를 4번선에 도착 시켰다. 10시 20분경 무궁화호 열차 장내신호를 취급하여 3번 선로에 도착시키고 4번선의 사고열차의 출발신호를 취급하고 무선으로 발차 지시한 뒤 3번선의 무궁화호 열차를 출발시켰으며 이후 사고열차 기관사로부터 탈선 사실을 무 선으로 통보 받았다. 사실정보 한국철도공사 태백선 고한역 구내 화물열차 탈선사고 - 9 - 1.4 현장정보 1.4.1 사고현장에 관한 정보 [그림5]와 같이 사고열차가 고한역 4번선에서 3번 본선으로 진출하는 과정 에 53A/B 분기기에서 맨 마지막 화차의 뒷대차 우측 차륜이 53B 크로싱 노 스부1)로부터 6.2m 지나 건넘선 위치에서 부상이 시작되고 2.1m 타고 올라 운행하다 탈선(80.468km)하여 29.5m 더 지나 다른 차량과 분리되면서 궤도 우측으로 전도되었다. [그림5] 탈선현장 사진 및 약도 1) 크로싱 노스부(crossing nose) : 분기기를 구성하는 일부분이며, 궤간선이 교차하는 부분으로 V자형 의 노스레일(nose rail)과 윙레일(wing rail)로 구성되어 있다.. 사실정보 한국철도공사 태백선 고한역 구내 화물열차 탈선사고 - 10 - 53A/B 분기기의 선로기울기는 4번선 1.9‰, 3번선 1.7‰이며 10번 편개분 기기로 열차의 운행 제한속도는 35km/h 이하이다. 53A호 선로전환기는 망강크로싱 관절식이며 53B호 선로전환기는 조립식 크로싱의 관절식으로 침목은 나무재질이며 궤도는 자갈도상으로 50kg 레일 이다. 1.4.2 탈선상황 및 흔적 [그림6]과 같이 최초의 흔적은 53B와 53A 분기기 사이의 건넘선 레일 상 부에 흔적이 발견(80.466km)되었고, 이후 열차가 레일을 타고 오른 상태에서 2.1m를 이동하다 침목에 탈선된 흔적(80.468km)이 발견되었으며 이것은 마 지막 차량 3번, 4번 차륜의 흔적으로 조사 되었다. 또한 두 번째 타고 오름 흔적은 53A분기기의 크로싱부를 지나 리드부2) 시점에서 발견(80.475km)되었고, 열차가 약 9m 더 이동하다 탈선된 흔적 (80.484km)이 발견되었으며 이것은 마지막 차량 1번, 2번 차륜의 흔적으로 조사 되었다. 2) 리드부(cross over) : 선로전환기에서 포인트(전철기)와 크로싱을 연결하는 부분 사실정보 한국철도공사 태백선 고한역 구내 화물열차 탈선사고 - 11 - [그림6] 탈선현장 상세조사 사실정보 한국철도공사 태백선 고한역 구내 화물열차 탈선사고 - 12 - 1.5 차량정보 1.5.1 사고열차 조성내역 사고열차는 EL8537(제어차)+EL8558(피제어차)+화차16량(철광석 실은 차) 로 조성되어 있었다. 1.5.2 사고열차 주요 제원 사고열차의 주요 제원은 다음과 같다. 1) 8500대 기관차 - 최고속도: 150km/h - 연속 정격 출력: 6,600kW (8,850마력) - 공칭전압/주파수: 25kV, 60Hz - 중량: 132톤 - 길이: 22,520mm (연결기 면간) - 대차 중심간 거리: 10,380m (중간축 기준) - 대차형식: 3축 볼스타레스 대차 - 고정축거: 4,250mm (2,250mm + 2,000mm) - 1차 스프링, 2차 스프링: 코일 스프링 - 차륜직경: 1,250mm(신조) 1,170(한도) - 최소곡선반경: 80m (차고선), 250m (운행선로) 2) 화차 구 분 제 원 구 분 제 원 차량길이 12,310 mm 자중 25.6 ton 차량폭 3,200 mm 최대 적재하중 50 ton 차량높이 3,140 mm 대차종류 용접대차 축간거리 1,800 mm 연결기종류 AAR E형 속도 100km/h 제동방식 편압식 [표1] 화차 주요 제원 사실정보 한국철도공사 태백선 고한역 구내 화물열차 탈선사고 - 13 - 1.5.3 사고 화차 검수 현황 사고 화차는 객화차 유지보수 기준(한국철도공사 내규, 2016년 7월 19일 개정)에 따라 검수를 실시하였고 최근 실시한 정비이력은 [표2]와 같다. [표2] 사고 차량의 정비이력 (1998. 1. 16. 신차 도입) 1.5.4 차량 피해 현황 [그림7]과 같이 탈선 화차의 대차 프레임 및 차륜 등이 손상되었다. [그림7] 차량 피해 1.6 기상정보 2018년 8월 18일 10시 25분경 강원도 정선군 정선읍의 기온은 23.8℃, 습도 48%, 풍속 1.3m/s이었으며 기상조건이 탈선 사고에 영향을 미치지 않은 것으 로 조사되었다. NO 검종 시행 일시 시행 소속 1 기본검수 2018년 8월 13일 동해차량사업소 2018년 8월 7일 동해차량사업소 2018년 8월 2일 동해차량사업소 2 경정비(LI-6) 2013년 4월 3일 동해차량사업소 2012년 4월 11일 (GI-1) 대전차량사업소 2011년 5월 4일 순천차량사업소 3 중정비(GI-2) 2016년 12월 28일 대전정비단 2010년 7월 2일 대전정비단 분석 한국철도공사 태백선 고한역 구내 화물열차 탈선사고 - 14 - 2. 분석 2.1 업무수행사항 분석 2.1.1 사고열차 기관사 사고열차 기관사는 음주 등 위반 사항은 없었으며, 사고열차 운행 시 운행 기록 분석 결과와 같이 고한역을 출발하여 견인력을 40%이하로 증가시켜 속도를 조절하며, 사고 구간을 33km/h속도로 운행하여 제한속도 35km/h를 초과하지 않았으며, 열차에 충격을 줄 만한 기기취급은 없었다. 2.1.2 예미역과 고한역 로컬관제원 예미역과 고한역의 로컬관제원은 철도교통관제센터 관제사의 지시에 따라 열차에 대한 신호취급과 운행을 제어하며 관제 업무를 수행하였다. 2.2 화물의 적재 분석 2.2.1 화물 적재 [그림8]과 같이 사고열차의 화물 적재과정을 역사의 녹화 CCTV 영상으로 확인한 결과 사고 당일 6시 5분부터 8시 50분까지 굴삭기로 화차 16량을 적 재하였으며 화차 1량당 17버켓이 적재되는 것을 확인하였다. [그림8] 사고열차 화물 적재 화면 분석 한국철도공사 태백선 고한역 구내 화물열차 탈선사고 - 15 - [그림9]와 같이 사고 이후 2018년 9월 5일 예미역에서 사고열차와 동일한 형식의 화차 및 굴삭기 기사를 활용하여 화차 1량당 17버켓의 화물을 적재 하는 재현시험을 실시하였다. [그림9] 화물 적재 재현 시험 및 상황도 [그림10]과 같이 상부 전차선은 단전 조치 후 8번선 방향으로 이동 시킨 뒤 화물을 적재하며 이 과정에 굴삭기버킷과 전차선간 접촉 우려와 굴삭기 의 위치 관계로 적재장 측으로 더 많이 실어 화물이 편적되고 있었다. [그림10] 화물 적재 상태(사진으로 볼 때 우측으로 편적) 분석 한국철도공사 태백선 고한역 구내 화물열차 탈선사고 - 16 - 2.2.2 화물 계량 한국철도공사 예미역은 화물의 과적방지 또는 미적을 예방하기 위하여 「철도화물운송 내규」에 따라 살화물3) 계량을 위해 [표3, 4]와 같이 ‘비중 산정표’, ‘화차별 살화물 적재 기준표’를 작성하여 사고열차와 같이 철광석 화 물을 계량한 것으로 조사되었다. 비중 산정표 품 명 철광석 생산지 한덕철광(주) 작성월일 2018.4.26 규 격 산 품 위 0.15~10mm 적재방법 굴삭기 특기사항 정기 비중산정 검량회수 용기중량 실중량 용적 비중 비고 1 2 3 4 5 0.063 ton 0.318 0.125 ㎥ 2.54 용기규격 50X50X50cm 도형기번호 NO:070202, 030-038 0.300 2.40 0.292 2.33 0.287 2.29 0.297 2.37 평균 0.299 ton 2.39 [표3] 2018년 예미역 비중산정표 철광석 적고량에 따른 비중 계산법은 다음과 같다. * 비중계산 방법 : 비중 = 실중량/용적 * 예) 0.318ton/0.125㎥ = 2.54 * 용적 = 가로*세로*높이(용기규격을 ㎥로 환산) ① 차종별 ② 화차번호 ③ 화차제원 ④ 비중 ⑤ 적재고 ⑥ 공간 치수4) ⑦ 실중량 장 폭 고 하중 용적 홉파형 무개화차 (873량) 60001 ~ 60325 (325량) 960 ㎝ 301 ㎝ - 51 ton 42 ㎥ 2.39 72㎝ 60326 ~ 60450 (125량) 940 301 - 50 42 2.39 73 60451 ~ 60612 (162량) 940 301 - 50 42 2.39 73 60612 ~ 60873 (261량) 940 301 - 50 42 2.39 73 [표4] 화차별 살화물 적재 기준표 3) 포장되지 않은 석탄, 철광석 등의 화물을 말한다. 4) 공간치수 : 화차 맨 위부터 아래쪽으로 적재높이 측정용『자(尺)』로 빈 공간을 측정함 분석 한국철도공사 태백선 고한역 구내 화물열차 탈선사고 - 17 - 사고당일 굴삭기 운전원이 화차(16량)에 철광석을 적재하고 예미역에 통보 하여 역무원이 적고량 측정자5)를 휴대하고 [그림11]과 같이 철광석 적재상태 를 확인 후 맨 처음 화차부터 3량 간격으로 샘플 측정하여 공간치수가 75cm 이상6)인 것을 확인 하였으며 과적은 없었다고 진술하였다. 75 cm 눈금 75 cm [그림11] 화물 적재 후 역무원의 적고량 측정 사진 사고 이후 사고화차 16량 중 탈선되지 않은 15량의 화차는 동해항 선박에 철광석을 선적하기 위해 선적장에 화물을 내려 무게를 계량할 수 없었다. [그림12], [표5]와 같이 사고 이후 2018년 8월 21일 예미역에서 사고열차와 동일한 형식의 화차 16량에 철광석을 적재7)하여 동해역에서 계량한 결과 화 차 당 50톤(49.7~45.7톤) 이하로 과적은 없는 것으로 조사되었다. 1호차 계중 결과 16호차 계중 결과 [그림12] 화차별 계중기 검량 결과표 5) 자체 제작한 약 1m 이상의 나무막대, 75cm 등 눈금을 적어놓음 6) 기준 공간 치수(72~73cm) 미만이면 과적으로 판단함 7) 사고 당시 굴삭기 기사에게 당시와 동일하게 철광석을 싣도록 하여 화차 당 17버켓를 적재함. 분석 한국철도공사 태백선 고한역 구내 화물열차 탈선사고 - 18 - 화차순서 실 중량(톤) 초과(톤) 부족(톤) 비 고 1 45.720 0 4.280 2 48.720 0 1.280 3 46.320 0 4.680 4 49.280 0 0.720 5 49.580 0 0.420 6 49.700 0 0.300 7 45.520 0 5.480 8 48.280 0 1.720 9 47.060 0 2.940 10 46.620 0 3.380 11 47.800 0 2.200 12 48.620 0 1.380 13 47.760 0 2.240 14 47.680 0 3.320 15 47.560 0 2.440 16 48.140 0 1.860 [표5] 화차 16량의 계중값 분석 한국철도공사 태백선 고한역 구내 화물열차 탈선사고 - 19 - 2.3 선로상태 분석 2.3.1 분기기 건넘선 부설상태 [그림13]과 같이 사고구간의 선로상태를 조사한 결과 53A/B 분기기 건넘 선간 길이가 8.0m로 시공기준 11.3m 보다 3.3m 짧게 부설되어 있는 것을 확 인하였으며, 건넘선이 시공기준과 같이 부설되어 있을 경우 건넘선이 직선으 로 형성되어 차량이 원활하게 통과할 수 있으나, 시공기준보다 짧은 경우에 는 건넘선에 급곡선(s-curve, 반향곡선)이 형성되어 차량 통과시 횡압 등의 증가로 주행안전성이 저하되는 것으로 분석되었다. 4번 부상점 탈선점 P53B P53A 3번 ☜고한방향 태백방향☞ 8m(-3.3m) (설계 11.3m) 이음매 이음매 [그림13] 53A/B 분기기 건넘선 시공상태 2.3.2 분기기 침목 들뜸 상태 [그림14]와 같이 부상지점 앞뒤로 침목 6정에 걸쳐 약 5~15mm의 뜬 침목 이 발견되어 열차 운행시 궤광8)의 침하 현상 발생되는 것으로 조사되었다. 8) 궤광(軌匡 track pannel) : 레일에 침목을 붙임으로서 사다리 모양의 형상이 되어 있는 것. 분석 한국철도공사 태백선 고한역 구내 화물열차 탈선사고 - 20 - A B C D E F 부상 탈선 B 침목 C 침목 D 침목 E 침목 [그림14] 부상지점 들뜬 침목 2.3.3 분기기 도상두께 및 토사혼입율 [그림15]와 같이 부상 지점 전후 5m 간격으로 도상두께와 토사혼입율을 측정한 결과 도상두께는 약 150mm로 [표7]과 같이 공사 「선로유지관리지침 (2016.12.30., 개정)」 제50조(도상자갈의 두께) ‘설계속도 V≤70에서 250mm 확보’ 기준 보다 약 100mm 부족하였다. 또한 토사혼입율은 약 30%로 동 지침 제54조 (자갈치기) ‘① 도상자갈치기 의 기준은 아래 각 호와 같다. 단, 토사혼입율이 너무 많아서 자갈치기가 비 경제적일 경우에는 도상을 갱신할 수 있다. 1. 일반철도 도상내에 토사혼입 율이 25% 이상’ 기준 보다 약 5% 초과하였다. [표6] 설계속도에 따른 최소 도상두께 분석 한국철도공사 태백선 고한역 구내 화물열차 탈선사고 - 21 - 토사혼입률 측정(약 30%) 도상두께 측정(약 150mm) [그림15] 부상지점 도상두께와 토사혼입율 2.3.4 궤도검측 2.3.4.1 선형검측기 측정 결과 [그림16~17]과 같이 사고 구간을 선형측정기로 측정한 결과 수평틀림(캔 트)은 부상지점 2m전 부터 보수한도 기준 20mm를 2~5mm 초과하였으며 부 상지점에서는 3.29mm 초과하였다. 또한 선로 뒤틀림도 기준 18mm를 3.17mm 초과한 것으로 조사되었다. 궤간은 부상지점 3m 전에서 기준 – 5~30mm 보다 7.82mm 부족하였으며, 방향틀림은 부상지점에서 기준 18mm 보다 우측18.1mm, 좌측25.62mm 초과하였으나 궤간과 방향틀림 측정값은 분 기기내 주레일, 가드레일, 분기부 등이 연결되는 구조에 따른 측정값 오류로 판단되어 사고조사에 반영하지 않았다. [그림16] 선형검측기 측정 값 분석 한국철도공사 태백선 고한역 구내 화물열차 탈선사고 - 22 - [그림17] 선형검측기 측정 결과 분석 2.3.4.2 궤도검측차 측정 결과 [그림18~19]와 같이 사고 구간을 궤도검측차로 측정한 결과 53B 분기기 크 로싱부 후단부터 부상지점까지 수평틀림(캔트), 수평(좌우 선로 고저차), 선 로 뒤틀림 등은 모두 보수한도 이내 인 것으로 조사되었다. [그림18] 궤도검측차 측정 값 분석 한국철도공사 태백선 고한역 구내 화물열차 탈선사고 - 23 - [그림19] 궤도검측차 측정 결과 분석 2.3.4.3 선형검측기와 궤도검측차 측정 결과 비교 분석 사고 구간의 선형측정기와 궤도검측차의 측정 결과가 다르게 나타나 [그림 20]과 같이 두 개의 분석 그래프 중 수평틀림(캔트)의 큰 피크 두 개의 위치 를 일치9)시켰을 때 선형검측기 결과와 궤도검측차 결과가 연관성을 보였다. 즉 궤도검측차 결과에서 부상위치가 80,451.75m가 아닌 80,463m 근처인 것 으로 판단되며 이 경우 선형검측기와 궤도검측차의 측정 결과는 수평틀림(캔 트)이 기준을 각각 3.29mm, 0.43mm 초과하는 것으로 분석되었다. [그림20] 선형검측기와 궤도검측차 측정 결과 비교 분석 9) 선형검측기 결과를 우측으로 11.25m 이동하거나 궤도검측차 결과를 좌측으로 11.25m 이동 분석 한국철도공사 태백선 고한역 구내 화물열차 탈선사고 - 24 - 2.4 차량 분석 2.4.1 검수현황 분석 사고 기관차와 화차의 최근 실시한 검수이력을 조사한 결과 정비주기 초 과 등의 문제는 발견되지 않았다. 2.4.2 탈선 화차 분해 검사 2.4.2.1 차륜 치수 탈선 화차의 차륜 두께, 플랜지 두께, 높이 및 차륜간 내측거리를 측정한 결과 모두 객화차 유지보수 기준을 만족하였다.([표7]) 구분 한도 (mm) L측 R측 #1 #2 #3 #4 #1 #2 #3 #4 차륜 두께 (원형 : 65) 65∼23 65 65 65 65 65 65 65 65 후랜지 두께 (원형 : 34) 34∼23 31 32 31 32 33 33 32 33 후랜지 높이 (원형 : 25) 25∼35 25 26 25 25 25 25 25 25 내측거리 1349∼1356 (#1) 1352 (#2) 1353 (#3) 1353 (#4) 1353 [표7] 차륜 치수 (16호차) 2.4.2.2 연결기 생크면 윤활 상태 탈선 화차 뿐 아니라 사고 열차에 조성되어 있던 화차의 연결기 생크면을 조사한 결과 [그림21]과 같이 도유 흔적이 없는 것이 확인되었다. 이로 인해 연결기 생크부가 원활하게 회전하지 못할 가능성이 있다. 그러나 사고 현장 의 분기기 통과 시 [그림23]과 같이 연결기 너클부에서 필요한 회전이 이루 어지고 있으며 사고 당시 급격한 추진이나 제동이 없었으므로 연결기를 통 해 전달된 횡력은 탈선에 영향을 주지 않은 것으로 판단된다. 분석 한국철도공사 태백선 고한역 구내 화물열차 탈선사고 - 25 - 탈선 차량의 연결기 생크면 상태 (도유 안 됨) 너클 부분에서 회전 [그림21] 연결기 생크면 도유 상태와 너클부 회전 2.4.2.3 센터 피봇 및 사이드베어러 마모판 화차의 회전저항에 영향을 주는 센터 피봇 마모판 및 사이드베어라 마모 판을 조사한 결과 탈선에 영향을 줄 만한 특이한 사항은 발견되지 않았다. ([그림22], [그림23]) [그림22] 센터피봇 마모판 [그림23] 사이드베어러 마모판 2.4.2.4 축상과 대차프레임 사이의 접촉 흔적 분석 한국철도공사 태백선 고한역 구내 화물열차 탈선사고 - 26 - [그림24]와 같이 탈선된 화차의 왼쪽 후미대차 축상(차축 베어링 박스) 모 서리와 대차프레임 사이에서 새로 발생한 것으로 보이는 접촉 흔적이 발견 되었다. 이는 사고열차가 사고 현장을 주행할 때 후미대차 왼쪽 축상과 대차 프레임이 접촉할 정도로 코일스프링이 변형되었기 때문이라고 판단된다. 접촉판 [그림24] 축상 모서리와 대차프레임 접촉 흔적 (16호차 후미 대차 왼쪽) 왼쪽 후미대차 축상 뿐 아니라 대부분의 축상 모서리에서는 [그림25]와 같 이 오래된 대차프레임과의 접촉 흔적이 발견되었다. [그림25] 축상 모서리와 대차프레임 접촉 흔적 (16호차 후미 대차 오른쪽) 축상모서리에 접촉 흔적이 심하게 나타난 3번과 4번 왼쪽 축상 모서리를 조사한 결과 [그림26]과 같이 축상모서리가 축상 접촉판보다 약 2mm 높아 대차에 큰 변위 발생 시 축상 모서리가 접촉판 보다 먼저 접촉하게 되는 것 이 발견되었다. 분석 한국철도공사 태백선 고한역 구내 화물열차 탈선사고 - 27 - [그림26] 축상 모서리와 축상 접촉판의 높이 비교 (16호차 후미 대차 왼쪽) 축상설계서를 검토한 결과 [그림27]와 같이 축상 접촉판의 치수는 130mm 이고 행거브라켓 취부개소인 모서리는 128mm 로서 설계상으로는 축상 상부 의 접촉판이 모서리보다 2mm 더 높게 설계되어 있으나 탈선화차(16호차)의 왼쪽 3번과 4번 축상은 약 2mm 정도 더 낮게 제작되어 있었다. 따라서 16 호차 왼쪽 3번과 4번 축상스프링에 큰 변형이 생겼을 때 축상과 대차프레임 은 축상 접촉판에서 접촉이 발생하지 않고 축상 모서리에서 먼저 접촉이 발 생하고 있었다. 130mm128mm [그림27] 축상 설계서 분석 한국철도공사 태백선 고한역 구내 화물열차 탈선사고 - 28 - 결국 사고열차의 거의 모든 축상 모서리에서 발견된 대차프레임과의 접촉 흔적은 이곳이 맞닿을 정도로 코일스프링이 변형되었다는 것을 입증하며 심 하게 접촉한 흔적이 있는 축상은 제작 오차에 의해 모서리 부위가 중앙의 접촉판 보다 더 높기 때문에 발생한 것이라 판단된다. 2.4.2.5 코일스프링 강성 및 차량 중량에 따른 축상고 사고 화차의 코일스프링 설계 도면에 코일스프링은 [그림28]의 그래프와 같은 특성을 가지고 있다. 이러한 코일스프링 특성으로 스프링 처짐량을 구 하면 [그림28]과 같다. 코일스프링 특성 처짐량 ① ② ③ ④ ① 공차 시 스프링 처짐량: 26.2mm (공차 중량: 1,110.3x16 = 17,765kg) ② 내측 코일스프링이 닿기 시작 ③ 영차 시 스프링 처짐량: 65.6mm (영차 중량: 4,360.3x16 = 69,765kg) ④ 설계 최대 하중 시 처짐량: 86.2mm (최대 중량: 6,630.6x16 = 106,090kg) 공차 시 축상고(④-①) = 60mm (18톤) 영차 시 축상고(④-③) = 20.6mm(70톤) 설계최대하중시 축상고 = 0mm(106톤) [그림28] 코일스프링 특성 및 축상고 [표8]과 같이 코일스프링 도면에서는 공차중량이 17,765kg인 화차를 가정 하여 처짐량과 축상고 등을 계산하였으므로 공차중량이 약 26,000kg인 사고 화차에 대해서 모든 코일스프링에 하중이 균등하게 분포되었다고 가정하고 스프링 처짐량을 구하면 약 38mm 이고 이때 축상고는 약 48mm 이다. 따라 서 한국철도공사의 화차 유지보수 기준(한국철도공사 내규, 2018년 4월 9 일 개정)에서 규정한 축상고 60mm를 만족하기 위해서는 화차 유지보수기준 분석 한국철도공사 태백선 고한역 구내 화물열차 탈선사고 - 29 - 에서 언급한 대로 스프링 하부에 라이너를 사용하여 높이를 조정하여야 한 다. 이때 필요한 라이너의 두께는 약 12mm 이다. 공차 중량 코일스프링 처짐량 축상고 축상고 조정량 조정된 축상고 17,765kg 26.2mm 60.0mm 0.0mm 60.0mm 26,000kg 38.5mm 47.7mm 12.3mm 60.0mm [표8] 공차 상태에서의 축상고 조정 15호차는 [그림29]에서 보는 바와 같이 모든 코일스프링 하부에 약 19mm 정도의 라이너가 들어가 있는 것이 확인되었다. 그러나 탈선 화차인 16호차 는 [그림29]에서 보는 바와 같이 모든 코일스프링 하부에 라이너가 들어가 있지 않은 것이 확인되었다. 15호차 15호차(라이너 있음) 16호차 16호차: 라이너 없음(네모 속 맨 아래 부품은 스프링 홀더임) [그림29] 축상고 조정 결과 비교 분석 한국철도공사 태백선 고한역 구내 화물열차 탈선사고 - 30 - 또한 [표9]와 같이 15호차의 축상고는 모두 기준을 만족하고 있었지만 16 호차는 대부분의 축상에서 기준을 초과하고 있었다. 16호차는 탈선 충격으로 대차프레임과 코일스프링이 변형되었을 수도 있지만 16호차가 라이너 없이 대차가 조립되었기 때문에 공차 상태에서 축상고가 약 48mm 정도 밖에 되 지 않았던 것으로 판단된다. 차호 L측 R측 #1 #2 #3 #4 #1 #2 #3 #4 15호차 62 61 63 62 63 65 62 60 16호차 55 55 63 40 46 54 45 70 [표9] 축상고 측정 결과 (한도: 60~65mm) 그러나 공차 중량이 가벼운 화차든 무거운 화차든 간에 영차 중량 70톤에 서는 축상고 설계치가 20.6mm 이므로 1호차에서 15호차까지 모두 약 12mm 정도의 라이너를 사용해서 축상고 조정 작업을 하고 16호차만 축상고 조정 작업을 하지 않았다면 1호차에서 15호차까지는 영차 조건에서 축상고가 33mm 이고, 16호차만 축상고가 20.6mm이 된다. 이는 사고열차가 사고 지점 을 33km/h의 속도로 통과할 때 1호차에서 16호차까지 동일한 스프링 변위가 발생했더라도 1호차에서 15호차까지는 축상과 대차프레임 하부가 접촉하지 않았지만 16호차만 축상과 대차프레임 하부가 접촉하여 스프링의 기능을 상 실하게 되었다는 것을 설명한다.([그림30]) [그림30] 축상과 대차 프레임 접촉 분석 한국철도공사 태백선 고한역 구내 화물열차 탈선사고 - 31 - 2.4.2.6 코일스프링 강성 측정 결과 사고 화차(16호) 및 그 앞에 조성되어 있던 15호차의 코일스프링 강성 측 정시험결과는 [표10] 및 [표11]와 같다. 번호 위치 스프링상수 (kgf/mm) 위치 스프링상수 (kgf/mm) 15호차 1L-1 47.73 1R-1 46.81 1L-2 46.02 1R-2 45.58 2L-1 44.90 2R-1 45.66 2L-2 45.43 2R-2 45.58 3L-1 47.63 3R-1 47.13 3L-2 48.08 3R-2 46.73 4L-1 45.19 4R-1 45.81 4L-2 46.34 4R-2 47.29 16호차 1L-1 46.20 1R-1 44.33 1L-2 45.08 1R-2 48.39 2L-1 44.77 2R-1 45.06 2L-2 50.75 2R-2 47.39 3L-1 47.81 3R-1 45.05 3L-2 45.96 3R-2 45.06 4L-1 48.06 4R-1 47.00 4L-2 45.82 4R-2 47.14 [표10] 코일스프링 강성 측정 결과 (외측) (기준치: 42.35kgf/mm ±10%) 번호 위치 스프링상수 (kgf/mm) 위치 스프링상수 (kgf/mm) 15호차 1L-1 68.99 1R-1 74.79 1L-2 71.56 1R-2 77.26 2L-1 68.34 2R-1 75.05 2L-2 69.89 2R-2 72.77 3L-1 74.79 3R-1 72.28 3L-2 75.31 3R-2 72.04 4L-1 72.04 4R-1 81.71 4L-2 72.53 4R-2 74.07 16호차 1L-1 75.63 1R-1 72.97 1L-2 76.44 1R-2 75.10 2L-1 73.77 2R-1 76.71 2L-2 76.44 2R-2 73.77 3L-1 74.53 3R-1 72.33 3L-2 74.79 3R-2 73.52 4L-1 72.28 4R-1 81.59 4L-2 74.53 4R-2 73.27 [표11] 코일스프링 강성 측정 결과 (내측) (기준치: 67.38kgf/mm ±10%) 분석 한국철도공사 태백선 고한역 구내 화물열차 탈선사고 - 32 - 강성측정 결과 15호차는 약 38%, 탈선화차인 16호차는 50%의 내측과 외 측 코일스프링이 강성 기준의 +10% 상한치를 초과하는 것으로 나타났다. 그 러나 16호차는 탈선 및 복구 과정에서 코일스프링이 변형되었을 가능성이 있고, 기준치를 초과하는 모든 코일스프링은 강성이 증가한 것이므로 이번 사고와 같이 타고 오름 탈선이 발생하도록 스프링에 큰 처짐을 발생시킨 요 인으로 작용하지는 않은 것으로 판단된다. 2.5 종합분석 사고 열차의 철광석이 진행방향 왼쪽으로 편적되어 있었으며, 탈선된 16번 째 화차는 축상고 조정 작업 시 라이너를 넣지 않고 대차를 조립하여 앞에 연결된 15량보다 축상고가 낮은 상태로 운행 중이었다. 또한 탈선된 화차의 축상 모서리가 중앙의 접촉판 보다 2mm 높게 제작되었으며, 분기기 건넘선 길이가 시공기준보다 3.3m 짧고, 건넘선 부상지점에 들뜬 침목이 있어 수평 틀림(캔트), 수평 및 뒤틀림이 보수한도를 초과한 구간을 사고열차가 통과할 때 후미 대차 왼쪽 축상과 대차프레임이 접촉할 정도의 변위가 발생하여 반 대편 우측 차륜이 탈선하게 되었다. 결론 한국철도공사 태백선 고한역 구내 화물열차 탈선사고 - 33 - 3. 결론(Conclusions) 3.1 조사결과(Findings) 3.1.1 사고열차 기관사는 음주 등 위반 사항은 없었으며, 예미역에서 고한역 까지의 운전 취급 및 고한역 출발 시 동력차의 견인 상승 등 운전 취 급은 정상적이었다. 3.1.2 열차 운행기록 분석결과 고한역을 발차하여 견인력 40%이하로 속도를 상승시켜 33km/h에서 탈선되었으며, 열차에 충격을 줄 만한 기기취급은 없었던 된 것으로 조사되었다. 3.1.3 예미역과 고한역의 로컬관제원은 철도교통관제센터 관제사의 지시에 따라 열차에 대한 신호취급과 운행을 제어하며 관제업무를 수행하였다. 3.1.4 사고 화차의 적재과정을 CCTV 영상으로 확인한 결과 화차 1량당 굴삭 기로 17버켓을 적재하였으며, 이후 동일한 형식의 화차 16량에 철광석 을 적재하여 계량한 결과 화차 당 50톤 이하로 과적은 없었다. 3.1.5 화물 적재 재현시험 결과 적재 과정에 굴삭기 버켓이 전차선과 접촉 우려로 화물이 열차 진행방향 좌측으로 편적되는 것을 확인하였다. 3.1.6 사고구간의 53A/B 분기기 건넘선간 길이를 측정한 결과 8.0m로 시공 기준 11.3m 보다 3.3m 짧게 부설되어 운영하여 온 것을 확인하였다. 3.1.7 부상지점의 침목 6정에 약 5~15mm의 뜬 침목이 발견되었으며, 도상두 께는 약 150mm로 기준 보다 약 100mm 부족하고 토사혼입율은 약 30%로 기준 보다 약 5% 초과하였다. 3.1.8 부상지점의 선형측정기 측정 결과 보수한도 기준 대비 수평틀림은 3.29mm 초과, 선로 뒤틀림은 3.17mm 초과한 것으로 조사되었다. 결론 한국철도공사 태백선 고한역 구내 화물열차 탈선사고 - 34 - 3.1.9 사고 지점의 선형측정기와 궤도검측차의 측정 그래프 중 수평틀림(캔 트)의 큰 피크 두 개의 위치를 일치시켜 분석한 결과 선형검측기와 궤 도검측차의 측정 결과는 수평틀림(캔트)이 기준을 각각 3.29mm, 0.43mm 초과하는 것으로 분석되었다. 3.1.10 사고 기관차와 화차의 최근 실시한 검수이력을 조사한 결과 정비주기 초과 등의 문제는 발견되지 않았다. 3.1.11 탈선 화차의 차륜 두께, 플랜지 두께, 높이 및 차륜간 내측거리를 측 정한 결과 모두 객화차 유지보수 기준을 만족하였다. 3.1.12 화차의 회전저항에 영향을 주는 센터 피봇 마모판 및 사이드베어라 마모판을 조사한 결과 탈선에 영향을 줄 만한 특이한 사항은 발견할 수 없었다. 3.1.13 탈선 화차 뿐 아니라 사고 열차에 조성되어 있던 화차의 연결기 생크 면을 조사한 결과 도유 흔적이 없는 것이 확인되었다. 그러나 사고 현 장의 분기기 통과 시 연결기 너클부에서 회전이 이루어지고 있으며 사 고 당시 급격한 추진이나 제동이 없었으므로 연결기를 통한 횡력의 발 생은 크지 않았던 것으로 판단된다. 3.1.14 15호차는 모든 코일스프링 하부에 약 12mm 정도의 라이너가 들어가 있는 것이 확인되었다. 그러나 탈선 화차인 16호차는 모든 코일스프링 하부에 라이너가 들어가 있지 않은 것이 확인되었다. 3.1.15 사고열차의 거의 모든 축상 모서리에서 오래되거나 새로 발생한 대차 프레임과의 접촉 흔적이 발견 되었다. 특히 탈선된 화차의 왼쪽 후미대 차 축상(차축 베어링 박스) 모서리와 대차프레임 사이에서는 새로 발생 한 것으로 보이는 접촉 흔적이 발견되었다. 결론 한국철도공사 태백선 고한역 구내 화물열차 탈선사고 - 35 - 3.1.16 대부분의 축상 모서리에 오래된 접촉 흔적이 있는 것은 화물을 적재 한 상태에서 축상과 대차프레임이 닿을 정도의 코일스프링 변형이 일 상적으로 발생했었다는 것을 뜻하며 그 원인은 과적, 편적, 선로 불량 등을 들 수 있으며, 축상 모서리에 더욱 심하게 접촉한 흔적이 있는 축 상은 모서리 부위가 중앙의 접촉판 보다 더 높게 제작되었기 때문인 것으로 판단된다. 3.1.17 사고 화차(16호)의 3번과 4번 왼쪽 축상 모서리가 축상 접촉판보다 약 2mm 높아 대차에 큰 변위 발생 시 축상 모서리가 접촉판 보다 먼저 접촉하게 되는 것이 발견되었다. 3.1.18 15호차의 축상고는 모두 객화차 유지보수 기준을 만족하고 있었지 만 16호차는 대부분의 축상에서 기준(60~65mm)을 초과(40~70mm)하고 있었다. 16호차는 탈선 충격으로 대차프레임과 코일스프링이 변형되었 을 수도 있지만 16호차가 라이너 없이 대차가 조립되었기 때문에 공차 상태에서 축상고가 약 48mm 정도 밖에 되지 않아 축상고 기준을 만족 하지 못한 것으로 판단된다. 3.1.19 사고 화차(16호) 및 그 앞에 조성되어 있던 15호차의 코일스프링 강성 측정시험결과는 모두 객화차 유지보수 기준을 만족하고 있었다. 결론 한국철도공사 태백선 고한역 구내 화물열차 탈선사고 - 36 - 3.2 사고원인(Causes) 이번 한국철도공사 태백선 고한역 구내에서 발생한 화물열차 탈선사고의 주 원인은 ‘건넘선 부상지점에 들뜬 침목이 있는 것과 화물 적재시 철광석을 편적한 것, 사고 화차의 축상고가 기준보다 낮은 것이 복합적으로 작용하여 탈선한 것’으로 결정하였다. 또한 이번 사고의 기여요인은 ‘53A/B호 분기기간 건넘선의 길이가 시공기 준 보다 짧은 것, 궤도의 수평 및 뒤틀림이 보수기준을 초과한 것, 53A/B 분 기기 부분의 도상 두께가 부족하고 토사혼입율이 기준을 초과한 것, 화차 일 부 축상의 모서리가 접촉판보다 높게 제작된 것’으로 결정하였다. 안전권고 한국철도공사 태백선 고한역 구내 화물열차 탈선사고 - 37 - 4. 안전권고(Safety Recommendations) 항공․철도사고조사위원회는 항공․철도사고조사에 관한 법률 제26조(안 전권고 등)에 따라 2018년 8월 18일 태백선 고한역 구내에서 발생한 화물 열차 탈선사고에 대하여 다음과 같이 권고한다. 4.1 한국철도공사에 대하여 4.1.1 화차에 철광석 등 산화물을 적재 시 화물의 편적을 예방할 수 있는 방 안을 마련할 것 4.1.2 사고구간의 53A/B 분기기에 대하여 시공기준보다 짧게 부설된 건넘선 을 시공기준에 적합하게 부설하고, 궤도의 도상두께와 토사혼입율, 수 평틀림, 뒤틀림 등을 기준 이내로 관리할 것 4.1.3 사고구간 외 분기기 궤도에 대하여 도상두께와 토사혼입율, 수평틀림, 뒤틀림 등을 기준 이내로 관리하고 뜬 침목이 발생하지 않도록 유지 보수를 철저히 할 것. 4.1.4 화차 축상고 조정 작업 후의 축상고 측정 결과를 보관할 것 4.1.5 화차 중정비 후에 공차상태 화차의 윤중을 측정하고 측정 결과를 보관 할 것 4.1.6 축상 모서리의 높이가 접촉면보다 높게 제작되어 설계 개념과는 다른 접촉이 발생하므로 축상에 대한 품질관리를 강화할 것 4.1.7 연결기 생크면이 오염되어 좌우 유동이 원활하게 이루어지지 못하고 있 으므로 화차 사용 환경에 적합하도록 윤활 주기를 변경하여 운용할 것 　이 보고서는 사고조사 과정에서 관계인들로부터 청취한 진술 및 개인정보 등이 포함되어 있어, 　『항공․철도사고조사에 관한 법률』제28조(정보의 공개금지) 및 같은 법 시행령 제8조(공개를 금지할 수 있는 정보의 범위)에 의하여 이 보고서(인쇄본)에 개인정보는 공개하지 않았으며, 국민여러분의 이해를 돕기 위해 전문 철도용어를 쉽게 풀어서 쓴 점을 양해하여 주시기 바랍니다. 자세한 사항은 항공․철도사고조사위원회로 문의하여 주시기 바랍니다. 항공․철도사고조사위원회 http://www .araib.go.kr 전화 : 044-201-5427 E-mail: araib@korea.kr\n"
          ]
        }
      ]
    },
    {
      "cell_type": "code",
      "source": [
        "print(len(check))"
      ],
      "metadata": {
        "colab": {
          "base_uri": "https://localhost:8080/"
        },
        "id": "UoAtaMNNZJLv",
        "outputId": "65884b60-b3a5-4fab-b79a-e8f9fb2dfc1f"
      },
      "execution_count": null,
      "outputs": [
        {
          "output_type": "stream",
          "name": "stdout",
          "text": [
            "1392\n"
          ]
        }
      ]
    },
    {
      "cell_type": "code",
      "source": [
        "bert_tokenizer = BertTokenizer.from_pretrained('bert-base-multilingual-cased')"
      ],
      "metadata": {
        "id": "esJsjODpiz4R"
      },
      "execution_count": null,
      "outputs": []
    },
    {
      "cell_type": "markdown",
      "source": [
        "MLM Dataset = Fine Tuning 하기 위한 데이터 셋 생성"
      ],
      "metadata": {
        "id": "pCw58gMyaUfr"
      }
    },
    {
      "cell_type": "code",
      "source": [
        "# Dataset: plain.html\n",
        "class MLMTrainDataset_Sik(Dataset):\n",
        "  \n",
        "  def __init__(self, max_len, mask_prob, mask_token, sep_token, cls_token, all_sents,\n",
        "               tokenizer, pad_token):\n",
        "    self.all_sents = all_sents\n",
        "    self.num_vocabs = tokenizer.vocab_size\n",
        "    self.max_len = max_len\n",
        "    self.mask_prob = mask_prob\n",
        "    self.mask_token = tokenizer.convert_tokens_to_ids(tokenizer.tokenize(mask_token))\n",
        "    self.cls_token = tokenizer.convert_tokens_to_ids(tokenizer.tokenize(cls_token))\n",
        "    self.sep_token = tokenizer.convert_tokens_to_ids(tokenizer.tokenize(sep_token))\n",
        "    self.tokenizer = tokenizer\n",
        "    self.pad_token = tokenizer.convert_tokens_to_ids(tokenizer.tokenize(pad_token))\n",
        "  \n",
        "  def __len__(self):\n",
        "    return len(self.all_sents)\n",
        "  \n",
        "  def __getitem__(self, index):\n",
        "    sents = self.all_sents[index]\n",
        "    sents = self.tokenizer.convert_tokens_to_ids(self.tokenizer.tokenize(sents))\n",
        "    tokens = []\n",
        "    sents = np.array(sents)\n",
        "    inputs = sents\n",
        "    labels = inputs.copy()\n",
        "\n",
        "    probability_matrix = torch.full(labels.shape, self.mask_prob)\n",
        "\n",
        "    masked_indices = torch.bernoulli(probability_matrix).bool()\n",
        "    \n",
        "    labels[~masked_indices] = -100\n",
        "\n",
        "    indices_replaced = torch.bernoulli(torch.full(labels.shape, 0.8)).bool() & masked_indices\n",
        "\n",
        "    inputs[indices_replaced] = self.tokenizer.convert_tokens_to_ids(self.mask_token)\n",
        "\n",
        "    indices_random = torch.bernoulli(torch.full(labels.shape, 0.5)).bool() & masked_indices & ~indices_replaced\n",
        "\n",
        "    random_words = torch.randint(len(self.tokenizer), labels.shape, dtype = torch.long)\n",
        "\n",
        "    inputs[indices_random] = random_words[indices_random]\n",
        "    inputs = list(inputs)\n",
        "    labels = list(labels)\n",
        "    valid_length = min(len(inputs), self.max_len-2)\n",
        "    tokens = self.cls_token + inputs[:self.max_len-2] + self.sep_token\n",
        "    labels = [-100] + labels[:self.max_len-2] + [-100]\n",
        "\n",
        "    mask_len = self.max_len - len(tokens)\n",
        "\n",
        "    tokens = tokens + self.pad_token * mask_len\n",
        "    labels = labels + [-100] * mask_len\n",
        "    attention_masks = [0.0]*len(tokens)\n",
        "    for i in range(valid_length):\n",
        "      attention_masks[i] = 1.0\n",
        "    \n",
        "    return torch.LongTensor(tokens), torch.LongTensor(labels), valid_length, torch.LongTensor(attention_masks)"
      ],
      "metadata": {
        "id": "9vfwORZvwL9I"
      },
      "execution_count": null,
      "outputs": []
    },
    {
      "cell_type": "code",
      "source": [
        "# set token\n",
        "sep_token=\"[SEP]\"\n",
        "pad_token=\"[PAD]\"\n",
        "cls_token=\"[CLS]\"\n",
        "mask_token=\"[MASK]\"\n",
        "max_len = 60\n",
        "mask_prob = 0.15\n",
        "\n",
        "# make instance\n",
        "test_instance = MLMTrainDataset_Sik(max_len, mask_prob, mask_token, sep_token, cls_token, check, bert_tokenizer, pad_token)"
      ],
      "metadata": {
        "id": "pHn9s_CHuIn5"
      },
      "execution_count": null,
      "outputs": []
    },
    {
      "cell_type": "code",
      "source": [
        "# check instance\n",
        "print(test_instance[3])"
      ],
      "metadata": {
        "id": "Egi1SqDKYd0j",
        "outputId": "c1006a12-ffd3-44ea-8b28-6b6b9988e8fc",
        "colab": {
          "base_uri": "https://localhost:8080/"
        }
      },
      "execution_count": null,
      "outputs": [
        {
          "output_type": "stream",
          "name": "stdout",
          "text": [
            "(tensor([   101,   9959,  28000,    100,  87624,  12945,    100,  20626,  12945,\n",
            "         68673,   9638,   9678,  12945,  30005,    100,  37321,   1890,   9959,\n",
            "           100,   1730,  87624,  12945,  11664,  20626,  86580,  42300,   9341,\n",
            "           100,    100,   9672,    123,  20626,  10530,    100,  41521,   9405,\n",
            "         11664,    100,  49636,    100,    100,  12965, 119210,  24098,    117,\n",
            "          9672,  69168,    100,  10530,  22799,   9652,   9434,  13628,    119,\n",
            "           102,      0,      0,      0,      0,      0]), tensor([ -100,  -100,  -100, 10101,  -100,  -100, 11664,  -100,  -100,  -100,\n",
            "         -100,  -100,  -100,  -100, 11664,  -100,  -100,  -100, 28000,  -100,\n",
            "         -100,  -100,  -100,  -100,  -100,  -100,  -100, 88350,  1891,  -100,\n",
            "         -100,  -100,  -100,  9637,  -100,  -100,  -100, 20626,  -100,  9638,\n",
            "        35866,  -100,  -100,  -100,  -100,  -100,  -100, 20626,  -100,  -100,\n",
            "         -100,  -100,  -100,  -100,  -100,  -100,  -100,  -100,  -100,  -100]), 53, tensor([1, 1, 1, 1, 1, 1, 1, 1, 1, 1, 1, 1, 1, 1, 1, 1, 1, 1, 1, 1, 1, 1, 1, 1,\n",
            "        1, 1, 1, 1, 1, 1, 1, 1, 1, 1, 1, 1, 1, 1, 1, 1, 1, 1, 1, 1, 1, 1, 1, 1,\n",
            "        1, 1, 1, 1, 1, 0, 0, 0, 0, 0, 0, 0]))\n"
          ]
        },
        {
          "output_type": "stream",
          "name": "stderr",
          "text": [
            "<ipython-input-19-6b757058d52f>:56: DeprecationWarning: an integer is required (got type float).  Implicit conversion to integers using __int__ is deprecated, and may be removed in a future version of Python.\n",
            "  return torch.LongTensor(tokens), torch.LongTensor(labels), valid_length, torch.LongTensor(attention_masks)\n"
          ]
        }
      ]
    },
    {
      "cell_type": "markdown",
      "source": [
        "#BERT Fine-Tuning"
      ],
      "metadata": {
        "id": "CgsB3Uobaaan"
      }
    },
    {
      "cell_type": "markdown",
      "source": [
        "#BERT Entity Extration"
      ],
      "metadata": {
        "id": "ppb_KyHqaird"
      }
    },
    {
      "cell_type": "code",
      "source": [
        "# 개체명 인식 모델 Class 코드\n",
        "class Bert_entity(nn.Module):\n",
        "  def __init__(self, model, num_labels):\n",
        "    super().__init__()\n",
        "    self.model = model\n",
        "    self.hidden_size = 768\n",
        "    self.block_size = 64\n",
        "    self.hidden_layer = nn.Linear(768, 768)\n",
        "    self.classifier = nn.Linear(768, num_labels)\n",
        "    self.dropout = nn.Dropout(0.4)\n",
        "    self.num_labels = num_labels\n",
        "    self.crf = CRF(num_tags = num_labels, batch_first=True)\n",
        "  \n",
        "  def forward(self,\n",
        "              input_ids = None,\n",
        "              attention_mask = None,\n",
        "              labels = None,\n",
        "              valid_ids = None,\n",
        "              label_mask = None):\n",
        "    \n",
        "    output = self.model(input_ids = input_ids, attention_mask = attention_mask)\n",
        "    last_hidden_state = output.last_hidden_state\n",
        "    valid_output = torch.zeros(last_hidden_state.size()[0], last_hidden_state.size()[1],\n",
        "                               last_hidden_state.size()[2], dtype=torch.float32, device='cuda:1')\n",
        "    valid_masks = torch.zeros(last_hidden_state.size()[0], last_hidden_state.size()[1],\n",
        "                              dtype=torch.bool, device='cuda:1')\n",
        "    \n",
        "    for i in range(last_hidden_state.size()[0]):\n",
        "      jj = -1\n",
        "      for j in range(last_hidden_state.size()[1]):\n",
        "        if valid_ids[i][j].item() == 1:\n",
        "          jj += 1\n",
        "          valid_masks[i][jj] = 1\n",
        "          valid_output[i][jj] = last_hidden_state[i][j]\n",
        "      \n",
        "      relations = self.dropout(valid_output)\n",
        "      logits = self.classifier(relations)\n",
        "      loss = None\n",
        "      if labels is not None:\n",
        "        if attention_mask is not None:\n",
        "          loss, logits = self.crf(logits, labels, mask = valid_masks, reduction = 'token_mean'), self.crf.decode(logits, mask=valid_masks)\n",
        "        else:\n",
        "          loss, logits = self.crf(logits, labels, mask = valid_masks, reduction = 'token_mean'), self.crf.decode(logits, mask=valid_masks)\n",
        "      return -loss, logits, last_hidden_state, valid_output, output.attentions\n"
      ],
      "metadata": {
        "id": "Q-gHWyBmah1d"
      },
      "execution_count": null,
      "outputs": []
    },
    {
      "cell_type": "code",
      "source": [
        "learning_rate = 0.001\n",
        "weight_decay = 0.01\n",
        "\n",
        "model = BertModel.from_pretrained('bert-base-multilingual-cased')"
      ],
      "metadata": {
        "colab": {
          "base_uri": "https://localhost:8080/",
          "height": 123,
          "referenced_widgets": [
            "afa8642416864bdfbda17603a164b1d6",
            "4591d828450b4cb78ce1e573b0eb87eb",
            "f5e4066e221a44bd96863d345ac2e503",
            "7fbb3ada596b4989a3e366cd1f94a80d",
            "a45b3f5fd025488f8513a33b994cded5",
            "b1d5205bf5304f20a19ed8acd62c3f65",
            "292fa57b56e84968a276f65b6d7db820",
            "8f3e2eda0a3147cc97582f1b4f475fad",
            "970ee9b96c6a4162aae5af483f4ce3cc",
            "977b562accc2426abf86f4d16319f4b7",
            "f6d3ffecfdd246c39fd73654ff9b8256"
          ]
        },
        "id": "72ygsPnHcS48",
        "outputId": "3fbdf34a-7455-48b5-cc65-3eec970a158d"
      },
      "execution_count": null,
      "outputs": [
        {
          "output_type": "display_data",
          "data": {
            "text/plain": [
              "Downloading:   0%|          | 0.00/714M [00:00<?, ?B/s]"
            ],
            "application/vnd.jupyter.widget-view+json": {
              "version_major": 2,
              "version_minor": 0,
              "model_id": "afa8642416864bdfbda17603a164b1d6"
            }
          },
          "metadata": {}
        },
        {
          "output_type": "stream",
          "name": "stderr",
          "text": [
            "Some weights of the model checkpoint at bert-base-multilingual-cased were not used when initializing BertModel: ['cls.predictions.decoder.weight', 'cls.predictions.transform.LayerNorm.bias', 'cls.predictions.transform.dense.weight', 'cls.seq_relationship.bias', 'cls.seq_relationship.weight', 'cls.predictions.transform.dense.bias', 'cls.predictions.transform.LayerNorm.weight', 'cls.predictions.bias']\n",
            "- This IS expected if you are initializing BertModel from the checkpoint of a model trained on another task or with another architecture (e.g. initializing a BertForSequenceClassification model from a BertForPreTraining model).\n",
            "- This IS NOT expected if you are initializing BertModel from the checkpoint of a model that you expect to be exactly identical (initializing a BertForSequenceClassification model from a BertForSequenceClassification model).\n"
          ]
        }
      ]
    },
    {
      "cell_type": "code",
      "source": [
        "model = Bert_entity(model, 4)\n",
        "criterion = nn.MSELoss()\n",
        "optimizer = optim.Adam(model.parameters(), lr=learning_rate, weight_decay=weight_decay)\n",
        "labels_list = ['[SEP]', '[PAD]', '[CLS]', '[MASK]']"
      ],
      "metadata": {
        "id": "MuCekXPCbUD-"
      },
      "execution_count": null,
      "outputs": []
    },
    {
      "cell_type": "code",
      "source": [
        "loss_ = [] # loss 리스트\n",
        "accuracy_list = []    # accuracy 리스트\n",
        "trainloader = torch.utils.data.DataLoader(test_instance, shuffle=True)\n",
        "num_epochs = 100\n",
        "\n",
        "for epochs in range(num_epochs):\n",
        "  running_loss = 0.0\n",
        "  for i, data in enumerate(trainloader, 0):\n",
        "    inputs, values, valid_len, attention = data\n",
        "    optimizer.zero_grad() # Optimizer 초기화\n",
        "\n",
        "    outputs = model(inputs, attention)             # 예측값 산출\n",
        "    loss = criterion(outputs, values) # Loss 계산\n",
        "    loss.backward()                          # 역전파\n",
        "    optimizer.step()                            # 가중치 업데이트\n",
        "\n",
        "    running_loss += loss.item()          # Epoch 평균 Loss를 구하기 위해 더하기\n",
        "  print(f'epoch[{epoch+1}/{num_epoch}]', f'Loss : {running_loss}')"
      ],
      "metadata": {
        "colab": {
          "base_uri": "https://localhost:8080/",
          "height": 452
        },
        "id": "MGgBFnwdaRNr",
        "outputId": "04159eca-8a64-49a4-c978-e7d834624b6e"
      },
      "execution_count": null,
      "outputs": [
        {
          "output_type": "stream",
          "name": "stderr",
          "text": [
            "<ipython-input-19-6b757058d52f>:56: DeprecationWarning: an integer is required (got type float).  Implicit conversion to integers using __int__ is deprecated, and may be removed in a future version of Python.\n",
            "  return torch.LongTensor(tokens), torch.LongTensor(labels), valid_length, torch.LongTensor(attention_masks)\n"
          ]
        },
        {
          "output_type": "error",
          "ename": "RuntimeError",
          "evalue": "ignored",
          "traceback": [
            "\u001b[0;31m---------------------------------------------------------------------------\u001b[0m",
            "\u001b[0;31mRuntimeError\u001b[0m                              Traceback (most recent call last)",
            "\u001b[0;32m<ipython-input-44-7a65f9b48666>\u001b[0m in \u001b[0;36m<module>\u001b[0;34m\u001b[0m\n\u001b[1;32m     10\u001b[0m     \u001b[0moptimizer\u001b[0m\u001b[0;34m.\u001b[0m\u001b[0mzero_grad\u001b[0m\u001b[0;34m(\u001b[0m\u001b[0;34m)\u001b[0m \u001b[0;31m# Optimizer 초기화\u001b[0m\u001b[0;34m\u001b[0m\u001b[0;34m\u001b[0m\u001b[0m\n\u001b[1;32m     11\u001b[0m \u001b[0;34m\u001b[0m\u001b[0m\n\u001b[0;32m---> 12\u001b[0;31m     \u001b[0moutputs\u001b[0m \u001b[0;34m=\u001b[0m \u001b[0mmodel\u001b[0m\u001b[0;34m(\u001b[0m\u001b[0minputs\u001b[0m\u001b[0;34m,\u001b[0m \u001b[0mattention\u001b[0m\u001b[0;34m)\u001b[0m             \u001b[0;31m# 예측값 산출\u001b[0m\u001b[0;34m\u001b[0m\u001b[0;34m\u001b[0m\u001b[0m\n\u001b[0m\u001b[1;32m     13\u001b[0m     \u001b[0mloss\u001b[0m \u001b[0;34m=\u001b[0m \u001b[0mcriterion\u001b[0m\u001b[0;34m(\u001b[0m\u001b[0moutputs\u001b[0m\u001b[0;34m,\u001b[0m \u001b[0mvalues\u001b[0m\u001b[0;34m)\u001b[0m \u001b[0;31m# Loss 계산\u001b[0m\u001b[0;34m\u001b[0m\u001b[0;34m\u001b[0m\u001b[0m\n\u001b[1;32m     14\u001b[0m     \u001b[0mloss\u001b[0m\u001b[0;34m.\u001b[0m\u001b[0mbackward\u001b[0m\u001b[0;34m(\u001b[0m\u001b[0;34m)\u001b[0m                          \u001b[0;31m# 역전파\u001b[0m\u001b[0;34m\u001b[0m\u001b[0;34m\u001b[0m\u001b[0m\n",
            "\u001b[0;32m/usr/local/lib/python3.8/dist-packages/torch/nn/modules/module.py\u001b[0m in \u001b[0;36m_call_impl\u001b[0;34m(self, *input, **kwargs)\u001b[0m\n\u001b[1;32m   1188\u001b[0m         if not (self._backward_hooks or self._forward_hooks or self._forward_pre_hooks or _global_backward_hooks\n\u001b[1;32m   1189\u001b[0m                 or _global_forward_hooks or _global_forward_pre_hooks):\n\u001b[0;32m-> 1190\u001b[0;31m             \u001b[0;32mreturn\u001b[0m \u001b[0mforward_call\u001b[0m\u001b[0;34m(\u001b[0m\u001b[0;34m*\u001b[0m\u001b[0minput\u001b[0m\u001b[0;34m,\u001b[0m \u001b[0;34m**\u001b[0m\u001b[0mkwargs\u001b[0m\u001b[0;34m)\u001b[0m\u001b[0;34m\u001b[0m\u001b[0;34m\u001b[0m\u001b[0m\n\u001b[0m\u001b[1;32m   1191\u001b[0m         \u001b[0;31m# Do not call functions when jit is used\u001b[0m\u001b[0;34m\u001b[0m\u001b[0;34m\u001b[0m\u001b[0;34m\u001b[0m\u001b[0m\n\u001b[1;32m   1192\u001b[0m         \u001b[0mfull_backward_hooks\u001b[0m\u001b[0;34m,\u001b[0m \u001b[0mnon_full_backward_hooks\u001b[0m \u001b[0;34m=\u001b[0m \u001b[0;34m[\u001b[0m\u001b[0;34m]\u001b[0m\u001b[0;34m,\u001b[0m \u001b[0;34m[\u001b[0m\u001b[0;34m]\u001b[0m\u001b[0;34m\u001b[0m\u001b[0;34m\u001b[0m\u001b[0m\n",
            "\u001b[0;32m<ipython-input-22-bd6a170cd568>\u001b[0m in \u001b[0;36mforward\u001b[0;34m(self, input_ids, attention_mask, labels, valid_ids, label_mask)\u001b[0m\n\u001b[1;32m     21\u001b[0m     \u001b[0moutput\u001b[0m \u001b[0;34m=\u001b[0m \u001b[0mself\u001b[0m\u001b[0;34m.\u001b[0m\u001b[0mmodel\u001b[0m\u001b[0;34m(\u001b[0m\u001b[0minput_ids\u001b[0m \u001b[0;34m=\u001b[0m \u001b[0minput_ids\u001b[0m\u001b[0;34m,\u001b[0m \u001b[0mattention_mask\u001b[0m \u001b[0;34m=\u001b[0m \u001b[0mattention_mask\u001b[0m\u001b[0;34m)\u001b[0m\u001b[0;34m\u001b[0m\u001b[0;34m\u001b[0m\u001b[0m\n\u001b[1;32m     22\u001b[0m     \u001b[0mlast_hidden_state\u001b[0m \u001b[0;34m=\u001b[0m \u001b[0moutput\u001b[0m\u001b[0;34m.\u001b[0m\u001b[0mlast_hidden_state\u001b[0m\u001b[0;34m\u001b[0m\u001b[0;34m\u001b[0m\u001b[0m\n\u001b[0;32m---> 23\u001b[0;31m     valid_output = torch.zeros(last_hidden_state.size()[0], last_hidden_state.size()[1],\n\u001b[0m\u001b[1;32m     24\u001b[0m                                last_hidden_state.size()[2], dtype=torch.float32, device='cuda:1')\n\u001b[1;32m     25\u001b[0m     valid_masks = torch.zeros(last_hidden_state.size()[0], last_hidden_state.size()[1],\n",
            "\u001b[0;32m/usr/local/lib/python3.8/dist-packages/torch/cuda/__init__.py\u001b[0m in \u001b[0;36m_lazy_init\u001b[0;34m()\u001b[0m\n\u001b[1;32m    227\u001b[0m         \u001b[0;32mif\u001b[0m \u001b[0;34m'CUDA_MODULE_LOADING'\u001b[0m \u001b[0;32mnot\u001b[0m \u001b[0;32min\u001b[0m \u001b[0mos\u001b[0m\u001b[0;34m.\u001b[0m\u001b[0menviron\u001b[0m\u001b[0;34m:\u001b[0m\u001b[0;34m\u001b[0m\u001b[0;34m\u001b[0m\u001b[0m\n\u001b[1;32m    228\u001b[0m             \u001b[0mos\u001b[0m\u001b[0;34m.\u001b[0m\u001b[0menviron\u001b[0m\u001b[0;34m[\u001b[0m\u001b[0;34m'CUDA_MODULE_LOADING'\u001b[0m\u001b[0;34m]\u001b[0m \u001b[0;34m=\u001b[0m \u001b[0;34m'LAZY'\u001b[0m\u001b[0;34m\u001b[0m\u001b[0;34m\u001b[0m\u001b[0m\n\u001b[0;32m--> 229\u001b[0;31m         \u001b[0mtorch\u001b[0m\u001b[0;34m.\u001b[0m\u001b[0m_C\u001b[0m\u001b[0;34m.\u001b[0m\u001b[0m_cuda_init\u001b[0m\u001b[0;34m(\u001b[0m\u001b[0;34m)\u001b[0m\u001b[0;34m\u001b[0m\u001b[0;34m\u001b[0m\u001b[0m\n\u001b[0m\u001b[1;32m    230\u001b[0m         \u001b[0;31m# Some of the queued calls may reentrantly call _lazy_init();\u001b[0m\u001b[0;34m\u001b[0m\u001b[0;34m\u001b[0m\u001b[0;34m\u001b[0m\u001b[0m\n\u001b[1;32m    231\u001b[0m         \u001b[0;31m# we need to just return without initializing in that case.\u001b[0m\u001b[0;34m\u001b[0m\u001b[0;34m\u001b[0m\u001b[0;34m\u001b[0m\u001b[0m\n",
            "\u001b[0;31mRuntimeError\u001b[0m: No CUDA GPUs are available"
          ]
        }
      ]
    },
    {
      "cell_type": "markdown",
      "source": [
        "# BERT Relation"
      ],
      "metadata": {
        "id": "BRNlWX_lYKuC"
      }
    },
    {
      "cell_type": "code",
      "source": [
        "# 개체간 관계 추출 모델 Class 코드\n",
        "class Bert_relation(nn.Module):\n",
        "  def __init__(self, model, num_labels):\n",
        "    super().__init__()\n",
        "    self.model = model\n",
        "    self.hidden_size =768\n",
        "    self.block_size = 64\n",
        "\n",
        "    self.head_extractor = nn.Linear(768, 768)\n",
        "    self.tail_extractor = nn.Linear(768, 768)\n",
        "\n",
        "    self.bilinear_classifier = nn.Linear(768 * 3, num_labels)\n",
        "\n",
        "    self.dropout = nn.Dropout(0.1)\n",
        "    self.num_labels = num_labels\n",
        "  \n",
        "  def get_hrts(self, valid_output, left_ids, right_ids):\n",
        "    left_masks = left_ids.unsqueeze(-1).expand(valid_output.size()).float()\n",
        "    right_masks = right_ids.unsqueeze(-1).expand(valid_output.size()).float()\n",
        "\n",
        "    left_rep = torch.logsumexp(valid_output * left_masks, dim=1)\n",
        "    right_rep = torch.logsumexp(valid_output * right_masks, dim=1)\n",
        "\n",
        "    return left_rep, right_rep\n",
        "  \n",
        "  def forward(self,\n",
        "              input_ids=None,\n",
        "              attention_mask=None,\n",
        "              labels=None,\n",
        "              valid_ids=None,\n",
        "              label_mask=None,\n",
        "              left_ids=None,\n",
        "              right_ids=None):\n",
        "    output = self.model(input_ids=input_ids, attention_mask=attention_mask)\n",
        "    last_hidden_state = output.last_hidden_state\n",
        "    pooled_output = output.pooler_output\n",
        "    context = self.dropout(pooled_output)\n",
        "    valid_output = last_hidden_state\n",
        "\n",
        "    left_rep, right_rep = self.get_hrts(valid_output, left_ids, right_ids)\n",
        "\n",
        "    left_rep = self.head_extractor(left_rep)\n",
        "    right_rep = self.head_extractor(right_rep)\n",
        "\n",
        "    bl = torch.cat([context, left_rep, right_rep], dim=-1)\n",
        "\n",
        "    logits = self.bilinear_classifier(bl)\n",
        "    loss = None\n",
        "\n",
        "    if labels is None:\n",
        "      loss_fct = torch.nn.BCEWithLogitsLoss()\n",
        "      loss = loss_fct(logits, labels.float())\n",
        "\n",
        "    output = logits\n",
        "\n",
        "    return loss, output if loss is not None else output"
      ],
      "metadata": {
        "id": "d1RycRmj8Qfc"
      },
      "execution_count": null,
      "outputs": []
    },
    {
      "cell_type": "code",
      "source": [
        "def find_most_similar_words(word, total_words):\n",
        "  q = []\n",
        "\n",
        "  for a in total_words:\n",
        "    k = jaccard_similarity(word, a[0])\n",
        "    q.append((a, k))\n",
        "  q.sort(key=lambda x:x[1])\n",
        "  qq = q[-20:]\n",
        "  new_q = []\n",
        "  for qa in qq:\n",
        "    if qa[1] > 0.05:\n",
        "      new_q.append(qa)\n",
        "  \n",
        "  return new_q"
      ],
      "metadata": {
        "id": "hdVMwKQhJgFf"
      },
      "execution_count": null,
      "outputs": []
    },
    {
      "cell_type": "code",
      "source": [
        "def jaccard_similarity(word1, word2):\n",
        "  word1 = word1.lower()\n",
        "  word2 = word2.lower()\n",
        "  trigram1 = trigram_from_word(word1)\n",
        "  trigram2 = trigram_from_word(word2)\n",
        "\n",
        "  set_trigram = set(trigram1)\n",
        "  set_trigram = set_trigram.union(set(trigram2))\n",
        "  con_trigram = [t in trigram2 for t in trigram1]\n",
        "  qq = sum(con_trigram)\n",
        "  la = 0.0\n",
        "  la = float(float(qq)/float(len(set_trigram)+1e-9))\n",
        "\n",
        "  return la"
      ],
      "metadata": {
        "id": "SfeWOBqwQkq1"
      },
      "execution_count": null,
      "outputs": []
    },
    {
      "cell_type": "code",
      "source": [
        "def trigram_from_word(word):\n",
        "  if len(word) < 3:\n",
        "    return [word]\n",
        "  \n",
        "  else:\n",
        "    trigram = [word[i:i+3] for i in range(len(word)-3)]\n",
        "    return trigram"
      ],
      "metadata": {
        "id": "4Hxea9nARNYI"
      },
      "execution_count": null,
      "outputs": []
    },
    {
      "cell_type": "code",
      "source": [
        "str_ = output_string.getvalue()\n",
        "new_str = re.sub(\"\\n\", \"\", str_)\n",
        "new_str = re.sub(\"·\", \"\", new_str)"
      ],
      "metadata": {
        "id": "YSdmiVZD5kKs"
      },
      "execution_count": null,
      "outputs": []
    },
    {
      "cell_type": "code",
      "source": [
        "word_tokens = word_tokenize(new_str)\n",
        "sent_tokens = sent_tokenize(new_str)"
      ],
      "metadata": {
        "id": "Ea49FUcJ-NEo"
      },
      "execution_count": null,
      "outputs": []
    },
    {
      "cell_type": "code",
      "source": [
        "okt = Okt()\n",
        "noun = okt.nouns(text)\n",
        "for i, v in enumerate(noun):\n",
        "  if len(v) < 2:\n",
        "    noun.pop(i)\n",
        "\n",
        "count = Counter(noun)"
      ],
      "metadata": {
        "id": "Uik8A28t87PB"
      },
      "execution_count": null,
      "outputs": []
    },
    {
      "cell_type": "code",
      "source": [
        "# 단어 빈도 카운트\n",
        "noun_list = count.most_common(100)\n",
        "for v in noun_list:\n",
        "  print(v)"
      ],
      "metadata": {
        "id": "wduRrIYk9lKn"
      },
      "execution_count": null,
      "outputs": []
    },
    {
      "cell_type": "markdown",
      "source": [
        "#BERT Training"
      ],
      "metadata": {
        "id": "CvtIIJici-n-"
      }
    },
    {
      "cell_type": "code",
      "source": [
        "bert_tokenizer = BertTokenizer.from_pretrained('bert-base-multilingual-cased')\n",
        "model = BertForMaskedLM.from_pretrained('bert-base-multilingual-cased')"
      ],
      "metadata": {
        "id": "1LfjYJn-DnMu"
      },
      "execution_count": null,
      "outputs": []
    },
    {
      "cell_type": "code",
      "source": [
        "inputs = bert_tokenizer(check, return_tensors='pt')"
      ],
      "metadata": {
        "id": "bus7ncLBD98B"
      },
      "execution_count": null,
      "outputs": []
    },
    {
      "cell_type": "code",
      "source": [
        "inputs['labels'] = inputs.input_ids.detach().clone()"
      ],
      "metadata": {
        "id": "RVnFUnA9GtTA"
      },
      "execution_count": null,
      "outputs": []
    },
    {
      "cell_type": "code",
      "source": [
        "rand = torch.rand(inputs.input_ids.shape)\n",
        "\n",
        "mask_arr = (rand < 0.15) * (inputs.input_ids != 101) * (inputs.input_ids != 102) # 101, 102번 토큰 제외하고 15% 위치 선별\n",
        "\n",
        "### padding이 포함된 경우(0번도 추가 제외) ###\n",
        "# mask_arr = (rand < 0.15) * (inputs.input_ids != 101) * (inputs.input_ids != 102) * (inputs.input_ids != 0)\n",
        "\n",
        "selection = torch.flatten((mask_arr[0]).nonzero())"
      ],
      "metadata": {
        "id": "ogURvy6ZG8HZ"
      },
      "execution_count": null,
      "outputs": []
    },
    {
      "cell_type": "code",
      "source": [
        "import numpy as np\n",
        "\n",
        "selection_val = np.random.random(len(selection)) # selection의 위치마다 0~1 값 부여\n",
        "\n",
        "mask_selection = selection[np.where(selection_val >= 0.2)[0]] # 80% : Mask 토큰 대체\n",
        "random_selection = selection[np.where(selection_val < 0.1)[0]] # 10% : 랜덤 토큰 대체\n",
        "\n",
        "print(random_selection) # tensor([ 30,  95, 143])\n",
        "print(mask_selection)"
      ],
      "metadata": {
        "id": "rCvxrEcVG-gf"
      },
      "execution_count": null,
      "outputs": []
    },
    {
      "cell_type": "code",
      "source": [
        "inputs.input_ids[0, mask_selection] = 103\n",
        "inputs.input_ids[0, random_selection] = torch.randint(0, 30522, size = random_selection.shape)\n",
        "\n",
        "print(inputs)"
      ],
      "metadata": {
        "id": "nXDL2jAjHOPF"
      },
      "execution_count": null,
      "outputs": []
    },
    {
      "cell_type": "code",
      "source": [
        "outputs = model(**inputs)"
      ],
      "metadata": {
        "id": "FfJApdA4VZ3S"
      },
      "execution_count": null,
      "outputs": []
    },
    {
      "cell_type": "code",
      "source": [],
      "metadata": {
        "id": "OHZuPflpswji"
      },
      "execution_count": null,
      "outputs": []
    }
  ]
}